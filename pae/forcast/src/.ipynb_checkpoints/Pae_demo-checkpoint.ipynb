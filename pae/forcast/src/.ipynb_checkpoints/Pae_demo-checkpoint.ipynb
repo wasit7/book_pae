{
 "cells": [
  {
   "cell_type": "code",
   "execution_count": 10,
   "metadata": {
    "collapsed": false
   },
   "outputs": [
    {
     "name": "stdout",
     "output_type": "stream",
     "text": [
      "master>>init() dsetname: testCS213\n",
      "master>> create dview\n",
      "master>> init engine\n",
      "Found pforest\n",
      "debug:master:__init__: ['train/dataset00.pic', 'train/dataset01.pic', 'train/dataset02.pic', 'train/dataset03.pic']\n",
      "master>> init local variables\n",
      "master>>reset()\n",
      "master>>reset() H: 2.9537\n",
      "master>>reset() Q: 03060\n",
      "master::train() node20*-\n",
      "master::train() node19R-\n",
      "master::train() node18R-\n",
      "master::train() node17R-\n",
      "master::train() node16R-\n",
      "master::train() node15RQ\n",
      "master::train() node15LQ\n",
      "master::train() node16L-\n",
      "master::train() node15RQ\n",
      "master::train() node15L-\n",
      "master::train() node14RQ\n",
      "master::train() node14L-\n",
      "master::train() node13R-\n",
      "master::train() node12RQ\n",
      "master::train() node12LQ\n",
      "master::train() node13LQ\n",
      "master::train() node17L-\n",
      "master::train() node16R-\n",
      "master::train() node15R-\n",
      "master::train() node14R-\n",
      "master::train() node13RQ\n",
      "master::train() node13LQ\n",
      "master::train() node14LG\n",
      "master::train() node15L-\n",
      "master::train() node14RQ\n",
      "master::train() node14L-\n",
      "master::train() node13RQ\n",
      "master::train() node13LQ\n",
      "master::train() node16L-\n",
      "master::train() node15RQ\n",
      "master::train() node15L-\n",
      "master::train() node14RQ\n",
      "master::train() node14L-\n",
      "master::train() node13RQ\n",
      "master::train() node13L-\n",
      "master::train() node12RQ\n",
      "master::train() node12L-\n",
      "master::train() node11R-\n",
      "master::train() node10RQ\n",
      "master::train() node10LQ\n",
      "master::train() node11L-\n",
      "master::train() node10RQ\n",
      "master::train() node10LQ\n",
      "master::train() node18LQ\n",
      "master::train() node19L-\n",
      "master::train() node18R-\n",
      "master::train() node17RQ\n",
      "master::train() node17LQ\n",
      "master::train() node18L-\n",
      "master::train() node17RG\n",
      "master::train() node17LQ\n"
     ]
    }
   ],
   "source": [
    "import pickle\n",
    "from pforest.master import master\n",
    "m=master(dsetname='testCS213')\n",
    "m.reset()\n",
    "m.train()\n",
    "with open('train/out_tree.pic', 'wb') as pickleFile:\n",
    "    pickle.dump(m.root, pickleFile, pickle.HIGHEST_PROTOCOL)\n"
   ]
  },
  {
   "cell_type": "code",
   "execution_count": 12,
   "metadata": {
    "collapsed": false
   },
   "outputs": [
    {
     "name": "stdout",
     "output_type": "stream",
     "text": [
      "Found pforest\n",
      "*- 20 H:2.954e+00,Q:003060 tau:9.0 theta:[ 20.]\n",
      "L- 19 H:2.644e+00,Q:000744 tau:9.0 theta:[ 102.]\n",
      "L- 18 H:2.495e+00,Q:000524 tau:5.0 theta:[ 125.]\n",
      "LQ 17 H:2.127e+00,Q:000064 (cl,P):(007,0.31) (006,0.31) (008,0.19)\n",
      "RG 17 H:2.438e+00,Q:000460 (cl,P):(008,0.25) (009,0.23) (006,0.21)\n",
      "R- 18 H:2.481e+00,Q:000220 tau:9.0 theta:[ 47.]\n",
      "LQ 17 H:2.536e+00,Q:000172 (cl,P):(009,0.28) (008,0.23) (010,0.21)\n",
      "RQ 17 H:1.281e+00,Q:000048 (cl,P):(009,0.58) (010,0.33) (013,0.08)\n",
      "R- 19 H:2.941e+00,Q:002316 tau:7.0 theta:[ 99.]\n",
      "LQ 18 H:2.327e+00,Q:000108 (cl,P):(006,0.41) (009,0.22) (007,0.15)\n",
      "R- 18 H:2.939e+00,Q:002208 tau:11.0 theta:[ 19.]\n",
      "L- 17 H:2.761e+00,Q:001540 tau:9.0 theta:[ 22.]\n",
      "L- 16 H:2.708e+00,Q:000764 tau:10.0 theta:[ 31.]\n",
      "L- 15 H:2.577e+00,Q:000660 tau:11.0 theta:[ 199.]\n",
      "L- 14 H:2.529e+00,Q:000632 tau:8.0 theta:[ 29.]\n",
      "L- 13 H:2.409e+00,Q:000564 tau:9.0 theta:[ 199.]\n",
      "L- 12 H:2.346e+00,Q:000412 tau:10.0 theta:[ 154.]\n",
      "L- 11 H:2.236e+00,Q:000208 tau:11.0 theta:[ 171.]\n",
      "LQ 10 H:2.281e+00,Q:000188 (cl,P):(009,0.36) (008,0.28) (007,0.13)\n",
      "RQ 10 H:1.371e+00,Q:000020 (cl,P):(009,0.60) (008,0.20) (007,0.20)\n",
      "R- 11 H:2.209e+00,Q:000204 tau:9.0 theta:[ 160.]\n",
      "LQ 10 H:2.095e+00,Q:000124 (cl,P):(006,0.42) (007,0.29) (009,0.13)\n",
      "RQ 10 H:1.959e+00,Q:000080 (cl,P):(008,0.35) (009,0.25) (007,0.20)\n",
      "RQ 12 H:1.902e+00,Q:000152 (cl,P):(006,0.61) (007,0.13) (010,0.08)\n",
      "RQ 13 H:2.486e+00,Q:000068 (cl,P):(009,0.29) (007,0.29) (010,0.12)\n",
      "RQ 14 H:2.236e+00,Q:000028 (cl,P):(009,0.29) (008,0.29) (012,0.14)\n",
      "RQ 15 H:2.378e+00,Q:000104 (cl,P):(010,0.27) (011,0.23) (009,0.19)\n",
      "R- 16 H:2.497e+00,Q:000776 tau:10.0 theta:[ 20.]\n",
      "L- 15 H:2.284e+00,Q:000344 tau:10.0 theta:[ 34.]\n",
      "L- 14 H:2.064e+00,Q:000320 tau:6.0 theta:[ 125.]\n",
      "LQ 13 H:2.261e+00,Q:000160 (cl,P):(009,0.40) (008,0.28) (007,0.12)\n",
      "RQ 13 H:1.692e+00,Q:000160 (cl,P):(009,0.60) (010,0.17) (008,0.15)\n",
      "RQ 14 H:1.918e+00,Q:000024 (cl,P):(012,0.33) (011,0.33) (013,0.17)\n",
      "R- 15 H:2.493e+00,Q:000432 tau:11.0 theta:[ 20.]\n",
      "LG 14 H:2.486e+00,Q:000204 (cl,P):(010,0.31) (009,0.29) (008,0.14)\n",
      "R- 14 H:2.316e+00,Q:000228 tau:7.0 theta:[ 191.]\n",
      "LQ 13 H:2.463e+00,Q:000088 (cl,P):(009,0.32) (010,0.27) (011,0.14)\n",
      "RQ 13 H:2.023e+00,Q:000140 (cl,P):(009,0.34) (011,0.31) (010,0.20)\n",
      "R- 17 H:2.901e+00,Q:000668 tau:12.0 theta:[ 19.]\n",
      "L- 16 H:2.983e+00,Q:000400 tau:10.0 theta:[ 34.]\n",
      "L- 15 H:2.988e+00,Q:000392 tau:8.0 theta:[ 126.]\n",
      "L- 14 H:2.920e+00,Q:000340 tau:8.0 theta:[ 160.]\n",
      "LQ 13 H:2.793e+00,Q:000132 (cl,P):(010,0.21) (007,0.18) (006,0.18)\n",
      "R- 13 H:2.529e+00,Q:000208 tau:12.0 theta:[ 190.]\n",
      "LQ 12 H:2.422e+00,Q:000152 (cl,P):(009,0.32) (010,0.26) (013,0.18)\n",
      "RQ 12 H:2.414e+00,Q:000056 (cl,P):(009,0.29) (011,0.21) (007,0.21)\n",
      "RQ 14 H:2.412e+00,Q:000052 (cl,P):(012,0.31) (011,0.23) (013,0.15)\n",
      "RQ 15 H:1.000e+00,Q:000008 (cl,P):(011,0.50) (010,0.50) (013,0.00)\n",
      "R- 16 H:2.322e+00,Q:000268 tau:11.0 theta:[ 162.]\n",
      "LQ 15 H:2.456e+00,Q:000128 (cl,P):(013,0.28) (012,0.22) (011,0.16)\n",
      "RQ 15 H:2.073e+00,Q:000140 (cl,P):(013,0.40) (012,0.23) (010,0.20)\n",
      "\n"
     ]
    }
   ],
   "source": [
    "from pforest.dataset import dataset\n",
    "from pforest.tree import tree\n",
    "with open('train/out_tree.pic', 'rb') as pickleFile:\n",
    "    root = pickle.load(pickleFile)\n",
    "#init the test tree\n",
    "t=tree()\n",
    "t.settree(root)\n",
    "t.show()"
   ]
  },
  {
   "cell_type": "code",
   "execution_count": 13,
   "metadata": {
    "collapsed": true
   },
   "outputs": [],
   "source": [
    "import numpy as np\n",
    "u=np.zeros(203)\n",
    "Prob=t.classify(u)"
   ]
  },
  {
   "cell_type": "code",
   "execution_count": 14,
   "metadata": {
    "collapsed": false
   },
   "outputs": [
    {
     "data": {
      "text/plain": [
       "array([ 0.    ,  0.    ,  0.    ,  0.    ,  0.    ,  0.0625,  0.3125,\n",
       "        0.3125,  0.1875,  0.    ,  0.    ,  0.125 ,  0.    ,  0.    ])"
      ]
     },
     "execution_count": 14,
     "metadata": {},
     "output_type": "execute_result"
    }
   ],
   "source": [
    "Prob\n"
   ]
  },
  {
   "cell_type": "code",
   "execution_count": 15,
   "metadata": {
    "collapsed": true
   },
   "outputs": [],
   "source": [
    "predictedGrade=np.argmax(Prob)"
   ]
  },
  {
   "cell_type": "code",
   "execution_count": 17,
   "metadata": {
    "collapsed": false
   },
   "outputs": [
    {
     "data": {
      "text/plain": [
       "'D'"
      ]
     },
     "execution_count": 17,
     "metadata": {},
     "output_type": "execute_result"
    }
   ],
   "source": [
    "Grade=['A', 'B+', 'B', 'C+', 'C' , 'D+' , 'D' , 'F' , 'W' , 'S' , 'S#' , 'U' , 'U#']\n",
    "Grade[predictedGrade]"
   ]
  },
  {
   "cell_type": "code",
   "execution_count": null,
   "metadata": {
    "collapsed": true
   },
   "outputs": [],
   "source": []
  }
 ],
 "metadata": {
  "kernelspec": {
   "display_name": "Python 2",
   "language": "python",
   "name": "python2"
  },
  "language_info": {
   "codemirror_mode": {
    "name": "ipython",
    "version": 2
   },
   "file_extension": ".py",
   "mimetype": "text/x-python",
   "name": "python",
   "nbconvert_exporter": "python",
   "pygments_lexer": "ipython2",
   "version": "2.7.10"
  }
 },
 "nbformat": 4,
 "nbformat_minor": 0
}
