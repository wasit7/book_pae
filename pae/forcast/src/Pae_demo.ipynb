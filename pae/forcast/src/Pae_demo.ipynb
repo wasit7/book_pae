{
 "cells": [
  {
   "cell_type": "markdown",
   "metadata": {},
   "source": [
    "# Training(1)\n",
    "and write(save) the tree to pickle "
   ]
  },
  {
   "cell_type": "code",
   "execution_count": 33,
   "metadata": {
    "collapsed": false,
    "scrolled": true
   },
   "outputs": [
    {
     "name": "stdout",
     "output_type": "stream",
     "text": [
      "master>>init() dsetname: testCS213\n",
      "master>> create dview\n",
      "master>> init engine\n",
      "Found pforest\n",
      "debug:master:__init__: ['train/dataset00.pic', 'train/dataset01.pic', 'train/dataset02.pic', 'train/dataset03.pic']\n",
      "master>> init local variables\n",
      "master>>reset()\n",
      "master>>reset() H: 2.0869\n",
      "master>>reset() Q: 00392\n",
      "master::train() node20*-\n",
      "master::train() node19R-\n",
      "master::train() node18R-\n",
      "master::train() node17R-\n",
      "master::train() node16RG\n",
      "master::train() node16L-\n",
      "master::train() node15R-\n",
      "master::train() node14R-\n",
      "master::train() node13RG\n",
      "master::train() node13L-\n",
      "master::train() node12RG\n",
      "master::train() node12LG\n",
      "master::train() node14L-\n",
      "master::train() node13R-\n",
      "master::train() node12RQ\n",
      "master::train() node12LG\n",
      "master::train() node13LG\n",
      "master::train() node15LG\n",
      "master::train() node17L-\n",
      "master::train() node16R-\n",
      "master::train() node15R-\n",
      "master::train() node14R-\n",
      "master::train() node13RG\n",
      "master::train() node13LQ\n",
      "master::train() node14LG\n",
      "master::train() node15L-\n",
      "master::train() node14R-\n",
      "master::train() node13R-\n",
      "master::train() node12R-\n",
      "master::train() node11RG\n",
      "master::train() node11LG\n",
      "master::train() node12L-\n",
      "master::train() node11RG\n",
      "master::train() node11LQ\n",
      "master::train() node13LQ\n",
      "master::train() node14LG\n",
      "master::train() node16L-\n",
      "master::train() node15R-\n",
      "master::train() node14RG\n",
      "master::train() node14L-\n",
      "master::train() node13R-\n",
      "master::train() node12R-\n",
      "master::train() node11R-\n",
      "master::train() node10RQ\n",
      "master::train() node10LQ\n",
      "master::train() node11LQ\n",
      "master::train() node12LG\n",
      "master::train() node13LQ\n",
      "master::train() node15LG\n",
      "master::train() node18L-\n",
      "master::train() node17R-\n",
      "master::train() node16R-\n",
      "master::train() node15R-\n",
      "master::train() node14RG\n",
      "master::train() node14LG\n",
      "master::train() node15L-\n",
      "master::train() node14RG\n",
      "master::train() node14L-\n",
      "master::train() node13R-\n",
      "master::train() node12R-\n",
      "master::train() node11RG\n",
      "master::train() node11LG\n",
      "master::train() node12LQ\n",
      "master::train() node13LG\n",
      "master::train() node16LG\n",
      "master::train() node17L-\n",
      "master::train() node16R-\n",
      "master::train() node15R-\n",
      "master::train() node14RG\n",
      "master::train() node14L-\n",
      "master::train() node13RG\n",
      "master::train() node13LG\n",
      "master::train() node15L-\n",
      "master::train() node14RG\n",
      "master::train() node14LG\n",
      "master::train() node16L-\n",
      "master::train() node15RG\n",
      "master::train() node15LG\n",
      "master::train() node19L-\n",
      "master::train() node18R-\n",
      "master::train() node17RG\n",
      "master::train() node17L-\n",
      "master::train() node16R-\n",
      "master::train() node15RG\n",
      "master::train() node15L-\n",
      "master::train() node14RG\n",
      "master::train() node14LG\n",
      "master::train() node16LG\n",
      "master::train() node18L-\n",
      "master::train() node17R-\n",
      "master::train() node16R-\n",
      "master::train() node15R-\n",
      "master::train() node14R-\n",
      "master::train() node13RG\n",
      "master::train() node13LQ\n",
      "master::train() node14LG\n",
      "master::train() node15LQ\n",
      "master::train() node16L-\n",
      "master::train() node15R-\n",
      "master::train() node14RG\n",
      "master::train() node14L-\n",
      "master::train() node13RQ\n",
      "master::train() node13L-\n",
      "master::train() node12RQ\n",
      "master::train() node12L-\n",
      "master::train() node11RQ\n",
      "master::train() node11L-\n",
      "master::train() node10RQ\n",
      "master::train() node10LQ\n",
      "master::train() node15LQ\n",
      "master::train() node17L-\n",
      "master::train() node16RG\n",
      "master::train() node16LG\n"
     ]
    }
   ],
   "source": [
    "import pickle\n",
    "from pforest.master import master\n",
    "m=master(dsetname='testCS213')\n",
    "m.reset()\n",
    "m.train()\n",
    "with open('train/out_tree1.pic', 'wb') as pickleFile:\n",
    "    pickle.dump(m.root, pickleFile, pickle.HIGHEST_PROTOCOL)\n"
   ]
  },
  {
   "cell_type": "markdown",
   "metadata": {},
   "source": [
    "# Read the tree \n",
    "The result decision tree"
   ]
  },
  {
   "cell_type": "code",
   "execution_count": 34,
   "metadata": {
    "collapsed": false,
    "scrolled": false
   },
   "outputs": [
    {
     "name": "stdout",
     "output_type": "stream",
     "text": [
      "*- 20 H:2.087e+00,Q:000392 tau:8.0 theta:[ 98.]\n",
      "L- 19 H:2.249e+00,Q:000113 tau:11.0 theta:[ 196.]\n",
      "L- 18 H:2.216e+00,Q:000060 tau:9.0 theta:[ 201.]\n",
      "L- 17 H:1.667e+00,Q:000024 tau:6.0 theta:[ 125.]\n",
      "LG 16 H:1.524e+00,Q:000017 (cl,P):(013,0.35) (012,0.24) (009,0.18)\n",
      "RG 16 H:6.935e-01,Q:000007 (cl,P):(011,0.43) (009,0.43) (012,0.14)\n",
      "R- 17 H:2.076e+00,Q:000036 tau:9.0 theta:[ 99.]\n",
      "L- 16 H:1.450e+00,Q:000015 tau:7.0 theta:[ 196.]\n",
      "LQ 15 H:1.925e-35,Q:000002 (cl,P):(013,1.00) (012,0.00) (011,0.00)\n",
      "R- 15 H:1.289e+00,Q:000013 tau:11.0 theta:[ 160.]\n",
      "L- 14 H:8.889e-01,Q:000009 tau:8.0 theta:[ 40.]\n",
      "L- 13 H:8.444e-01,Q:000008 tau:12.0 theta:[ 178.]\n",
      "L- 12 H:6.667e-01,Q:000006 tau:12.0 theta:[ 20.]\n",
      "L- 11 H:5.000e-01,Q:000004 tau:9.0 theta:[ 196.]\n",
      "LQ 10 H:1.925e-35,Q:000001 (cl,P):(013,1.00) (012,0.00) (011,0.00)\n",
      "RQ 10 H:1.925e-35,Q:000003 (cl,P):(010,0.67) (013,0.33) (012,0.00)\n",
      "RQ 11 H:1.925e-35,Q:000002 (cl,P):(011,0.50) (005,0.50) (013,0.00)\n",
      "RQ 12 H:1.925e-35,Q:000002 (cl,P):(013,0.50) (011,0.50) (012,0.00)\n",
      "RQ 13 H:1.925e-35,Q:000001 (cl,P):(011,1.00) (013,0.00) (012,0.00)\n",
      "RG 14 H:1.500e+00,Q:000004 (cl,P):(011,0.50) (009,0.25) (006,0.25)\n",
      "R- 16 H:1.954e+00,Q:000021 tau:9.0 theta:[ 154.]\n",
      "LQ 15 H:1.925e-35,Q:000001 (cl,P):(012,1.00) (013,0.00) (011,0.00)\n",
      "R- 15 H:1.930e+00,Q:000020 tau:11.0 theta:[ 201.]\n",
      "LG 14 H:1.888e+00,Q:000013 (cl,P):(010,0.31) (013,0.23) (011,0.23)\n",
      "R- 14 H:9.793e-01,Q:000007 tau:9.0 theta:[ 160.]\n",
      "LQ 13 H:1.925e-35,Q:000002 (cl,P):(013,0.50) (012,0.50) (011,0.00)\n",
      "RG 13 H:8.000e-01,Q:000005 (cl,P):(013,0.40) (012,0.40) (010,0.20)\n",
      "R- 18 H:1.886e+00,Q:000053 tau:9.0 theta:[ 22.]\n",
      "L- 17 H:1.398e+00,Q:000028 tau:7.0 theta:[ 22.]\n",
      "LG 16 H:7.493e-01,Q:000007 (cl,P):(011,0.57) (012,0.14) (010,0.14)\n",
      "R- 16 H:1.383e+00,Q:000021 tau:9.0 theta:[ 50.]\n",
      "L- 15 H:1.250e+00,Q:000019 tau:10.0 theta:[ 162.]\n",
      "LG 14 H:1.111e+00,Q:000009 (cl,P):(013,0.56) (011,0.33) (012,0.11)\n",
      "RG 14 H:9.510e-01,Q:000010 (cl,P):(011,0.40) (013,0.20) (012,0.20)\n",
      "RG 15 H:1.000e+00,Q:000002 (cl,P):(013,0.50) (012,0.50) (011,0.00)\n",
      "RG 17 H:1.799e+00,Q:000025 (cl,P):(013,0.36) (012,0.24) (010,0.20)\n",
      "R- 19 H:1.941e+00,Q:000279 tau:10.0 theta:[ 154.]\n",
      "L- 18 H:2.122e+00,Q:000130 tau:10.0 theta:[ 191.]\n",
      "L- 17 H:2.128e+00,Q:000098 tau:9.0 theta:[ 201.]\n",
      "L- 16 H:1.941e+00,Q:000049 tau:9.0 theta:[ 99.]\n",
      "LG 15 H:1.250e+00,Q:000016 (cl,P):(011,0.50) (012,0.25) (013,0.19)\n",
      "RG 15 H:1.803e+00,Q:000033 (cl,P):(012,0.27) (013,0.24) (011,0.18)\n",
      "R- 16 H:1.938e+00,Q:000049 tau:9.0 theta:[ 154.]\n",
      "L- 15 H:1.097e+00,Q:000013 tau:9.0 theta:[ 99.]\n",
      "LG 14 H:8.000e-01,Q:000005 (cl,P):(010,0.40) (013,0.20) (006,0.20)\n",
      "RG 14 H:7.500e-01,Q:000008 (cl,P):(012,0.50) (013,0.38) (005,0.12)\n",
      "R- 15 H:1.748e+00,Q:000036 tau:10.0 theta:[ 162.]\n",
      "L- 14 H:1.500e+00,Q:000015 tau:10.0 theta:[ 201.]\n",
      "LG 13 H:1.085e+00,Q:000010 (cl,P):(012,0.40) (011,0.40) (013,0.20)\n",
      "RG 13 H:1.543e-35,Q:000005 (cl,P):(013,0.40) (012,0.20) (011,0.20)\n",
      "RG 14 H:1.541e+00,Q:000021 (cl,P):(011,0.33) (013,0.29) (012,0.29)\n",
      "R- 17 H:1.544e+00,Q:000032 tau:10.0 theta:[ 162.]\n",
      "LG 16 H:1.279e+00,Q:000009 (cl,P):(013,0.33) (012,0.33) (011,0.22)\n",
      "R- 16 H:1.574e+00,Q:000023 tau:9.0 theta:[ 201.]\n",
      "L- 15 H:1.385e+00,Q:000013 tau:12.0 theta:[ 98.]\n",
      "L- 14 H:1.246e+00,Q:000011 tau:9.0 theta:[ 19.]\n",
      "LG 13 H:9.704e-36,Q:000002 (cl,P):(012,1.00) (013,0.00) (011,0.00)\n",
      "R- 13 H:1.333e+00,Q:000009 tau:9.0 theta:[ 160.]\n",
      "LQ 12 H:1.925e-35,Q:000001 (cl,P):(012,1.00) (013,0.00) (011,0.00)\n",
      "R- 12 H:1.362e+00,Q:000008 tau:9.0 theta:[ 22.]\n",
      "LG 11 H:6.667e-01,Q:000003 (cl,P):(013,0.33) (012,0.33) (011,0.33)\n",
      "RG 11 H:1.522e+00,Q:000005 (cl,P):(013,0.40) (012,0.40) (011,0.20)\n",
      "RG 14 H:1.000e+00,Q:000002 (cl,P):(013,0.50) (011,0.50) (012,0.00)\n",
      "R- 15 H:1.551e+00,Q:000010 tau:11.0 theta:[ 98.]\n",
      "LG 14 H:1.333e+00,Q:000006 (cl,P):(011,0.33) (013,0.17) (012,0.17)\n",
      "RG 14 H:5.000e-01,Q:000004 (cl,P):(013,0.75) (012,0.25) (011,0.00)\n",
      "R- 18 H:1.572e+00,Q:000149 tau:9.0 theta:[ 125.]\n",
      "L- 17 H:1.557e+00,Q:000090 tau:10.0 theta:[ 99.]\n",
      "L- 16 H:1.331e+00,Q:000040 tau:8.0 theta:[ 191.]\n",
      "LG 15 H:1.284e+00,Q:000020 (cl,P):(013,0.55) (012,0.20) (011,0.20)\n",
      "R- 15 H:9.182e-01,Q:000020 tau:13.0 theta:[ 190.]\n",
      "L- 14 H:1.063e+00,Q:000017 tau:9.0 theta:[ 19.]\n",
      "LQ 13 H:1.925e-35,Q:000001 (cl,P):(011,1.00) (013,0.00) (012,0.00)\n",
      "R- 13 H:9.040e-01,Q:000016 tau:8.0 theta:[ 125.]\n",
      "LG 12 H:6.811e-01,Q:000013 (cl,P):(013,0.69) (011,0.15) (010,0.08)\n",
      "R- 12 H:9.183e-01,Q:000003 tau:10.0 theta:[ 19.]\n",
      "LQ 11 H:1.925e-35,Q:000001 (cl,P):(013,1.00) (012,0.00) (011,0.00)\n",
      "R- 11 H:1.000e+00,Q:000002 tau:12.0 theta:[ 126.]\n",
      "LQ 10 H:1.925e-35,Q:000001 (cl,P):(011,1.00) (013,0.00) (012,0.00)\n",
      "RQ 10 H:1.925e-35,Q:000001 (cl,P):(013,1.00) (012,0.00) (011,0.00)\n",
      "RG 14 H:1.289e-35,Q:000003 (cl,P):(013,1.00) (012,0.00) (011,0.00)\n",
      "R- 16 H:1.448e+00,Q:000050 tau:8.0 theta:[ 125.]\n",
      "L- 15 H:1.411e+00,Q:000041 tau:11.0 theta:[ 99.]\n",
      "LG 14 H:1.280e+00,Q:000019 (cl,P):(013,0.42) (011,0.21) (010,0.16)\n",
      "R- 14 H:9.909e-01,Q:000022 tau:9.0 theta:[ 162.]\n",
      "LQ 13 H:1.925e-35,Q:000002 (cl,P):(013,0.50) (012,0.50) (011,0.00)\n",
      "R- 13 H:9.140e-01,Q:000020 tau:10.0 theta:[ 19.]\n",
      "L- 12 H:8.344e-01,Q:000009 tau:9.0 theta:[ 189.]\n",
      "LQ 11 H:1.925e-35,Q:000001 (cl,P):(013,1.00) (012,0.00) (011,0.00)\n",
      "RG 11 H:8.568e-01,Q:000008 (cl,P):(013,0.62) (012,0.12) (010,0.12)\n",
      "R- 12 H:4.323e-01,Q:000011 tau:9.0 theta:[ 191.]\n",
      "LG 11 H:2.857e-01,Q:000007 (cl,P):(013,0.86) (005,0.14) (012,0.00)\n",
      "RG 11 H:5.000e-01,Q:000004 (cl,P):(013,0.75) (011,0.25) (012,0.00)\n",
      "R- 15 H:1.068e+00,Q:000009 tau:10.0 theta:[ 22.]\n",
      "LG 14 H:6.667e-01,Q:000003 (cl,P):(013,0.67) (010,0.33) (012,0.00)\n",
      "R- 14 H:4.591e-01,Q:000006 tau:10.0 theta:[ 162.]\n",
      "LQ 13 H:1.925e-35,Q:000001 (cl,P):(011,1.00) (013,0.00) (012,0.00)\n",
      "RG 13 H:4.000e-01,Q:000005 (cl,P):(013,0.60) (012,0.20) (011,0.20)\n",
      "R- 17 H:1.294e+00,Q:000059 tau:12.0 theta:[ 189.]\n",
      "L- 16 H:1.269e+00,Q:000039 tau:9.0 theta:[ 162.]\n",
      "LG 15 H:1.448e-35,Q:000004 (cl,P):(013,0.75) (011,0.25) (012,0.00)\n",
      "R- 15 H:1.125e+00,Q:000035 tau:11.0 theta:[ 196.]\n",
      "L- 14 H:1.175e+00,Q:000018 tau:10.0 theta:[ 189.]\n",
      "LG 13 H:1.200e+00,Q:000005 (cl,P):(013,0.40) (012,0.40) (009,0.20)\n",
      "R- 13 H:8.854e-01,Q:000013 tau:5.0 theta:[ 26.]\n",
      "LG 12 H:8.962e-01,Q:000012 (cl,P):(012,0.50) (013,0.42) (011,0.08)\n",
      "RQ 12 H:1.925e-35,Q:000001 (cl,P):(013,1.00) (012,0.00) (011,0.00)\n",
      "R- 14 H:8.267e-01,Q:000017 tau:11.0 theta:[ 19.]\n",
      "L- 13 H:7.635e-01,Q:000010 tau:10.0 theta:[ 98.]\n",
      "LG 12 H:6.667e-01,Q:000003 (cl,P):(013,0.67) (012,0.33) (011,0.00)\n",
      "RG 12 H:7.871e-01,Q:000007 (cl,P):(013,0.71) (012,0.29) (011,0.00)\n",
      "RG 13 H:1.106e-35,Q:000007 (cl,P):(013,0.43) (012,0.29) (011,0.14)\n",
      "RG 16 H:9.194e-01,Q:000020 (cl,P):(013,0.60) (012,0.30) (010,0.05)\n",
      "\n"
     ]
    }
   ],
   "source": [
    "from pforest.dataset import dataset\n",
    "from pforest.tree import tree\n",
    "with open('train/out_tree1.pic', 'rb') as pickleFile:\n",
    "    root = pickle.load(pickleFile)\n",
    "#init the test tree\n",
    "t=tree()\n",
    "t.settree(root)\n",
    "t.show()"
   ]
  },
  {
   "cell_type": "markdown",
   "metadata": {},
   "source": [
    "# Test Classify(1)\n",
    "zeros(no register) is training data"
   ]
  },
  {
   "cell_type": "code",
   "execution_count": 35,
   "metadata": {
    "collapsed": false,
    "scrolled": false
   },
   "outputs": [],
   "source": [
    "import numpy as np\n",
    "u=np.zeros(203)\n",
    "Prob=t.classify(u)"
   ]
  },
  {
   "cell_type": "code",
   "execution_count": 36,
   "metadata": {
    "collapsed": false,
    "scrolled": true
   },
   "outputs": [
    {
     "data": {
      "text/plain": [
       "array([ 0.        ,  0.        ,  0.        ,  0.        ,  0.        ,\n",
       "        0.        ,  0.05882353,  0.        ,  0.        ,  0.17647059,\n",
       "        0.05882353,  0.11764706,  0.23529412,  0.35294118])"
      ]
     },
     "execution_count": 36,
     "metadata": {},
     "output_type": "execute_result"
    }
   ],
   "source": [
    "Prob\n"
   ]
  },
  {
   "cell_type": "code",
   "execution_count": 37,
   "metadata": {
    "collapsed": false
   },
   "outputs": [],
   "source": [
    "predictedGrade=np.argmax(Prob)"
   ]
  },
  {
   "cell_type": "code",
   "execution_count": 38,
   "metadata": {
    "collapsed": false
   },
   "outputs": [
    {
     "ename": "IndexError",
     "evalue": "list index out of range",
     "output_type": "error",
     "traceback": [
      "\u001b[1;31m---------------------------------------------------------------------------\u001b[0m",
      "\u001b[1;31mIndexError\u001b[0m                                Traceback (most recent call last)",
      "\u001b[1;32m<ipython-input-38-859e7a3ed531>\u001b[0m in \u001b[0;36m<module>\u001b[1;34m()\u001b[0m\n\u001b[0;32m      1\u001b[0m \u001b[0mGrade\u001b[0m\u001b[1;33m=\u001b[0m\u001b[1;33m[\u001b[0m\u001b[1;34m'A'\u001b[0m\u001b[1;33m,\u001b[0m \u001b[1;34m'B+'\u001b[0m\u001b[1;33m,\u001b[0m \u001b[1;34m'B'\u001b[0m\u001b[1;33m,\u001b[0m \u001b[1;34m'C+'\u001b[0m\u001b[1;33m,\u001b[0m \u001b[1;34m'C'\u001b[0m \u001b[1;33m,\u001b[0m \u001b[1;34m'D+'\u001b[0m \u001b[1;33m,\u001b[0m \u001b[1;34m'D'\u001b[0m \u001b[1;33m,\u001b[0m \u001b[1;34m'F'\u001b[0m \u001b[1;33m,\u001b[0m \u001b[1;34m'W'\u001b[0m \u001b[1;33m,\u001b[0m \u001b[1;34m'S'\u001b[0m \u001b[1;33m,\u001b[0m \u001b[1;34m'S#'\u001b[0m \u001b[1;33m,\u001b[0m \u001b[1;34m'U'\u001b[0m \u001b[1;33m,\u001b[0m \u001b[1;34m'U#'\u001b[0m\u001b[1;33m]\u001b[0m\u001b[1;33m\u001b[0m\u001b[0m\n\u001b[1;32m----> 2\u001b[1;33m \u001b[0mGrade\u001b[0m\u001b[1;33m[\u001b[0m\u001b[0mpredictedGrade\u001b[0m\u001b[1;33m]\u001b[0m\u001b[1;33m\u001b[0m\u001b[0m\n\u001b[0m",
      "\u001b[1;31mIndexError\u001b[0m: list index out of range"
     ]
    }
   ],
   "source": [
    "Grade=['A', 'B+', 'B', 'C+', 'C' , 'D+' , 'D' , 'F' , 'W' , 'S' , 'S#' , 'U' , 'U#']\n",
    "Grade[predictedGrade]"
   ]
  },
  {
   "cell_type": "markdown",
   "metadata": {},
   "source": [
    "# Import file transform.xlsx"
   ]
  },
  {
   "cell_type": "code",
   "execution_count": 39,
   "metadata": {
    "collapsed": false
   },
   "outputs": [],
   "source": [
    "import pandas as pd\n",
    "df_file = pd.read_excel('../src/transform.xlsx')\n",
    "df_file = df_file.fillna(0)\n",
    "df_file = df_file.replace(['A', 'B+', 'B', 'C+', 'C' , 'D+' , 'D' , 'F' , 'W' , 'S' , 'S#' , 'U' , 'U#'], \n",
    "                     [13, 12, 11, 10 , 9, 8, 7, 6, 5, 4, 3, 2, 1])\n",
    "df_file_new = df_file.drop(['0STUDENTID','1ACADYEAR','2SEMESTER','3COURSEID','4RESULT'],1)\n",
    "\n"
   ]
  },
  {
   "cell_type": "markdown",
   "metadata": {},
   "source": [
    "#### classify one column from transform.xlsx"
   ]
  },
  {
   "cell_type": "code",
   "execution_count": 40,
   "metadata": {
    "collapsed": false
   },
   "outputs": [],
   "source": [
    "df_file16 = df_file_new[16:17]\n",
    "import numpy as np\n",
    "u = df_file16.as_matrix()[0]\n",
    "Prob=t.classify(u)"
   ]
  },
  {
   "cell_type": "code",
   "execution_count": 41,
   "metadata": {
    "collapsed": false
   },
   "outputs": [
    {
     "data": {
      "text/plain": [
       "array([  0.,   0.,   0.,   0.,   0.,   0.,   0.,   0.,   0.,   0.,   0.,\n",
       "         0.,   0.,   0.,   0.,   0.,   0.,   0.,   0.,   9.,   9.,   0.,\n",
       "         8.,   0.,   0.,   0.,   0.,   0.,   0.,   0.,   0.,   0.,   0.,\n",
       "         0.,   0.,   0.,   0.,   0.,   0.,   0.,   0.,   0.,   0.,   0.,\n",
       "         0.,   0.,   0.,   0.,   0.,   0.,   0.,   0.,   0.,   0.,   0.,\n",
       "         0.,   0.,   0.,   0.,   0.,   0.,   0.,   0.,   0.,   0.,   0.,\n",
       "         0.,   0.,   0.,   0.,   0.,   0.,   0.,   0.,   0.,   0.,   0.,\n",
       "         0.,   0.,   0.,   0.,   0.,   0.,   0.,   0.,   0.,   0.,   0.,\n",
       "         0.,   0.,   0.,   0.,   0.,   0.,   0.,   0.,   0.,   0.,   7.,\n",
       "         6.,   0.,   0.,   0.,   0.,   0.,   0.,   0.,   0.,   0.,   0.,\n",
       "         0.,   0.,   0.,   0.,   0.,   0.,   0.,   0.,   0.,   0.,   0.,\n",
       "         0.,   0.,   0.,   0.,   6.,   0.,   0.,   0.,   0.,   0.,   0.,\n",
       "         0.,   0.,   0.,   0.,   0.,   0.,   0.,   0.,   0.,   0.,   0.,\n",
       "         0.,   0.,   0.,   0.,   0.,   0.,   0.,   0.,   0.,   0.,   0.,\n",
       "        11.,   0.,   0.,   0.,   0.,   0.,   6.,   0.,   9.,   0.,   0.,\n",
       "         0.,   0.,   0.,   0.,   0.,   0.,   0.,   0.,   0.,   0.,   0.,\n",
       "         0.,   0.,   0.,   0.,   0.,   0.,   0.,   0.,   0.,   0.,   0.,\n",
       "         0.,   0.,   9.,   0.,  10.,   0.,   0.,   0.,   0.,   8.,   0.,\n",
       "        12.,  11.,   0.,   7.,   0.])"
      ]
     },
     "execution_count": 41,
     "metadata": {},
     "output_type": "execute_result"
    }
   ],
   "source": [
    "u"
   ]
  },
  {
   "cell_type": "code",
   "execution_count": 42,
   "metadata": {
    "collapsed": false
   },
   "outputs": [
    {
     "data": {
      "text/plain": [
       "(203L,)"
      ]
     },
     "execution_count": 42,
     "metadata": {},
     "output_type": "execute_result"
    }
   ],
   "source": [
    "u.shape"
   ]
  },
  {
   "cell_type": "code",
   "execution_count": 43,
   "metadata": {
    "collapsed": false
   },
   "outputs": [
    {
     "data": {
      "text/plain": [
       "array([ 0.        ,  0.        ,  0.        ,  0.        ,  0.        ,\n",
       "        0.        ,  0.        ,  0.        ,  0.        ,  0.42857143,\n",
       "        0.        ,  0.42857143,  0.14285714,  0.        ])"
      ]
     },
     "execution_count": 43,
     "metadata": {},
     "output_type": "execute_result"
    }
   ],
   "source": [
    "Prob"
   ]
  },
  {
   "cell_type": "code",
   "execution_count": 44,
   "metadata": {
    "collapsed": false
   },
   "outputs": [
    {
     "name": "stdout",
     "output_type": "stream",
     "text": [
      "9\n"
     ]
    }
   ],
   "source": [
    "predictedGrade=np.argmax(Prob)\n",
    "print predictedGrade"
   ]
  },
  {
   "cell_type": "code",
   "execution_count": 45,
   "metadata": {
    "collapsed": false
   },
   "outputs": [
    {
     "data": {
      "text/plain": [
       "'C'"
      ]
     },
     "execution_count": 45,
     "metadata": {},
     "output_type": "execute_result"
    }
   ],
   "source": [
    "Grade=['A', 'B+', 'B', 'C+', 'C' , 'D+' , 'D' , 'F' , 'W' , 'S' , 'S#' , 'U' , 'U#','na']\n",
    "Grade[::-1][predictedGrade]"
   ]
  },
  {
   "cell_type": "code",
   "execution_count": 46,
   "metadata": {
    "collapsed": false
   },
   "outputs": [
    {
     "data": {
      "text/html": [
       "<div>\n",
       "<table border=\"1\" class=\"dataframe\">\n",
       "  <thead>\n",
       "    <tr style=\"text-align: right;\">\n",
       "      <th></th>\n",
       "      <th>0STUDENTID</th>\n",
       "      <th>1ACADYEAR</th>\n",
       "      <th>2SEMESTER</th>\n",
       "      <th>3COURSEID</th>\n",
       "      <th>4RESULT</th>\n",
       "      <th>AN201</th>\n",
       "      <th>AS171</th>\n",
       "      <th>AS177</th>\n",
       "      <th>AS178</th>\n",
       "      <th>AT207</th>\n",
       "      <th>...</th>\n",
       "      <th>TU113</th>\n",
       "      <th>TU115</th>\n",
       "      <th>TU116</th>\n",
       "      <th>TU120</th>\n",
       "      <th>TU121</th>\n",
       "      <th>TU122</th>\n",
       "      <th>TU130</th>\n",
       "      <th>TU153</th>\n",
       "      <th>TU154</th>\n",
       "      <th>TU156</th>\n",
       "    </tr>\n",
       "  </thead>\n",
       "  <tbody>\n",
       "    <tr>\n",
       "      <th>16</th>\n",
       "      <td>316644</td>\n",
       "      <td>2553</td>\n",
       "      <td>1</td>\n",
       "      <td>CS213</td>\n",
       "      <td>9</td>\n",
       "      <td>0</td>\n",
       "      <td>0</td>\n",
       "      <td>0</td>\n",
       "      <td>0</td>\n",
       "      <td>0</td>\n",
       "      <td>...</td>\n",
       "      <td>0</td>\n",
       "      <td>0</td>\n",
       "      <td>0</td>\n",
       "      <td>8</td>\n",
       "      <td>0</td>\n",
       "      <td>12</td>\n",
       "      <td>11</td>\n",
       "      <td>0</td>\n",
       "      <td>7</td>\n",
       "      <td>0</td>\n",
       "    </tr>\n",
       "  </tbody>\n",
       "</table>\n",
       "<p>1 rows × 208 columns</p>\n",
       "</div>"
      ],
      "text/plain": [
       "    0STUDENTID  1ACADYEAR  2SEMESTER 3COURSEID  4RESULT  AN201  AS171  AS177  \\\n",
       "16      316644       2553          1     CS213        9      0      0      0   \n",
       "\n",
       "    AS178  AT207  ...    TU113  TU115  TU116  TU120  TU121  TU122  TU130  \\\n",
       "16      0      0  ...        0      0      0      8      0     12     11   \n",
       "\n",
       "    TU153  TU154  TU156  \n",
       "16      0      7      0  \n",
       "\n",
       "[1 rows x 208 columns]"
      ]
     },
     "execution_count": 46,
     "metadata": {},
     "output_type": "execute_result"
    }
   ],
   "source": [
    "df_file[16:17]"
   ]
  },
  {
   "cell_type": "code",
   "execution_count": 47,
   "metadata": {
    "collapsed": false,
    "scrolled": true
   },
   "outputs": [
    {
     "data": {
      "text/html": [
       "<div>\n",
       "<table border=\"1\" class=\"dataframe\">\n",
       "  <thead>\n",
       "    <tr style=\"text-align: right;\">\n",
       "      <th></th>\n",
       "      <th>0STUDENTID</th>\n",
       "      <th>1ACADYEAR</th>\n",
       "      <th>2SEMESTER</th>\n",
       "      <th>3COURSEID</th>\n",
       "      <th>4RESULT</th>\n",
       "      <th>AN201</th>\n",
       "      <th>AS171</th>\n",
       "      <th>AS177</th>\n",
       "      <th>AS178</th>\n",
       "      <th>AT207</th>\n",
       "      <th>...</th>\n",
       "      <th>TU113</th>\n",
       "      <th>TU115</th>\n",
       "      <th>TU116</th>\n",
       "      <th>TU120</th>\n",
       "      <th>TU121</th>\n",
       "      <th>TU122</th>\n",
       "      <th>TU130</th>\n",
       "      <th>TU153</th>\n",
       "      <th>TU154</th>\n",
       "      <th>TU156</th>\n",
       "    </tr>\n",
       "  </thead>\n",
       "  <tbody>\n",
       "    <tr>\n",
       "      <th>123</th>\n",
       "      <td>321848</td>\n",
       "      <td>2553</td>\n",
       "      <td>1</td>\n",
       "      <td>CS213</td>\n",
       "      <td>10</td>\n",
       "      <td>0</td>\n",
       "      <td>0</td>\n",
       "      <td>0</td>\n",
       "      <td>0</td>\n",
       "      <td>0</td>\n",
       "      <td>...</td>\n",
       "      <td>0</td>\n",
       "      <td>0</td>\n",
       "      <td>0</td>\n",
       "      <td>8</td>\n",
       "      <td>0</td>\n",
       "      <td>0</td>\n",
       "      <td>0</td>\n",
       "      <td>0</td>\n",
       "      <td>13</td>\n",
       "      <td>0</td>\n",
       "    </tr>\n",
       "  </tbody>\n",
       "</table>\n",
       "<p>1 rows × 208 columns</p>\n",
       "</div>"
      ],
      "text/plain": [
       "     0STUDENTID  1ACADYEAR  2SEMESTER 3COURSEID  4RESULT  AN201  AS171  AS177  \\\n",
       "123      321848       2553          1     CS213       10      0      0      0   \n",
       "\n",
       "     AS178  AT207  ...    TU113  TU115  TU116  TU120  TU121  TU122  TU130  \\\n",
       "123      0      0  ...        0      0      0      8      0      0      0   \n",
       "\n",
       "     TU153  TU154  TU156  \n",
       "123      0     13      0  \n",
       "\n",
       "[1 rows x 208 columns]"
      ]
     },
     "execution_count": 47,
     "metadata": {},
     "output_type": "execute_result"
    }
   ],
   "source": [
    "df_file[123:124]"
   ]
  },
  {
   "cell_type": "code",
   "execution_count": 48,
   "metadata": {
    "collapsed": false
   },
   "outputs": [
    {
     "data": {
      "text/html": [
       "<div>\n",
       "<table border=\"1\" class=\"dataframe\">\n",
       "  <thead>\n",
       "    <tr style=\"text-align: right;\">\n",
       "      <th></th>\n",
       "      <th>0STUDENTID</th>\n",
       "      <th>1ACADYEAR</th>\n",
       "      <th>2SEMESTER</th>\n",
       "      <th>3COURSEID</th>\n",
       "      <th>4RESULT</th>\n",
       "      <th>AN201</th>\n",
       "      <th>AS171</th>\n",
       "      <th>AS177</th>\n",
       "      <th>AS178</th>\n",
       "      <th>AT207</th>\n",
       "      <th>...</th>\n",
       "      <th>TU113</th>\n",
       "      <th>TU115</th>\n",
       "      <th>TU116</th>\n",
       "      <th>TU120</th>\n",
       "      <th>TU121</th>\n",
       "      <th>TU122</th>\n",
       "      <th>TU130</th>\n",
       "      <th>TU153</th>\n",
       "      <th>TU154</th>\n",
       "      <th>TU156</th>\n",
       "    </tr>\n",
       "  </thead>\n",
       "  <tbody>\n",
       "    <tr>\n",
       "      <th>415</th>\n",
       "      <td>329171</td>\n",
       "      <td>2554</td>\n",
       "      <td>2</td>\n",
       "      <td>CS213</td>\n",
       "      <td>11</td>\n",
       "      <td>0</td>\n",
       "      <td>0</td>\n",
       "      <td>0</td>\n",
       "      <td>0</td>\n",
       "      <td>0</td>\n",
       "      <td>...</td>\n",
       "      <td>0</td>\n",
       "      <td>0</td>\n",
       "      <td>0</td>\n",
       "      <td>10</td>\n",
       "      <td>0</td>\n",
       "      <td>0</td>\n",
       "      <td>11</td>\n",
       "      <td>0</td>\n",
       "      <td>8</td>\n",
       "      <td>0</td>\n",
       "    </tr>\n",
       "  </tbody>\n",
       "</table>\n",
       "<p>1 rows × 208 columns</p>\n",
       "</div>"
      ],
      "text/plain": [
       "     0STUDENTID  1ACADYEAR  2SEMESTER 3COURSEID  4RESULT  AN201  AS171  AS177  \\\n",
       "415      329171       2554          2     CS213       11      0      0      0   \n",
       "\n",
       "     AS178  AT207  ...    TU113  TU115  TU116  TU120  TU121  TU122  TU130  \\\n",
       "415      0      0  ...        0      0      0     10      0      0     11   \n",
       "\n",
       "     TU153  TU154  TU156  \n",
       "415      0      8      0  \n",
       "\n",
       "[1 rows x 208 columns]"
      ]
     },
     "execution_count": 48,
     "metadata": {},
     "output_type": "execute_result"
    }
   ],
   "source": [
    "df_file[415:416]"
   ]
  },
  {
   "cell_type": "markdown",
   "metadata": {},
   "source": [
    "# Read(load) tree from pickle to classify"
   ]
  },
  {
   "cell_type": "code",
   "execution_count": 49,
   "metadata": {
    "collapsed": false
   },
   "outputs": [],
   "source": [
    "with open('train/dataset04.pic', 'rb') as pickleFile:\n",
    "     data = pickle.load(pickleFile)"
   ]
  },
  {
   "cell_type": "code",
   "execution_count": 50,
   "metadata": {
    "collapsed": false
   },
   "outputs": [],
   "source": [
    "I=data[-2];L=data[-3]"
   ]
  },
  {
   "cell_type": "markdown",
   "metadata": {},
   "source": [
    "#### Check the file size"
   ]
  },
  {
   "cell_type": "code",
   "execution_count": 51,
   "metadata": {
    "collapsed": false,
    "scrolled": true
   },
   "outputs": [
    {
     "name": "stdout",
     "output_type": "stream",
     "text": [
      " Volume in drive D is DATA\n",
      " Volume Serial Number is E617-8A3A\n",
      "\n",
      " Directory of D:\\project\\forcast\\src\\train\n",
      "\n",
      "04/05/2016  01:00 PM    <DIR>          .\n",
      "04/05/2016  01:00 PM    <DIR>          ..\n",
      "04/05/2016  12:59 PM           160,148 dataset00.pic\n",
      "04/05/2016  12:59 PM           160,148 dataset01.pic\n",
      "04/05/2016  12:59 PM           160,148 dataset02.pic\n",
      "04/05/2016  12:59 PM           160,148 dataset03.pic\n",
      "04/05/2016  12:59 PM           160,148 dataset04.pic\n",
      "04/05/2016  12:55 PM            30,165 out_tree.pic\n",
      "04/05/2016  01:00 PM            27,219 out_tree1.pic\n",
      "04/05/2016  12:58 PM            20,359 tree213.pic\n",
      "               8 File(s)        878,483 bytes\n",
      "               2 Dir(s)  258,648,154,112 bytes free\n"
     ]
    }
   ],
   "source": [
    "ls train"
   ]
  },
  {
   "cell_type": "code",
   "execution_count": 52,
   "metadata": {
    "collapsed": false
   },
   "outputs": [
    {
     "data": {
      "text/plain": [
       "array([[ 0,  0,  0, ...,  0,  7,  0],\n",
       "       [ 0,  0,  0, ...,  0, 13,  0],\n",
       "       [ 0,  0,  0, ...,  0, 10,  0],\n",
       "       ..., \n",
       "       [ 0,  0,  0, ...,  0,  5,  0],\n",
       "       [ 0,  0,  0, ...,  0,  9,  0],\n",
       "       [ 0,  0,  0, ...,  0,  5,  0]], dtype=int64)"
      ]
     },
     "execution_count": 52,
     "metadata": {},
     "output_type": "execute_result"
    }
   ],
   "source": [
    "I"
   ]
  },
  {
   "cell_type": "code",
   "execution_count": 53,
   "metadata": {
    "collapsed": false
   },
   "outputs": [
    {
     "data": {
      "text/plain": [
       "(98L, 203L)"
      ]
     },
     "execution_count": 53,
     "metadata": {},
     "output_type": "execute_result"
    }
   ],
   "source": [
    "I.shape"
   ]
  },
  {
   "cell_type": "code",
   "execution_count": 54,
   "metadata": {
    "collapsed": false
   },
   "outputs": [
    {
     "data": {
      "text/plain": [
       "array([12, 10, 11, 13, 13, 13, 12, 13, 12, 11, 12, 12, 13, 13, 13, 12, 13,\n",
       "       11, 12, 12, 13,  5,  0, 13, 13, 13, 12, 12, 13, 13, 13, 13, 12, 13,\n",
       "       12, 13, 13, 13, 11, 13, 13, 13, 12, 12, 12, 10, 12, 12, 13,  9, 11,\n",
       "       13, 12, 11, 11, 11, 11, 11, 11, 13, 11, 13, 12, 11, 10, 11, 12, 11,\n",
       "       11, 10, 10, 10, 11, 10, 10, 10, 11, 10, 12, 11, 11, 11, 11, 12,  8,\n",
       "        5, 11, 10, 11, 11, 10, 11,  8,  0, 11,  9, 11, 11], dtype=int64)"
      ]
     },
     "execution_count": 54,
     "metadata": {},
     "output_type": "execute_result"
    }
   ],
   "source": [
    "L"
   ]
  },
  {
   "cell_type": "code",
   "execution_count": 55,
   "metadata": {
    "collapsed": false
   },
   "outputs": [
    {
     "data": {
      "text/plain": [
       "(98L,)"
      ]
     },
     "execution_count": 55,
     "metadata": {},
     "output_type": "execute_result"
    }
   ],
   "source": [
    "L.shape"
   ]
  },
  {
   "cell_type": "markdown",
   "metadata": {},
   "source": [
    "# Show prediction compare with actual "
   ]
  },
  {
   "cell_type": "code",
   "execution_count": 56,
   "metadata": {
    "collapsed": false
   },
   "outputs": [
    {
     "name": "stdout",
     "output_type": "stream",
     "text": [
      "actual grade:12 predicted grade:12\n",
      "actual grade:10 predicted grade:12\n",
      "actual grade:11 predicted grade:12\n",
      "actual grade:13 predicted grade:13\n",
      "actual grade:13 predicted grade:13\n",
      "actual grade:13 predicted grade:12\n",
      "actual grade:12 predicted grade:13\n",
      "actual grade:13 predicted grade:13\n",
      "actual grade:12 predicted grade:13\n",
      "actual grade:11 predicted grade:13\n",
      "actual grade:12 predicted grade:12\n",
      "actual grade:12 predicted grade:13\n",
      "actual grade:13 predicted grade:13\n",
      "actual grade:13 predicted grade:12\n",
      "actual grade:13 predicted grade:11\n",
      "actual grade:12 predicted grade:13\n",
      "actual grade:13 predicted grade:13\n",
      "actual grade:11 predicted grade:10\n",
      "actual grade:12 predicted grade:13\n",
      "actual grade:12 predicted grade:12\n",
      "actual grade:13 predicted grade:9\n",
      "actual grade:5 predicted grade:11\n",
      "actual grade:0 predicted grade:11\n",
      "actual grade:13 predicted grade:12\n",
      "actual grade:13 predicted grade:13\n",
      "actual grade:13 predicted grade:12\n",
      "actual grade:12 predicted grade:13\n",
      "actual grade:12 predicted grade:13\n",
      "actual grade:13 predicted grade:13\n",
      "actual grade:13 predicted grade:13\n",
      "actual grade:13 predicted grade:13\n",
      "actual grade:13 predicted grade:12\n",
      "actual grade:12 predicted grade:12\n",
      "actual grade:13 predicted grade:13\n",
      "actual grade:12 predicted grade:11\n",
      "actual grade:13 predicted grade:12\n",
      "actual grade:13 predicted grade:13\n",
      "actual grade:13 predicted grade:12\n",
      "actual grade:11 predicted grade:13\n",
      "actual grade:13 predicted grade:13\n",
      "actual grade:13 predicted grade:11\n",
      "actual grade:13 predicted grade:12\n",
      "actual grade:12 predicted grade:13\n",
      "actual grade:12 predicted grade:11\n",
      "actual grade:12 predicted grade:13\n",
      "actual grade:10 predicted grade:13\n",
      "actual grade:12 predicted grade:13\n",
      "actual grade:12 predicted grade:13\n",
      "actual grade:13 predicted grade:13\n",
      "actual grade:9 predicted grade:13\n",
      "actual grade:11 predicted grade:13\n",
      "actual grade:13 predicted grade:13\n",
      "actual grade:12 predicted grade:13\n",
      "actual grade:11 predicted grade:13\n",
      "actual grade:11 predicted grade:13\n",
      "actual grade:11 predicted grade:13\n",
      "actual grade:11 predicted grade:13\n",
      "actual grade:11 predicted grade:13\n",
      "actual grade:11 predicted grade:13\n",
      "actual grade:13 predicted grade:13\n",
      "actual grade:11 predicted grade:13\n",
      "actual grade:13 predicted grade:13\n",
      "actual grade:12 predicted grade:13\n",
      "actual grade:11 predicted grade:11\n",
      "actual grade:10 predicted grade:11\n",
      "actual grade:11 predicted grade:13\n",
      "actual grade:12 predicted grade:13\n",
      "actual grade:11 predicted grade:11\n",
      "actual grade:11 predicted grade:13\n",
      "actual grade:10 predicted grade:13\n",
      "actual grade:10 predicted grade:13\n",
      "actual grade:10 predicted grade:13\n",
      "actual grade:11 predicted grade:13\n",
      "actual grade:10 predicted grade:13\n",
      "actual grade:10 predicted grade:12\n",
      "actual grade:10 predicted grade:12\n",
      "actual grade:11 predicted grade:13\n",
      "actual grade:10 predicted grade:13\n",
      "actual grade:12 predicted grade:12\n",
      "actual grade:11 predicted grade:13\n",
      "actual grade:11 predicted grade:13\n",
      "actual grade:11 predicted grade:13\n",
      "actual grade:11 predicted grade:13\n",
      "actual grade:12 predicted grade:13\n",
      "actual grade:8 predicted grade:13\n",
      "actual grade:5 predicted grade:13\n",
      "actual grade:11 predicted grade:13\n",
      "actual grade:10 predicted grade:12\n",
      "actual grade:11 predicted grade:13\n",
      "actual grade:11 predicted grade:13\n",
      "actual grade:10 predicted grade:11\n",
      "actual grade:11 predicted grade:13\n",
      "actual grade:8 predicted grade:11\n",
      "actual grade:0 predicted grade:11\n",
      "actual grade:11 predicted grade:12\n",
      "actual grade:9 predicted grade:11\n",
      "actual grade:11 predicted grade:13\n",
      "actual grade:11 predicted grade:13\n"
     ]
    }
   ],
   "source": [
    "i=0\n",
    "for i in xrange(len(L)):\n",
    "    Prob=t.classify(I[i])\n",
    "    predictedGrade=np.argmax(Prob)\n",
    "    print \"actual grade:%d predicted grade:%d\"%(L[i],predictedGrade)"
   ]
  },
  {
   "cell_type": "code",
   "execution_count": 57,
   "metadata": {
    "collapsed": false,
    "scrolled": false
   },
   "outputs": [
    {
     "name": "stdout",
     "output_type": "stream",
     "text": [
      "actual grade:12 predicted grade:12\n",
      "actual grade:10 predicted grade:12\n",
      "actual grade:11 predicted grade:12\n",
      "actual grade:13 predicted grade:13\n",
      "actual grade:13 predicted grade:13\n",
      "actual grade:13 predicted grade:12\n",
      "actual grade:12 predicted grade:13\n",
      "actual grade:13 predicted grade:13\n",
      "actual grade:12 predicted grade:13\n",
      "actual grade:11 predicted grade:13\n",
      "actual grade:12 predicted grade:12\n",
      "actual grade:12 predicted grade:13\n",
      "actual grade:13 predicted grade:13\n",
      "actual grade:13 predicted grade:12\n",
      "actual grade:13 predicted grade:11\n",
      "actual grade:12 predicted grade:13\n",
      "actual grade:13 predicted grade:13\n",
      "actual grade:11 predicted grade:10\n",
      "actual grade:12 predicted grade:13\n",
      "actual grade:12 predicted grade:12\n",
      "actual grade:13 predicted grade:9\n",
      "actual grade:5 predicted grade:11\n",
      "actual grade:0 predicted grade:11\n",
      "actual grade:13 predicted grade:12\n",
      "actual grade:13 predicted grade:13\n",
      "actual grade:13 predicted grade:12\n",
      "actual grade:12 predicted grade:13\n",
      "actual grade:12 predicted grade:13\n",
      "actual grade:13 predicted grade:13\n",
      "actual grade:13 predicted grade:13\n",
      "actual grade:13 predicted grade:13\n",
      "actual grade:13 predicted grade:12\n",
      "actual grade:12 predicted grade:12\n",
      "actual grade:13 predicted grade:13\n",
      "actual grade:12 predicted grade:11\n",
      "actual grade:13 predicted grade:12\n",
      "actual grade:13 predicted grade:13\n",
      "actual grade:13 predicted grade:12\n",
      "actual grade:11 predicted grade:13\n",
      "actual grade:13 predicted grade:13\n",
      "actual grade:13 predicted grade:11\n",
      "actual grade:13 predicted grade:12\n",
      "actual grade:12 predicted grade:13\n",
      "actual grade:12 predicted grade:11\n",
      "actual grade:12 predicted grade:13\n",
      "actual grade:10 predicted grade:13\n",
      "actual grade:12 predicted grade:13\n",
      "actual grade:12 predicted grade:13\n",
      "actual grade:13 predicted grade:13\n",
      "actual grade:9 predicted grade:13\n",
      "actual grade:11 predicted grade:13\n",
      "actual grade:13 predicted grade:13\n",
      "actual grade:12 predicted grade:13\n",
      "actual grade:11 predicted grade:13\n",
      "actual grade:11 predicted grade:13\n",
      "actual grade:11 predicted grade:13\n",
      "actual grade:11 predicted grade:13\n",
      "actual grade:11 predicted grade:13\n",
      "actual grade:11 predicted grade:13\n",
      "actual grade:13 predicted grade:13\n",
      "actual grade:11 predicted grade:13\n",
      "actual grade:13 predicted grade:13\n",
      "actual grade:12 predicted grade:13\n",
      "actual grade:11 predicted grade:11\n",
      "actual grade:10 predicted grade:11\n",
      "actual grade:11 predicted grade:13\n",
      "actual grade:12 predicted grade:13\n",
      "actual grade:11 predicted grade:11\n",
      "actual grade:11 predicted grade:13\n",
      "actual grade:10 predicted grade:13\n",
      "actual grade:10 predicted grade:13\n",
      "actual grade:10 predicted grade:13\n",
      "actual grade:11 predicted grade:13\n",
      "actual grade:10 predicted grade:13\n",
      "actual grade:10 predicted grade:12\n",
      "actual grade:10 predicted grade:12\n",
      "actual grade:11 predicted grade:13\n",
      "actual grade:10 predicted grade:13\n",
      "actual grade:12 predicted grade:12\n",
      "actual grade:11 predicted grade:13\n",
      "actual grade:11 predicted grade:13\n",
      "actual grade:11 predicted grade:13\n",
      "actual grade:11 predicted grade:13\n",
      "actual grade:12 predicted grade:13\n",
      "actual grade:8 predicted grade:13\n",
      "actual grade:5 predicted grade:13\n",
      "actual grade:11 predicted grade:13\n",
      "actual grade:10 predicted grade:12\n",
      "actual grade:11 predicted grade:13\n",
      "actual grade:11 predicted grade:13\n",
      "actual grade:10 predicted grade:11\n",
      "actual grade:11 predicted grade:13\n",
      "actual grade:8 predicted grade:11\n",
      "actual grade:0 predicted grade:11\n",
      "actual grade:11 predicted grade:12\n",
      "actual grade:9 predicted grade:11\n",
      "actual grade:11 predicted grade:13\n",
      "actual grade:11 predicted grade:13\n"
     ]
    }
   ],
   "source": [
    "i=0\n",
    "actual1=np.array(L)\n",
    "predict1=np.zeros(len(L))\n",
    "for i in xrange(len(L)):\n",
    "    Prob=t.classify(I[i])\n",
    "    predict1[i]=np.argmax(Prob)\n",
    "   \n",
    "    print \"actual grade:%d predicted grade:%d\"%(actual1[i],predict1[i])"
   ]
  },
  {
   "cell_type": "markdown",
   "metadata": {},
   "source": [
    "# find Average "
   ]
  },
  {
   "cell_type": "code",
   "execution_count": 58,
   "metadata": {
    "collapsed": false
   },
   "outputs": [
    {
     "data": {
      "text/plain": [
       "2.5071326821120348"
      ]
     },
     "execution_count": 58,
     "metadata": {},
     "output_type": "execute_result"
    }
   ],
   "source": [
    "np.sqrt(np.sum((actual1-predict1)**2)/len(L))"
   ]
  },
  {
   "cell_type": "markdown",
   "metadata": {},
   "source": [
    "# Plot graph \n",
    "number of correct prediction"
   ]
  },
  {
   "cell_type": "code",
   "execution_count": 59,
   "metadata": {
    "collapsed": false,
    "scrolled": true
   },
   "outputs": [
    {
     "name": "stdout",
     "output_type": "stream",
     "text": [
      "Populating the interactive namespace from numpy and matplotlib\n"
     ]
    },
    {
     "data": {
      "text/plain": [
       "(array([  2.,   0.,   0.,   0.,   0.,   0.,   0.,   0.,   0.,   0.,   1.,\n",
       "          0.,   0.,   0.,   0.,   0.,   1.,   0.,   0.,   0.,   1.,   0.,\n",
       "          0.,   1.,   0.,   0.,   7.,   0.,   0.,   0.,  29.,   0.,   0.,\n",
       "         19.,   0.,   0.,  23.,   0.,   0.,   0.,  11.,   0.,   0.,   2.,\n",
       "          0.,   0.,   0.,   0.,   0.,   1.]),\n",
       " array([-11. , -10.7, -10.4, -10.1,  -9.8,  -9.5,  -9.2,  -8.9,  -8.6,\n",
       "         -8.3,  -8. ,  -7.7,  -7.4,  -7.1,  -6.8,  -6.5,  -6.2,  -5.9,\n",
       "         -5.6,  -5.3,  -5. ,  -4.7,  -4.4,  -4.1,  -3.8,  -3.5,  -3.2,\n",
       "         -2.9,  -2.6,  -2.3,  -2. ,  -1.7,  -1.4,  -1.1,  -0.8,  -0.5,\n",
       "         -0.2,   0.1,   0.4,   0.7,   1. ,   1.3,   1.6,   1.9,   2.2,\n",
       "          2.5,   2.8,   3.1,   3.4,   3.7,   4. ]),\n",
       " <a list of 50 Patch objects>)"
      ]
     },
     "execution_count": 59,
     "metadata": {},
     "output_type": "execute_result"
    },
    {
     "data": {
      "image/png": "[encoded data removed]",
      "text/plain": [
       "<matplotlib.figure.Figure at 0xdaa6860>"
      ]
     },
     "metadata": {},
     "output_type": "display_data"
    }
   ],
   "source": [
    "from matplotlib import pyplot as plt\n",
    "%pylab inline\n",
    "plt.hist(actual1-predict1,50)"
   ]
  },
  {
   "cell_type": "markdown",
   "metadata": {},
   "source": [
    "# Create confusion matrix"
   ]
  },
  {
   "cell_type": "code",
   "execution_count": 60,
   "metadata": {
    "collapsed": false
   },
   "outputs": [
    {
     "data": {
      "text/plain": [
       "12.0"
      ]
     },
     "execution_count": 60,
     "metadata": {},
     "output_type": "execute_result"
    }
   ],
   "source": [
    "predict1[0]"
   ]
  },
  {
   "cell_type": "code",
   "execution_count": 61,
   "metadata": {
    "collapsed": false
   },
   "outputs": [
    {
     "data": {
      "text/plain": [
       "12"
      ]
     },
     "execution_count": 61,
     "metadata": {},
     "output_type": "execute_result"
    }
   ],
   "source": [
    "actual1[0]"
   ]
  },
  {
   "cell_type": "code",
   "execution_count": 62,
   "metadata": {
    "collapsed": false,
    "scrolled": true
   },
   "outputs": [
    {
     "name": "stdout",
     "output_type": "stream",
     "text": [
      "[[  0.   0.   0.   0.   0.   0.   0.   0.   0.   0.   0.   0.   0.   0.]\n",
      " [  0.   0.   0.   0.   0.   0.   0.   0.   0.   0.   0.   0.   0.   0.]\n",
      " [  0.   0.   0.   0.   0.   0.   0.   0.   0.   0.   0.   0.   0.   0.]\n",
      " [  0.   0.   0.   0.   0.   0.   0.   0.   0.   0.   0.   0.   0.   0.]\n",
      " [  0.   0.   0.   0.   0.   0.   0.   0.   0.   0.   0.   0.   0.   0.]\n",
      " [  0.   0.   0.   0.   0.   0.   0.   0.   0.   0.   0.   0.   0.   0.]\n",
      " [  0.   0.   0.   0.   0.   0.   0.   0.   0.   0.   0.   0.   0.   0.]\n",
      " [  0.   0.   0.   0.   0.   0.   0.   0.   0.   0.   0.   0.   0.   0.]\n",
      " [  0.   0.   0.   0.   0.   0.   0.   0.   0.   0.   0.   0.   0.   0.]\n",
      " [  0.   0.   0.   0.   0.   0.   0.   0.   0.   0.   0.   0.   0.   1.]\n",
      " [  0.   0.   0.   0.   0.   0.   0.   0.   0.   0.   0.   1.   0.   0.]\n",
      " [  2.   0.   0.   0.   0.   1.   0.   0.   1.   1.   2.   2.   2.   2.]\n",
      " [  0.   0.   0.   0.   0.   0.   0.   0.   0.   0.   4.   2.   5.   8.]\n",
      " [  0.   0.   0.   0.   0.   1.   0.   0.   1.   1.   6.  24.  15.  16.]]\n"
     ]
    }
   ],
   "source": [
    "n = 14\n",
    "cm1 = np.zeros((n,n))\n",
    "for i in xrange(len(actual1)):\n",
    "    cm1[predict1[i],actual1[i]] +=1\n",
    "print cm1\n",
    "    "
   ]
  },
  {
   "cell_type": "markdown",
   "metadata": {},
   "source": [
    "# Training(2)"
   ]
  },
  {
   "cell_type": "code",
   "execution_count": 64,
   "metadata": {
    "collapsed": false,
    "scrolled": true
   },
   "outputs": [
    {
     "name": "stdout",
     "output_type": "stream",
     "text": [
      "master>>init() dsetname: testCS213\n",
      "master>> create dview\n",
      "master>> init engine\n",
      "Found pforest\n",
      "debug:master:__init__: ['train/dataset00.pic', 'train/dataset01.pic', 'train/dataset02.pic', 'train/dataset03.pic']\n",
      "master>> init local variables\n",
      "master>>reset()\n",
      "master>>reset() H: 2.0869\n",
      "master>>reset() Q: 00392\n",
      "master::train() node20*-\n",
      "master::train() node19R-\n",
      "master::train() node18R-\n",
      "master::train() node17R-\n",
      "master::train() node16RG\n",
      "master::train() node16L-\n",
      "master::train() node15RQ\n",
      "master::train() node15L-\n",
      "master::train() node14RG\n",
      "master::train() node14LG\n",
      "master::train() node17LG\n",
      "master::train() node18L-\n",
      "master::train() node17R-\n",
      "master::train() node16RG\n",
      "master::train() node16L-\n",
      "master::train() node15R-\n",
      "master::train() node14RG\n",
      "master::train() node14LQ\n",
      "master::train() node15L-\n",
      "master::train() node14RG\n",
      "master::train() node14LG\n",
      "master::train() node17L-\n",
      "master::train() node16R-\n",
      "master::train() node15R-\n",
      "master::train() node14RG\n",
      "master::train() node14L-\n",
      "master::train() node13RG\n",
      "master::train() node13LG\n",
      "master::train() node15L-\n",
      "master::train() node14R-\n",
      "master::train() node13R-\n",
      "master::train() node12R-\n",
      "master::train() node11R-\n",
      "master::train() node10RG\n",
      "master::train() node10L-\n",
      "master::train() node9RG\n",
      "master::train() node9LG\n",
      "master::train() node11LG\n",
      "master::train() node12L-\n",
      "master::train() node11R-\n",
      "master::train() node10RQ\n",
      "master::train() node10LG\n",
      "master::train() node11LG\n",
      "master::train() node13LG\n",
      "master::train() node14LG\n",
      "master::train() node16LG\n",
      "master::train() node19L-\n",
      "master::train() node18R-\n",
      "master::train() node17R-\n",
      "master::train() node16R-\n",
      "master::train() node15RG\n",
      "master::train() node15LG\n",
      "master::train() node16LG\n",
      "master::train() node17L-\n",
      "master::train() node16R-\n",
      "master::train() node15R-\n",
      "master::train() node14R-\n",
      "master::train() node13RG\n",
      "master::train() node13LG\n",
      "master::train() node14LG\n",
      "master::train() node15LG\n",
      "master::train() node16L-\n",
      "master::train() node15R-\n",
      "master::train() node14R-\n",
      "master::train() node13R-\n",
      "master::train() node12RG\n",
      "master::train() node12L-\n",
      "master::train() node11RQ\n",
      "master::train() node11LG\n",
      "master::train() node13LG\n",
      "master::train() node14LQ\n",
      "master::train() node15L-\n",
      "master::train() node14RG\n",
      "master::train() node14L-\n",
      "master::train() node13RG\n",
      "master::train() node13L-\n",
      "master::train() node12RG\n",
      "master::train() node12LG\n",
      "master::train() node18L-\n",
      "master::train() node17RG\n",
      "master::train() node17L-\n",
      "master::train() node16R-\n",
      "master::train() node15RG\n",
      "master::train() node15LG\n",
      "master::train() node16LG\n"
     ]
    }
   ],
   "source": [
    "import pickle\n",
    "from pforest.master import master\n",
    "m=master(dsetname='testCS213')\n",
    "m.reset()\n",
    "m.train()\n",
    "with open('train/out_tree2.pic', 'wb') as pickleFile:\n",
    "    pickle.dump(m.root, pickleFile, pickle.HIGHEST_PROTOCOL)\n"
   ]
  },
  {
   "cell_type": "code",
   "execution_count": 66,
   "metadata": {
    "collapsed": false
   },
   "outputs": [
    {
     "name": "stdout",
     "output_type": "stream",
     "text": [
      "*- 20 H:2.087e+00,Q:000392 tau:11.0 theta:[ 196.]\n",
      "L- 19 H:2.125e+00,Q:000179 tau:9.0 theta:[ 19.]\n",
      "L- 18 H:1.929e+00,Q:000021 tau:5.0 theta:[ 191.]\n",
      "L- 17 H:1.679e+00,Q:000014 tau:10.0 theta:[ 160.]\n",
      "LG 16 H:1.344e+00,Q:000008 (cl,P):(009,0.38) (013,0.25) (012,0.25)\n",
      "R- 16 H:1.333e+00,Q:000006 tau:11.0 theta:[ 189.]\n",
      "LG 15 H:5.000e-01,Q:000004 (cl,P):(009,0.50) (012,0.25) (010,0.25)\n",
      "RG 15 H:1.000e+00,Q:000002 (cl,P):(012,0.50) (010,0.50) (013,0.00)\n",
      "RG 17 H:6.793e-01,Q:000007 (cl,P):(011,0.57) (012,0.29) (009,0.14)\n",
      "R- 18 H:2.016e+00,Q:000158 tau:3.0 theta:[ 97.]\n",
      "L- 17 H:2.002e+00,Q:000122 tau:10.0 theta:[ 154.]\n",
      "L- 16 H:2.031e+00,Q:000058 tau:9.0 theta:[ 98.]\n",
      "L- 15 H:2.302e+00,Q:000028 tau:5.0 theta:[ 26.]\n",
      "L- 14 H:2.131e+00,Q:000026 tau:8.0 theta:[ 22.]\n",
      "L- 13 H:1.951e+00,Q:000010 tau:9.0 theta:[ 199.]\n",
      "LG 12 H:1.373e+00,Q:000007 (cl,P):(009,0.43) (011,0.29) (012,0.14)\n",
      "RG 12 H:6.667e-01,Q:000003 (cl,P):(013,0.33) (012,0.33) (011,0.33)\n",
      "RG 13 H:1.832e+00,Q:000016 (cl,P):(011,0.25) (010,0.25) (013,0.19)\n",
      "RG 14 H:9.704e-36,Q:000002 (cl,P):(013,1.00) (012,0.00) (011,0.00)\n",
      "R- 15 H:1.496e+00,Q:000030 tau:10.0 theta:[ 189.]\n",
      "LQ 14 H:1.925e-35,Q:000002 (cl,P):(010,1.00) (013,0.00) (012,0.00)\n",
      "R- 14 H:1.407e+00,Q:000028 tau:9.0 theta:[ 20.]\n",
      "LG 13 H:1.289e-35,Q:000003 (cl,P):(012,0.67) (010,0.33) (013,0.00)\n",
      "R- 13 H:1.446e+00,Q:000025 tau:10.0 theta:[ 99.]\n",
      "L- 12 H:1.275e+00,Q:000010 tau:11.0 theta:[ 22.]\n",
      "LG 11 H:9.387e-01,Q:000008 (cl,P):(012,0.50) (013,0.12) (011,0.12)\n",
      "RQ 11 H:1.925e-35,Q:000002 (cl,P):(013,1.00) (012,0.00) (011,0.00)\n",
      "RG 12 H:1.167e+00,Q:000015 (cl,P):(011,0.40) (013,0.33) (012,0.27)\n",
      "R- 16 H:1.756e+00,Q:000064 tau:9.0 theta:[ 162.]\n",
      "LG 15 H:9.387e-01,Q:000008 (cl,P):(013,0.50) (011,0.12) (010,0.12)\n",
      "R- 15 H:1.608e+00,Q:000056 tau:7.0 theta:[ 196.]\n",
      "LG 14 H:9.920e-01,Q:000013 (cl,P):(013,0.69) (012,0.23) (011,0.08)\n",
      "R- 14 H:1.706e+00,Q:000043 tau:8.0 theta:[ 125.]\n",
      "LG 13 H:1.502e+00,Q:000015 (cl,P):(013,0.33) (011,0.33) (009,0.13)\n",
      "RG 13 H:1.472e+00,Q:000028 (cl,P):(012,0.39) (013,0.32) (011,0.18)\n",
      "R- 17 H:1.545e+00,Q:000036 tau:9.0 theta:[ 160.]\n",
      "LG 16 H:9.258e-01,Q:000016 (cl,P):(013,0.75) (012,0.12) (010,0.06)\n",
      "R- 16 H:1.320e+00,Q:000020 tau:9.0 theta:[ 199.]\n",
      "LG 15 H:1.101e+00,Q:000016 (cl,P):(013,0.31) (012,0.25) (011,0.12)\n",
      "RG 15 H:6.887e-01,Q:000004 (cl,P):(011,0.50) (010,0.25) (009,0.25)\n",
      "R- 19 H:1.854e+00,Q:000213 tau:13.0 theta:[ 196.]\n",
      "L- 18 H:1.885e+00,Q:000177 tau:11.0 theta:[ 154.]\n",
      "L- 17 H:1.812e+00,Q:000131 tau:9.0 theta:[ 19.]\n",
      "LG 16 H:1.443e+00,Q:000019 (cl,P):(013,0.37) (012,0.26) (011,0.21)\n",
      "R- 16 H:1.750e+00,Q:000112 tau:11.0 theta:[ 98.]\n",
      "L- 15 H:1.779e+00,Q:000086 tau:7.0 theta:[ 98.]\n",
      "LG 14 H:1.449e+00,Q:000018 (cl,P):(011,0.33) (013,0.22) (012,0.22)\n",
      "R- 14 H:1.694e+00,Q:000068 tau:9.0 theta:[ 154.]\n",
      "LG 13 H:2.857e-01,Q:000007 (cl,P):(011,0.71) (010,0.14) (005,0.14)\n",
      "R- 13 H:1.612e+00,Q:000061 tau:10.0 theta:[ 162.]\n",
      "L- 12 H:1.182e+00,Q:000017 tau:9.0 theta:[ 22.]\n",
      "LG 11 H:8.755e-01,Q:000010 (cl,P):(013,0.40) (012,0.40) (011,0.10)\n",
      "R- 11 H:1.143e+00,Q:000007 tau:10.0 theta:[ 199.]\n",
      "LG 10 H:1.000e+00,Q:000006 (cl,P):(013,0.50) (012,0.33) (011,0.17)\n",
      "RQ 10 H:1.925e-35,Q:000001 (cl,P):(012,1.00) (013,0.00) (011,0.00)\n",
      "R- 12 H:1.625e+00,Q:000044 tau:12.0 theta:[ 196.]\n",
      "LG 11 H:1.617e+00,Q:000022 (cl,P):(012,0.41) (011,0.32) (013,0.23)\n",
      "R- 11 H:1.389e+00,Q:000022 tau:10.0 theta:[ 191.]\n",
      "L- 10 H:1.426e+00,Q:000016 tau:10.0 theta:[ 189.]\n",
      "LG 09 H:1.289e-35,Q:000003 (cl,P):(013,0.67) (011,0.33) (012,0.00)\n",
      "RG 09 H:1.632e+00,Q:000013 (cl,P):(013,0.38) (012,0.31) (011,0.23)\n",
      "RG 10 H:9.183e-01,Q:000006 (cl,P):(013,0.67) (012,0.33) (011,0.00)\n",
      "R- 15 H:1.102e+00,Q:000026 tau:12.0 theta:[ 189.]\n",
      "L- 14 H:1.093e+00,Q:000015 tau:12.0 theta:[ 19.]\n",
      "LG 13 H:1.115e+00,Q:000011 (cl,P):(013,0.64) (012,0.18) (011,0.18)\n",
      "RG 13 H:5.000e-01,Q:000004 (cl,P):(013,0.50) (012,0.25) (011,0.25)\n",
      "RG 14 H:4.413e-01,Q:000011 (cl,P):(013,0.64) (011,0.27) (012,0.09)\n",
      "R- 17 H:1.490e+00,Q:000046 tau:12.0 theta:[ 140.]\n",
      "L- 16 H:1.560e+00,Q:000036 tau:11.0 theta:[ 172.]\n",
      "L- 15 H:1.361e+00,Q:000027 tau:12.0 theta:[ 196.]\n",
      "LG 14 H:1.437e+00,Q:000012 (cl,P):(013,0.42) (010,0.25) (012,0.17)\n",
      "RG 14 H:1.198e+00,Q:000015 (cl,P):(013,0.47) (012,0.27) (010,0.20)\n",
      "R- 15 H:1.530e+00,Q:000009 tau:9.0 theta:[ 19.]\n",
      "LQ 14 H:1.925e-35,Q:000001 (cl,P):(011,1.00) (013,0.00) (012,0.00)\n",
      "RG 14 H:1.500e+00,Q:000008 (cl,P):(013,0.50) (011,0.25) (010,0.25)\n",
      "RG 16 H:4.690e-01,Q:000010 (cl,P):(013,0.90) (011,0.10) (012,0.00)\n",
      "R- 18 H:1.253e+00,Q:000036 tau:9.0 theta:[ 189.]\n",
      "LG 17 H:5.000e-01,Q:000004 (cl,P):(012,0.75) (013,0.25) (011,0.00)\n",
      "R- 17 H:1.167e+00,Q:000032 tau:10.0 theta:[ 19.]\n",
      "L- 16 H:1.056e+00,Q:000016 tau:9.0 theta:[ 102.]\n",
      "L- 15 H:9.212e-01,Q:000014 tau:10.0 theta:[ 154.]\n",
      "LG 14 H:6.667e-01,Q:000003 (cl,P):(013,0.33) (011,0.33) (010,0.33)\n",
      "RG 14 H:6.918e-01,Q:000011 (cl,P):(013,0.73) (010,0.18) (012,0.09)\n",
      "RQ 15 H:1.925e-35,Q:000002 (cl,P):(012,0.50) (011,0.50) (013,0.00)\n",
      "RG 16 H:7.972e-01,Q:000016 (cl,P):(013,0.75) (012,0.12) (011,0.06)\n",
      "\n"
     ]
    }
   ],
   "source": [
    "from pforest.dataset import dataset\n",
    "from pforest.tree import tree\n",
    "with open('train/out_tree2.pic', 'rb') as pickleFile:\n",
    "    root = pickle.load(pickleFile)\n",
    "#init the test treetree213.pic\n",
    "t=tree()\n",
    "t.settree(root)\n",
    "t.show()"
   ]
  },
  {
   "cell_type": "code",
   "execution_count": 67,
   "metadata": {
    "collapsed": false
   },
   "outputs": [],
   "source": [
    "with open('train/dataset04.pic', 'rb') as pickleFile:\n",
    "     data = pickle.load(pickleFile)"
   ]
  },
  {
   "cell_type": "code",
   "execution_count": 68,
   "metadata": {
    "collapsed": true
   },
   "outputs": [],
   "source": [
    "I=data[-2];L=data[-3]"
   ]
  },
  {
   "cell_type": "code",
   "execution_count": 69,
   "metadata": {
    "collapsed": false
   },
   "outputs": [
    {
     "data": {
      "text/plain": [
       "array([[ 0,  0,  0, ...,  0,  8,  0],\n",
       "       [ 0,  0,  0, ...,  0, 12,  0],\n",
       "       [ 0,  0,  0, ...,  0, 10,  0],\n",
       "       ..., \n",
       "       [ 0,  0,  0, ...,  0, 12,  0],\n",
       "       [ 0,  0,  0, ...,  0, 13,  0],\n",
       "       [ 0,  0,  0, ...,  0, 10,  0]], dtype=int64)"
      ]
     },
     "execution_count": 69,
     "metadata": {},
     "output_type": "execute_result"
    }
   ],
   "source": [
    "I"
   ]
  },
  {
   "cell_type": "code",
   "execution_count": 70,
   "metadata": {
    "collapsed": false,
    "scrolled": true
   },
   "outputs": [
    {
     "data": {
      "text/plain": [
       "array([13, 13, 13, 13, 13, 13, 13, 12, 13, 12, 13, 12, 13, 13, 13, 13, 12,\n",
       "       13, 12, 12, 13, 13, 12, 13, 13, 13, 13, 12, 12, 13, 12, 13, 10, 10,\n",
       "       13, 13, 13, 13, 13, 13, 11, 10, 13, 13, 11, 13, 13, 13, 13, 13, 13,\n",
       "       13, 11,  5, 12, 13,  9, 10, 10,  9, 13, 12, 13, 11, 13, 13, 13, 10,\n",
       "       10, 12, 11, 13, 12, 13, 10, 12, 12, 13, 13, 13, 12, 12, 13, 13, 13,\n",
       "       13, 11, 12, 13, 12, 13, 13, 13, 12, 13, 12, 13, 12], dtype=int64)"
      ]
     },
     "execution_count": 70,
     "metadata": {},
     "output_type": "execute_result"
    }
   ],
   "source": [
    "L"
   ]
  },
  {
   "cell_type": "code",
   "execution_count": 71,
   "metadata": {
    "collapsed": false,
    "scrolled": true
   },
   "outputs": [
    {
     "name": "stdout",
     "output_type": "stream",
     "text": [
      "actual grade:13 predicted grade:11\n",
      "actual grade:13 predicted grade:13\n",
      "actual grade:13 predicted grade:13\n",
      "actual grade:13 predicted grade:13\n",
      "actual grade:13 predicted grade:9\n",
      "actual grade:13 predicted grade:11\n",
      "actual grade:13 predicted grade:13\n",
      "actual grade:12 predicted grade:11\n",
      "actual grade:13 predicted grade:13\n",
      "actual grade:12 predicted grade:13\n",
      "actual grade:13 predicted grade:12\n",
      "actual grade:12 predicted grade:13\n",
      "actual grade:13 predicted grade:13\n",
      "actual grade:13 predicted grade:13\n",
      "actual grade:13 predicted grade:13\n",
      "actual grade:13 predicted grade:13\n",
      "actual grade:12 predicted grade:11\n",
      "actual grade:13 predicted grade:10\n",
      "actual grade:12 predicted grade:11\n",
      "actual grade:12 predicted grade:12\n",
      "actual grade:13 predicted grade:13\n",
      "actual grade:13 predicted grade:13\n",
      "actual grade:12 predicted grade:12\n",
      "actual grade:13 predicted grade:13\n",
      "actual grade:13 predicted grade:13\n",
      "actual grade:13 predicted grade:11\n",
      "actual grade:13 predicted grade:12\n",
      "actual grade:12 predicted grade:9\n",
      "actual grade:12 predicted grade:12\n",
      "actual grade:13 predicted grade:13\n",
      "actual grade:12 predicted grade:13\n",
      "actual grade:13 predicted grade:13\n",
      "actual grade:10 predicted grade:13\n",
      "actual grade:10 predicted grade:13\n",
      "actual grade:13 predicted grade:11\n",
      "actual grade:13 predicted grade:13\n",
      "actual grade:13 predicted grade:13\n",
      "actual grade:13 predicted grade:13\n",
      "actual grade:13 predicted grade:13\n",
      "actual grade:13 predicted grade:13\n",
      "actual grade:11 predicted grade:13\n",
      "actual grade:10 predicted grade:13\n",
      "actual grade:13 predicted grade:13\n",
      "actual grade:13 predicted grade:13\n",
      "actual grade:11 predicted grade:11\n",
      "actual grade:13 predicted grade:13\n",
      "actual grade:13 predicted grade:12\n",
      "actual grade:13 predicted grade:13\n",
      "actual grade:13 predicted grade:13\n",
      "actual grade:13 predicted grade:13\n",
      "actual grade:13 predicted grade:13\n",
      "actual grade:13 predicted grade:13\n",
      "actual grade:11 predicted grade:13\n",
      "actual grade:5 predicted grade:13\n",
      "actual grade:12 predicted grade:13\n",
      "actual grade:13 predicted grade:13\n",
      "actual grade:9 predicted grade:9\n",
      "actual grade:10 predicted grade:13\n",
      "actual grade:10 predicted grade:13\n",
      "actual grade:9 predicted grade:11\n",
      "actual grade:13 predicted grade:13\n",
      "actual grade:12 predicted grade:13\n",
      "actual grade:13 predicted grade:13\n",
      "actual grade:11 predicted grade:13\n",
      "actual grade:13 predicted grade:13\n",
      "actual grade:13 predicted grade:13\n",
      "actual grade:13 predicted grade:13\n",
      "actual grade:10 predicted grade:13\n",
      "actual grade:10 predicted grade:13\n",
      "actual grade:12 predicted grade:12\n",
      "actual grade:11 predicted grade:13\n",
      "actual grade:13 predicted grade:13\n",
      "actual grade:12 predicted grade:13\n",
      "actual grade:13 predicted grade:13\n",
      "actual grade:10 predicted grade:13\n",
      "actual grade:12 predicted grade:13\n",
      "actual grade:12 predicted grade:13\n",
      "actual grade:13 predicted grade:13\n",
      "actual grade:13 predicted grade:13\n",
      "actual grade:13 predicted grade:13\n",
      "actual grade:12 predicted grade:12\n",
      "actual grade:12 predicted grade:13\n",
      "actual grade:13 predicted grade:13\n",
      "actual grade:13 predicted grade:13\n",
      "actual grade:13 predicted grade:12\n",
      "actual grade:13 predicted grade:13\n",
      "actual grade:11 predicted grade:11\n",
      "actual grade:12 predicted grade:13\n",
      "actual grade:13 predicted grade:13\n",
      "actual grade:12 predicted grade:13\n",
      "actual grade:13 predicted grade:13\n",
      "actual grade:13 predicted grade:13\n",
      "actual grade:13 predicted grade:13\n",
      "actual grade:12 predicted grade:13\n",
      "actual grade:13 predicted grade:13\n",
      "actual grade:12 predicted grade:13\n",
      "actual grade:13 predicted grade:12\n",
      "actual grade:12 predicted grade:11\n"
     ]
    }
   ],
   "source": [
    "i=0\n",
    "actual2=np.array(L)\n",
    "predict2=np.zeros(len(L))\n",
    "for i in xrange(len(L)):\n",
    "    Prob=t.classify(I[i])\n",
    "    predict2[i]=np.argmax(Prob)\n",
    "   \n",
    "    print \"actual grade:%d predicted grade:%d\"%(actual2[i],predict2[i])"
   ]
  },
  {
   "cell_type": "code",
   "execution_count": 72,
   "metadata": {
    "collapsed": false
   },
   "outputs": [
    {
     "data": {
      "text/plain": [
       "1.5252968931473301"
      ]
     },
     "execution_count": 72,
     "metadata": {},
     "output_type": "execute_result"
    }
   ],
   "source": [
    "np.sqrt(np.sum((actual2-predict2)**2)/len(L))"
   ]
  },
  {
   "cell_type": "code",
   "execution_count": 73,
   "metadata": {
    "collapsed": false
   },
   "outputs": [
    {
     "name": "stdout",
     "output_type": "stream",
     "text": [
      "Populating the interactive namespace from numpy and matplotlib\n"
     ]
    },
    {
     "data": {
      "text/plain": [
       "(array([  1.,   0.,   0.,   0.,   0.,   0.,   0.,   0.,   0.,   0.,   0.,\n",
       "          0.,   8.,   0.,   0.,   5.,   0.,  13.,   0.,   0.,  55.,   0.,\n",
       "          9.,   0.,   0.,   4.,   0.,   2.,   0.,   1.]),\n",
       " array([-8. , -7.6, -7.2, -6.8, -6.4, -6. , -5.6, -5.2, -4.8, -4.4, -4. ,\n",
       "        -3.6, -3.2, -2.8, -2.4, -2. , -1.6, -1.2, -0.8, -0.4,  0. ,  0.4,\n",
       "         0.8,  1.2,  1.6,  2. ,  2.4,  2.8,  3.2,  3.6,  4. ]),\n",
       " <a list of 30 Patch objects>)"
      ]
     },
     "execution_count": 73,
     "metadata": {},
     "output_type": "execute_result"
    },
    {
     "data": {
      "image/png": "[encoded data removed]",
      "text/plain": [
       "<matplotlib.figure.Figure at 0xf8a20b8>"
      ]
     },
     "metadata": {},
     "output_type": "display_data"
    }
   ],
   "source": [
    "from matplotlib import pyplot as plt\n",
    "%pylab inline\n",
    "plt.hist(actual2-predict2,30)"
   ]
  },
  {
   "cell_type": "code",
   "execution_count": 74,
   "metadata": {
    "collapsed": false
   },
   "outputs": [
    {
     "name": "stdout",
     "output_type": "stream",
     "text": [
      "[[  0.   0.   0.   0.   0.   0.   0.   0.   0.   0.   0.   0.   0.   0.]\n",
      " [  0.   0.   0.   0.   0.   0.   0.   0.   0.   0.   0.   0.   0.   0.]\n",
      " [  0.   0.   0.   0.   0.   0.   0.   0.   0.   0.   0.   0.   0.   0.]\n",
      " [  0.   0.   0.   0.   0.   0.   0.   0.   0.   0.   0.   0.   0.   0.]\n",
      " [  0.   0.   0.   0.   0.   0.   0.   0.   0.   0.   0.   0.   0.   0.]\n",
      " [  0.   0.   0.   0.   0.   0.   0.   0.   0.   0.   0.   0.   0.   0.]\n",
      " [  0.   0.   0.   0.   0.   0.   0.   0.   0.   0.   0.   0.   0.   0.]\n",
      " [  0.   0.   0.   0.   0.   0.   0.   0.   0.   0.   0.   0.   0.   0.]\n",
      " [  0.   0.   0.   0.   0.   0.   0.   0.   0.   0.   0.   0.   0.   0.]\n",
      " [  0.   0.   0.   0.   0.   0.   0.   0.   0.   1.   0.   0.   1.   1.]\n",
      " [  0.   0.   0.   0.   0.   0.   0.   0.   0.   0.   0.   0.   0.   1.]\n",
      " [  0.   0.   0.   0.   0.   0.   0.   0.   0.   1.   0.   2.   4.   4.]\n",
      " [  0.   0.   0.   0.   0.   0.   0.   0.   0.   0.   0.   0.   5.   5.]\n",
      " [  0.   0.   0.   0.   0.   1.   0.   0.   0.   0.   8.   4.  13.  47.]]\n"
     ]
    }
   ],
   "source": [
    "n = 14\n",
    "cm2 = np.zeros((n,n))\n",
    "for i in xrange(len(actual2)):\n",
    "    cm2[predict2[i],actual2[i]] +=1\n",
    "print cm2"
   ]
  },
  {
   "cell_type": "markdown",
   "metadata": {},
   "source": [
    "# Training(3)"
   ]
  },
  {
   "cell_type": "code",
   "execution_count": 75,
   "metadata": {
    "collapsed": false,
    "scrolled": false
   },
   "outputs": [
    {
     "name": "stdout",
     "output_type": "stream",
     "text": [
      "master>>init() dsetname: testCS213\n",
      "master>> create dview\n",
      "master>> init engine\n",
      "Found pforest\n",
      "debug:master:__init__: ['train/dataset00.pic', 'train/dataset01.pic', 'train/dataset02.pic', 'train/dataset03.pic']\n",
      "master>> init local variables\n",
      "master>>reset()\n",
      "master>>reset() H: 2.0869\n",
      "master>>reset() Q: 00392\n",
      "master::train() node20*-\n",
      "master::train() node19R-\n",
      "master::train() node18R-\n",
      "master::train() node17RG\n",
      "master::train() node17LG\n",
      "master::train() node18L-\n",
      "master::train() node17R-\n",
      "master::train() node16R-\n",
      "master::train() node15R-\n",
      "master::train() node14RG\n",
      "master::train() node14LG\n",
      "master::train() node15L-\n",
      "master::train() node14R-\n",
      "master::train() node13RG\n",
      "master::train() node13L-\n",
      "master::train() node12R-\n",
      "master::train() node11RG\n",
      "master::train() node11LG\n",
      "master::train() node12LG\n",
      "master::train() node14LG\n",
      "master::train() node16LG\n",
      "master::train() node17L-\n",
      "master::train() node16R-\n",
      "master::train() node15RG\n",
      "master::train() node15L-\n",
      "master::train() node14RG\n",
      "master::train() node14LG\n",
      "master::train() node16L-\n",
      "master::train() node15RQ\n",
      "master::train() node15LQ\n",
      "master::train() node19L-\n",
      "master::train() node18R-\n",
      "master::train() node17R-\n",
      "master::train() node16R-\n",
      "master::train() node15RG\n",
      "master::train() node15L-\n",
      "master::train() node14RG\n",
      "master::train() node14L-\n",
      "master::train() node13RG\n",
      "master::train() node13LG\n",
      "master::train() node16L-\n",
      "master::train() node15RQ\n",
      "master::train() node15L-\n",
      "master::train() node14R-\n",
      "master::train() node13R-\n",
      "master::train() node12RG\n",
      "master::train() node12LG\n",
      "master::train() node13LQ\n",
      "master::train() node14LG\n",
      "master::train() node17L-\n",
      "master::train() node16R-\n",
      "master::train() node15R-\n",
      "master::train() node14RG\n",
      "master::train() node14LG\n",
      "master::train() node15LG\n",
      "master::train() node16L-\n",
      "master::train() node15R-\n",
      "master::train() node14RG\n",
      "master::train() node14L-\n",
      "master::train() node13RG\n",
      "master::train() node13L-\n",
      "master::train() node12R-\n",
      "master::train() node11RG\n",
      "master::train() node11LG\n",
      "master::train() node12LG\n",
      "master::train() node15L-\n",
      "master::train() node14RG\n",
      "master::train() node14L-\n",
      "master::train() node13RG\n",
      "master::train() node13LQ\n",
      "master::train() node18L-\n",
      "master::train() node17R-\n",
      "master::train() node16R-\n",
      "master::train() node15RG\n",
      "master::train() node15LG\n",
      "master::train() node16L-\n",
      "master::train() node15R-\n",
      "master::train() node14RG\n",
      "master::train() node14L-\n",
      "master::train() node13RQ\n",
      "master::train() node13L-\n",
      "master::train() node12R-\n",
      "master::train() node11RG\n",
      "master::train() node11L-\n",
      "master::train() node10RG\n",
      "master::train() node10L-\n",
      "master::train() node9RQ\n",
      "master::train() node9LQ\n",
      "master::train() node12LQ\n",
      "master::train() node15LG\n",
      "master::train() node17L-\n",
      "master::train() node16R-\n",
      "master::train() node15RG\n",
      "master::train() node15LG\n",
      "master::train() node16L-\n",
      "master::train() node15RQ\n",
      "master::train() node15LG\n"
     ]
    }
   ],
   "source": [
    "import pickle\n",
    "from pforest.master import master\n",
    "m=master(dsetname='testCS213')\n",
    "m.reset()\n",
    "m.train()\n",
    "with open('train/out_tree3.pic', 'wb') as pickleFile:\n",
    "    pickle.dump(m.root, pickleFile, pickle.HIGHEST_PROTOCOL)"
   ]
  },
  {
   "cell_type": "code",
   "execution_count": 76,
   "metadata": {
    "collapsed": false
   },
   "outputs": [
    {
     "name": "stdout",
     "output_type": "stream",
     "text": [
      "*- 20 H:2.087e+00,Q:000392 tau:11.0 theta:[ 154.]\n",
      "L- 19 H:2.136e+00,Q:000297 tau:10.0 theta:[ 196.]\n",
      "L- 18 H:2.083e+00,Q:000095 tau:7.0 theta:[ 196.]\n",
      "L- 17 H:1.336e+00,Q:000041 tau:9.0 theta:[ 154.]\n",
      "L- 16 H:1.094e+00,Q:000008 tau:12.0 theta:[ 189.]\n",
      "LG 15 H:1.126e+00,Q:000006 (cl,P):(013,0.33) (011,0.33) (012,0.17)\n",
      "RQ 15 H:1.925e-35,Q:000002 (cl,P):(012,0.50) (011,0.50) (013,0.00)\n",
      "R- 16 H:1.152e+00,Q:000033 tau:9.0 theta:[ 162.]\n",
      "LG 15 H:1.201e+00,Q:000008 (cl,P):(013,0.38) (011,0.25) (012,0.12)\n",
      "RG 15 H:8.897e-01,Q:000025 (cl,P):(013,0.64) (012,0.36) (011,0.00)\n",
      "R- 17 H:2.008e+00,Q:000054 tau:10.0 theta:[ 99.]\n",
      "L- 16 H:1.701e+00,Q:000031 tau:9.0 theta:[ 154.]\n",
      "LG 15 H:9.793e-01,Q:000007 (cl,P):(010,0.43) (011,0.29) (013,0.14)\n",
      "R- 15 H:1.673e+00,Q:000024 tau:9.0 theta:[ 22.]\n",
      "L- 14 H:1.405e+00,Q:000018 tau:8.0 theta:[ 29.]\n",
      "L- 13 H:1.393e+00,Q:000017 tau:8.0 theta:[ 196.]\n",
      "LQ 12 H:1.925e-35,Q:000003 (cl,P):(009,0.67) (005,0.33) (013,0.00)\n",
      "R- 12 H:1.340e+00,Q:000014 tau:9.0 theta:[ 99.]\n",
      "L- 11 H:1.201e+00,Q:000008 tau:8.0 theta:[ 99.]\n",
      "L- 10 H:5.000e-01,Q:000004 tau:7.0 theta:[ 125.]\n",
      "LQ 09 H:1.925e-35,Q:000002 (cl,P):(009,0.50) (006,0.50) (013,0.00)\n",
      "RQ 09 H:1.925e-35,Q:000002 (cl,P):(011,1.00) (013,0.00) (012,0.00)\n",
      "RG 10 H:1.189e+00,Q:000004 (cl,P):(011,0.25) (010,0.25) (009,0.25)\n",
      "RG 11 H:4.591e-01,Q:000006 (cl,P):(009,0.33) (013,0.17) (012,0.17)\n",
      "RQ 13 H:1.925e-35,Q:000001 (cl,P):(010,1.00) (013,0.00) (012,0.00)\n",
      "RG 14 H:1.000e+00,Q:000006 (cl,P):(011,0.33) (009,0.33) (012,0.17)\n",
      "R- 16 H:1.780e+00,Q:000023 tau:10.0 theta:[ 19.]\n",
      "LG 15 H:1.259e+00,Q:000013 (cl,P):(011,0.31) (012,0.23) (013,0.15)\n",
      "RG 15 H:1.577e+00,Q:000010 (cl,P):(013,0.50) (012,0.30) (010,0.10)\n",
      "R- 18 H:1.979e+00,Q:000202 tau:9.0 theta:[ 191.]\n",
      "L- 17 H:2.063e+00,Q:000127 tau:12.0 theta:[ 196.]\n",
      "L- 16 H:2.123e+00,Q:000059 tau:9.0 theta:[ 154.]\n",
      "L- 15 H:1.556e+00,Q:000011 tau:10.0 theta:[ 98.]\n",
      "L- 14 H:4.000e-01,Q:000005 tau:9.0 theta:[ 19.]\n",
      "LQ 13 H:1.925e-35,Q:000001 (cl,P):(012,1.00) (013,0.00) (011,0.00)\n",
      "RG 13 H:1.448e-35,Q:000004 (cl,P):(011,0.50) (012,0.25) (010,0.25)\n",
      "RG 14 H:7.925e-01,Q:000006 (cl,P):(013,0.50) (005,0.33) (011,0.17)\n",
      "R- 15 H:2.055e+00,Q:000048 tau:12.0 theta:[ 20.]\n",
      "L- 14 H:2.080e+00,Q:000040 tau:10.0 theta:[ 99.]\n",
      "L- 13 H:1.930e+00,Q:000028 tau:7.0 theta:[ 22.]\n",
      "LG 12 H:5.714e-01,Q:000007 (cl,P):(012,0.43) (013,0.14) (011,0.14)\n",
      "R- 12 H:1.799e+00,Q:000021 tau:10.0 theta:[ 199.]\n",
      "LG 11 H:1.517e+00,Q:000016 (cl,P):(012,0.31) (013,0.25) (010,0.25)\n",
      "RG 11 H:9.510e-01,Q:000005 (cl,P):(012,0.40) (013,0.20) (011,0.20)\n",
      "RG 13 H:1.593e+00,Q:000012 (cl,P):(013,0.33) (012,0.25) (011,0.17)\n",
      "RG 14 H:1.000e+00,Q:000008 (cl,P):(012,0.50) (013,0.25) (011,0.25)\n",
      "R- 16 H:1.692e+00,Q:000068 tau:10.0 theta:[ 189.]\n",
      "LG 15 H:9.183e-01,Q:000012 (cl,P):(012,0.50) (013,0.33) (011,0.17)\n",
      "R- 15 H:1.674e+00,Q:000056 tau:9.0 theta:[ 19.]\n",
      "LG 14 H:1.837e+00,Q:000009 (cl,P):(011,0.44) (013,0.22) (010,0.22)\n",
      "RG 14 H:1.597e+00,Q:000047 (cl,P):(013,0.45) (012,0.23) (011,0.19)\n",
      "R- 17 H:1.540e+00,Q:000075 tau:11.0 theta:[ 189.]\n",
      "L- 16 H:1.350e+00,Q:000024 tau:11.0 theta:[ 102.]\n",
      "L- 15 H:1.288e+00,Q:000023 tau:8.0 theta:[ 98.]\n",
      "LG 14 H:5.157e-01,Q:000007 (cl,P):(011,0.71) (013,0.14) (012,0.14)\n",
      "R- 14 H:1.112e+00,Q:000016 tau:11.0 theta:[ 196.]\n",
      "LQ 13 H:1.925e-35,Q:000003 (cl,P):(013,0.33) (012,0.33) (005,0.33)\n",
      "R- 13 H:1.208e+00,Q:000013 tau:7.0 theta:[ 201.]\n",
      "LG 12 H:6.667e-01,Q:000003 (cl,P):(011,0.67) (012,0.33) (013,0.00)\n",
      "RG 12 H:1.039e+00,Q:000010 (cl,P):(011,0.50) (013,0.30) (012,0.20)\n",
      "RQ 15 H:1.925e-35,Q:000001 (cl,P):(013,1.00) (012,0.00) (011,0.00)\n",
      "R- 16 H:1.393e+00,Q:000051 tau:11.0 theta:[ 191.]\n",
      "L- 15 H:9.727e-01,Q:000033 tau:10.0 theta:[ 154.]\n",
      "L- 14 H:9.341e-01,Q:000018 tau:12.0 theta:[ 196.]\n",
      "LG 13 H:8.069e-01,Q:000013 (cl,P):(013,0.62) (012,0.23) (011,0.15)\n",
      "RG 13 H:9.510e-01,Q:000005 (cl,P):(013,0.60) (012,0.20) (011,0.20)\n",
      "RG 14 H:5.062e-01,Q:000015 (cl,P):(013,0.80) (012,0.13) (009,0.07)\n",
      "RG 15 H:1.764e+00,Q:000018 (cl,P):(013,0.39) (011,0.28) (012,0.22)\n",
      "R- 19 H:1.657e+00,Q:000095 tau:13.0 theta:[ 196.]\n",
      "L- 18 H:1.748e+00,Q:000083 tau:6.0 theta:[ 160.]\n",
      "L- 17 H:1.600e+00,Q:000017 tau:8.0 theta:[ 20.]\n",
      "L- 16 H:1.000e+00,Q:000002 tau:5.0 theta:[ 160.]\n",
      "LQ 15 H:1.925e-35,Q:000001 (cl,P):(009,1.00) (013,0.00) (012,0.00)\n",
      "RQ 15 H:1.925e-35,Q:000001 (cl,P):(013,1.00) (012,0.00) (011,0.00)\n",
      "R- 16 H:1.552e+00,Q:000015 tau:9.0 theta:[ 22.]\n",
      "L- 15 H:1.265e+00,Q:000007 tau:11.0 theta:[ 99.]\n",
      "LG 14 H:1.500e+00,Q:000004 (cl,P):(013,0.50) (012,0.25) (011,0.25)\n",
      "RG 14 H:6.667e-01,Q:000003 (cl,P):(013,0.67) (011,0.33) (012,0.00)\n",
      "RG 15 H:1.156e+00,Q:000008 (cl,P):(013,0.50) (012,0.25) (009,0.25)\n",
      "R- 17 H:1.505e+00,Q:000066 tau:10.0 theta:[ 99.]\n",
      "LG 16 H:8.988e-01,Q:000019 (cl,P):(013,0.58) (011,0.32) (012,0.05)\n",
      "R- 16 H:1.553e+00,Q:000047 tau:11.0 theta:[ 22.]\n",
      "L- 15 H:1.517e+00,Q:000026 tau:7.0 theta:[ 160.]\n",
      "LG 14 H:1.585e+00,Q:000003 (cl,P):(013,0.33) (012,0.33) (010,0.33)\n",
      "R- 14 H:1.378e+00,Q:000023 tau:9.0 theta:[ 201.]\n",
      "L- 13 H:1.299e+00,Q:000008 tau:7.0 theta:[ 201.]\n",
      "LG 12 H:9.704e-36,Q:000002 (cl,P):(013,1.00) (012,0.00) (011,0.00)\n",
      "R- 12 H:1.459e+00,Q:000006 tau:12.0 theta:[ 196.]\n",
      "LG 11 H:1.500e+00,Q:000004 (cl,P):(013,0.50) (011,0.25) (010,0.25)\n",
      "RG 11 H:1.000e+00,Q:000002 (cl,P):(013,0.50) (010,0.50) (012,0.00)\n",
      "RG 13 H:1.333e+00,Q:000015 (cl,P):(010,0.33) (013,0.27) (011,0.27)\n",
      "R- 15 H:1.112e+00,Q:000021 tau:13.0 theta:[ 201.]\n",
      "LG 14 H:1.260e+00,Q:000012 (cl,P):(013,0.42) (012,0.25) (011,0.17)\n",
      "RG 14 H:4.011e-01,Q:000009 (cl,P):(013,0.44) (012,0.44) (011,0.11)\n",
      "R- 18 H:1.667e-01,Q:000012 tau:10.0 theta:[ 19.]\n",
      "LG 17 H:8.303e-36,Q:000007 (cl,P):(013,0.86) (012,0.14) (011,0.00)\n",
      "RG 17 H:1.160e-35,Q:000005 (cl,P):(013,0.80) (012,0.20) (011,0.00)\n",
      "\n"
     ]
    }
   ],
   "source": [
    "from pforest.dataset import dataset\n",
    "from pforest.tree import tree\n",
    "with open('train/out_tree3.pic', 'rb') as pickleFile:\n",
    "    root = pickle.load(pickleFile)\n",
    "#init the test tree\n",
    "t=tree()\n",
    "t.settree(root)\n",
    "t.show()"
   ]
  },
  {
   "cell_type": "code",
   "execution_count": 77,
   "metadata": {
    "collapsed": true
   },
   "outputs": [],
   "source": [
    "with open('train/dataset04.pic', 'rb') as pickleFile:\n",
    "     data = pickle.load(pickleFile)\n",
    "I=data[-2];L=data[-3]"
   ]
  },
  {
   "cell_type": "code",
   "execution_count": 78,
   "metadata": {
    "collapsed": false
   },
   "outputs": [
    {
     "data": {
      "text/plain": [
       "array([[ 0,  0,  0, ...,  0,  7,  0],\n",
       "       [ 0,  0,  0, ...,  0,  8,  0],\n",
       "       [ 0,  0,  0, ...,  0,  7,  0],\n",
       "       ..., \n",
       "       [ 0,  0,  0, ...,  0,  9,  0],\n",
       "       [ 0,  0,  0, ...,  0,  9,  0],\n",
       "       [ 0,  0,  0, ...,  0, 12,  0]], dtype=int64)"
      ]
     },
     "execution_count": 78,
     "metadata": {},
     "output_type": "execute_result"
    }
   ],
   "source": [
    "I"
   ]
  },
  {
   "cell_type": "code",
   "execution_count": 79,
   "metadata": {
    "collapsed": false
   },
   "outputs": [
    {
     "data": {
      "text/plain": [
       "array([11, 12, 11, 11, 13, 11, 13, 13, 13, 11, 13, 13, 12, 11, 13, 11, 12,\n",
       "       13, 11, 12, 13, 13, 12, 12, 11,  5, 13, 13, 11, 12, 10, 12, 12, 11,\n",
       "       12, 12, 11, 12, 13, 12, 10, 10, 13, 13, 13,  5, 13, 11, 11, 10,  6,\n",
       "       11, 11, 13, 12, 11, 11, 11, 12, 13, 10, 11, 13, 10, 13, 10, 12, 12,\n",
       "       13, 13, 13, 13, 12, 13, 13, 13, 13, 13, 13, 13, 13, 11, 13, 13, 13,\n",
       "       12, 12, 11,  5, 11,  5, 13, 13, 13, 12, 13, 13, 12], dtype=int64)"
      ]
     },
     "execution_count": 79,
     "metadata": {},
     "output_type": "execute_result"
    }
   ],
   "source": [
    "L"
   ]
  },
  {
   "cell_type": "code",
   "execution_count": 80,
   "metadata": {
    "collapsed": false
   },
   "outputs": [
    {
     "name": "stdout",
     "output_type": "stream",
     "text": [
      "actual grade:11 predicted grade:13\n",
      "actual grade:12 predicted grade:11\n",
      "actual grade:11 predicted grade:13\n",
      "actual grade:11 predicted grade:13\n",
      "actual grade:13 predicted grade:13\n",
      "actual grade:11 predicted grade:11\n",
      "actual grade:13 predicted grade:13\n",
      "actual grade:13 predicted grade:13\n",
      "actual grade:13 predicted grade:11\n",
      "actual grade:11 predicted grade:13\n",
      "actual grade:13 predicted grade:13\n",
      "actual grade:13 predicted grade:11\n",
      "actual grade:12 predicted grade:13\n",
      "actual grade:11 predicted grade:13\n",
      "actual grade:13 predicted grade:11\n",
      "actual grade:11 predicted grade:13\n",
      "actual grade:12 predicted grade:12\n",
      "actual grade:13 predicted grade:12\n",
      "actual grade:11 predicted grade:13\n",
      "actual grade:12 predicted grade:13\n",
      "actual grade:13 predicted grade:13\n",
      "actual grade:13 predicted grade:13\n",
      "actual grade:12 predicted grade:12\n",
      "actual grade:12 predicted grade:13\n",
      "actual grade:11 predicted grade:11\n",
      "actual grade:5 predicted grade:9\n",
      "actual grade:13 predicted grade:13\n",
      "actual grade:13 predicted grade:13\n",
      "actual grade:11 predicted grade:11\n",
      "actual grade:12 predicted grade:13\n",
      "actual grade:10 predicted grade:13\n",
      "actual grade:12 predicted grade:12\n",
      "actual grade:12 predicted grade:12\n",
      "actual grade:11 predicted grade:12\n",
      "actual grade:12 predicted grade:13\n",
      "actual grade:12 predicted grade:13\n",
      "actual grade:11 predicted grade:13\n",
      "actual grade:12 predicted grade:13\n",
      "actual grade:13 predicted grade:13\n",
      "actual grade:12 predicted grade:13\n",
      "actual grade:10 predicted grade:13\n",
      "actual grade:10 predicted grade:11\n",
      "actual grade:13 predicted grade:13\n",
      "actual grade:13 predicted grade:13\n",
      "actual grade:13 predicted grade:13\n",
      "actual grade:5 predicted grade:9\n",
      "actual grade:13 predicted grade:13\n",
      "actual grade:11 predicted grade:11\n",
      "actual grade:11 predicted grade:13\n",
      "actual grade:10 predicted grade:13\n",
      "actual grade:6 predicted grade:6\n",
      "actual grade:11 predicted grade:12\n",
      "actual grade:11 predicted grade:13\n",
      "actual grade:13 predicted grade:13\n",
      "actual grade:12 predicted grade:13\n",
      "actual grade:11 predicted grade:11\n",
      "actual grade:11 predicted grade:12\n",
      "actual grade:11 predicted grade:13\n",
      "actual grade:12 predicted grade:11\n",
      "actual grade:13 predicted grade:13\n",
      "actual grade:10 predicted grade:11\n",
      "actual grade:11 predicted grade:12\n",
      "actual grade:13 predicted grade:13\n",
      "actual grade:10 predicted grade:13\n",
      "actual grade:13 predicted grade:13\n",
      "actual grade:10 predicted grade:12\n",
      "actual grade:12 predicted grade:13\n",
      "actual grade:12 predicted grade:12\n",
      "actual grade:13 predicted grade:13\n",
      "actual grade:13 predicted grade:13\n",
      "actual grade:13 predicted grade:13\n",
      "actual grade:13 predicted grade:13\n",
      "actual grade:12 predicted grade:13\n",
      "actual grade:13 predicted grade:13\n",
      "actual grade:13 predicted grade:13\n",
      "actual grade:13 predicted grade:13\n",
      "actual grade:13 predicted grade:13\n",
      "actual grade:13 predicted grade:13\n",
      "actual grade:13 predicted grade:5\n",
      "actual grade:13 predicted grade:13\n",
      "actual grade:13 predicted grade:13\n",
      "actual grade:11 predicted grade:13\n",
      "actual grade:13 predicted grade:13\n",
      "actual grade:13 predicted grade:13\n",
      "actual grade:13 predicted grade:13\n",
      "actual grade:12 predicted grade:13\n",
      "actual grade:12 predicted grade:11\n",
      "actual grade:11 predicted grade:13\n",
      "actual grade:5 predicted grade:11\n",
      "actual grade:11 predicted grade:11\n",
      "actual grade:5 predicted grade:13\n",
      "actual grade:13 predicted grade:13\n",
      "actual grade:13 predicted grade:12\n",
      "actual grade:13 predicted grade:11\n",
      "actual grade:12 predicted grade:13\n",
      "actual grade:13 predicted grade:13\n",
      "actual grade:13 predicted grade:13\n",
      "actual grade:12 predicted grade:11\n"
     ]
    }
   ],
   "source": [
    "i=0\n",
    "actual3=np.array(L)\n",
    "predict3=np.zeros(len(L))\n",
    "for i in xrange(len(L)):\n",
    "    Prob=t.classify(I[i])\n",
    "    predict3[i]=np.argmax(Prob)\n",
    "   \n",
    "    print \"actual grade:%d predicted grade:%d\"%(actual3[i],predict3[i])"
   ]
  },
  {
   "cell_type": "code",
   "execution_count": 81,
   "metadata": {
    "collapsed": false
   },
   "outputs": [
    {
     "data": {
      "text/plain": [
       "1.8322507626258087"
      ]
     },
     "execution_count": 81,
     "metadata": {},
     "output_type": "execute_result"
    }
   ],
   "source": [
    "np.sqrt(np.sum((actual3-predict3)**2)/len(L))"
   ]
  },
  {
   "cell_type": "code",
   "execution_count": 82,
   "metadata": {
    "collapsed": false
   },
   "outputs": [
    {
     "name": "stdout",
     "output_type": "stream",
     "text": [
      "Populating the interactive namespace from numpy and matplotlib\n"
     ]
    },
    {
     "data": {
      "text/plain": [
       "(array([  1.,   0.,   0.,   1.,   0.,   0.,   0.,   2.,   0.,   4.,   0.,\n",
       "         14.,   0.,  19.,   0.,  46.,   6.,   0.,   4.,   0.,   0.,   0.,\n",
       "          0.,   0.,   0.,   0.,   0.,   0.,   0.,   1.]),\n",
       " array([-8.        , -7.46666667, -6.93333333, -6.4       , -5.86666667,\n",
       "        -5.33333333, -4.8       , -4.26666667, -3.73333333, -3.2       ,\n",
       "        -2.66666667, -2.13333333, -1.6       , -1.06666667, -0.53333333,\n",
       "         0.        ,  0.53333333,  1.06666667,  1.6       ,  2.13333333,\n",
       "         2.66666667,  3.2       ,  3.73333333,  4.26666667,  4.8       ,\n",
       "         5.33333333,  5.86666667,  6.4       ,  6.93333333,  7.46666667,  8.        ]),\n",
       " <a list of 30 Patch objects>)"
      ]
     },
     "execution_count": 82,
     "metadata": {},
     "output_type": "execute_result"
    },
    {
     "data": {
      "image/png": "[encoded data removed]",
      "text/plain": [
       "<matplotlib.figure.Figure at 0x47bb5c0>"
      ]
     },
     "metadata": {},
     "output_type": "display_data"
    }
   ],
   "source": [
    "from matplotlib import pyplot as plt\n",
    "%pylab inline\n",
    "plt.hist(actual3-predict3,30)"
   ]
  },
  {
   "cell_type": "code",
   "execution_count": 83,
   "metadata": {
    "collapsed": false
   },
   "outputs": [
    {
     "name": "stdout",
     "output_type": "stream",
     "text": [
      "[[  0.   0.   0.   0.   0.   0.   0.   0.   0.   0.   0.   0.   0.   0.]\n",
      " [  0.   0.   0.   0.   0.   0.   0.   0.   0.   0.   0.   0.   0.   0.]\n",
      " [  0.   0.   0.   0.   0.   0.   0.   0.   0.   0.   0.   0.   0.   0.]\n",
      " [  0.   0.   0.   0.   0.   0.   0.   0.   0.   0.   0.   0.   0.   0.]\n",
      " [  0.   0.   0.   0.   0.   0.   0.   0.   0.   0.   0.   0.   0.   0.]\n",
      " [  0.   0.   0.   0.   0.   0.   0.   0.   0.   0.   0.   0.   0.   1.]\n",
      " [  0.   0.   0.   0.   0.   0.   1.   0.   0.   0.   0.   0.   0.   0.]\n",
      " [  0.   0.   0.   0.   0.   0.   0.   0.   0.   0.   0.   0.   0.   0.]\n",
      " [  0.   0.   0.   0.   0.   0.   0.   0.   0.   0.   0.   0.   0.   0.]\n",
      " [  0.   0.   0.   0.   0.   2.   0.   0.   0.   0.   0.   0.   0.   0.]\n",
      " [  0.   0.   0.   0.   0.   0.   0.   0.   0.   0.   0.   0.   0.   0.]\n",
      " [  0.   0.   0.   0.   0.   1.   0.   0.   0.   0.   2.   6.   4.   4.]\n",
      " [  0.   0.   0.   0.   0.   0.   0.   0.   0.   0.   1.   4.   5.   2.]\n",
      " [  0.   0.   0.   0.   0.   1.   0.   0.   0.   0.   4.  13.  13.  34.]]\n"
     ]
    }
   ],
   "source": [
    "n = 14\n",
    "cm3 = np.zeros((n,n))\n",
    "for i in xrange(len(actual3)):\n",
    "    cm3[predict3[i],actual3[i]] +=1\n",
    "print cm3"
   ]
  },
  {
   "cell_type": "markdown",
   "metadata": {},
   "source": [
    "# Training(4)"
   ]
  },
  {
   "cell_type": "code",
   "execution_count": 85,
   "metadata": {
    "collapsed": false
   },
   "outputs": [
    {
     "name": "stdout",
     "output_type": "stream",
     "text": [
      "master>>init() dsetname: testCS213\n",
      "master>> create dview\n",
      "master>> init engine\n",
      "Found pforest\n",
      "debug:master:__init__: ['train/dataset00.pic', 'train/dataset01.pic', 'train/dataset02.pic', 'train/dataset03.pic']\n",
      "master>> init local variables\n",
      "master>>reset()\n",
      "master>>reset() H: 2.0869\n",
      "master>>reset() Q: 00392\n",
      "master::train() node20*-\n",
      "master::train() node19R-\n",
      "master::train() node18R-\n",
      "master::train() node17R-\n",
      "master::train() node16R-\n",
      "master::train() node15R-\n",
      "master::train() node14R-\n",
      "master::train() node13RG\n",
      "master::train() node13LG\n",
      "master::train() node14LG\n",
      "master::train() node15L-\n",
      "master::train() node14R-\n",
      "master::train() node13RG\n",
      "master::train() node13LG\n",
      "master::train() node14LG\n",
      "master::train() node16L-\n",
      "master::train() node15RG\n",
      "master::train() node15L-\n",
      "master::train() node14RG\n",
      "master::train() node14LQ\n",
      "master::train() node17L-\n",
      "master::train() node16RG\n",
      "master::train() node16L-\n",
      "master::train() node15RG\n",
      "master::train() node15L-\n",
      "master::train() node14R-\n",
      "master::train() node13RG\n",
      "master::train() node13LG\n",
      "master::train() node14L-\n",
      "master::train() node13RG\n",
      "master::train() node13LG\n",
      "master::train() node18L-\n",
      "master::train() node17R-\n",
      "master::train() node16R-\n",
      "master::train() node15R-\n",
      "master::train() node14RQ\n",
      "master::train() node14LG\n",
      "master::train() node15LG\n",
      "master::train() node16L-\n",
      "master::train() node15RG\n",
      "master::train() node15LG\n",
      "master::train() node17LG\n",
      "master::train() node19L-\n",
      "master::train() node18R-\n",
      "master::train() node17R-\n",
      "master::train() node16RG\n",
      "master::train() node16L-\n",
      "master::train() node15RQ\n",
      "master::train() node15L-\n",
      "master::train() node14RG\n",
      "master::train() node14LG\n",
      "master::train() node17L-\n",
      "master::train() node16R-\n",
      "master::train() node15R-\n",
      "master::train() node14RQ\n",
      "master::train() node14L-\n",
      "master::train() node13RQ\n",
      "master::train() node13L-\n",
      "master::train() node12RQ\n",
      "master::train() node12LG\n",
      "master::train() node15LG\n",
      "master::train() node16LG\n",
      "master::train() node18L-\n",
      "master::train() node17R-\n",
      "master::train() node16R-\n",
      "master::train() node15RG\n",
      "master::train() node15L-\n",
      "master::train() node14RG\n",
      "master::train() node14L-\n",
      "master::train() node13RQ\n",
      "master::train() node13L-\n",
      "master::train() node12RG\n",
      "master::train() node12L-\n",
      "master::train() node11RQ\n",
      "master::train() node11LG\n",
      "master::train() node16LG\n",
      "master::train() node17LG\n"
     ]
    }
   ],
   "source": [
    "import pickle\n",
    "from pforest.master import master\n",
    "m=master(dsetname='testCS213')\n",
    "m.reset()\n",
    "m.train()\n",
    "with open('train/out_tree4.pic', 'wb') as pickleFile:\n",
    "    pickle.dump(m.root, pickleFile, pickle.HIGHEST_PROTOCOL)"
   ]
  },
  {
   "cell_type": "code",
   "execution_count": 86,
   "metadata": {
    "collapsed": false
   },
   "outputs": [
    {
     "name": "stdout",
     "output_type": "stream",
     "text": [
      "*- 20 H:2.087e+00,Q:000392 tau:10.0 theta:[ 162.]\n",
      "L- 19 H:2.292e+00,Q:000156 tau:10.0 theta:[ 189.]\n",
      "L- 18 H:2.242e+00,Q:000049 tau:7.0 theta:[ 160.]\n",
      "LG 17 H:1.443e+00,Q:000013 (cl,P):(013,0.31) (011,0.31) (012,0.15)\n",
      "R- 17 H:2.141e+00,Q:000036 tau:9.0 theta:[ 189.]\n",
      "LG 16 H:1.075e+00,Q:000010 (cl,P):(012,0.40) (013,0.30) (009,0.30)\n",
      "R- 16 H:2.185e+00,Q:000026 tau:9.0 theta:[ 99.]\n",
      "L- 15 H:1.697e+00,Q:000012 tau:10.0 theta:[ 126.]\n",
      "L- 14 H:1.351e+00,Q:000010 tau:12.0 theta:[ 171.]\n",
      "L- 13 H:9.387e-01,Q:000008 tau:10.0 theta:[ 160.]\n",
      "L- 12 H:1.000e+00,Q:000004 tau:12.0 theta:[ 196.]\n",
      "LG 11 H:6.667e-01,Q:000003 (cl,P):(013,0.67) (005,0.33) (012,0.00)\n",
      "RQ 11 H:1.925e-35,Q:000001 (cl,P):(011,1.00) (013,0.00) (012,0.00)\n",
      "RG 12 H:6.887e-01,Q:000004 (cl,P):(012,0.50) (013,0.25) (006,0.25)\n",
      "RQ 13 H:1.925e-35,Q:000002 (cl,P):(012,0.50) (011,0.50) (013,0.00)\n",
      "RG 14 H:1.000e+00,Q:000002 (cl,P):(010,0.50) (006,0.50) (013,0.00)\n",
      "RG 15 H:1.944e+00,Q:000014 (cl,P):(013,0.21) (012,0.21) (009,0.21)\n",
      "R- 18 H:2.081e+00,Q:000107 tau:10.0 theta:[ 154.]\n",
      "L- 17 H:2.043e+00,Q:000064 tau:8.0 theta:[ 196.]\n",
      "LG 16 H:1.431e+00,Q:000018 (cl,P):(011,0.28) (013,0.22) (012,0.22)\n",
      "R- 16 H:1.986e+00,Q:000046 tau:11.0 theta:[ 189.]\n",
      "LG 15 H:1.829e+00,Q:000021 (cl,P):(011,0.43) (012,0.24) (013,0.19)\n",
      "R- 15 H:1.684e+00,Q:000025 tau:11.0 theta:[ 201.]\n",
      "L- 14 H:1.674e+00,Q:000022 tau:9.0 theta:[ 169.]\n",
      "L- 13 H:1.550e+00,Q:000020 tau:11.0 theta:[ 95.]\n",
      "LG 12 H:1.547e+00,Q:000019 (cl,P):(013,0.26) (011,0.26) (010,0.26)\n",
      "RQ 12 H:1.925e-35,Q:000001 (cl,P):(010,1.00) (013,0.00) (012,0.00)\n",
      "RQ 13 H:1.925e-35,Q:000002 (cl,P):(013,0.50) (012,0.50) (011,0.00)\n",
      "RQ 14 H:1.925e-35,Q:000003 (cl,P):(013,0.33) (011,0.33) (010,0.33)\n",
      "R- 17 H:1.669e+00,Q:000043 tau:8.0 theta:[ 191.]\n",
      "L- 16 H:1.464e+00,Q:000023 tau:12.0 theta:[ 135.]\n",
      "L- 15 H:1.450e+00,Q:000022 tau:3.0 theta:[ 97.]\n",
      "LG 14 H:1.115e+00,Q:000014 (cl,P):(013,0.57) (011,0.14) (005,0.14)\n",
      "RG 14 H:1.094e+00,Q:000008 (cl,P):(013,0.38) (012,0.25) (011,0.25)\n",
      "RQ 15 H:1.925e-35,Q:000001 (cl,P):(011,1.00) (013,0.00) (012,0.00)\n",
      "RG 16 H:1.501e+00,Q:000020 (cl,P):(013,0.45) (011,0.25) (010,0.15)\n",
      "R- 19 H:1.828e+00,Q:000236 tau:9.0 theta:[ 20.]\n",
      "L- 18 H:1.484e+00,Q:000042 tau:9.0 theta:[ 19.]\n",
      "LG 17 H:9.610e-01,Q:000010 (cl,P):(013,0.30) (012,0.30) (011,0.20)\n",
      "R- 17 H:1.390e+00,Q:000032 tau:8.0 theta:[ 201.]\n",
      "L- 16 H:5.714e-01,Q:000014 tau:7.0 theta:[ 201.]\n",
      "LG 15 H:9.693e-36,Q:000006 (cl,P):(013,0.50) (011,0.50) (012,0.00)\n",
      "RG 15 H:5.000e-01,Q:000008 (cl,P):(013,0.62) (012,0.12) (011,0.12)\n",
      "R- 16 H:1.425e+00,Q:000018 tau:9.0 theta:[ 99.]\n",
      "LG 15 H:1.000e+00,Q:000002 (cl,P):(013,0.50) (011,0.50) (012,0.00)\n",
      "R- 15 H:1.306e+00,Q:000016 tau:9.0 theta:[ 191.]\n",
      "LG 14 H:1.197e+00,Q:000014 (cl,P):(013,0.43) (012,0.29) (010,0.14)\n",
      "RQ 14 H:1.925e-35,Q:000002 (cl,P):(013,0.50) (009,0.50) (012,0.00)\n",
      "R- 18 H:1.806e+00,Q:000194 tau:10.0 theta:[ 99.]\n",
      "L- 17 H:1.841e+00,Q:000094 tau:11.0 theta:[ 154.]\n",
      "L- 16 H:1.774e+00,Q:000083 tau:9.0 theta:[ 99.]\n",
      "L- 15 H:1.822e+00,Q:000041 tau:12.0 theta:[ 196.]\n",
      "L- 14 H:1.537e+00,Q:000029 tau:10.0 theta:[ 98.]\n",
      "LG 13 H:1.357e+00,Q:000021 (cl,P):(013,0.38) (011,0.33) (012,0.19)\n",
      "RG 13 H:1.000e+00,Q:000008 (cl,P):(013,0.50) (012,0.25) (010,0.25)\n",
      "R- 14 H:1.134e+00,Q:000012 tau:10.0 theta:[ 154.]\n",
      "LG 13 H:9.728e-01,Q:000009 (cl,P):(012,0.44) (013,0.33) (011,0.22)\n",
      "RG 13 H:1.289e-35,Q:000003 (cl,P):(010,0.67) (012,0.33) (013,0.00)\n",
      "RG 15 H:1.470e+00,Q:000042 (cl,P):(013,0.52) (012,0.26) (011,0.14)\n",
      "RG 16 H:8.050e-01,Q:000011 (cl,P):(013,0.45) (011,0.36) (012,0.09)\n",
      "R- 17 H:1.606e+00,Q:000100 tau:10.0 theta:[ 98.]\n",
      "L- 16 H:1.357e+00,Q:000033 tau:10.0 theta:[ 154.]\n",
      "L- 15 H:7.072e-01,Q:000009 tau:9.0 theta:[ 154.]\n",
      "LQ 14 H:1.925e-35,Q:000001 (cl,P):(013,1.00) (012,0.00) (011,0.00)\n",
      "RG 14 H:3.444e-01,Q:000008 (cl,P):(011,0.62) (012,0.25) (013,0.12)\n",
      "RG 15 H:1.191e+00,Q:000024 (cl,P):(012,0.42) (013,0.33) (011,0.12)\n",
      "R- 16 H:1.442e+00,Q:000067 tau:11.0 theta:[ 189.]\n",
      "L- 15 H:1.730e+00,Q:000019 tau:10.0 theta:[ 189.]\n",
      "LG 14 H:9.510e-01,Q:000005 (cl,P):(013,0.60) (012,0.20) (009,0.20)\n",
      "R- 14 H:1.401e+00,Q:000014 tau:9.0 theta:[ 191.]\n",
      "LG 13 H:1.161e+00,Q:000010 (cl,P):(012,0.50) (013,0.20) (011,0.10)\n",
      "RG 13 H:1.000e+00,Q:000004 (cl,P):(012,0.50) (011,0.50) (013,0.00)\n",
      "R- 15 H:1.050e+00,Q:000048 tau:11.0 theta:[ 162.]\n",
      "LG 14 H:1.160e+00,Q:000021 (cl,P):(013,0.62) (012,0.14) (010,0.14)\n",
      "R- 14 H:7.197e-01,Q:000027 tau:13.0 theta:[ 189.]\n",
      "LG 13 H:8.365e-01,Q:000020 (cl,P):(013,0.70) (012,0.20) (011,0.05)\n",
      "RG 13 H:1.106e-35,Q:000007 (cl,P):(013,0.86) (012,0.14) (011,0.00)\n",
      "\n"
     ]
    }
   ],
   "source": [
    "from pforest.dataset import dataset\n",
    "from pforest.tree import tree\n",
    "with open('train/out_tree4.pic', 'rb') as pickleFile:\n",
    "    root = pickle.load(pickleFile)\n",
    "#init the test tree\n",
    "t=tree()\n",
    "t.settree(root)\n",
    "t.show()"
   ]
  },
  {
   "cell_type": "code",
   "execution_count": 87,
   "metadata": {
    "collapsed": true
   },
   "outputs": [],
   "source": [
    "with open('train/dataset04.pic', 'rb') as pickleFile:\n",
    "     data = pickle.load(pickleFile)\n",
    "I=data[-2];L=data[-3]"
   ]
  },
  {
   "cell_type": "code",
   "execution_count": 88,
   "metadata": {
    "collapsed": false
   },
   "outputs": [
    {
     "data": {
      "text/plain": [
       "array([[ 0,  0,  0, ...,  0,  9,  0],\n",
       "       [ 0,  0,  0, ...,  0, 11,  0],\n",
       "       [ 0,  0,  0, ...,  0,  8,  0],\n",
       "       ..., \n",
       "       [ 0,  0,  0, ...,  0, 10,  0],\n",
       "       [ 0,  0,  0, ...,  0,  9,  0],\n",
       "       [ 0,  0,  0, ...,  0,  8,  0]], dtype=int64)"
      ]
     },
     "execution_count": 88,
     "metadata": {},
     "output_type": "execute_result"
    }
   ],
   "source": [
    "I"
   ]
  },
  {
   "cell_type": "code",
   "execution_count": 89,
   "metadata": {
    "collapsed": false
   },
   "outputs": [
    {
     "data": {
      "text/plain": [
       "array([12, 10, 10, 11, 12,  9, 10, 11, 12,  9, 13, 11, 13, 13, 10, 13, 10,\n",
       "        9, 12, 11, 10,  9,  6, 10, 10, 10, 12, 12,  9, 11, 11, 13, 12, 10,\n",
       "       13, 13, 11, 13, 13, 13, 10, 13, 13, 12, 13, 11, 12, 13, 11, 12, 13,\n",
       "       10, 12, 13, 13, 10, 13, 13, 11, 13, 10, 12, 11, 13, 13, 11, 13, 13,\n",
       "        5, 13, 11, 13, 11, 12, 12, 12, 13, 11, 11, 12, 11, 13, 11, 12, 12,\n",
       "       12, 11, 13, 11, 11, 11, 12, 13, 13, 13, 13, 13, 11], dtype=int64)"
      ]
     },
     "execution_count": 89,
     "metadata": {},
     "output_type": "execute_result"
    }
   ],
   "source": [
    "L"
   ]
  },
  {
   "cell_type": "code",
   "execution_count": 90,
   "metadata": {
    "collapsed": false
   },
   "outputs": [
    {
     "name": "stdout",
     "output_type": "stream",
     "text": [
      "actual grade:12 predicted grade:13\n",
      "actual grade:10 predicted grade:11\n",
      "actual grade:10 predicted grade:10\n",
      "actual grade:11 predicted grade:13\n",
      "actual grade:12 predicted grade:11\n",
      "actual grade:9 predicted grade:11\n",
      "actual grade:10 predicted grade:10\n",
      "actual grade:11 predicted grade:11\n",
      "actual grade:12 predicted grade:12\n",
      "actual grade:9 predicted grade:11\n",
      "actual grade:13 predicted grade:13\n",
      "actual grade:11 predicted grade:10\n",
      "actual grade:13 predicted grade:12\n",
      "actual grade:13 predicted grade:12\n",
      "actual grade:10 predicted grade:10\n",
      "actual grade:13 predicted grade:13\n",
      "actual grade:10 predicted grade:10\n",
      "actual grade:9 predicted grade:11\n",
      "actual grade:12 predicted grade:13\n",
      "actual grade:11 predicted grade:11\n",
      "actual grade:10 predicted grade:12\n",
      "actual grade:9 predicted grade:9\n",
      "actual grade:6 predicted grade:6\n",
      "actual grade:10 predicted grade:6\n",
      "actual grade:10 predicted grade:13\n",
      "actual grade:10 predicted grade:13\n",
      "actual grade:12 predicted grade:12\n",
      "actual grade:12 predicted grade:13\n",
      "actual grade:9 predicted grade:11\n",
      "actual grade:11 predicted grade:11\n",
      "actual grade:11 predicted grade:11\n",
      "actual grade:13 predicted grade:13\n",
      "actual grade:12 predicted grade:11\n",
      "actual grade:10 predicted grade:12\n",
      "actual grade:13 predicted grade:13\n",
      "actual grade:13 predicted grade:10\n",
      "actual grade:11 predicted grade:13\n",
      "actual grade:13 predicted grade:11\n",
      "actual grade:13 predicted grade:13\n",
      "actual grade:13 predicted grade:13\n",
      "actual grade:10 predicted grade:10\n",
      "actual grade:13 predicted grade:11\n",
      "actual grade:13 predicted grade:13\n",
      "actual grade:12 predicted grade:13\n",
      "actual grade:13 predicted grade:13\n",
      "actual grade:11 predicted grade:13\n",
      "actual grade:12 predicted grade:13\n",
      "actual grade:13 predicted grade:13\n",
      "actual grade:11 predicted grade:12\n",
      "actual grade:12 predicted grade:11\n",
      "actual grade:13 predicted grade:12\n",
      "actual grade:10 predicted grade:13\n",
      "actual grade:12 predicted grade:11\n",
      "actual grade:13 predicted grade:13\n",
      "actual grade:13 predicted grade:13\n",
      "actual grade:10 predicted grade:13\n",
      "actual grade:13 predicted grade:13\n",
      "actual grade:13 predicted grade:13\n",
      "actual grade:11 predicted grade:13\n",
      "actual grade:13 predicted grade:13\n",
      "actual grade:10 predicted grade:13\n",
      "actual grade:12 predicted grade:13\n",
      "actual grade:11 predicted grade:13\n",
      "actual grade:13 predicted grade:13\n",
      "actual grade:13 predicted grade:13\n",
      "actual grade:11 predicted grade:10\n",
      "actual grade:13 predicted grade:13\n",
      "actual grade:13 predicted grade:13\n",
      "actual grade:5 predicted grade:13\n",
      "actual grade:13 predicted grade:13\n",
      "actual grade:11 predicted grade:11\n",
      "actual grade:13 predicted grade:13\n",
      "actual grade:11 predicted grade:13\n",
      "actual grade:12 predicted grade:13\n",
      "actual grade:12 predicted grade:13\n",
      "actual grade:12 predicted grade:13\n",
      "actual grade:13 predicted grade:13\n",
      "actual grade:11 predicted grade:11\n",
      "actual grade:11 predicted grade:11\n",
      "actual grade:12 predicted grade:13\n",
      "actual grade:11 predicted grade:13\n",
      "actual grade:13 predicted grade:13\n",
      "actual grade:11 predicted grade:10\n",
      "actual grade:12 predicted grade:12\n",
      "actual grade:12 predicted grade:11\n",
      "actual grade:12 predicted grade:12\n",
      "actual grade:11 predicted grade:13\n",
      "actual grade:13 predicted grade:10\n",
      "actual grade:11 predicted grade:13\n",
      "actual grade:11 predicted grade:12\n",
      "actual grade:11 predicted grade:13\n",
      "actual grade:12 predicted grade:12\n",
      "actual grade:13 predicted grade:13\n",
      "actual grade:13 predicted grade:11\n",
      "actual grade:13 predicted grade:13\n",
      "actual grade:13 predicted grade:13\n",
      "actual grade:13 predicted grade:11\n",
      "actual grade:11 predicted grade:11\n"
     ]
    }
   ],
   "source": [
    "i=0\n",
    "actual4=np.array(L)\n",
    "predict4=np.zeros(len(L))\n",
    "for i in xrange(len(L)):\n",
    "    Prob=t.classify(I[i])\n",
    "    predict4[i]=np.argmax(Prob)\n",
    "   \n",
    "    print \"actual grade:%d predicted grade:%d\"%(actual4[i],predict4[i])"
   ]
  },
  {
   "cell_type": "code",
   "execution_count": 91,
   "metadata": {
    "collapsed": false
   },
   "outputs": [
    {
     "data": {
      "text/plain": [
       "1.5875793407780621"
      ]
     },
     "execution_count": 91,
     "metadata": {},
     "output_type": "execute_result"
    }
   ],
   "source": [
    "np.sqrt(np.sum((actual4-predict4)**2)/len(L))"
   ]
  },
  {
   "cell_type": "code",
   "execution_count": 92,
   "metadata": {
    "collapsed": false
   },
   "outputs": [
    {
     "name": "stdout",
     "output_type": "stream",
     "text": [
      "Populating the interactive namespace from numpy and matplotlib\n"
     ]
    },
    {
     "data": {
      "text/plain": [
       "(array([  1.,   0.,   0.,   0.,   0.,   0.,   0.,   0.,   0.,   0.,   0.,\n",
       "          0.,   0.,   0.,   0.,   0.,   0.,   0.,   0.,   0.,   5.,   0.,\n",
       "          0.,   0.,   0.,  16.,   0.,   0.,   0.,  13.,   0.,   0.,   0.,\n",
       "         45.,   0.,   0.,   0.,  11.,   0.,   0.,   0.,   4.,   0.,   0.,\n",
       "          0.,   2.,   0.,   0.,   0.,   1.]),\n",
       " array([-8.  , -7.76, -7.52, -7.28, -7.04, -6.8 , -6.56, -6.32, -6.08,\n",
       "        -5.84, -5.6 , -5.36, -5.12, -4.88, -4.64, -4.4 , -4.16, -3.92,\n",
       "        -3.68, -3.44, -3.2 , -2.96, -2.72, -2.48, -2.24, -2.  , -1.76,\n",
       "        -1.52, -1.28, -1.04, -0.8 , -0.56, -0.32, -0.08,  0.16,  0.4 ,\n",
       "         0.64,  0.88,  1.12,  1.36,  1.6 ,  1.84,  2.08,  2.32,  2.56,\n",
       "         2.8 ,  3.04,  3.28,  3.52,  3.76,  4.  ]),\n",
       " <a list of 50 Patch objects>)"
      ]
     },
     "execution_count": 92,
     "metadata": {},
     "output_type": "execute_result"
    },
    {
     "data": {
      "image/png": "[encoded data removed]",
      "text/plain": [
       "<matplotlib.figure.Figure at 0xa4c2860>"
      ]
     },
     "metadata": {},
     "output_type": "display_data"
    }
   ],
   "source": [
    "from matplotlib import pyplot as plt\n",
    "%pylab inline\n",
    "plt.hist(actual4-predict4,50)"
   ]
  },
  {
   "cell_type": "code",
   "execution_count": 93,
   "metadata": {
    "collapsed": false
   },
   "outputs": [
    {
     "name": "stdout",
     "output_type": "stream",
     "text": [
      "[[  0.   0.   0.   0.   0.   0.   0.   0.   0.   0.   0.   0.   0.   0.]\n",
      " [  0.   0.   0.   0.   0.   0.   0.   0.   0.   0.   0.   0.   0.   0.]\n",
      " [  0.   0.   0.   0.   0.   0.   0.   0.   0.   0.   0.   0.   0.   0.]\n",
      " [  0.   0.   0.   0.   0.   0.   0.   0.   0.   0.   0.   0.   0.   0.]\n",
      " [  0.   0.   0.   0.   0.   0.   0.   0.   0.   0.   0.   0.   0.   0.]\n",
      " [  0.   0.   0.   0.   0.   0.   0.   0.   0.   0.   0.   0.   0.   0.]\n",
      " [  0.   0.   0.   0.   0.   0.   1.   0.   0.   0.   1.   0.   0.   0.]\n",
      " [  0.   0.   0.   0.   0.   0.   0.   0.   0.   0.   0.   0.   0.   0.]\n",
      " [  0.   0.   0.   0.   0.   0.   0.   0.   0.   0.   0.   0.   0.   0.]\n",
      " [  0.   0.   0.   0.   0.   0.   0.   0.   0.   1.   0.   0.   0.   0.]\n",
      " [  0.   0.   0.   0.   0.   0.   0.   0.   0.   0.   5.   3.   0.   2.]\n",
      " [  0.   0.   0.   0.   0.   0.   0.   0.   0.   4.   1.   8.   5.   4.]\n",
      " [  0.   0.   0.   0.   0.   0.   0.   0.   0.   0.   2.   2.   5.   3.]\n",
      " [  0.   0.   0.   0.   0.   1.   0.   0.   0.   0.   5.  10.  10.  25.]]\n"
     ]
    }
   ],
   "source": [
    "n = 14\n",
    "cm4 = np.zeros((n,n))\n",
    "for i in xrange(len(actual4)):\n",
    "    cm4[predict4[i],actual4[i]] +=1\n",
    "print cm4"
   ]
  },
  {
   "cell_type": "markdown",
   "metadata": {},
   "source": [
    "# Traing(5)"
   ]
  },
  {
   "cell_type": "code",
   "execution_count": 94,
   "metadata": {
    "collapsed": false
   },
   "outputs": [
    {
     "name": "stdout",
     "output_type": "stream",
     "text": [
      "master>>init() dsetname: testCS213\n",
      "master>> create dview\n",
      "master>> init engine\n",
      "Found pforest\n",
      "debug:master:__init__: ['train/dataset00.pic', 'train/dataset01.pic', 'train/dataset02.pic', 'train/dataset03.pic']\n",
      "master>> init local variables\n",
      "master>>reset()\n",
      "master>>reset() H: 2.0869\n",
      "master>>reset() Q: 00392\n",
      "master::train() node20*-\n",
      "master::train() node19R-\n",
      "master::train() node18R-\n",
      "master::train() node17RG\n",
      "master::train() node17L-\n",
      "master::train() node16R-\n",
      "master::train() node15RG\n",
      "master::train() node15LQ\n",
      "master::train() node16L-\n",
      "master::train() node15RG\n",
      "master::train() node15L-\n",
      "master::train() node14R-\n",
      "master::train() node13RG\n",
      "master::train() node13L-\n",
      "master::train() node12R-\n",
      "master::train() node11RG\n",
      "master::train() node11LG\n",
      "master::train() node12LQ\n",
      "master::train() node14LG\n",
      "master::train() node18L-\n",
      "master::train() node17R-\n",
      "master::train() node16RG\n",
      "master::train() node16L-\n",
      "master::train() node15RQ\n",
      "master::train() node15LG\n",
      "master::train() node17L-\n",
      "master::train() node16R-\n",
      "master::train() node15R-\n",
      "master::train() node14RQ\n",
      "master::train() node14LG\n",
      "master::train() node15LG\n",
      "master::train() node16LG\n",
      "master::train() node19L-\n",
      "master::train() node18R-\n",
      "master::train() node17R-\n",
      "master::train() node16R-\n",
      "master::train() node15R-\n",
      "master::train() node14RG\n",
      "master::train() node14L-\n",
      "master::train() node13RG\n",
      "master::train() node13L-\n",
      "master::train() node12RG\n",
      "master::train() node12L-\n",
      "master::train() node11RG\n",
      "master::train() node11LG\n",
      "master::train() node15L-\n",
      "master::train() node14R-\n",
      "master::train() node13RG\n",
      "master::train() node13LG\n",
      "master::train() node14L-\n",
      "master::train() node13RG\n",
      "master::train() node13LG\n",
      "master::train() node16L-\n",
      "master::train() node15RG\n",
      "master::train() node15L-\n",
      "master::train() node14RQ\n",
      "master::train() node14L-\n",
      "master::train() node13RG\n",
      "master::train() node13LG\n",
      "master::train() node17L-\n",
      "master::train() node16RG\n",
      "master::train() node16L-\n",
      "master::train() node15RG\n",
      "master::train() node15LQ\n",
      "master::train() node18L-\n",
      "master::train() node17R-\n",
      "master::train() node16R-\n",
      "master::train() node15RG\n",
      "master::train() node15LG\n",
      "master::train() node16L-\n",
      "master::train() node15R-\n",
      "master::train() node14R-\n",
      "master::train() node13R-\n",
      "master::train() node12R-\n",
      "master::train() node11RG\n",
      "master::train() node11LG\n",
      "master::train() node12LG\n",
      "master::train() node13LG\n",
      "master::train() node14L-\n",
      "master::train() node13RG\n",
      "master::train() node13LG\n",
      "master::train() node15LG\n",
      "master::train() node17L-\n",
      "master::train() node16R-\n",
      "master::train() node15R-\n",
      "master::train() node14R-\n",
      "master::train() node13RG\n",
      "master::train() node13LG\n",
      "master::train() node14LQ\n",
      "master::train() node15LG\n",
      "master::train() node16LG\n"
     ]
    }
   ],
   "source": [
    "import pickle\n",
    "from pforest.master import master\n",
    "m=master(dsetname='testCS213')\n",
    "m.reset()\n",
    "m.train()\n",
    "with open('train/out_tree5.pic', 'wb') as pickleFile:\n",
    "    pickle.dump(m.root, pickleFile, pickle.HIGHEST_PROTOCOL)"
   ]
  },
  {
   "cell_type": "code",
   "execution_count": 95,
   "metadata": {
    "collapsed": false
   },
   "outputs": [
    {
     "name": "stdout",
     "output_type": "stream",
     "text": [
      "*- 20 H:2.087e+00,Q:000392 tau:12.0 theta:[ 196.]\n",
      "L- 19 H:2.171e+00,Q:000266 tau:10.0 theta:[ 196.]\n",
      "L- 18 H:2.098e+00,Q:000119 tau:9.0 theta:[ 201.]\n",
      "L- 17 H:1.630e+00,Q:000038 tau:8.0 theta:[ 22.]\n",
      "LG 16 H:1.493e+00,Q:000014 (cl,P):(009,0.36) (013,0.14) (012,0.14)\n",
      "R- 16 H:1.307e+00,Q:000024 tau:10.0 theta:[ 189.]\n",
      "LG 15 H:4.000e-01,Q:000005 (cl,P):(013,0.40) (009,0.40) (011,0.20)\n",
      "R- 15 H:1.351e+00,Q:000019 tau:9.0 theta:[ 162.]\n",
      "LQ 14 H:1.925e-35,Q:000003 (cl,P):(013,0.33) (011,0.33) (009,0.33)\n",
      "R- 14 H:1.408e+00,Q:000016 tau:7.0 theta:[ 125.]\n",
      "LG 13 H:9.510e-01,Q:000005 (cl,P):(013,0.40) (011,0.40) (012,0.20)\n",
      "RG 13 H:1.455e+00,Q:000011 (cl,P):(013,0.45) (011,0.27) (012,0.18)\n",
      "R- 17 H:2.041e+00,Q:000081 tau:9.0 theta:[ 125.]\n",
      "L- 16 H:2.043e+00,Q:000051 tau:7.0 theta:[ 22.]\n",
      "LG 15 H:4.000e-01,Q:000005 (cl,P):(012,0.40) (005,0.40) (011,0.20)\n",
      "R- 15 H:2.003e+00,Q:000046 tau:10.0 theta:[ 19.]\n",
      "L- 14 H:1.393e+00,Q:000017 tau:10.0 theta:[ 160.]\n",
      "LG 13 H:1.160e+00,Q:000011 (cl,P):(013,0.45) (012,0.18) (011,0.18)\n",
      "RG 13 H:1.142e+00,Q:000006 (cl,P):(011,0.50) (010,0.17) (009,0.17)\n",
      "R- 14 H:2.072e+00,Q:000029 tau:7.0 theta:[ 125.]\n",
      "LG 13 H:1.600e+00,Q:000010 (cl,P):(011,0.40) (012,0.20) (009,0.20)\n",
      "R- 13 H:1.904e+00,Q:000019 tau:8.0 theta:[ 191.]\n",
      "LG 12 H:1.252e+00,Q:000006 (cl,P):(012,0.33) (010,0.33) (011,0.17)\n",
      "R- 12 H:1.668e+00,Q:000013 tau:5.0 theta:[ 126.]\n",
      "LG 11 H:1.434e+00,Q:000011 (cl,P):(013,0.36) (011,0.27) (012,0.18)\n",
      "RG 11 H:1.000e+00,Q:000002 (cl,P):(013,0.50) (010,0.50) (012,0.00)\n",
      "R- 16 H:1.512e+00,Q:000030 tau:9.0 theta:[ 191.]\n",
      "LG 15 H:1.443e+00,Q:000017 (cl,P):(013,0.53) (012,0.24) (009,0.12)\n",
      "RG 15 H:9.511e-01,Q:000013 (cl,P):(013,0.54) (012,0.38) (011,0.08)\n",
      "R- 18 H:2.007e+00,Q:000147 tau:9.0 theta:[ 20.]\n",
      "L- 17 H:1.718e+00,Q:000030 tau:11.0 theta:[ 182.]\n",
      "L- 16 H:1.671e+00,Q:000027 tau:7.0 theta:[ 20.]\n",
      "LQ 15 H:1.925e-35,Q:000001 (cl,P):(013,1.00) (012,0.00) (011,0.00)\n",
      "RG 15 H:1.707e+00,Q:000026 (cl,P):(012,0.27) (013,0.23) (011,0.23)\n",
      "RG 16 H:6.667e-01,Q:000003 (cl,P):(013,0.33) (012,0.33) (011,0.33)\n",
      "R- 17 H:1.887e+00,Q:000117 tau:9.0 theta:[ 98.]\n",
      "L- 16 H:2.009e+00,Q:000042 tau:11.0 theta:[ 196.]\n",
      "L- 15 H:1.841e+00,Q:000017 tau:12.0 theta:[ 169.]\n",
      "L- 14 H:1.870e+00,Q:000016 tau:7.0 theta:[ 98.]\n",
      "LG 13 H:8.000e-01,Q:000005 (cl,P):(013,0.40) (012,0.20) (010,0.20)\n",
      "RG 13 H:1.747e+00,Q:000011 (cl,P):(013,0.27) (012,0.18) (011,0.18)\n",
      "RQ 14 H:1.925e-35,Q:000001 (cl,P):(013,1.00) (012,0.00) (011,0.00)\n",
      "RG 15 H:1.769e+00,Q:000025 (cl,P):(012,0.32) (011,0.24) (013,0.20)\n",
      "R- 16 H:1.564e+00,Q:000075 tau:10.0 theta:[ 154.]\n",
      "L- 15 H:1.434e+00,Q:000035 tau:11.0 theta:[ 196.]\n",
      "L- 14 H:1.250e+00,Q:000016 tau:9.0 theta:[ 191.]\n",
      "LG 13 H:8.889e-01,Q:000009 (cl,P):(013,0.44) (012,0.22) (011,0.22)\n",
      "RG 13 H:8.571e-01,Q:000007 (cl,P):(013,0.43) (012,0.29) (011,0.29)\n",
      "R- 14 H:1.381e+00,Q:000019 tau:10.0 theta:[ 20.]\n",
      "LG 13 H:1.072e+00,Q:000009 (cl,P):(013,0.44) (011,0.44) (012,0.11)\n",
      "RG 13 H:1.249e+00,Q:000010 (cl,P):(013,0.40) (012,0.30) (011,0.30)\n",
      "R- 15 H:1.228e+00,Q:000040 tau:13.0 theta:[ 22.]\n",
      "L- 14 H:1.251e+00,Q:000033 tau:11.0 theta:[ 22.]\n",
      "L- 13 H:1.174e+00,Q:000023 tau:11.0 theta:[ 20.]\n",
      "L- 12 H:1.003e+00,Q:000016 tau:9.0 theta:[ 191.]\n",
      "LG 11 H:8.571e-01,Q:000007 (cl,P):(013,0.57) (012,0.14) (011,0.14)\n",
      "RG 11 H:2.222e-01,Q:000009 (cl,P):(013,0.44) (011,0.33) (012,0.11)\n",
      "RG 12 H:6.793e-01,Q:000007 (cl,P):(011,0.43) (013,0.29) (012,0.29)\n",
      "RG 13 H:6.000e-01,Q:000010 (cl,P):(013,0.70) (012,0.20) (005,0.10)\n",
      "RG 14 H:2.857e-01,Q:000007 (cl,P):(013,0.57) (012,0.43) (011,0.00)\n",
      "R- 19 H:1.681e+00,Q:000126 tau:10.0 theta:[ 154.]\n",
      "L- 18 H:1.730e+00,Q:000054 tau:12.0 theta:[ 178.]\n",
      "L- 17 H:1.675e+00,Q:000044 tau:7.0 theta:[ 98.]\n",
      "LG 16 H:6.887e-01,Q:000004 (cl,P):(011,0.75) (010,0.25) (013,0.00)\n",
      "R- 16 H:1.615e+00,Q:000040 tau:10.0 theta:[ 162.]\n",
      "LG 15 H:1.252e+00,Q:000019 (cl,P):(013,0.42) (012,0.32) (011,0.26)\n",
      "R- 15 H:1.618e+00,Q:000021 tau:13.0 theta:[ 126.]\n",
      "LG 14 H:1.593e+00,Q:000019 (cl,P):(011,0.42) (013,0.26) (012,0.26)\n",
      "RQ 14 H:1.925e-35,Q:000002 (cl,P):(013,0.50) (012,0.50) (011,0.00)\n",
      "R- 17 H:1.039e+00,Q:000010 tau:13.0 theta:[ 178.]\n",
      "L- 16 H:1.500e+00,Q:000004 tau:10.0 theta:[ 201.]\n",
      "LG 15 H:9.183e-01,Q:000003 (cl,P):(012,0.67) (011,0.33) (013,0.00)\n",
      "RQ 15 H:1.925e-35,Q:000001 (cl,P):(013,1.00) (012,0.00) (011,0.00)\n",
      "RG 16 H:6.495e-36,Q:000006 (cl,P):(013,0.67) (010,0.33) (012,0.00)\n",
      "R- 18 H:1.458e+00,Q:000072 tau:11.0 theta:[ 98.]\n",
      "L- 17 H:1.492e+00,Q:000054 tau:11.0 theta:[ 126.]\n",
      "L- 16 H:1.443e+00,Q:000048 tau:11.0 theta:[ 162.]\n",
      "L- 15 H:1.656e+00,Q:000029 tau:7.0 theta:[ 22.]\n",
      "LG 14 H:9.510e-01,Q:000005 (cl,P):(013,0.40) (012,0.20) (011,0.20)\n",
      "R- 14 H:1.592e+00,Q:000024 tau:10.0 theta:[ 161.]\n",
      "L- 13 H:1.446e+00,Q:000020 tau:7.0 theta:[ 98.]\n",
      "LQ 12 H:1.925e-35,Q:000004 (cl,P):(010,0.50) (013,0.25) (012,0.25)\n",
      "R- 12 H:1.455e+00,Q:000016 tau:7.0 theta:[ 20.]\n",
      "LG 11 H:9.704e-36,Q:000002 (cl,P):(013,1.00) (012,0.00) (011,0.00)\n",
      "RG 11 H:1.397e+00,Q:000014 (cl,P):(013,0.50) (012,0.21) (010,0.21)\n",
      "RG 13 H:1.448e-35,Q:000004 (cl,P):(013,0.50) (011,0.50) (012,0.00)\n",
      "RG 15 H:7.183e-01,Q:000019 (cl,P):(013,0.79) (012,0.16) (010,0.05)\n",
      "R- 16 H:6.667e-01,Q:000006 tau:11.0 theta:[ 201.]\n",
      "LQ 15 H:1.925e-35,Q:000001 (cl,P):(013,1.00) (012,0.00) (011,0.00)\n",
      "RG 15 H:4.000e-01,Q:000005 (cl,P):(013,0.40) (012,0.20) (011,0.20)\n",
      "RG 17 H:9.106e-01,Q:000018 (cl,P):(013,0.67) (012,0.28) (010,0.06)\n",
      "\n"
     ]
    }
   ],
   "source": [
    "from pforest.dataset import dataset\n",
    "from pforest.tree import tree\n",
    "with open('train/out_tree5.pic', 'rb') as pickleFile:\n",
    "    root = pickle.load(pickleFile)\n",
    "#init the test tree\n",
    "t=tree()\n",
    "t.settree(root)\n",
    "t.show()"
   ]
  },
  {
   "cell_type": "code",
   "execution_count": 96,
   "metadata": {
    "collapsed": true
   },
   "outputs": [],
   "source": [
    "with open('train/dataset04.pic', 'rb') as pickleFile:\n",
    "     data = pickle.load(pickleFile)\n",
    "I=data[-2];L=data[-3]"
   ]
  },
  {
   "cell_type": "code",
   "execution_count": 97,
   "metadata": {
    "collapsed": false
   },
   "outputs": [
    {
     "data": {
      "text/plain": [
       "array([[ 0,  0,  0, ...,  0,  7,  0],\n",
       "       [ 0,  0,  0, ...,  0, 13,  0],\n",
       "       [ 0,  0,  0, ...,  0, 10,  0],\n",
       "       ..., \n",
       "       [ 0,  0,  0, ...,  0, 11,  0],\n",
       "       [ 0,  0,  0, ...,  0,  8,  0],\n",
       "       [ 0,  0,  0, ...,  0,  7,  0]], dtype=int64)"
      ]
     },
     "execution_count": 97,
     "metadata": {},
     "output_type": "execute_result"
    }
   ],
   "source": [
    "I"
   ]
  },
  {
   "cell_type": "code",
   "execution_count": 98,
   "metadata": {
    "collapsed": false
   },
   "outputs": [
    {
     "data": {
      "text/plain": [
       "array([11, 12, 13, 11, 12, 11,  9, 11, 13, 12, 10, 10, 11,  5, 13, 13, 12,\n",
       "       11, 12, 10, 12, 12, 13, 11, 13, 11, 11, 10, 13,  9, 11,  9, 12,  9,\n",
       "        9, 12, 11, 13, 12, 13, 12, 11, 11, 11, 12, 11, 13, 11, 11, 13,  5,\n",
       "        9, 11, 12, 11, 12, 12, 11,  5, 13,  9, 10, 11, 12, 13,  5, 10, 12,\n",
       "       13, 13, 13, 13, 11, 10, 12, 13, 12, 13, 12,  5, 13, 13, 13, 11,  9,\n",
       "       11, 11,  9, 13, 12,  9, 11, 12,  6, 11, 13,  9, 12], dtype=int64)"
      ]
     },
     "execution_count": 98,
     "metadata": {},
     "output_type": "execute_result"
    }
   ],
   "source": [
    "L"
   ]
  },
  {
   "cell_type": "code",
   "execution_count": 99,
   "metadata": {
    "collapsed": false
   },
   "outputs": [
    {
     "name": "stdout",
     "output_type": "stream",
     "text": [
      "actual grade:11 predicted grade:9\n",
      "actual grade:12 predicted grade:13\n",
      "actual grade:13 predicted grade:13\n",
      "actual grade:11 predicted grade:13\n",
      "actual grade:12 predicted grade:12\n",
      "actual grade:11 predicted grade:12\n",
      "actual grade:9 predicted grade:13\n",
      "actual grade:11 predicted grade:11\n",
      "actual grade:13 predicted grade:13\n",
      "actual grade:12 predicted grade:10\n",
      "actual grade:10 predicted grade:13\n",
      "actual grade:10 predicted grade:10\n",
      "actual grade:11 predicted grade:13\n",
      "actual grade:5 predicted grade:13\n",
      "actual grade:13 predicted grade:13\n",
      "actual grade:13 predicted grade:13\n",
      "actual grade:12 predicted grade:11\n",
      "actual grade:11 predicted grade:13\n",
      "actual grade:12 predicted grade:13\n",
      "actual grade:10 predicted grade:13\n",
      "actual grade:12 predicted grade:10\n",
      "actual grade:12 predicted grade:13\n",
      "actual grade:13 predicted grade:13\n",
      "actual grade:11 predicted grade:11\n",
      "actual grade:13 predicted grade:13\n",
      "actual grade:11 predicted grade:11\n",
      "actual grade:11 predicted grade:13\n",
      "actual grade:10 predicted grade:10\n",
      "actual grade:13 predicted grade:13\n",
      "actual grade:9 predicted grade:13\n",
      "actual grade:11 predicted grade:13\n",
      "actual grade:9 predicted grade:13\n",
      "actual grade:12 predicted grade:13\n",
      "actual grade:9 predicted grade:12\n",
      "actual grade:9 predicted grade:11\n",
      "actual grade:12 predicted grade:13\n",
      "actual grade:11 predicted grade:11\n",
      "actual grade:13 predicted grade:13\n",
      "actual grade:12 predicted grade:13\n",
      "actual grade:13 predicted grade:13\n",
      "actual grade:12 predicted grade:13\n",
      "actual grade:11 predicted grade:13\n",
      "actual grade:11 predicted grade:9\n",
      "actual grade:11 predicted grade:13\n",
      "actual grade:12 predicted grade:13\n",
      "actual grade:11 predicted grade:13\n",
      "actual grade:13 predicted grade:13\n",
      "actual grade:11 predicted grade:11\n",
      "actual grade:11 predicted grade:11\n",
      "actual grade:13 predicted grade:13\n",
      "actual grade:5 predicted grade:12\n",
      "actual grade:9 predicted grade:11\n",
      "actual grade:11 predicted grade:13\n",
      "actual grade:12 predicted grade:13\n",
      "actual grade:11 predicted grade:13\n",
      "actual grade:12 predicted grade:11\n",
      "actual grade:12 predicted grade:10\n",
      "actual grade:11 predicted grade:11\n",
      "actual grade:5 predicted grade:13\n",
      "actual grade:13 predicted grade:10\n",
      "actual grade:9 predicted grade:9\n",
      "actual grade:10 predicted grade:11\n",
      "actual grade:11 predicted grade:9\n",
      "actual grade:12 predicted grade:11\n",
      "actual grade:13 predicted grade:13\n",
      "actual grade:5 predicted grade:13\n",
      "actual grade:10 predicted grade:12\n",
      "actual grade:12 predicted grade:12\n",
      "actual grade:13 predicted grade:13\n",
      "actual grade:13 predicted grade:13\n",
      "actual grade:13 predicted grade:13\n",
      "actual grade:13 predicted grade:13\n",
      "actual grade:11 predicted grade:13\n",
      "actual grade:10 predicted grade:13\n",
      "actual grade:12 predicted grade:12\n",
      "actual grade:13 predicted grade:11\n",
      "actual grade:12 predicted grade:5\n",
      "actual grade:13 predicted grade:13\n",
      "actual grade:12 predicted grade:12\n",
      "actual grade:5 predicted grade:13\n",
      "actual grade:13 predicted grade:13\n",
      "actual grade:13 predicted grade:13\n",
      "actual grade:13 predicted grade:13\n",
      "actual grade:11 predicted grade:11\n",
      "actual grade:9 predicted grade:9\n",
      "actual grade:11 predicted grade:12\n",
      "actual grade:11 predicted grade:13\n",
      "actual grade:9 predicted grade:9\n",
      "actual grade:13 predicted grade:13\n",
      "actual grade:12 predicted grade:12\n",
      "actual grade:9 predicted grade:11\n",
      "actual grade:11 predicted grade:11\n",
      "actual grade:12 predicted grade:12\n",
      "actual grade:6 predicted grade:11\n",
      "actual grade:11 predicted grade:11\n",
      "actual grade:13 predicted grade:13\n",
      "actual grade:9 predicted grade:9\n",
      "actual grade:12 predicted grade:13\n"
     ]
    }
   ],
   "source": [
    "i=0\n",
    "actual5=np.array(L)\n",
    "predict5=np.zeros(len(L))\n",
    "for i in xrange(len(L)):\n",
    "    Prob=t.classify(I[i])\n",
    "    predict5[i]=np.argmax(Prob)\n",
    "   \n",
    "    print \"actual grade:%d predicted grade:%d\"%(actual5[i],predict5[i])"
   ]
  },
  {
   "cell_type": "code",
   "execution_count": 100,
   "metadata": {
    "collapsed": false
   },
   "outputs": [
    {
     "data": {
      "text/plain": [
       "2.4327694808466287"
      ]
     },
     "execution_count": 100,
     "metadata": {},
     "output_type": "execute_result"
    }
   ],
   "source": [
    "np.sqrt(np.sum((actual5-predict5)**2)/len(L))"
   ]
  },
  {
   "cell_type": "code",
   "execution_count": 101,
   "metadata": {
    "collapsed": false
   },
   "outputs": [
    {
     "name": "stdout",
     "output_type": "stream",
     "text": [
      "Populating the interactive namespace from numpy and matplotlib\n"
     ]
    },
    {
     "data": {
      "text/plain": [
       "(array([  4.,   0.,   0.,   1.,   0.,   0.,   0.,   0.,   0.,   0.,   1.,\n",
       "          0.,   0.,   3.,   0.,   0.,   4.,   0.,   0.,   0.,  16.,   0.,\n",
       "          0.,  13.,   0.,   0.,  44.,   0.,   0.,   0.,   3.,   0.,   0.,\n",
       "          7.,   0.,   0.,   1.,   0.,   0.,   0.,   0.,   0.,   0.,   0.,\n",
       "          0.,   0.,   0.,   0.,   0.,   1.]),\n",
       " array([-8. , -7.7, -7.4, -7.1, -6.8, -6.5, -6.2, -5.9, -5.6, -5.3, -5. ,\n",
       "        -4.7, -4.4, -4.1, -3.8, -3.5, -3.2, -2.9, -2.6, -2.3, -2. , -1.7,\n",
       "        -1.4, -1.1, -0.8, -0.5, -0.2,  0.1,  0.4,  0.7,  1. ,  1.3,  1.6,\n",
       "         1.9,  2.2,  2.5,  2.8,  3.1,  3.4,  3.7,  4. ,  4.3,  4.6,  4.9,\n",
       "         5.2,  5.5,  5.8,  6.1,  6.4,  6.7,  7. ]),\n",
       " <a list of 50 Patch objects>)"
      ]
     },
     "execution_count": 101,
     "metadata": {},
     "output_type": "execute_result"
    },
    {
     "data": {
      "image/png": "[encoded data removed]",
      "text/plain": [
       "<matplotlib.figure.Figure at 0x1329f390>"
      ]
     },
     "metadata": {},
     "output_type": "display_data"
    }
   ],
   "source": [
    "from matplotlib import pyplot as plt\n",
    "%pylab inline\n",
    "plt.hist(actual5-predict5,50)"
   ]
  },
  {
   "cell_type": "code",
   "execution_count": 102,
   "metadata": {
    "collapsed": false,
    "scrolled": true
   },
   "outputs": [
    {
     "name": "stdout",
     "output_type": "stream",
     "text": [
      "[[  0.   0.   0.   0.   0.   0.   0.   0.   0.   0.   0.   0.   0.   0.]\n",
      " [  0.   0.   0.   0.   0.   0.   0.   0.   0.   0.   0.   0.   0.   0.]\n",
      " [  0.   0.   0.   0.   0.   0.   0.   0.   0.   0.   0.   0.   0.   0.]\n",
      " [  0.   0.   0.   0.   0.   0.   0.   0.   0.   0.   0.   0.   0.   0.]\n",
      " [  0.   0.   0.   0.   0.   0.   0.   0.   0.   0.   0.   0.   0.   0.]\n",
      " [  0.   0.   0.   0.   0.   0.   0.   0.   0.   0.   0.   0.   1.   0.]\n",
      " [  0.   0.   0.   0.   0.   0.   0.   0.   0.   0.   0.   0.   0.   0.]\n",
      " [  0.   0.   0.   0.   0.   0.   0.   0.   0.   0.   0.   0.   0.   0.]\n",
      " [  0.   0.   0.   0.   0.   0.   0.   0.   0.   0.   0.   0.   0.   0.]\n",
      " [  0.   0.   0.   0.   0.   0.   0.   0.   0.   4.   0.   3.   0.   0.]\n",
      " [  0.   0.   0.   0.   0.   0.   0.   0.   0.   0.   2.   0.   3.   1.]\n",
      " [  0.   0.   0.   0.   0.   0.   1.   0.   0.   3.   1.  10.   3.   1.]\n",
      " [  0.   0.   0.   0.   0.   1.   0.   0.   0.   1.   1.   2.   6.   0.]\n",
      " [  0.   0.   0.   0.   0.   4.   0.   0.   0.   3.   3.  12.  10.  22.]]\n"
     ]
    }
   ],
   "source": [
    "n = 14\n",
    "cm5 = np.zeros((n,n))\n",
    "for i in xrange(len(actual5)):\n",
    "    cm5[predict5[i],actual5[i]] +=1\n",
    "print cm5"
   ]
  },
  {
   "cell_type": "code",
   "execution_count": 103,
   "metadata": {
    "collapsed": false
   },
   "outputs": [
    {
     "data": {
      "text/plain": [
       "9.0"
      ]
     },
     "execution_count": 103,
     "metadata": {},
     "output_type": "execute_result"
    }
   ],
   "source": [
    "predict5[0]"
   ]
  },
  {
   "cell_type": "code",
   "execution_count": 104,
   "metadata": {
    "collapsed": false
   },
   "outputs": [
    {
     "data": {
      "text/plain": [
       "11"
      ]
     },
     "execution_count": 104,
     "metadata": {},
     "output_type": "execute_result"
    }
   ],
   "source": [
    "actual5[0]"
   ]
  },
  {
   "cell_type": "code",
   "execution_count": 105,
   "metadata": {
    "collapsed": false
   },
   "outputs": [
    {
     "data": {
      "text/plain": [
       "False"
      ]
     },
     "execution_count": 105,
     "metadata": {},
     "output_type": "execute_result"
    }
   ],
   "source": [
    "predict5[i] == actual5[i]\n"
   ]
  },
  {
   "cell_type": "markdown",
   "metadata": {},
   "source": [
    "# Find Precision"
   ]
  },
  {
   "cell_type": "code",
   "execution_count": 106,
   "metadata": {
    "collapsed": false
   },
   "outputs": [
    {
     "data": {
      "text/plain": [
       "array([12, 10, 11, 13, 13, 13, 12, 13, 12, 11, 12, 12, 13, 13, 13, 12, 13,\n",
       "       11, 12, 12, 13,  5,  0, 13, 13, 13, 12, 12, 13, 13, 13, 13, 12, 13,\n",
       "       12, 13, 13, 13, 11, 13, 13, 13, 12, 12, 12, 10, 12, 12, 13,  9, 11,\n",
       "       13, 12, 11, 11, 11, 11, 11, 11, 13, 11, 13, 12, 11, 10, 11, 12, 11,\n",
       "       11, 10, 10, 10, 11, 10, 10, 10, 11, 10, 12, 11, 11, 11, 11, 12,  8,\n",
       "        5, 11, 10, 11, 11, 10, 11,  8,  0, 11,  9, 11, 11], dtype=int64)"
      ]
     },
     "execution_count": 106,
     "metadata": {},
     "output_type": "execute_result"
    }
   ],
   "source": [
    "actual1"
   ]
  },
  {
   "cell_type": "code",
   "execution_count": 107,
   "metadata": {
    "collapsed": false
   },
   "outputs": [
    {
     "name": "stdout",
     "output_type": "stream",
     "text": [
      "[[  0.   0.   0.   0.   0.   0.   0.   0.   0.   0.   0.   0.   0.   0.]\n",
      " [  0.   0.   0.   0.   0.   0.   0.   0.   0.   0.   0.   0.   0.   0.]\n",
      " [  0.   0.   0.   0.   0.   0.   0.   0.   0.   0.   0.   0.   0.   0.]\n",
      " [  0.   0.   0.   0.   0.   0.   0.   0.   0.   0.   0.   0.   0.   0.]\n",
      " [  0.   0.   0.   0.   0.   0.   0.   0.   0.   0.   0.   0.   0.   0.]\n",
      " [  0.   0.   0.   0.   0.   0.   0.   0.   0.   0.   0.   0.   0.   0.]\n",
      " [  0.   0.   0.   0.   0.   0.   0.   0.   0.   0.   0.   0.   0.   0.]\n",
      " [  0.   0.   0.   0.   0.   0.   0.   0.   0.   0.   0.   0.   0.   0.]\n",
      " [  0.   0.   0.   0.   0.   0.   0.   0.   0.   0.   0.   0.   0.   0.]\n",
      " [  0.   0.   0.   0.   0.   0.   0.   0.   0.   0.   0.   0.   0.   1.]\n",
      " [  0.   0.   0.   0.   0.   0.   0.   0.   0.   0.   0.   1.   0.   0.]\n",
      " [  2.   0.   0.   0.   0.   1.   0.   0.   1.   1.   2.   2.   2.   2.]\n",
      " [  0.   0.   0.   0.   0.   0.   0.   0.   0.   0.   4.   2.   5.   8.]\n",
      " [  0.   0.   0.   0.   0.   1.   0.   0.   1.   1.   6.  24.  15.  16.]]\n"
     ]
    }
   ],
   "source": [
    "print cm1"
   ]
  },
  {
   "cell_type": "code",
   "execution_count": 108,
   "metadata": {
    "collapsed": false
   },
   "outputs": [
    {
     "name": "stdout",
     "output_type": "stream",
     "text": [
      "[[  0.   0.   0.   0.   0.   0.   0.   0.   0.   0.   0.   0.   0.   0.]\n",
      " [  0.   0.   0.   0.   0.   0.   0.   0.   0.   0.   0.   0.   0.   0.]\n",
      " [  0.   0.   0.   0.   0.   0.   0.   0.   0.   0.   0.   0.   0.   0.]\n",
      " [  0.   0.   0.   0.   0.   0.   0.   0.   0.   0.   0.   0.   0.   0.]\n",
      " [  0.   0.   0.   0.   0.   0.   0.   0.   0.   0.   0.   0.   0.   0.]\n",
      " [  0.   0.   0.   0.   0.   0.   0.   0.   0.   0.   0.   0.   0.   0.]\n",
      " [  0.   0.   0.   0.   0.   0.   0.   0.   0.   0.   0.   0.   0.   0.]\n",
      " [  0.   0.   0.   0.   0.   0.   0.   0.   0.   0.   0.   0.   0.   0.]\n",
      " [  0.   0.   0.   0.   0.   0.   0.   0.   0.   0.   0.   0.   0.   0.]\n",
      " [  0.   0.   0.   0.   0.   0.   0.   0.   0.   1.   0.   0.   1.   1.]\n",
      " [  0.   0.   0.   0.   0.   0.   0.   0.   0.   0.   0.   0.   0.   1.]\n",
      " [  0.   0.   0.   0.   0.   0.   0.   0.   0.   1.   0.   2.   4.   4.]\n",
      " [  0.   0.   0.   0.   0.   0.   0.   0.   0.   0.   0.   0.   5.   5.]\n",
      " [  0.   0.   0.   0.   0.   1.   0.   0.   0.   0.   8.   4.  13.  47.]]\n"
     ]
    }
   ],
   "source": [
    "print cm2"
   ]
  },
  {
   "cell_type": "code",
   "execution_count": 109,
   "metadata": {
    "collapsed": false
   },
   "outputs": [
    {
     "name": "stdout",
     "output_type": "stream",
     "text": [
      "[[  0.   0.   0.   0.   0.   0.   0.   0.   0.   0.   0.   0.   0.   0.]\n",
      " [  0.   0.   0.   0.   0.   0.   0.   0.   0.   0.   0.   0.   0.   0.]\n",
      " [  0.   0.   0.   0.   0.   0.   0.   0.   0.   0.   0.   0.   0.   0.]\n",
      " [  0.   0.   0.   0.   0.   0.   0.   0.   0.   0.   0.   0.   0.   0.]\n",
      " [  0.   0.   0.   0.   0.   0.   0.   0.   0.   0.   0.   0.   0.   0.]\n",
      " [  0.   0.   0.   0.   0.   0.   0.   0.   0.   0.   0.   0.   0.   1.]\n",
      " [  0.   0.   0.   0.   0.   0.   1.   0.   0.   0.   0.   0.   0.   0.]\n",
      " [  0.   0.   0.   0.   0.   0.   0.   0.   0.   0.   0.   0.   0.   0.]\n",
      " [  0.   0.   0.   0.   0.   0.   0.   0.   0.   0.   0.   0.   0.   0.]\n",
      " [  0.   0.   0.   0.   0.   2.   0.   0.   0.   0.   0.   0.   0.   0.]\n",
      " [  0.   0.   0.   0.   0.   0.   0.   0.   0.   0.   0.   0.   0.   0.]\n",
      " [  0.   0.   0.   0.   0.   1.   0.   0.   0.   0.   2.   6.   4.   4.]\n",
      " [  0.   0.   0.   0.   0.   0.   0.   0.   0.   0.   1.   4.   5.   2.]\n",
      " [  0.   0.   0.   0.   0.   1.   0.   0.   0.   0.   4.  13.  13.  34.]]\n"
     ]
    }
   ],
   "source": [
    "print cm3"
   ]
  },
  {
   "cell_type": "code",
   "execution_count": 110,
   "metadata": {
    "collapsed": false
   },
   "outputs": [
    {
     "name": "stdout",
     "output_type": "stream",
     "text": [
      "[[  0.   0.   0.   0.   0.   0.   0.   0.   0.   0.   0.   0.   0.   0.]\n",
      " [  0.   0.   0.   0.   0.   0.   0.   0.   0.   0.   0.   0.   0.   0.]\n",
      " [  0.   0.   0.   0.   0.   0.   0.   0.   0.   0.   0.   0.   0.   0.]\n",
      " [  0.   0.   0.   0.   0.   0.   0.   0.   0.   0.   0.   0.   0.   0.]\n",
      " [  0.   0.   0.   0.   0.   0.   0.   0.   0.   0.   0.   0.   0.   0.]\n",
      " [  0.   0.   0.   0.   0.   0.   0.   0.   0.   0.   0.   0.   0.   0.]\n",
      " [  0.   0.   0.   0.   0.   0.   1.   0.   0.   0.   1.   0.   0.   0.]\n",
      " [  0.   0.   0.   0.   0.   0.   0.   0.   0.   0.   0.   0.   0.   0.]\n",
      " [  0.   0.   0.   0.   0.   0.   0.   0.   0.   0.   0.   0.   0.   0.]\n",
      " [  0.   0.   0.   0.   0.   0.   0.   0.   0.   1.   0.   0.   0.   0.]\n",
      " [  0.   0.   0.   0.   0.   0.   0.   0.   0.   0.   5.   3.   0.   2.]\n",
      " [  0.   0.   0.   0.   0.   0.   0.   0.   0.   4.   1.   8.   5.   4.]\n",
      " [  0.   0.   0.   0.   0.   0.   0.   0.   0.   0.   2.   2.   5.   3.]\n",
      " [  0.   0.   0.   0.   0.   1.   0.   0.   0.   0.   5.  10.  10.  25.]]\n"
     ]
    }
   ],
   "source": [
    "print cm4"
   ]
  },
  {
   "cell_type": "code",
   "execution_count": 111,
   "metadata": {
    "collapsed": false
   },
   "outputs": [
    {
     "name": "stdout",
     "output_type": "stream",
     "text": [
      "[[  0.   0.   0.   0.   0.   0.   0.   0.   0.   0.   0.   0.   0.   0.]\n",
      " [  0.   0.   0.   0.   0.   0.   0.   0.   0.   0.   0.   0.   0.   0.]\n",
      " [  0.   0.   0.   0.   0.   0.   0.   0.   0.   0.   0.   0.   0.   0.]\n",
      " [  0.   0.   0.   0.   0.   0.   0.   0.   0.   0.   0.   0.   0.   0.]\n",
      " [  0.   0.   0.   0.   0.   0.   0.   0.   0.   0.   0.   0.   0.   0.]\n",
      " [  0.   0.   0.   0.   0.   0.   0.   0.   0.   0.   0.   0.   1.   0.]\n",
      " [  0.   0.   0.   0.   0.   0.   0.   0.   0.   0.   0.   0.   0.   0.]\n",
      " [  0.   0.   0.   0.   0.   0.   0.   0.   0.   0.   0.   0.   0.   0.]\n",
      " [  0.   0.   0.   0.   0.   0.   0.   0.   0.   0.   0.   0.   0.   0.]\n",
      " [  0.   0.   0.   0.   0.   0.   0.   0.   0.   4.   0.   3.   0.   0.]\n",
      " [  0.   0.   0.   0.   0.   0.   0.   0.   0.   0.   2.   0.   3.   1.]\n",
      " [  0.   0.   0.   0.   0.   0.   1.   0.   0.   3.   1.  10.   3.   1.]\n",
      " [  0.   0.   0.   0.   0.   1.   0.   0.   0.   1.   1.   2.   6.   0.]\n",
      " [  0.   0.   0.   0.   0.   4.   0.   0.   0.   3.   3.  12.  10.  22.]]\n"
     ]
    }
   ],
   "source": [
    "print cm5"
   ]
  },
  {
   "cell_type": "code",
   "execution_count": 112,
   "metadata": {
    "collapsed": false
   },
   "outputs": [],
   "source": [
    "cm = cm1+cm2+cm3+cm4+cm5"
   ]
  },
  {
   "cell_type": "code",
   "execution_count": 113,
   "metadata": {
    "collapsed": false
   },
   "outputs": [
    {
     "name": "stdout",
     "output_type": "stream",
     "text": [
      "[[   0.    0.    0.    0.    0.    0.    0.    0.    0.    0.    0.    0.\n",
      "     0.    0.]\n",
      " [   0.    0.    0.    0.    0.    0.    0.    0.    0.    0.    0.    0.\n",
      "     0.    0.]\n",
      " [   0.    0.    0.    0.    0.    0.    0.    0.    0.    0.    0.    0.\n",
      "     0.    0.]\n",
      " [   0.    0.    0.    0.    0.    0.    0.    0.    0.    0.    0.    0.\n",
      "     0.    0.]\n",
      " [   0.    0.    0.    0.    0.    0.    0.    0.    0.    0.    0.    0.\n",
      "     0.    0.]\n",
      " [   0.    0.    0.    0.    0.    0.    0.    0.    0.    0.    0.    0.\n",
      "     1.    1.]\n",
      " [   0.    0.    0.    0.    0.    0.    2.    0.    0.    0.    1.    0.\n",
      "     0.    0.]\n",
      " [   0.    0.    0.    0.    0.    0.    0.    0.    0.    0.    0.    0.\n",
      "     0.    0.]\n",
      " [   0.    0.    0.    0.    0.    0.    0.    0.    0.    0.    0.    0.\n",
      "     0.    0.]\n",
      " [   0.    0.    0.    0.    0.    2.    0.    0.    0.    6.    0.    3.\n",
      "     1.    2.]\n",
      " [   0.    0.    0.    0.    0.    0.    0.    0.    0.    0.    7.    4.\n",
      "     3.    4.]\n",
      " [   2.    0.    0.    0.    0.    2.    1.    0.    1.    9.    6.   28.\n",
      "    18.   15.]\n",
      " [   0.    0.    0.    0.    0.    1.    0.    0.    0.    1.    8.   10.\n",
      "    26.   18.]\n",
      " [   0.    0.    0.    0.    0.    8.    0.    0.    1.    4.   26.   63.\n",
      "    61.  144.]]\n"
     ]
    }
   ],
   "source": [
    "print cm"
   ]
  },
  {
   "cell_type": "code",
   "execution_count": 114,
   "metadata": {
    "collapsed": false
   },
   "outputs": [
    {
     "data": {
      "text/plain": [
       "array([ 0.,  0.,  0.,  0.,  0.,  0.,  0.,  0.,  0.,  0.,  0.,  0.,  0.,  0.])"
      ]
     },
     "execution_count": 114,
     "metadata": {},
     "output_type": "execute_result"
    }
   ],
   "source": [
    "cm[0]"
   ]
  },
  {
   "cell_type": "code",
   "execution_count": 115,
   "metadata": {
    "collapsed": false
   },
   "outputs": [
    {
     "data": {
      "text/plain": [
       "array([   0.,    0.,    0.,    0.,    0.,    8.,    0.,    0.,    1.,\n",
       "          4.,   26.,   63.,   61.,  144.])"
      ]
     },
     "execution_count": 115,
     "metadata": {},
     "output_type": "execute_result"
    }
   ],
   "source": [
    "cm[13]"
   ]
  },
  {
   "cell_type": "code",
   "execution_count": 116,
   "metadata": {
    "collapsed": false
   },
   "outputs": [
    {
     "data": {
      "text/plain": [
       "0.0"
      ]
     },
     "execution_count": 116,
     "metadata": {},
     "output_type": "execute_result"
    }
   ],
   "source": [
    "cm[8,9]"
   ]
  },
  {
   "cell_type": "code",
   "execution_count": 117,
   "metadata": {
    "collapsed": false
   },
   "outputs": [
    {
     "data": {
      "text/plain": [
       "0.0"
      ]
     },
     "execution_count": 117,
     "metadata": {},
     "output_type": "execute_result"
    }
   ],
   "source": [
    "cm[10,9]"
   ]
  },
  {
   "cell_type": "code",
   "execution_count": 118,
   "metadata": {
    "collapsed": false
   },
   "outputs": [
    {
     "data": {
      "text/plain": [
       "0.0"
      ]
     },
     "execution_count": 118,
     "metadata": {},
     "output_type": "execute_result"
    }
   ],
   "source": [
    "cm[9,8]"
   ]
  },
  {
   "cell_type": "code",
   "execution_count": 119,
   "metadata": {
    "collapsed": false
   },
   "outputs": [
    {
     "data": {
      "text/plain": [
       "490.0"
      ]
     },
     "execution_count": 119,
     "metadata": {},
     "output_type": "execute_result"
    }
   ],
   "source": [
    "cm.sum()"
   ]
  },
  {
   "cell_type": "markdown",
   "metadata": {
    "collapsed": true
   },
   "source": [
    "# Find Precision"
   ]
  },
  {
   "cell_type": "code",
   "execution_count": 121,
   "metadata": {
    "collapsed": false,
    "scrolled": true
   },
   "outputs": [
    {
     "name": "stdout",
     "output_type": "stream",
     "text": [
      "TP is 213.000000\n",
      "--------------------------------------------\n",
      "FP is 277.000000\n",
      "precision is 0.768953\n"
     ]
    }
   ],
   "source": [
    "#find TP\n",
    "from collections import defaultdict\n",
    "tp = defaultdict(list)\n",
    "fp = defaultdict(list)\n",
    "for i in range(0,14):\n",
    "    for j in range(0,14):\n",
    "        if i == j: \n",
    "            tp[i] = cm[i,j]\n",
    "            TP = tp[i]+tp[i-1]+tp[i-2]+tp[i-3]+tp[i-4]+tp[i-5]+tp[i-6]+tp[i-7]+tp[i-8]+tp[i-9]+tp[i-10]+tp[i-11]+tp[i-12]+tp[i-13]\n",
    "        \n",
    "            \n",
    "print \"TP is %f\"%(TP)\n",
    "print \"--------------------------------------------\"\n",
    "sum = cm.sum()\n",
    "FP = sum-TP\n",
    "print \"FP is %f\"%(FP)\n",
    "\n",
    "precision = TP/FP\n",
    "print \"precision is %f\"%(precision)"
   ]
  },
  {
   "cell_type": "code",
   "execution_count": 124,
   "metadata": {
    "collapsed": false
   },
   "outputs": [
    {
     "data": {
      "text/plain": [
       "490.0"
      ]
     },
     "execution_count": 124,
     "metadata": {},
     "output_type": "execute_result"
    }
   ],
   "source": [
    "cm.sum()"
   ]
  },
  {
   "cell_type": "code",
   "execution_count": null,
   "metadata": {
    "collapsed": true
   },
   "outputs": [],
   "source": []
  }
 ],
 "metadata": {
  "kernelspec": {
   "display_name": "Python 2",
   "language": "python",
   "name": "python2"
  },
  "language_info": {
   "codemirror_mode": {
    "name": "ipython",
    "version": 2
   },
   "file_extension": ".py",
   "mimetype": "text/x-python",
   "name": "python",
   "nbconvert_exporter": "python",
   "pygments_lexer": "ipython2",
   "version": "2.7.10"
  }
 },
 "nbformat": 4,
 "nbformat_minor": 0
}
