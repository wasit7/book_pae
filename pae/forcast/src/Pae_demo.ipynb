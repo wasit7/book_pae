{
 "cells": [
  {
   "cell_type": "markdown",
   "metadata": {},
   "source": [
    "# Training(1)\n",
    "and write(save) the tree to pickle "
   ]
  },
  {
   "cell_type": "code",
   "execution_count": 101,
   "metadata": {
    "collapsed": false,
    "scrolled": true
   },
   "outputs": [
    {
     "name": "stdout",
     "output_type": "stream",
     "text": [
      "master>>init() dsetname: CS213\n",
      "master>> create dview\n",
      "master>> init engine\n",
      "Found pforest\n",
      "debug:master:__init__: ['CS213/dataset00.pic', 'CS213/dataset01.pic', 'CS213/dataset02.pic', 'CS213/dataset03.pic']\n",
      "master>> init local variables\n",
      "master>>reset()\n",
      "master>>reset() H: 2.8257\n",
      "master>>reset() Q: 00612\n",
      "master::train() node20*-\n",
      "master::train() node19R-\n",
      "master::train() node18R-\n",
      "master::train() node17RG\n",
      "master::train() node17LG\n",
      "master::train() node18L-\n",
      "master::train() node17R-\n",
      "master::train() node16RG\n",
      "master::train() node16L-\n",
      "master::train() node15RG\n",
      "master::train() node15L-\n",
      "master::train() node14R-\n",
      "master::train() node13R-\n",
      "master::train() node12R-\n",
      "master::train() node11RG\n",
      "master::train() node11L-\n",
      "master::train() node10R-\n",
      "master::train() node9RG\n",
      "master::train() node9L-\n",
      "master::train() node8RG\n",
      "master::train() node8LQ\n",
      "master::train() node10LG\n",
      "master::train() node12LQ\n",
      "master::train() node13LQ\n",
      "master::train() node14LG\n",
      "master::train() node17L-\n",
      "master::train() node16R-\n",
      "master::train() node15RQ\n",
      "master::train() node15LG\n",
      "master::train() node16L-\n",
      "master::train() node15R-\n",
      "master::train() node14RG\n",
      "master::train() node14L-\n",
      "master::train() node13RG\n",
      "master::train() node13L-\n",
      "master::train() node12RG\n",
      "master::train() node12LG\n",
      "master::train() node15L-\n",
      "master::train() node14RG\n",
      "master::train() node14L-\n",
      "master::train() node13RG\n",
      "master::train() node13L-\n",
      "master::train() node12RG\n",
      "master::train() node12L-\n",
      "master::train() node11R-\n",
      "master::train() node10R-\n",
      "master::train() node9RG\n",
      "master::train() node9L-\n",
      "master::train() node8RG\n",
      "master::train() node8L-\n",
      "master::train() node7RG\n",
      "master::train() node7L-\n",
      "master::train() node6R-\n",
      "master::train() node5RG\n",
      "master::train() node5LG\n",
      "master::train() node6L-\n",
      "master::train() node5RG\n",
      "master::train() node5L-\n",
      "master::train() node4RG\n",
      "master::train() node4LG\n",
      "master::train() node10L-\n",
      "master::train() node9RG\n",
      "master::train() node9L-\n",
      "master::train() node8RQ\n",
      "master::train() node8LG\n",
      "master::train() node11L-\n",
      "master::train() node10RG\n",
      "master::train() node10LG\n",
      "master::train() node19L-\n",
      "master::train() node18R-\n",
      "master::train() node17R-\n",
      "master::train() node16R-\n",
      "master::train() node15R-\n",
      "master::train() node14RG\n",
      "master::train() node14L-\n",
      "master::train() node13R-\n",
      "master::train() node12RG\n",
      "master::train() node12LQ\n",
      "master::train() node13LG\n",
      "master::train() node15L-\n",
      "master::train() node14RG\n",
      "master::train() node14LG\n",
      "master::train() node16L-\n",
      "master::train() node15RG\n",
      "master::train() node15LQ\n",
      "master::train() node17L-\n",
      "master::train() node16R-\n",
      "master::train() node15RG\n",
      "master::train() node15L-\n",
      "master::train() node14R-\n",
      "master::train() node13R-\n",
      "master::train() node12RG\n",
      "master::train() node12LG\n",
      "master::train() node13L-\n",
      "master::train() node12RG\n",
      "master::train() node12L-\n",
      "master::train() node11RG\n",
      "master::train() node11LQ\n",
      "master::train() node14L-\n",
      "master::train() node13RG\n",
      "master::train() node13LG\n",
      "master::train() node16LG\n",
      "master::train() node18L-\n",
      "master::train() node17R-\n",
      "master::train() node16RG\n",
      "master::train() node16L-\n",
      "master::train() node15RG\n",
      "master::train() node15L-\n",
      "master::train() node14RG\n",
      "master::train() node14LG\n",
      "master::train() node17L-\n",
      "master::train() node16R-\n",
      "master::train() node15R-\n",
      "master::train() node14R-\n",
      "master::train() node13R-\n",
      "master::train() node12R-\n",
      "master::train() node11RG\n",
      "master::train() node11LG\n",
      "master::train() node12LG\n",
      "master::train() node13L-\n",
      "master::train() node12R-\n",
      "master::train() node11RG\n",
      "master::train() node11L-\n",
      "master::train() node10RG\n",
      "master::train() node10LG\n",
      "master::train() node12L-\n",
      "master::train() node11RG\n",
      "master::train() node11LG\n",
      "master::train() node14LG\n",
      "master::train() node15L-\n",
      "master::train() node14R-\n",
      "master::train() node13R-\n",
      "master::train() node12R-\n",
      "master::train() node11R-\n",
      "master::train() node10RQ\n",
      "master::train() node10L-\n",
      "master::train() node9RG\n",
      "master::train() node9LQ\n",
      "master::train() node11L-\n",
      "master::train() node10RG\n",
      "master::train() node10LG\n",
      "master::train() node12LG\n",
      "master::train() node13L-\n",
      "master::train() node12R-\n",
      "master::train() node11RG\n",
      "master::train() node11LQ\n",
      "master::train() node12LQ\n",
      "master::train() node14LG\n",
      "master::train() node16L-\n",
      "master::train() node15R-\n",
      "master::train() node14RG\n",
      "master::train() node14LG\n",
      "master::train() node15L-\n",
      "master::train() node14R-\n",
      "master::train() node13RG\n",
      "master::train() node13L-\n",
      "master::train() node12RG\n",
      "master::train() node12L-\n",
      "master::train() node11RQ\n",
      "master::train() node11LG\n",
      "master::train() node14L-\n",
      "master::train() node13RG\n",
      "master::train() node13L-\n",
      "master::train() node12R-\n",
      "master::train() node11RG\n",
      "master::train() node11L-\n",
      "master::train() node10RG\n",
      "master::train() node10L-\n",
      "master::train() node9RG\n",
      "master::train() node9L-\n",
      "master::train() node8RQ\n",
      "master::train() node8LG\n",
      "master::train() node12LG\n"
     ]
    }
   ],
   "source": [
    "import pickle\n",
    "from pforest.master import master\n",
    "m=master(dsetname='CS213')\n",
    "m.reset()\n",
    "m.train()\n",
    "with open('CS213/out_tree1.pic', 'wb') as pickleFile:\n",
    "    pickle.dump(m.root, pickleFile, pickle.HIGHEST_PROTOCOL)\n"
   ]
  },
  {
   "cell_type": "markdown",
   "metadata": {},
   "source": [
    "# Read the tree \n",
    "The result decision tree"
   ]
  },
  {
   "cell_type": "code",
   "execution_count": 102,
   "metadata": {
    "collapsed": false,
    "scrolled": false
   },
   "outputs": [
    {
     "name": "stdout",
     "output_type": "stream",
     "text": [
      "*- 20 H:2.826e+00,Q:000612 tau:10.0 theta:[ 19.]\n",
      "L- 19 H:2.660e+00,Q:000357 tau:6.0 theta:[ 25.]\n",
      "L- 18 H:2.573e+00,Q:000258 tau:11.0 theta:[ 20.]\n",
      "L- 17 H:2.433e+00,Q:000222 tau:8.0 theta:[ 22.]\n",
      "L- 16 H:2.342e+00,Q:000089 tau:3.0 theta:[ 97.]\n",
      "L- 15 H:2.169e+00,Q:000070 tau:11.0 theta:[ 189.]\n",
      "L- 14 H:1.972e+00,Q:000048 tau:9.0 theta:[ 161.]\n",
      "L- 13 H:1.994e+00,Q:000044 tau:9.0 theta:[ 196.]\n",
      "LG 12 H:1.344e+00,Q:000008 (cl,P):(008,0.38) (011,0.25) (010,0.12)\n",
      "R- 12 H:1.772e+00,Q:000036 tau:9.0 theta:[ 20.]\n",
      "L- 11 H:1.488e+00,Q:000024 tau:12.0 theta:[ 179.]\n",
      "L- 10 H:1.285e+00,Q:000019 tau:11.0 theta:[ 169.]\n",
      "L- 09 H:1.275e+00,Q:000015 tau:7.0 theta:[ 125.]\n",
      "LG 08 H:1.201e+00,Q:000013 (cl,P):(006,0.31) (008,0.23) (009,0.15)\n",
      "RQ 08 H:1.925e-35,Q:000002 (cl,P):(009,0.50) (005,0.50) (013,0.00)\n",
      "RG 09 H:5.000e-01,Q:000004 (cl,P):(009,0.25) (008,0.25) (007,0.25)\n",
      "RG 10 H:1.371e+00,Q:000005 (cl,P):(009,0.60) (008,0.20) (007,0.20)\n",
      "RG 11 H:1.471e+00,Q:000012 (cl,P):(007,0.42) (008,0.25) (011,0.08)\n",
      "RG 13 H:6.887e-01,Q:000004 (cl,P):(005,0.50) (008,0.25) (006,0.25)\n",
      "R- 14 H:1.789e+00,Q:000022 tau:8.0 theta:[ 130.]\n",
      "L- 13 H:1.501e+00,Q:000018 tau:12.0 theta:[ 189.]\n",
      "L- 12 H:1.000e+00,Q:000008 tau:11.0 theta:[ 160.]\n",
      "LG 11 H:1.126e+00,Q:000006 (cl,P):(006,0.33) (010,0.17) (009,0.17)\n",
      "RQ 11 H:1.925e-35,Q:000002 (cl,P):(006,1.00) (013,0.00) (012,0.00)\n",
      "RG 12 H:1.436e+00,Q:000010 (cl,P):(007,0.30) (009,0.20) (008,0.20)\n",
      "RG 13 H:6.887e-01,Q:000004 (cl,P):(008,0.75) (010,0.25) (013,0.00)\n",
      "R- 15 H:1.803e+00,Q:000019 tau:11.0 theta:[ 174.]\n",
      "LG 14 H:1.672e+00,Q:000016 (cl,P):(005,0.31) (007,0.25) (008,0.19)\n",
      "RG 14 H:6.667e-01,Q:000003 (cl,P):(010,0.33) (008,0.33) (007,0.33)\n",
      "R- 16 H:2.183e+00,Q:000133 tau:9.0 theta:[ 22.]\n",
      "L- 15 H:1.902e+00,Q:000049 tau:8.0 theta:[ 20.]\n",
      "LG 14 H:9.183e-01,Q:000006 (cl,P):(008,0.33) (007,0.33) (006,0.33)\n",
      "R- 14 H:1.844e+00,Q:000043 tau:8.0 theta:[ 160.]\n",
      "L- 13 H:1.351e+00,Q:000016 tau:5.0 theta:[ 125.]\n",
      "LQ 12 H:1.925e-35,Q:000001 (cl,P):(007,1.00) (013,0.00) (012,0.00)\n",
      "R- 12 H:1.367e+00,Q:000015 tau:9.0 theta:[ 162.]\n",
      "LQ 11 H:1.925e-35,Q:000004 (cl,P):(008,0.50) (007,0.25) (006,0.25)\n",
      "RG 11 H:1.341e+00,Q:000011 (cl,P):(009,0.36) (007,0.36) (006,0.18)\n",
      "R- 13 H:1.649e+00,Q:000027 tau:9.0 theta:[ 19.]\n",
      "LG 12 H:6.793e-01,Q:000007 (cl,P):(009,0.29) (008,0.29) (007,0.29)\n",
      "R- 12 H:1.548e+00,Q:000020 tau:12.0 theta:[ 196.]\n",
      "L- 11 H:1.501e+00,Q:000009 tau:12.0 theta:[ 178.]\n",
      "LG 10 H:5.510e-01,Q:000005 (cl,P):(008,0.40) (007,0.40) (009,0.20)\n",
      "RG 10 H:1.189e+00,Q:000004 (cl,P):(009,0.25) (008,0.25) (007,0.25)\n",
      "R- 11 H:1.204e+00,Q:000011 tau:9.0 theta:[ 130.]\n",
      "L- 10 H:1.000e+00,Q:000010 tau:10.0 theta:[ 162.]\n",
      "LQ 09 H:1.925e-35,Q:000002 (cl,P):(009,0.50) (008,0.50) (013,0.00)\n",
      "RG 09 H:9.387e-01,Q:000008 (cl,P):(009,0.38) (008,0.38) (007,0.12)\n",
      "RQ 10 H:1.925e-35,Q:000001 (cl,P):(009,1.00) (013,0.00) (012,0.00)\n",
      "R- 15 H:2.011e+00,Q:000084 tau:9.0 theta:[ 162.]\n",
      "LG 14 H:4.591e-01,Q:000006 (cl,P):(009,0.50) (008,0.50) (013,0.00)\n",
      "R- 14 H:2.022e+00,Q:000078 tau:10.0 theta:[ 99.]\n",
      "L- 13 H:1.718e+00,Q:000044 tau:7.0 theta:[ 191.]\n",
      "L- 12 H:1.097e+00,Q:000013 tau:9.0 theta:[ 98.]\n",
      "LG 11 H:4.591e-01,Q:000006 (cl,P):(009,0.67) (008,0.17) (005,0.17)\n",
      "RG 11 H:6.793e-01,Q:000007 (cl,P):(008,0.57) (011,0.14) (009,0.14)\n",
      "R- 12 H:1.621e+00,Q:000031 tau:12.0 theta:[ 98.]\n",
      "L- 11 H:1.414e+00,Q:000027 tau:10.0 theta:[ 154.]\n",
      "LG 10 H:1.200e+00,Q:000015 (cl,P):(009,0.60) (008,0.20) (007,0.13)\n",
      "RG 10 H:1.116e+00,Q:000012 (cl,P):(009,0.50) (008,0.25) (007,0.17)\n",
      "RG 11 H:1.189e+00,Q:000004 (cl,P):(010,0.50) (009,0.25) (005,0.25)\n",
      "R- 13 H:1.848e+00,Q:000034 tau:7.0 theta:[ 125.]\n",
      "LG 12 H:1.404e+00,Q:000017 (cl,P):(008,0.47) (009,0.24) (007,0.18)\n",
      "R- 12 H:1.765e+00,Q:000017 tau:12.0 theta:[ 196.]\n",
      "LG 11 H:1.638e+00,Q:000012 (cl,P):(008,0.33) (010,0.25) (005,0.17)\n",
      "RG 11 H:7.763e-36,Q:000005 (cl,P):(009,0.80) (011,0.20) (013,0.00)\n",
      "R- 17 H:1.855e+00,Q:000036 tau:8.0 theta:[ 191.]\n",
      "L- 16 H:1.305e+00,Q:000019 tau:8.0 theta:[ 126.]\n",
      "L- 15 H:9.182e-01,Q:000014 tau:12.0 theta:[ 20.]\n",
      "LG 14 H:5.714e-01,Q:000007 (cl,P):(009,0.71) (010,0.14) (007,0.14)\n",
      "RG 14 H:3.936e-01,Q:000007 (cl,P):(011,0.29) (010,0.29) (009,0.29)\n",
      "RG 15 H:5.510e-01,Q:000005 (cl,P):(010,0.60) (011,0.20) (008,0.20)\n",
      "RG 16 H:1.646e+00,Q:000017 (cl,P):(011,0.29) (010,0.29) (009,0.12)\n",
      "R- 18 H:2.317e+00,Q:000099 tau:7.0 theta:[ 47.]\n",
      "L- 17 H:2.044e+00,Q:000048 tau:8.0 theta:[ 34.]\n",
      "LG 16 H:1.361e+00,Q:000010 (cl,P):(006,0.30) (009,0.20) (008,0.20)\n",
      "R- 16 H:1.834e+00,Q:000038 tau:11.0 theta:[ 162.]\n",
      "L- 15 H:1.845e+00,Q:000031 tau:9.0 theta:[ 35.]\n",
      "L- 14 H:9.610e-01,Q:000010 tau:9.0 theta:[ 162.]\n",
      "LG 13 H:6.667e-01,Q:000003 (cl,P):(009,0.67) (010,0.33) (013,0.00)\n",
      "RG 13 H:9.650e-01,Q:000007 (cl,P):(010,0.29) (009,0.29) (008,0.29)\n",
      "R- 14 H:1.701e+00,Q:000021 tau:7.0 theta:[ 58.]\n",
      "L- 13 H:1.286e+00,Q:000014 tau:12.0 theta:[ 103.]\n",
      "L- 12 H:1.046e+00,Q:000011 tau:9.0 theta:[ 199.]\n",
      "LQ 11 H:1.925e-35,Q:000002 (cl,P):(010,0.50) (007,0.50) (013,0.00)\n",
      "RG 11 H:8.455e-01,Q:000009 (cl,P):(010,0.33) (009,0.33) (006,0.22)\n",
      "RG 12 H:6.667e-01,Q:000003 (cl,P):(010,0.33) (009,0.33) (008,0.33)\n",
      "R- 13 H:8.014e-01,Q:000007 tau:10.0 theta:[ 39.]\n",
      "LG 12 H:1.000e+00,Q:000002 (cl,P):(010,0.50) (009,0.50) (013,0.00)\n",
      "RG 12 H:4.000e-01,Q:000005 (cl,P):(009,0.80) (008,0.20) (013,0.00)\n",
      "RG 15 H:8.571e-01,Q:000007 (cl,P):(010,0.43) (008,0.43) (009,0.14)\n",
      "R- 17 H:2.001e+00,Q:000051 tau:7.0 theta:[ 98.]\n",
      "L- 16 H:6.887e-01,Q:000008 tau:6.0 theta:[ 99.]\n",
      "LQ 15 H:1.925e-35,Q:000003 (cl,P):(013,0.33) (010,0.33) (008,0.33)\n",
      "RG 15 H:4.000e-01,Q:000005 (cl,P):(009,0.40) (011,0.20) (008,0.20)\n",
      "R- 16 H:1.826e+00,Q:000043 tau:9.0 theta:[ 50.]\n",
      "L- 15 H:9.610e-01,Q:000010 tau:7.0 theta:[ 201.]\n",
      "LG 14 H:5.510e-01,Q:000005 (cl,P):(010,0.40) (008,0.40) (009,0.20)\n",
      "RG 14 H:1.161e-35,Q:000005 (cl,P):(009,1.00) (013,0.00) (012,0.00)\n",
      "R- 15 H:1.624e+00,Q:000033 tau:9.0 theta:[ 201.]\n",
      "L- 14 H:1.386e+00,Q:000024 tau:9.0 theta:[ 160.]\n",
      "LG 13 H:1.367e+00,Q:000012 (cl,P):(010,0.33) (009,0.33) (011,0.25)\n",
      "R- 13 H:9.406e-01,Q:000012 tau:10.0 theta:[ 31.]\n",
      "LQ 12 H:1.925e-35,Q:000003 (cl,P):(009,0.67) (010,0.33) (013,0.00)\n",
      "RG 12 H:1.141e+00,Q:000009 (cl,P):(010,0.56) (009,0.33) (012,0.11)\n",
      "RG 14 H:9.839e-01,Q:000009 (cl,P):(011,0.56) (012,0.22) (010,0.11)\n",
      "R- 19 H:2.592e+00,Q:000255 tau:13.0 theta:[ 20.]\n",
      "L- 18 H:2.508e+00,Q:000222 tau:10.0 theta:[ 125.]\n",
      "L- 17 H:2.360e+00,Q:000169 tau:9.0 theta:[ 130.]\n",
      "L- 16 H:2.306e+00,Q:000160 tau:10.0 theta:[ 22.]\n",
      "L- 15 H:2.109e+00,Q:000109 tau:11.0 theta:[ 32.]\n",
      "L- 14 H:2.012e+00,Q:000102 tau:11.0 theta:[ 103.]\n",
      "L- 13 H:1.892e+00,Q:000098 tau:9.0 theta:[ 126.]\n",
      "L- 12 H:1.870e+00,Q:000091 tau:9.0 theta:[ 99.]\n",
      "L- 11 H:1.600e+00,Q:000025 tau:10.0 theta:[ 162.]\n",
      "LG 10 H:8.265e-01,Q:000010 (cl,P):(009,0.50) (008,0.30) (010,0.20)\n",
      "RG 10 H:1.332e+00,Q:000015 (cl,P):(009,0.47) (006,0.20) (008,0.13)\n",
      "R- 11 H:1.692e+00,Q:000066 tau:10.0 theta:[ 189.]\n",
      "L- 10 H:1.362e+00,Q:000008 tau:8.0 theta:[ 191.]\n",
      "L- 09 H:1.200e+00,Q:000005 tau:10.0 theta:[ 199.]\n",
      "LG 08 H:1.189e+00,Q:000004 (cl,P):(007,0.50) (009,0.25) (008,0.25)\n",
      "RQ 08 H:1.925e-35,Q:000001 (cl,P):(007,1.00) (013,0.00) (012,0.00)\n",
      "RG 09 H:9.183e-01,Q:000003 (cl,P):(009,0.67) (008,0.33) (013,0.00)\n",
      "R- 10 H:1.575e+00,Q:000058 tau:10.0 theta:[ 160.]\n",
      "L- 09 H:1.523e+00,Q:000046 tau:11.0 theta:[ 19.]\n",
      "L- 08 H:1.313e+00,Q:000032 tau:9.0 theta:[ 125.]\n",
      "L- 07 H:1.316e+00,Q:000026 tau:12.0 theta:[ 196.]\n",
      "L- 06 H:1.439e+00,Q:000016 tau:11.0 theta:[ 99.]\n",
      "L- 05 H:1.237e+00,Q:000011 tau:10.0 theta:[ 20.]\n",
      "LG 04 H:7.925e-01,Q:000006 (cl,P):(008,0.50) (009,0.33) (007,0.17)\n",
      "RG 04 H:8.000e-01,Q:000005 (cl,P):(009,0.40) (011,0.20) (010,0.20)\n",
      "RG 05 H:6.490e-01,Q:000005 (cl,P):(009,0.80) (008,0.20) (013,0.00)\n",
      "R- 06 H:7.245e-01,Q:000010 tau:11.0 theta:[ 162.]\n",
      "LG 05 H:5.000e-01,Q:000008 (cl,P):(009,0.75) (008,0.25) (013,0.00)\n",
      "RG 05 H:1.000e+00,Q:000002 (cl,P):(009,0.50) (008,0.50) (013,0.00)\n",
      "RG 07 H:7.925e-01,Q:000006 (cl,P):(009,0.67) (010,0.17) (008,0.17)\n",
      "RG 08 H:1.115e+00,Q:000014 (cl,P):(008,0.36) (010,0.29) (009,0.21)\n",
      "RG 09 H:1.138e+00,Q:000012 (cl,P):(009,0.67) (011,0.08) (010,0.08)\n",
      "RG 12 H:6.793e-01,Q:000007 (cl,P):(009,0.43) (010,0.29) (013,0.14)\n",
      "RG 13 H:6.887e-01,Q:000004 (cl,P):(012,0.50) (011,0.25) (010,0.25)\n",
      "RG 14 H:7.871e-01,Q:000007 (cl,P):(011,0.57) (010,0.43) (013,0.00)\n",
      "R- 15 H:1.757e+00,Q:000051 tau:9.0 theta:[ 160.]\n",
      "L- 14 H:1.476e+00,Q:000024 tau:9.0 theta:[ 125.]\n",
      "L- 13 H:1.413e+00,Q:000013 tau:8.0 theta:[ 160.]\n",
      "LG 12 H:6.556e-01,Q:000008 (cl,P):(009,0.38) (011,0.25) (013,0.12)\n",
      "RG 12 H:4.000e-01,Q:000005 (cl,P):(010,0.40) (011,0.20) (009,0.20)\n",
      "RG 13 H:8.736e-01,Q:000011 (cl,P):(011,0.27) (010,0.27) (009,0.27)\n",
      "RG 14 H:1.501e+00,Q:000027 (cl,P):(010,0.48) (009,0.30) (013,0.07)\n",
      "R- 16 H:8.455e-01,Q:000009 tau:12.0 theta:[ 139.]\n",
      "LG 15 H:9.056e-01,Q:000008 (cl,P):(011,0.50) (013,0.25) (012,0.12)\n",
      "RQ 15 H:1.925e-35,Q:000001 (cl,P):(011,1.00) (013,0.00) (012,0.00)\n",
      "R- 17 H:2.223e+00,Q:000053 tau:12.0 theta:[ 20.]\n",
      "L- 16 H:1.980e+00,Q:000038 tau:11.0 theta:[ 196.]\n",
      "L- 15 H:1.684e+00,Q:000023 tau:11.0 theta:[ 20.]\n",
      "LG 14 H:9.650e-01,Q:000007 (cl,P):(009,0.57) (010,0.29) (011,0.14)\n",
      "R- 14 H:1.657e+00,Q:000016 tau:7.0 theta:[ 98.]\n",
      "LQ 13 H:1.925e-35,Q:000001 (cl,P):(013,1.00) (012,0.00) (011,0.00)\n",
      "R- 13 H:1.684e+00,Q:000015 tau:9.0 theta:[ 99.]\n",
      "LQ 12 H:1.925e-35,Q:000001 (cl,P):(009,1.00) (013,0.00) (012,0.00)\n",
      "R- 12 H:1.608e+00,Q:000014 tau:12.0 theta:[ 98.]\n",
      "L- 11 H:1.151e+00,Q:000010 tau:10.0 theta:[ 98.]\n",
      "LG 10 H:9.704e-36,Q:000002 (cl,P):(010,1.00) (013,0.00) (012,0.00)\n",
      "R- 10 H:1.094e+00,Q:000008 tau:11.0 theta:[ 125.]\n",
      "L- 09 H:1.000e+00,Q:000004 tau:12.0 theta:[ 189.]\n",
      "LQ 08 H:1.925e-35,Q:000001 (cl,P):(013,1.00) (012,0.00) (011,0.00)\n",
      "RG 08 H:6.667e-01,Q:000003 (cl,P):(011,0.67) (010,0.33) (013,0.00)\n",
      "RG 09 H:5.000e-01,Q:000004 (cl,P):(013,0.50) (011,0.25) (009,0.25)\n",
      "RG 11 H:5.000e-01,Q:000004 (cl,P):(012,0.50) (009,0.50) (013,0.00)\n",
      "RG 15 H:1.550e+00,Q:000015 (cl,P):(009,0.40) (010,0.27) (012,0.13)\n",
      "RG 16 H:1.592e+00,Q:000015 (cl,P):(013,0.40) (012,0.27) (011,0.27)\n",
      "R- 18 H:1.644e+00,Q:000033 tau:11.0 theta:[ 154.]\n",
      "LG 17 H:1.500e+00,Q:000020 (cl,P):(013,0.40) (012,0.30) (010,0.15)\n",
      "RG 17 H:8.477e-01,Q:000013 (cl,P):(013,0.46) (012,0.38) (011,0.15)\n",
      "\n"
     ]
    }
   ],
   "source": [
    "from pforest.dataset import dataset\n",
    "from pforest.tree import tree\n",
    "with open('CS213/out_tree1.pic', 'rb') as pickleFile:\n",
    "    root = pickle.load(pickleFile)\n",
    "#init the test tree\n",
    "t=tree()\n",
    "t.settree(root)\n",
    "t.show()"
   ]
  },
  {
   "cell_type": "markdown",
   "metadata": {},
   "source": [
    "# Test Classify(1)\n",
    "zeros(no register) is training data"
   ]
  },
  {
   "cell_type": "code",
   "execution_count": 103,
   "metadata": {
    "collapsed": false,
    "scrolled": false
   },
   "outputs": [],
   "source": [
    "import numpy as np\n",
    "u=np.zeros(203)\n",
    "Prob=t.classify(u)"
   ]
  },
  {
   "cell_type": "code",
   "execution_count": 104,
   "metadata": {
    "collapsed": false,
    "scrolled": true
   },
   "outputs": [
    {
     "data": {
      "text/plain": [
       "array([ 0.   ,  0.   ,  0.   ,  0.   ,  0.   ,  0.125,  0.   ,  0.125,\n",
       "        0.375,  0.   ,  0.125,  0.25 ,  0.   ,  0.   ])"
      ]
     },
     "execution_count": 104,
     "metadata": {},
     "output_type": "execute_result"
    }
   ],
   "source": [
    "Prob\n"
   ]
  },
  {
   "cell_type": "code",
   "execution_count": 105,
   "metadata": {
    "collapsed": false
   },
   "outputs": [],
   "source": [
    "predictedGrade=np.argmax(Prob)"
   ]
  },
  {
   "cell_type": "code",
   "execution_count": 106,
   "metadata": {
    "collapsed": false
   },
   "outputs": [
    {
     "data": {
      "text/plain": [
       "'W'"
      ]
     },
     "execution_count": 106,
     "metadata": {},
     "output_type": "execute_result"
    }
   ],
   "source": [
    "Grade=['A', 'B+', 'B', 'C+', 'C' , 'D+' , 'D' , 'F' , 'W' , 'S' , 'S#' , 'U' , 'U#']\n",
    "Grade[predictedGrade]"
   ]
  },
  {
   "cell_type": "markdown",
   "metadata": {},
   "source": [
    "# Import file transform.xlsx"
   ]
  },
  {
   "cell_type": "code",
   "execution_count": 107,
   "metadata": {
    "collapsed": false
   },
   "outputs": [],
   "source": [
    "import pandas as pd\n",
    "df_file = pd.read_excel('../src/transform.xlsx')\n",
    "df_file = df_file.fillna(0)\n",
    "df_file = df_file.replace(['A', 'B+', 'B', 'C+', 'C' , 'D+' , 'D' , 'F' , 'W' , 'S' , 'S#' , 'U' , 'U#'], \n",
    "                     [13, 12, 11, 10 , 9, 8, 7, 6, 5, 4, 3, 2, 1])\n",
    "df_file_new = df_file.drop(['0STUDENTID','1ACADYEAR','2SEMESTER','3COURSEID','4RESULT'],1)\n",
    "\n"
   ]
  },
  {
   "cell_type": "markdown",
   "metadata": {},
   "source": [
    "#### classify one column from transform.xlsx"
   ]
  },
  {
   "cell_type": "code",
   "execution_count": 108,
   "metadata": {
    "collapsed": false
   },
   "outputs": [],
   "source": [
    "df_file16 = df_file_new[16:17]\n",
    "import numpy as np\n",
    "u = df_file16.as_matrix()[0]\n",
    "Prob=t.classify(u)"
   ]
  },
  {
   "cell_type": "code",
   "execution_count": 109,
   "metadata": {
    "collapsed": false
   },
   "outputs": [
    {
     "data": {
      "text/plain": [
       "array([  0.,   0.,   0.,   0.,   0.,   0.,   0.,   0.,   0.,   0.,   0.,\n",
       "         0.,   0.,   0.,   0.,   0.,   0.,   0.,   0.,   9.,   9.,   0.,\n",
       "         8.,   0.,   0.,   0.,   0.,   0.,   0.,   0.,   0.,   0.,   0.,\n",
       "         0.,   0.,   0.,   0.,   0.,   0.,   0.,   0.,   0.,   0.,   0.,\n",
       "         0.,   0.,   0.,   0.,   0.,   0.,   0.,   0.,   0.,   0.,   0.,\n",
       "         0.,   0.,   0.,   0.,   0.,   0.,   0.,   0.,   0.,   0.,   0.,\n",
       "         0.,   0.,   0.,   0.,   0.,   0.,   0.,   0.,   0.,   0.,   0.,\n",
       "         0.,   0.,   0.,   0.,   0.,   0.,   0.,   0.,   0.,   0.,   0.,\n",
       "         0.,   0.,   0.,   0.,   0.,   0.,   0.,   0.,   0.,   0.,   7.,\n",
       "         6.,   0.,   0.,   0.,   0.,   0.,   0.,   0.,   0.,   0.,   0.,\n",
       "         0.,   0.,   0.,   0.,   0.,   0.,   0.,   0.,   0.,   0.,   0.,\n",
       "         0.,   0.,   0.,   0.,   6.,   0.,   0.,   0.,   0.,   0.,   0.,\n",
       "         0.,   0.,   0.,   0.,   0.,   0.,   0.,   0.,   0.,   0.,   0.,\n",
       "         0.,   0.,   0.,   0.,   0.,   0.,   0.,   0.,   0.,   0.,   0.,\n",
       "        11.,   0.,   0.,   0.,   0.,   0.,   6.,   0.,   9.,   0.,   0.,\n",
       "         0.,   0.,   0.,   0.,   0.,   0.,   0.,   0.,   0.,   0.,   0.,\n",
       "         0.,   0.,   0.,   0.,   0.,   0.,   0.,   0.,   0.,   0.,   0.,\n",
       "         0.,   0.,   9.,   0.,  10.,   0.,   0.,   0.,   0.,   8.,   0.,\n",
       "        12.,  11.,   0.,   7.,   0.])"
      ]
     },
     "execution_count": 109,
     "metadata": {},
     "output_type": "execute_result"
    }
   ],
   "source": [
    "u"
   ]
  },
  {
   "cell_type": "code",
   "execution_count": 110,
   "metadata": {
    "collapsed": false
   },
   "outputs": [
    {
     "data": {
      "text/plain": [
       "(203L,)"
      ]
     },
     "execution_count": 110,
     "metadata": {},
     "output_type": "execute_result"
    }
   ],
   "source": [
    "u.shape"
   ]
  },
  {
   "cell_type": "code",
   "execution_count": 111,
   "metadata": {
    "collapsed": false
   },
   "outputs": [
    {
     "data": {
      "text/plain": [
       "array([ 0.        ,  0.        ,  0.        ,  0.        ,  0.        ,\n",
       "        0.        ,  0.18181818,  0.36363636,  0.09090909,  0.36363636,\n",
       "        0.        ,  0.        ,  0.        ,  0.        ])"
      ]
     },
     "execution_count": 111,
     "metadata": {},
     "output_type": "execute_result"
    }
   ],
   "source": [
    "Prob"
   ]
  },
  {
   "cell_type": "code",
   "execution_count": 112,
   "metadata": {
    "collapsed": false
   },
   "outputs": [
    {
     "name": "stdout",
     "output_type": "stream",
     "text": [
      "7\n"
     ]
    }
   ],
   "source": [
    "predictedGrade=np.argmax(Prob)\n",
    "print predictedGrade"
   ]
  },
  {
   "cell_type": "code",
   "execution_count": 113,
   "metadata": {
    "collapsed": false
   },
   "outputs": [
    {
     "data": {
      "text/plain": [
       "'D'"
      ]
     },
     "execution_count": 113,
     "metadata": {},
     "output_type": "execute_result"
    }
   ],
   "source": [
    "Grade=['A', 'B+', 'B', 'C+', 'C' , 'D+' , 'D' , 'F' , 'W' , 'S' , 'S#' , 'U' , 'U#','na']\n",
    "Grade[::-1][predictedGrade]"
   ]
  },
  {
   "cell_type": "code",
   "execution_count": 114,
   "metadata": {
    "collapsed": false
   },
   "outputs": [
    {
     "data": {
      "text/html": [
       "<div>\n",
       "<table border=\"1\" class=\"dataframe\">\n",
       "  <thead>\n",
       "    <tr style=\"text-align: right;\">\n",
       "      <th></th>\n",
       "      <th>0STUDENTID</th>\n",
       "      <th>1ACADYEAR</th>\n",
       "      <th>2SEMESTER</th>\n",
       "      <th>3COURSEID</th>\n",
       "      <th>4RESULT</th>\n",
       "      <th>AN201</th>\n",
       "      <th>AS171</th>\n",
       "      <th>AS177</th>\n",
       "      <th>AS178</th>\n",
       "      <th>AT207</th>\n",
       "      <th>...</th>\n",
       "      <th>TU113</th>\n",
       "      <th>TU115</th>\n",
       "      <th>TU116</th>\n",
       "      <th>TU120</th>\n",
       "      <th>TU121</th>\n",
       "      <th>TU122</th>\n",
       "      <th>TU130</th>\n",
       "      <th>TU153</th>\n",
       "      <th>TU154</th>\n",
       "      <th>TU156</th>\n",
       "    </tr>\n",
       "  </thead>\n",
       "  <tbody>\n",
       "    <tr>\n",
       "      <th>16</th>\n",
       "      <td>316644</td>\n",
       "      <td>2553</td>\n",
       "      <td>1</td>\n",
       "      <td>CS213</td>\n",
       "      <td>9</td>\n",
       "      <td>0</td>\n",
       "      <td>0</td>\n",
       "      <td>0</td>\n",
       "      <td>0</td>\n",
       "      <td>0</td>\n",
       "      <td>...</td>\n",
       "      <td>0</td>\n",
       "      <td>0</td>\n",
       "      <td>0</td>\n",
       "      <td>8</td>\n",
       "      <td>0</td>\n",
       "      <td>12</td>\n",
       "      <td>11</td>\n",
       "      <td>0</td>\n",
       "      <td>7</td>\n",
       "      <td>0</td>\n",
       "    </tr>\n",
       "  </tbody>\n",
       "</table>\n",
       "<p>1 rows × 208 columns</p>\n",
       "</div>"
      ],
      "text/plain": [
       "    0STUDENTID  1ACADYEAR  2SEMESTER 3COURSEID  4RESULT  AN201  AS171  AS177  \\\n",
       "16      316644       2553          1     CS213        9      0      0      0   \n",
       "\n",
       "    AS178  AT207  ...    TU113  TU115  TU116  TU120  TU121  TU122  TU130  \\\n",
       "16      0      0  ...        0      0      0      8      0     12     11   \n",
       "\n",
       "    TU153  TU154  TU156  \n",
       "16      0      7      0  \n",
       "\n",
       "[1 rows x 208 columns]"
      ]
     },
     "execution_count": 114,
     "metadata": {},
     "output_type": "execute_result"
    }
   ],
   "source": [
    "df_file[16:17]"
   ]
  },
  {
   "cell_type": "code",
   "execution_count": 115,
   "metadata": {
    "collapsed": false,
    "scrolled": true
   },
   "outputs": [
    {
     "data": {
      "text/html": [
       "<div>\n",
       "<table border=\"1\" class=\"dataframe\">\n",
       "  <thead>\n",
       "    <tr style=\"text-align: right;\">\n",
       "      <th></th>\n",
       "      <th>0STUDENTID</th>\n",
       "      <th>1ACADYEAR</th>\n",
       "      <th>2SEMESTER</th>\n",
       "      <th>3COURSEID</th>\n",
       "      <th>4RESULT</th>\n",
       "      <th>AN201</th>\n",
       "      <th>AS171</th>\n",
       "      <th>AS177</th>\n",
       "      <th>AS178</th>\n",
       "      <th>AT207</th>\n",
       "      <th>...</th>\n",
       "      <th>TU113</th>\n",
       "      <th>TU115</th>\n",
       "      <th>TU116</th>\n",
       "      <th>TU120</th>\n",
       "      <th>TU121</th>\n",
       "      <th>TU122</th>\n",
       "      <th>TU130</th>\n",
       "      <th>TU153</th>\n",
       "      <th>TU154</th>\n",
       "      <th>TU156</th>\n",
       "    </tr>\n",
       "  </thead>\n",
       "  <tbody>\n",
       "    <tr>\n",
       "      <th>123</th>\n",
       "      <td>321848</td>\n",
       "      <td>2553</td>\n",
       "      <td>1</td>\n",
       "      <td>CS213</td>\n",
       "      <td>10</td>\n",
       "      <td>0</td>\n",
       "      <td>0</td>\n",
       "      <td>0</td>\n",
       "      <td>0</td>\n",
       "      <td>0</td>\n",
       "      <td>...</td>\n",
       "      <td>0</td>\n",
       "      <td>0</td>\n",
       "      <td>0</td>\n",
       "      <td>8</td>\n",
       "      <td>0</td>\n",
       "      <td>0</td>\n",
       "      <td>0</td>\n",
       "      <td>0</td>\n",
       "      <td>13</td>\n",
       "      <td>0</td>\n",
       "    </tr>\n",
       "  </tbody>\n",
       "</table>\n",
       "<p>1 rows × 208 columns</p>\n",
       "</div>"
      ],
      "text/plain": [
       "     0STUDENTID  1ACADYEAR  2SEMESTER 3COURSEID  4RESULT  AN201  AS171  AS177  \\\n",
       "123      321848       2553          1     CS213       10      0      0      0   \n",
       "\n",
       "     AS178  AT207  ...    TU113  TU115  TU116  TU120  TU121  TU122  TU130  \\\n",
       "123      0      0  ...        0      0      0      8      0      0      0   \n",
       "\n",
       "     TU153  TU154  TU156  \n",
       "123      0     13      0  \n",
       "\n",
       "[1 rows x 208 columns]"
      ]
     },
     "execution_count": 115,
     "metadata": {},
     "output_type": "execute_result"
    }
   ],
   "source": [
    "df_file[123:124]"
   ]
  },
  {
   "cell_type": "code",
   "execution_count": 116,
   "metadata": {
    "collapsed": false
   },
   "outputs": [
    {
     "data": {
      "text/html": [
       "<div>\n",
       "<table border=\"1\" class=\"dataframe\">\n",
       "  <thead>\n",
       "    <tr style=\"text-align: right;\">\n",
       "      <th></th>\n",
       "      <th>0STUDENTID</th>\n",
       "      <th>1ACADYEAR</th>\n",
       "      <th>2SEMESTER</th>\n",
       "      <th>3COURSEID</th>\n",
       "      <th>4RESULT</th>\n",
       "      <th>AN201</th>\n",
       "      <th>AS171</th>\n",
       "      <th>AS177</th>\n",
       "      <th>AS178</th>\n",
       "      <th>AT207</th>\n",
       "      <th>...</th>\n",
       "      <th>TU113</th>\n",
       "      <th>TU115</th>\n",
       "      <th>TU116</th>\n",
       "      <th>TU120</th>\n",
       "      <th>TU121</th>\n",
       "      <th>TU122</th>\n",
       "      <th>TU130</th>\n",
       "      <th>TU153</th>\n",
       "      <th>TU154</th>\n",
       "      <th>TU156</th>\n",
       "    </tr>\n",
       "  </thead>\n",
       "  <tbody>\n",
       "    <tr>\n",
       "      <th>415</th>\n",
       "      <td>329171</td>\n",
       "      <td>2554</td>\n",
       "      <td>2</td>\n",
       "      <td>CS213</td>\n",
       "      <td>11</td>\n",
       "      <td>0</td>\n",
       "      <td>0</td>\n",
       "      <td>0</td>\n",
       "      <td>0</td>\n",
       "      <td>0</td>\n",
       "      <td>...</td>\n",
       "      <td>0</td>\n",
       "      <td>0</td>\n",
       "      <td>0</td>\n",
       "      <td>10</td>\n",
       "      <td>0</td>\n",
       "      <td>0</td>\n",
       "      <td>11</td>\n",
       "      <td>0</td>\n",
       "      <td>8</td>\n",
       "      <td>0</td>\n",
       "    </tr>\n",
       "  </tbody>\n",
       "</table>\n",
       "<p>1 rows × 208 columns</p>\n",
       "</div>"
      ],
      "text/plain": [
       "     0STUDENTID  1ACADYEAR  2SEMESTER 3COURSEID  4RESULT  AN201  AS171  AS177  \\\n",
       "415      329171       2554          2     CS213       11      0      0      0   \n",
       "\n",
       "     AS178  AT207  ...    TU113  TU115  TU116  TU120  TU121  TU122  TU130  \\\n",
       "415      0      0  ...        0      0      0     10      0      0     11   \n",
       "\n",
       "     TU153  TU154  TU156  \n",
       "415      0      8      0  \n",
       "\n",
       "[1 rows x 208 columns]"
      ]
     },
     "execution_count": 116,
     "metadata": {},
     "output_type": "execute_result"
    }
   ],
   "source": [
    "df_file[415:416]"
   ]
  },
  {
   "cell_type": "markdown",
   "metadata": {},
   "source": [
    "# Read(load) tree from pickle to classify"
   ]
  },
  {
   "cell_type": "code",
   "execution_count": 119,
   "metadata": {
    "collapsed": false
   },
   "outputs": [],
   "source": [
    "with open('CS213/dataset04.pic', 'rb') as pickleFile:\n",
    "     data = pickle.load(pickleFile)"
   ]
  },
  {
   "cell_type": "code",
   "execution_count": 120,
   "metadata": {
    "collapsed": false
   },
   "outputs": [],
   "source": [
    "I=data[-2];L=data[-3]"
   ]
  },
  {
   "cell_type": "markdown",
   "metadata": {},
   "source": [
    "#### Check the file size"
   ]
  },
  {
   "cell_type": "code",
   "execution_count": 121,
   "metadata": {
    "collapsed": false,
    "scrolled": false
   },
   "outputs": [
    {
     "name": "stdout",
     "output_type": "stream",
     "text": [
      " Volume in drive D is DATA\n",
      " Volume Serial Number is E617-8A3A\n",
      "\n",
      " Directory of D:\\project\\forcast\\src\\train\n",
      "\n",
      "04/07/2016  05:03 PM    <DIR>          .\n",
      "04/07/2016  05:03 PM    <DIR>          ..\n",
      "04/07/2016  05:53 PM           249,910 dataset00.pic\n",
      "04/07/2016  05:53 PM           249,910 dataset01.pic\n",
      "04/07/2016  05:53 PM           249,910 dataset02.pic\n",
      "04/07/2016  05:53 PM           249,910 dataset03.pic\n",
      "04/07/2016  05:53 PM           249,910 dataset04.pic\n",
      "04/07/2016  05:06 PM           160,983 out_tree.pic\n",
      "04/07/2016  03:37 PM            44,363 out_tree1.pic\n",
      "04/07/2016  03:43 PM            42,899 out_tree2.pic\n",
      "04/07/2016  03:46 PM            42,905 out_tree3.pic\n",
      "04/07/2016  04:00 PM            45,815 out_tree4.pic\n",
      "04/07/2016  04:04 PM            48,779 out_tree5.pic\n",
      "              11 File(s)      1,635,294 bytes\n",
      "               2 Dir(s)  258,435,641,344 bytes free\n"
     ]
    }
   ],
   "source": [
    "ls train"
   ]
  },
  {
   "cell_type": "code",
   "execution_count": 122,
   "metadata": {
    "collapsed": false
   },
   "outputs": [
    {
     "data": {
      "text/plain": [
       "array([[ 0,  0,  0, ...,  0,  8,  0],\n",
       "       [ 0,  0,  0, ...,  0,  8,  0],\n",
       "       [ 0,  0,  0, ...,  0, 10,  0],\n",
       "       ..., \n",
       "       [ 0,  0,  0, ...,  0, 10,  0],\n",
       "       [ 0,  0,  0, ...,  0,  0,  0],\n",
       "       [ 0,  0,  0, ...,  0,  0,  0]], dtype=int64)"
      ]
     },
     "execution_count": 122,
     "metadata": {},
     "output_type": "execute_result"
    }
   ],
   "source": [
    "I"
   ]
  },
  {
   "cell_type": "code",
   "execution_count": 123,
   "metadata": {
    "collapsed": false
   },
   "outputs": [
    {
     "data": {
      "text/plain": [
       "(153L, 203L)"
      ]
     },
     "execution_count": 123,
     "metadata": {},
     "output_type": "execute_result"
    }
   ],
   "source": [
    "I.shape"
   ]
  },
  {
   "cell_type": "code",
   "execution_count": 124,
   "metadata": {
    "collapsed": false
   },
   "outputs": [
    {
     "data": {
      "text/plain": [
       "array([ 6,  8,  6,  9,  6, 10,  7,  9,  6, 13,  5,  9,  6,  5,  9,  9,  6,\n",
       "        9,  8,  8,  6,  9,  6, 13,  6, 13, 13, 13, 13,  6,  6, 10,  6,  6,\n",
       "        8,  7,  7,  6,  8, 12,  6,  9, 13,  7, 10,  6,  6, 10,  6,  6, 13,\n",
       "        6,  6,  8,  7,  6,  6,  9,  7,  7,  7,  6,  6, 12,  7,  7,  6,  6,\n",
       "        6,  9,  8,  6, 11,  7, 10,  6,  7, 10,  8, 10,  7,  7,  6, 11,  6,\n",
       "        6,  6,  6,  6,  6,  7,  6,  7,  6,  7, 13,  8, 12,  8, 13,  6,  8,\n",
       "        9, 13,  8,  6,  6,  6,  6,  8,  6, 13,  6,  6,  6,  7,  6,  8,  6,\n",
       "        6,  6,  5,  7,  6, 11,  6,  6,  6,  5,  7,  6,  8,  6,  6,  6,  6,\n",
       "        6,  5,  6,  8,  6,  6,  5,  6,  7,  6,  7,  5,  6,  5,  7,  7,  7], dtype=int64)"
      ]
     },
     "execution_count": 124,
     "metadata": {},
     "output_type": "execute_result"
    }
   ],
   "source": [
    "L"
   ]
  },
  {
   "cell_type": "code",
   "execution_count": 125,
   "metadata": {
    "collapsed": false
   },
   "outputs": [
    {
     "data": {
      "text/plain": [
       "(153L,)"
      ]
     },
     "execution_count": 125,
     "metadata": {},
     "output_type": "execute_result"
    }
   ],
   "source": [
    "L.shape"
   ]
  },
  {
   "cell_type": "markdown",
   "metadata": {},
   "source": [
    "# Show prediction compare with actual "
   ]
  },
  {
   "cell_type": "code",
   "execution_count": 126,
   "metadata": {
    "collapsed": false
   },
   "outputs": [
    {
     "name": "stdout",
     "output_type": "stream",
     "text": [
      "actual grade:6 predicted grade:7\n",
      "actual grade:8 predicted grade:6\n",
      "actual grade:6 predicted grade:5\n",
      "actual grade:9 predicted grade:9\n",
      "actual grade:6 predicted grade:9\n",
      "actual grade:10 predicted grade:9\n",
      "actual grade:7 predicted grade:7\n",
      "actual grade:9 predicted grade:8\n",
      "actual grade:6 predicted grade:5\n",
      "actual grade:13 predicted grade:13\n",
      "actual grade:5 predicted grade:9\n",
      "actual grade:9 predicted grade:9\n",
      "actual grade:6 predicted grade:5\n",
      "actual grade:5 predicted grade:6\n",
      "actual grade:9 predicted grade:8\n",
      "actual grade:9 predicted grade:5\n",
      "actual grade:6 predicted grade:9\n",
      "actual grade:9 predicted grade:6\n",
      "actual grade:8 predicted grade:9\n",
      "actual grade:8 predicted grade:9\n",
      "actual grade:6 predicted grade:6\n",
      "actual grade:9 predicted grade:9\n",
      "actual grade:6 predicted grade:6\n",
      "actual grade:13 predicted grade:13\n",
      "actual grade:6 predicted grade:5\n",
      "actual grade:13 predicted grade:13\n",
      "actual grade:13 predicted grade:13\n",
      "actual grade:13 predicted grade:13\n",
      "actual grade:13 predicted grade:13\n",
      "actual grade:6 predicted grade:5\n",
      "actual grade:6 predicted grade:9\n",
      "actual grade:10 predicted grade:9\n",
      "actual grade:6 predicted grade:8\n",
      "actual grade:6 predicted grade:9\n",
      "actual grade:8 predicted grade:8\n",
      "actual grade:7 predicted grade:9\n",
      "actual grade:7 predicted grade:13\n",
      "actual grade:6 predicted grade:13\n",
      "actual grade:8 predicted grade:7\n",
      "actual grade:12 predicted grade:9\n",
      "actual grade:6 predicted grade:8\n",
      "actual grade:9 predicted grade:10\n",
      "actual grade:13 predicted grade:13\n",
      "actual grade:7 predicted grade:7\n",
      "actual grade:10 predicted grade:13\n",
      "actual grade:6 predicted grade:8\n",
      "actual grade:6 predicted grade:7\n",
      "actual grade:10 predicted grade:9\n",
      "actual grade:6 predicted grade:5\n",
      "actual grade:6 predicted grade:8\n",
      "actual grade:13 predicted grade:9\n",
      "actual grade:6 predicted grade:8\n",
      "actual grade:6 predicted grade:9\n",
      "actual grade:8 predicted grade:9\n",
      "actual grade:7 predicted grade:9\n",
      "actual grade:6 predicted grade:8\n",
      "actual grade:6 predicted grade:8\n",
      "actual grade:9 predicted grade:9\n",
      "actual grade:7 predicted grade:8\n",
      "actual grade:7 predicted grade:8\n",
      "actual grade:7 predicted grade:8\n",
      "actual grade:6 predicted grade:8\n",
      "actual grade:6 predicted grade:9\n",
      "actual grade:12 predicted grade:8\n",
      "actual grade:7 predicted grade:8\n",
      "actual grade:7 predicted grade:9\n",
      "actual grade:6 predicted grade:8\n",
      "actual grade:6 predicted grade:8\n",
      "actual grade:6 predicted grade:9\n",
      "actual grade:9 predicted grade:9\n",
      "actual grade:8 predicted grade:8\n",
      "actual grade:6 predicted grade:9\n",
      "actual grade:11 predicted grade:10\n",
      "actual grade:7 predicted grade:8\n",
      "actual grade:10 predicted grade:8\n",
      "actual grade:6 predicted grade:8\n",
      "actual grade:7 predicted grade:8\n",
      "actual grade:10 predicted grade:8\n",
      "actual grade:8 predicted grade:8\n",
      "actual grade:10 predicted grade:9\n",
      "actual grade:7 predicted grade:8\n",
      "actual grade:7 predicted grade:9\n",
      "actual grade:6 predicted grade:5\n",
      "actual grade:11 predicted grade:13\n",
      "actual grade:6 predicted grade:8\n",
      "actual grade:6 predicted grade:9\n",
      "actual grade:6 predicted grade:9\n",
      "actual grade:6 predicted grade:9\n",
      "actual grade:6 predicted grade:9\n",
      "actual grade:6 predicted grade:8\n",
      "actual grade:7 predicted grade:8\n",
      "actual grade:6 predicted grade:8\n",
      "actual grade:7 predicted grade:10\n",
      "actual grade:6 predicted grade:8\n",
      "actual grade:7 predicted grade:9\n",
      "actual grade:13 predicted grade:8\n",
      "actual grade:8 predicted grade:9\n",
      "actual grade:12 predicted grade:9\n",
      "actual grade:8 predicted grade:9\n",
      "actual grade:13 predicted grade:13\n",
      "actual grade:6 predicted grade:7\n",
      "actual grade:8 predicted grade:9\n",
      "actual grade:9 predicted grade:10\n",
      "actual grade:13 predicted grade:13\n",
      "actual grade:8 predicted grade:9\n",
      "actual grade:6 predicted grade:9\n",
      "actual grade:6 predicted grade:9\n",
      "actual grade:6 predicted grade:9\n",
      "actual grade:6 predicted grade:6\n",
      "actual grade:8 predicted grade:9\n",
      "actual grade:6 predicted grade:6\n",
      "actual grade:13 predicted grade:10\n",
      "actual grade:6 predicted grade:9\n",
      "actual grade:6 predicted grade:6\n",
      "actual grade:6 predicted grade:9\n",
      "actual grade:7 predicted grade:8\n",
      "actual grade:6 predicted grade:8\n",
      "actual grade:8 predicted grade:10\n",
      "actual grade:6 predicted grade:9\n",
      "actual grade:6 predicted grade:9\n",
      "actual grade:6 predicted grade:5\n",
      "actual grade:5 predicted grade:5\n",
      "actual grade:7 predicted grade:7\n",
      "actual grade:6 predicted grade:9\n",
      "actual grade:11 predicted grade:10\n",
      "actual grade:6 predicted grade:5\n",
      "actual grade:6 predicted grade:5\n",
      "actual grade:6 predicted grade:7\n",
      "actual grade:5 predicted grade:9\n",
      "actual grade:7 predicted grade:9\n",
      "actual grade:6 predicted grade:9\n",
      "actual grade:8 predicted grade:13\n",
      "actual grade:6 predicted grade:9\n",
      "actual grade:6 predicted grade:8\n",
      "actual grade:6 predicted grade:9\n",
      "actual grade:6 predicted grade:6\n",
      "actual grade:6 predicted grade:5\n",
      "actual grade:5 predicted grade:6\n",
      "actual grade:6 predicted grade:5\n",
      "actual grade:8 predicted grade:13\n",
      "actual grade:6 predicted grade:7\n",
      "actual grade:6 predicted grade:7\n",
      "actual grade:5 predicted grade:7\n",
      "actual grade:6 predicted grade:7\n",
      "actual grade:7 predicted grade:9\n",
      "actual grade:6 predicted grade:9\n",
      "actual grade:7 predicted grade:5\n",
      "actual grade:5 predicted grade:8\n",
      "actual grade:6 predicted grade:5\n",
      "actual grade:5 predicted grade:5\n",
      "actual grade:7 predicted grade:9\n",
      "actual grade:7 predicted grade:8\n",
      "actual grade:7 predicted grade:8\n"
     ]
    }
   ],
   "source": [
    "i=0\n",
    "for i in xrange(len(L)):\n",
    "    Prob=t.classify(I[i])\n",
    "    predictedGrade=np.argmax(Prob)\n",
    "    print \"actual grade:%d predicted grade:%d\"%(L[i],predictedGrade)"
   ]
  },
  {
   "cell_type": "code",
   "execution_count": 127,
   "metadata": {
    "collapsed": false,
    "scrolled": false
   },
   "outputs": [
    {
     "name": "stdout",
     "output_type": "stream",
     "text": [
      "actual grade:6 predicted grade:7\n",
      "actual grade:8 predicted grade:6\n",
      "actual grade:6 predicted grade:5\n",
      "actual grade:9 predicted grade:9\n",
      "actual grade:6 predicted grade:9\n",
      "actual grade:10 predicted grade:9\n",
      "actual grade:7 predicted grade:7\n",
      "actual grade:9 predicted grade:8\n",
      "actual grade:6 predicted grade:5\n",
      "actual grade:13 predicted grade:13\n",
      "actual grade:5 predicted grade:9\n",
      "actual grade:9 predicted grade:9\n",
      "actual grade:6 predicted grade:5\n",
      "actual grade:5 predicted grade:6\n",
      "actual grade:9 predicted grade:8\n",
      "actual grade:9 predicted grade:5\n",
      "actual grade:6 predicted grade:9\n",
      "actual grade:9 predicted grade:6\n",
      "actual grade:8 predicted grade:9\n",
      "actual grade:8 predicted grade:9\n",
      "actual grade:6 predicted grade:6\n",
      "actual grade:9 predicted grade:9\n",
      "actual grade:6 predicted grade:6\n",
      "actual grade:13 predicted grade:13\n",
      "actual grade:6 predicted grade:5\n",
      "actual grade:13 predicted grade:13\n",
      "actual grade:13 predicted grade:13\n",
      "actual grade:13 predicted grade:13\n",
      "actual grade:13 predicted grade:13\n",
      "actual grade:6 predicted grade:5\n",
      "actual grade:6 predicted grade:9\n",
      "actual grade:10 predicted grade:9\n",
      "actual grade:6 predicted grade:8\n",
      "actual grade:6 predicted grade:9\n",
      "actual grade:8 predicted grade:8\n",
      "actual grade:7 predicted grade:9\n",
      "actual grade:7 predicted grade:13\n",
      "actual grade:6 predicted grade:13\n",
      "actual grade:8 predicted grade:7\n",
      "actual grade:12 predicted grade:9\n",
      "actual grade:6 predicted grade:8\n",
      "actual grade:9 predicted grade:10\n",
      "actual grade:13 predicted grade:13\n",
      "actual grade:7 predicted grade:7\n",
      "actual grade:10 predicted grade:13\n",
      "actual grade:6 predicted grade:8\n",
      "actual grade:6 predicted grade:7\n",
      "actual grade:10 predicted grade:9\n",
      "actual grade:6 predicted grade:5\n",
      "actual grade:6 predicted grade:8\n",
      "actual grade:13 predicted grade:9\n",
      "actual grade:6 predicted grade:8\n",
      "actual grade:6 predicted grade:9\n",
      "actual grade:8 predicted grade:9\n",
      "actual grade:7 predicted grade:9\n",
      "actual grade:6 predicted grade:8\n",
      "actual grade:6 predicted grade:8\n",
      "actual grade:9 predicted grade:9\n",
      "actual grade:7 predicted grade:8\n",
      "actual grade:7 predicted grade:8\n",
      "actual grade:7 predicted grade:8\n",
      "actual grade:6 predicted grade:8\n",
      "actual grade:6 predicted grade:9\n",
      "actual grade:12 predicted grade:8\n",
      "actual grade:7 predicted grade:8\n",
      "actual grade:7 predicted grade:9\n",
      "actual grade:6 predicted grade:8\n",
      "actual grade:6 predicted grade:8\n",
      "actual grade:6 predicted grade:9\n",
      "actual grade:9 predicted grade:9\n",
      "actual grade:8 predicted grade:8\n",
      "actual grade:6 predicted grade:9\n",
      "actual grade:11 predicted grade:10\n",
      "actual grade:7 predicted grade:8\n",
      "actual grade:10 predicted grade:8\n",
      "actual grade:6 predicted grade:8\n",
      "actual grade:7 predicted grade:8\n",
      "actual grade:10 predicted grade:8\n",
      "actual grade:8 predicted grade:8\n",
      "actual grade:10 predicted grade:9\n",
      "actual grade:7 predicted grade:8\n",
      "actual grade:7 predicted grade:9\n",
      "actual grade:6 predicted grade:5\n",
      "actual grade:11 predicted grade:13\n",
      "actual grade:6 predicted grade:8\n",
      "actual grade:6 predicted grade:9\n",
      "actual grade:6 predicted grade:9\n",
      "actual grade:6 predicted grade:9\n",
      "actual grade:6 predicted grade:9\n",
      "actual grade:6 predicted grade:8\n",
      "actual grade:7 predicted grade:8\n",
      "actual grade:6 predicted grade:8\n",
      "actual grade:7 predicted grade:10\n",
      "actual grade:6 predicted grade:8\n",
      "actual grade:7 predicted grade:9\n",
      "actual grade:13 predicted grade:8\n",
      "actual grade:8 predicted grade:9\n",
      "actual grade:12 predicted grade:9\n",
      "actual grade:8 predicted grade:9\n",
      "actual grade:13 predicted grade:13\n",
      "actual grade:6 predicted grade:7\n",
      "actual grade:8 predicted grade:9\n",
      "actual grade:9 predicted grade:10\n",
      "actual grade:13 predicted grade:13\n",
      "actual grade:8 predicted grade:9\n",
      "actual grade:6 predicted grade:9\n",
      "actual grade:6 predicted grade:9\n",
      "actual grade:6 predicted grade:9\n",
      "actual grade:6 predicted grade:6\n",
      "actual grade:8 predicted grade:9\n",
      "actual grade:6 predicted grade:6\n",
      "actual grade:13 predicted grade:10\n",
      "actual grade:6 predicted grade:9\n",
      "actual grade:6 predicted grade:6\n",
      "actual grade:6 predicted grade:9\n",
      "actual grade:7 predicted grade:8\n",
      "actual grade:6 predicted grade:8\n",
      "actual grade:8 predicted grade:10\n",
      "actual grade:6 predicted grade:9\n",
      "actual grade:6 predicted grade:9\n",
      "actual grade:6 predicted grade:5\n",
      "actual grade:5 predicted grade:5\n",
      "actual grade:7 predicted grade:7\n",
      "actual grade:6 predicted grade:9\n",
      "actual grade:11 predicted grade:10\n",
      "actual grade:6 predicted grade:5\n",
      "actual grade:6 predicted grade:5\n",
      "actual grade:6 predicted grade:7\n",
      "actual grade:5 predicted grade:9\n",
      "actual grade:7 predicted grade:9\n",
      "actual grade:6 predicted grade:9\n",
      "actual grade:8 predicted grade:13\n",
      "actual grade:6 predicted grade:9\n",
      "actual grade:6 predicted grade:8\n",
      "actual grade:6 predicted grade:9\n",
      "actual grade:6 predicted grade:6\n",
      "actual grade:6 predicted grade:5\n",
      "actual grade:5 predicted grade:6\n",
      "actual grade:6 predicted grade:5\n",
      "actual grade:8 predicted grade:13\n",
      "actual grade:6 predicted grade:7\n",
      "actual grade:6 predicted grade:7\n",
      "actual grade:5 predicted grade:7\n",
      "actual grade:6 predicted grade:7\n",
      "actual grade:7 predicted grade:9\n",
      "actual grade:6 predicted grade:9\n",
      "actual grade:7 predicted grade:5\n",
      "actual grade:5 predicted grade:8\n",
      "actual grade:6 predicted grade:5\n",
      "actual grade:5 predicted grade:5\n",
      "actual grade:7 predicted grade:9\n",
      "actual grade:7 predicted grade:8\n",
      "actual grade:7 predicted grade:8\n"
     ]
    }
   ],
   "source": [
    "i=0\n",
    "actual1=np.array(L)\n",
    "predict1=np.zeros(len(L))\n",
    "for i in xrange(len(L)):\n",
    "    Prob=t.classify(I[i])\n",
    "    predict1[i]=np.argmax(Prob)\n",
    "   \n",
    "    print \"actual grade:%d predicted grade:%d\"%(actual1[i],predict1[i])"
   ]
  },
  {
   "cell_type": "markdown",
   "metadata": {},
   "source": [
    "# find Average "
   ]
  },
  {
   "cell_type": "code",
   "execution_count": 128,
   "metadata": {
    "collapsed": false
   },
   "outputs": [
    {
     "data": {
      "text/plain": [
       "2.1374347828601441"
      ]
     },
     "execution_count": 128,
     "metadata": {},
     "output_type": "execute_result"
    }
   ],
   "source": [
    "np.sqrt(np.sum((actual1-predict1)**2)/len(L))"
   ]
  },
  {
   "cell_type": "markdown",
   "metadata": {},
   "source": [
    "# Plot graph \n",
    "number of correct prediction"
   ]
  },
  {
   "cell_type": "code",
   "execution_count": 129,
   "metadata": {
    "collapsed": false,
    "scrolled": true
   },
   "outputs": [
    {
     "name": "stdout",
     "output_type": "stream",
     "text": [
      "Populating the interactive namespace from numpy and matplotlib\n"
     ]
    },
    {
     "name": "stderr",
     "output_type": "stream",
     "text": [
      "WARNING: pylab import has clobbered these variables: ['cm', 'sum']\n",
      "`%matplotlib` prevents importing * from pylab and numpy\n"
     ]
    },
    {
     "data": {
      "text/plain": [
       "(array([  1.,   0.,   0.,   0.,   1.,   0.,   0.,   0.,   2.,   0.,   0.,\n",
       "          0.,   2.,   0.,   0.,   0.,  27.,   0.,   0.,   0.,  28.,   0.,\n",
       "          0.,   0.,   0.,  30.,   0.,   0.,   0.,  28.,   0.,   0.,   0.,\n",
       "         22.,   0.,   0.,   0.,   4.,   0.,   0.,   0.,   4.,   0.,   0.,\n",
       "          0.,   3.,   0.,   0.,   0.,   1.]),\n",
       " array([-7.  , -6.76, -6.52, -6.28, -6.04, -5.8 , -5.56, -5.32, -5.08,\n",
       "        -4.84, -4.6 , -4.36, -4.12, -3.88, -3.64, -3.4 , -3.16, -2.92,\n",
       "        -2.68, -2.44, -2.2 , -1.96, -1.72, -1.48, -1.24, -1.  , -0.76,\n",
       "        -0.52, -0.28, -0.04,  0.2 ,  0.44,  0.68,  0.92,  1.16,  1.4 ,\n",
       "         1.64,  1.88,  2.12,  2.36,  2.6 ,  2.84,  3.08,  3.32,  3.56,\n",
       "         3.8 ,  4.04,  4.28,  4.52,  4.76,  5.  ]),\n",
       " <a list of 50 Patch objects>)"
      ]
     },
     "execution_count": 129,
     "metadata": {},
     "output_type": "execute_result"
    },
    {
     "data": {
      "image/png": "[encoded data removed]",
      "text/plain": [
       "<matplotlib.figure.Figure at 0xf354c50>"
      ]
     },
     "metadata": {},
     "output_type": "display_data"
    }
   ],
   "source": [
    "from matplotlib import pyplot as plt\n",
    "%pylab inline\n",
    "plt.hist(actual1-predict1,50)"
   ]
  },
  {
   "cell_type": "markdown",
   "metadata": {},
   "source": [
    "# Create confusion matrix"
   ]
  },
  {
   "cell_type": "code",
   "execution_count": 130,
   "metadata": {
    "collapsed": false
   },
   "outputs": [
    {
     "data": {
      "text/plain": [
       "7.0"
      ]
     },
     "execution_count": 130,
     "metadata": {},
     "output_type": "execute_result"
    }
   ],
   "source": [
    "predict1[0]"
   ]
  },
  {
   "cell_type": "code",
   "execution_count": 131,
   "metadata": {
    "collapsed": false
   },
   "outputs": [
    {
     "data": {
      "text/plain": [
       "6"
      ]
     },
     "execution_count": 131,
     "metadata": {},
     "output_type": "execute_result"
    }
   ],
   "source": [
    "actual1[0]"
   ]
  },
  {
   "cell_type": "code",
   "execution_count": 132,
   "metadata": {
    "collapsed": false,
    "scrolled": true
   },
   "outputs": [
    {
     "name": "stdout",
     "output_type": "stream",
     "text": [
      "[[  0.   0.   0.   0.   0.   0.   0.   0.   0.   0.   0.   0.   0.   0.]\n",
      " [  0.   0.   0.   0.   0.   0.   0.   0.   0.   0.   0.   0.   0.   0.]\n",
      " [  0.   0.   0.   0.   0.   0.   0.   0.   0.   0.   0.   0.   0.   0.]\n",
      " [  0.   0.   0.   0.   0.   0.   0.   0.   0.   0.   0.   0.   0.   0.]\n",
      " [  0.   0.   0.   0.   0.   0.   0.   0.   0.   0.   0.   0.   0.   0.]\n",
      " [  0.   0.   0.   0.   0.   2.  13.   1.   0.   1.   0.   0.   0.   0.]\n",
      " [  0.   0.   0.   0.   0.   2.   6.   0.   1.   1.   0.   0.   0.   0.]\n",
      " [  0.   0.   0.   0.   0.   1.   7.   3.   1.   0.   0.   0.   0.   0.]\n",
      " [  0.   0.   0.   0.   0.   1.  17.  11.   3.   2.   2.   0.   1.   1.]\n",
      " [  0.   0.   0.   0.   0.   2.  24.   8.   8.   5.   4.   0.   2.   1.]\n",
      " [  0.   0.   0.   0.   0.   0.   0.   1.   1.   2.   0.   2.   0.   1.]\n",
      " [  0.   0.   0.   0.   0.   0.   0.   0.   0.   0.   0.   0.   0.   0.]\n",
      " [  0.   0.   0.   0.   0.   0.   0.   0.   0.   0.   0.   0.   0.   0.]\n",
      " [  0.   0.   0.   0.   0.   0.   1.   1.   2.   0.   1.   1.   0.   9.]]\n"
     ]
    }
   ],
   "source": [
    "n = 14\n",
    "cm1 = np.zeros((n,n))\n",
    "for i in xrange(len(actual1)):\n",
    "    cm1[predict1[i],actual1[i]] +=1\n",
    "print cm1\n",
    "    "
   ]
  },
  {
   "cell_type": "code",
   "execution_count": 133,
   "metadata": {
    "collapsed": false
   },
   "outputs": [
    {
     "name": "stdout",
     "output_type": "stream",
     "text": [
      "TP is 28.000000\n",
      "--------------------------------------------\n",
      "FP is 125.000000\n",
      "precision is 0.183007\n"
     ]
    }
   ],
   "source": [
    "#find TP\n",
    "from collections import defaultdict\n",
    "tp = defaultdict(list)\n",
    "fp = defaultdict(list)\n",
    "for i in range(0,14):\n",
    "    for j in range(0,14):\n",
    "        if i == j: \n",
    "            tp[i] = cm1[i,j]\n",
    "            TP = tp[i]+tp[i-1]+tp[i-2]+tp[i-3]+tp[i-4]+tp[i-5]+tp[i-6]+tp[i-7]+tp[i-8]+tp[i-9]+tp[i-10]+tp[i-11]+tp[i-12]+tp[i-13]\n",
    "        \n",
    "            \n",
    "print \"TP is %f\"%(TP)\n",
    "print \"--------------------------------------------\"\n",
    "sum = cm1.sum()\n",
    "FP = sum-TP\n",
    "print \"FP is %f\"%(FP)\n",
    "\n",
    "precision = TP/(FP+TP)\n",
    "print \"precision is %f\"%(precision)"
   ]
  },
  {
   "cell_type": "code",
   "execution_count": null,
   "metadata": {
    "collapsed": true
   },
   "outputs": [],
   "source": []
  },
  {
   "cell_type": "markdown",
   "metadata": {},
   "source": [
    "# Training(2)"
   ]
  },
  {
   "cell_type": "code",
   "execution_count": 134,
   "metadata": {
    "collapsed": false,
    "scrolled": true
   },
   "outputs": [
    {
     "name": "stdout",
     "output_type": "stream",
     "text": [
      "master>>init() dsetname: CS213\n",
      "master>> create dview\n",
      "master>> init engine\n",
      "Found pforest\n",
      "debug:master:__init__: ['CS213/dataset00.pic', 'CS213/dataset01.pic', 'CS213/dataset02.pic', 'CS213/dataset03.pic']\n",
      "master>> init local variables\n",
      "master>>reset()\n",
      "master>>reset() H: 2.8257\n",
      "master>>reset() Q: 00612\n",
      "master::train() node20*-\n",
      "master::train() node19R-\n",
      "master::train() node18R-\n",
      "master::train() node17R-\n",
      "master::train() node16R-\n",
      "master::train() node15RG\n",
      "master::train() node15LQ\n",
      "master::train() node16LG\n",
      "master::train() node17L-\n",
      "master::train() node16R-\n",
      "master::train() node15R-\n",
      "master::train() node14R-\n",
      "master::train() node13R-\n",
      "master::train() node12RQ\n",
      "master::train() node12L-\n",
      "master::train() node11R-\n",
      "master::train() node10RG\n",
      "master::train() node10LG\n",
      "master::train() node11LQ\n",
      "master::train() node13LG\n",
      "master::train() node14L-\n",
      "master::train() node13R-\n",
      "master::train() node12RG\n",
      "master::train() node12LQ\n",
      "master::train() node13LQ\n",
      "master::train() node15LG\n",
      "master::train() node16LG\n",
      "master::train() node18L-\n",
      "master::train() node17R-\n",
      "master::train() node16R-\n",
      "master::train() node15RQ\n",
      "master::train() node15L-\n",
      "master::train() node14RG\n",
      "master::train() node14L-\n",
      "master::train() node13RG\n",
      "master::train() node13LG\n",
      "master::train() node16L-\n",
      "master::train() node15RG\n",
      "master::train() node15L-\n",
      "master::train() node14R-\n",
      "master::train() node13RG\n",
      "master::train() node13LG\n",
      "master::train() node14L-\n",
      "master::train() node13RG\n",
      "master::train() node13L-\n",
      "master::train() node12RQ\n",
      "master::train() node12LG\n",
      "master::train() node17L-\n",
      "master::train() node16R-\n",
      "master::train() node15R-\n",
      "master::train() node14R-\n",
      "master::train() node13R-\n",
      "master::train() node12RG\n",
      "master::train() node12L-\n",
      "master::train() node11R-\n",
      "master::train() node10R-\n",
      "master::train() node9RG\n",
      "master::train() node9L-\n",
      "master::train() node8RG\n",
      "master::train() node8LG\n",
      "master::train() node10LG\n",
      "master::train() node11L-\n",
      "master::train() node10RQ\n",
      "master::train() node10LG\n",
      "master::train() node13L-\n",
      "master::train() node12R-\n",
      "master::train() node11RG\n",
      "master::train() node11LG\n",
      "master::train() node12LG\n",
      "master::train() node14L-\n",
      "master::train() node13R-\n",
      "master::train() node12RQ\n",
      "master::train() node12L-\n",
      "master::train() node11RG\n",
      "master::train() node11LG\n",
      "master::train() node13L-\n",
      "master::train() node12RG\n",
      "master::train() node12LG\n",
      "master::train() node15L-\n",
      "master::train() node14R-\n",
      "master::train() node13RG\n",
      "master::train() node13L-\n",
      "master::train() node12RG\n",
      "master::train() node12LG\n",
      "master::train() node14L-\n",
      "master::train() node13RQ\n",
      "master::train() node13L-\n",
      "master::train() node12R-\n",
      "master::train() node11RG\n",
      "master::train() node11LG\n",
      "master::train() node12L-\n",
      "master::train() node11RG\n",
      "master::train() node11LG\n",
      "master::train() node16L-\n",
      "master::train() node15R-\n",
      "master::train() node14R-\n",
      "master::train() node13R-\n",
      "master::train() node12RQ\n",
      "master::train() node12L-\n",
      "master::train() node11RQ\n",
      "master::train() node11L-\n",
      "master::train() node10RG\n",
      "master::train() node10LG\n",
      "master::train() node13L-\n",
      "master::train() node12R-\n",
      "master::train() node11R-\n",
      "master::train() node10RG\n",
      "master::train() node10L-\n",
      "master::train() node9R-\n",
      "master::train() node8RG\n",
      "master::train() node8LG\n",
      "master::train() node9LG\n",
      "master::train() node11L-\n",
      "master::train() node10RG\n",
      "master::train() node10LQ\n",
      "master::train() node12LG\n",
      "master::train() node14LG\n",
      "master::train() node15L-\n",
      "master::train() node14RG\n",
      "master::train() node14LG\n",
      "master::train() node19L-\n",
      "master::train() node18R-\n",
      "master::train() node17R-\n",
      "master::train() node16RG\n",
      "master::train() node16L-\n",
      "master::train() node15R-\n",
      "master::train() node14RG\n",
      "master::train() node14LG\n",
      "master::train() node15LG\n",
      "master::train() node17L-\n",
      "master::train() node16RG\n",
      "master::train() node16L-\n",
      "master::train() node15RG\n",
      "master::train() node15L-\n",
      "master::train() node14RQ\n",
      "master::train() node14L-\n",
      "master::train() node13RG\n",
      "master::train() node13LG\n",
      "master::train() node18L-\n",
      "master::train() node17R-\n",
      "master::train() node16R-\n",
      "master::train() node15R-\n",
      "master::train() node14RG\n",
      "master::train() node14L-\n",
      "master::train() node13RG\n",
      "master::train() node13LG\n",
      "master::train() node15LG\n",
      "master::train() node16LG\n",
      "master::train() node17L-\n",
      "master::train() node16R-\n",
      "master::train() node15RG\n",
      "master::train() node15L-\n",
      "master::train() node14RG\n",
      "master::train() node14LG\n",
      "master::train() node16L-\n",
      "master::train() node15RG\n",
      "master::train() node15LG\n"
     ]
    }
   ],
   "source": [
    "import pickle\n",
    "from pforest.master import master\n",
    "m=master(dsetname='CS213')\n",
    "m.reset()\n",
    "m.train()\n",
    "with open('CS213/out_tree2.pic', 'wb') as pickleFile:\n",
    "    pickle.dump(m.root, pickleFile, pickle.HIGHEST_PROTOCOL)\n"
   ]
  },
  {
   "cell_type": "code",
   "execution_count": 45,
   "metadata": {
    "collapsed": false
   },
   "outputs": [
    {
     "name": "stdout",
     "output_type": "stream",
     "text": [
      "*- 20 H:2.842e+00,Q:000306 tau:11.0 theta:[ 19.]\n",
      "L- 19 H:2.603e+00,Q:000241 tau:10.0 theta:[ 189.]\n",
      "L- 18 H:2.686e+00,Q:000083 tau:7.0 theta:[ 25.]\n",
      "L- 17 H:2.350e+00,Q:000064 tau:7.0 theta:[ 98.]\n",
      "L- 16 H:1.275e+00,Q:000010 tau:11.0 theta:[ 20.]\n",
      "L- 15 H:1.094e+00,Q:000008 tau:7.0 theta:[ 22.]\n",
      "LG 14 H:9.704e-36,Q:000002 (cl,P):(006,1.00) (013,0.00) (012,0.00)\n",
      "R- 14 H:5.409e-01,Q:000006 tau:9.0 theta:[ 160.]\n",
      "LG 13 H:5.000e-01,Q:000004 (cl,P):(009,0.50) (008,0.25) (007,0.25)\n",
      "RG 13 H:9.704e-36,Q:000002 (cl,P):(007,1.00) (013,0.00) (012,0.00)\n",
      "RG 15 H:9.704e-36,Q:000002 (cl,P):(010,1.00) (013,0.00) (012,0.00)\n",
      "R- 16 H:2.189e+00,Q:000054 tau:9.0 theta:[ 20.]\n",
      "L- 15 H:2.007e+00,Q:000024 tau:9.0 theta:[ 60.]\n",
      "L- 14 H:1.869e+00,Q:000022 tau:8.0 theta:[ 20.]\n",
      "L- 13 H:1.500e+00,Q:000012 tau:11.0 theta:[ 98.]\n",
      "LG 12 H:1.206e+00,Q:000009 (cl,P):(007,0.44) (006,0.33) (008,0.11)\n",
      "RG 12 H:9.183e-01,Q:000003 (cl,P):(005,0.67) (006,0.33) (013,0.00)\n",
      "RG 13 H:1.751e+00,Q:000010 (cl,P):(009,0.30) (007,0.30) (005,0.20)\n",
      "RG 14 H:1.000e+00,Q:000002 (cl,P):(010,0.50) (008,0.50) (013,0.00)\n",
      "R- 15 H:1.903e+00,Q:000030 tau:9.0 theta:[ 98.]\n",
      "LG 14 H:1.623e+00,Q:000017 (cl,P):(009,0.41) (008,0.35) (007,0.12)\n",
      "RG 14 H:1.397e+00,Q:000013 (cl,P):(009,0.38) (010,0.23) (007,0.23)\n",
      "R- 17 H:2.276e+00,Q:000019 tau:9.0 theta:[ 126.]\n",
      "LG 16 H:1.556e+00,Q:000009 (cl,P):(010,0.44) (009,0.22) (011,0.11)\n",
      "R- 16 H:1.925e+00,Q:000010 tau:8.0 theta:[ 98.]\n",
      "LG 15 H:9.183e-01,Q:000003 (cl,P):(010,0.67) (006,0.33) (013,0.00)\n",
      "R- 15 H:1.265e+00,Q:000007 tau:8.0 theta:[ 125.]\n",
      "L- 14 H:1.000e+00,Q:000004 tau:9.0 theta:[ 29.]\n",
      "LQ 13 H:1.925e-35,Q:000001 (cl,P):(011,1.00) (013,0.00) (012,0.00)\n",
      "RG 13 H:6.667e-01,Q:000003 (cl,P):(013,0.33) (010,0.33) (009,0.33)\n",
      "R- 14 H:9.183e-01,Q:000003 tau:8.0 theta:[ 191.]\n",
      "LQ 13 H:1.925e-35,Q:000001 (cl,P):(011,1.00) (013,0.00) (012,0.00)\n",
      "RG 13 H:1.000e+00,Q:000002 (cl,P):(012,0.50) (011,0.50) (013,0.00)\n",
      "R- 18 H:2.405e+00,Q:000158 tau:9.0 theta:[ 201.]\n",
      "L- 17 H:2.361e+00,Q:000067 tau:9.0 theta:[ 22.]\n",
      "L- 16 H:2.207e+00,Q:000033 tau:7.0 theta:[ 130.]\n",
      "LG 15 H:1.926e+00,Q:000022 (cl,P):(007,0.32) (009,0.23) (008,0.23)\n",
      "R- 15 H:1.798e+00,Q:000011 tau:9.0 theta:[ 160.]\n",
      "L- 14 H:1.644e+00,Q:000007 tau:9.0 theta:[ 86.]\n",
      "L- 13 H:1.200e+00,Q:000005 tau:8.0 theta:[ 130.]\n",
      "LQ 12 H:1.925e-35,Q:000002 (cl,P):(010,0.50) (009,0.50) (013,0.00)\n",
      "RG 12 H:9.183e-01,Q:000003 (cl,P):(008,0.67) (011,0.33) (013,0.00)\n",
      "RG 13 H:9.704e-36,Q:000002 (cl,P):(009,1.00) (013,0.00) (012,0.00)\n",
      "RG 14 H:1.189e+00,Q:000004 (cl,P):(009,0.50) (011,0.25) (006,0.25)\n",
      "R- 16 H:2.083e+00,Q:000034 tau:11.0 theta:[ 99.]\n",
      "L- 15 H:2.065e+00,Q:000024 tau:9.0 theta:[ 31.]\n",
      "L- 14 H:1.956e+00,Q:000021 tau:9.0 theta:[ 34.]\n",
      "L- 13 H:1.816e+00,Q:000018 tau:8.0 theta:[ 191.]\n",
      "L- 12 H:1.609e+00,Q:000013 tau:12.0 theta:[ 169.]\n",
      "L- 11 H:1.667e+00,Q:000012 tau:9.0 theta:[ 98.]\n",
      "LG 10 H:1.333e+00,Q:000006 (cl,P):(009,0.50) (008,0.17) (007,0.17)\n",
      "RG 10 H:1.333e+00,Q:000006 (cl,P):(009,0.50) (011,0.17) (008,0.17)\n",
      "RQ 11 H:1.925e-35,Q:000001 (cl,P):(009,1.00) (013,0.00) (012,0.00)\n",
      "RG 12 H:1.600e+00,Q:000005 (cl,P):(009,0.40) (010,0.20) (008,0.20)\n",
      "RG 13 H:9.183e-01,Q:000003 (cl,P):(010,0.67) (008,0.33) (013,0.00)\n",
      "RG 14 H:6.667e-01,Q:000003 (cl,P):(010,0.67) (008,0.33) (013,0.00)\n",
      "RG 15 H:1.216e+00,Q:000010 (cl,P):(009,0.50) (008,0.30) (011,0.20)\n",
      "R- 17 H:2.290e+00,Q:000091 tau:10.0 theta:[ 160.]\n",
      "L- 16 H:2.318e+00,Q:000064 tau:10.0 theta:[ 201.]\n",
      "L- 15 H:2.249e+00,Q:000036 tau:7.0 theta:[ 38.]\n",
      "L- 14 H:2.112e+00,Q:000031 tau:6.0 theta:[ 160.]\n",
      "LG 13 H:1.201e+00,Q:000008 (cl,P):(009,0.50) (010,0.25) (011,0.12)\n",
      "RG 13 H:2.031e+00,Q:000023 (cl,P):(008,0.30) (009,0.22) (007,0.22)\n",
      "R- 14 H:1.371e+00,Q:000005 tau:11.0 theta:[ 15.]\n",
      "L- 13 H:9.183e-01,Q:000003 tau:12.0 theta:[ 189.]\n",
      "LQ 12 H:1.925e-35,Q:000001 (cl,P):(008,1.00) (013,0.00) (012,0.00)\n",
      "RG 12 H:1.000e+00,Q:000002 (cl,P):(010,0.50) (008,0.50) (013,0.00)\n",
      "RG 13 H:1.000e+00,Q:000002 (cl,P):(011,0.50) (008,0.50) (013,0.00)\n",
      "RG 15 H:2.014e+00,Q:000028 (cl,P):(009,0.32) (010,0.25) (008,0.21)\n",
      "R- 16 H:1.722e+00,Q:000027 tau:12.0 theta:[ 98.]\n",
      "L- 15 H:1.824e+00,Q:000023 tau:7.0 theta:[ 196.]\n",
      "L- 14 H:9.183e-01,Q:000003 tau:3.0 theta:[ 97.]\n",
      "LQ 13 H:1.925e-35,Q:000001 (cl,P):(009,1.00) (013,0.00) (012,0.00)\n",
      "RG 13 H:9.704e-36,Q:000002 (cl,P):(010,1.00) (013,0.00) (012,0.00)\n",
      "R- 14 H:1.795e+00,Q:000020 tau:10.0 theta:[ 19.]\n",
      "L- 13 H:1.670e+00,Q:000011 tau:10.0 theta:[ 103.]\n",
      "LG 12 H:1.675e+00,Q:000010 (cl,P):(009,0.40) (008,0.30) (010,0.20)\n",
      "RQ 12 H:1.925e-35,Q:000001 (cl,P):(011,1.00) (013,0.00) (012,0.00)\n",
      "RG 13 H:1.279e+00,Q:000009 (cl,P):(009,0.44) (010,0.33) (011,0.22)\n",
      "RG 15 H:4.890e-36,Q:000004 (cl,P):(009,1.00) (013,0.00) (012,0.00)\n",
      "R- 19 H:2.574e+00,Q:000065 tau:11.0 theta:[ 22.]\n",
      "L- 18 H:2.269e+00,Q:000037 tau:9.0 theta:[ 98.]\n",
      "LG 17 H:2.440e+00,Q:000012 (cl,P):(011,0.25) (010,0.17) (009,0.17)\n",
      "RG 17 H:1.760e+00,Q:000025 (cl,P):(010,0.48) (009,0.16) (011,0.12)\n",
      "R- 18 H:1.728e+00,Q:000028 tau:10.0 theta:[ 125.]\n",
      "LG 17 H:1.333e+00,Q:000006 (cl,P):(013,0.33) (012,0.33) (011,0.33)\n",
      "R- 17 H:1.632e+00,Q:000022 tau:12.0 theta:[ 162.]\n",
      "L- 16 H:1.495e+00,Q:000020 tau:9.0 theta:[ 162.]\n",
      "LQ 15 H:1.925e-35,Q:000001 (cl,P):(012,1.00) (013,0.00) (011,0.00)\n",
      "RG 15 H:1.483e+00,Q:000019 (cl,P):(013,0.47) (012,0.32) (011,0.16)\n",
      "RQ 16 H:1.925e-35,Q:000002 (cl,P):(012,0.50) (010,0.50) (013,0.00)\n",
      "\n"
     ]
    }
   ],
   "source": [
    "from pforest.dataset import dataset\n",
    "from pforest.tree import tree\n",
    "with open('CS213/out_tree2.pic', 'rb') as pickleFile:\n",
    "    root = pickle.load(pickleFile)\n",
    "#init the test treetree213.pic\n",
    "t=tree()\n",
    "t.settree(root)\n",
    "t.show()"
   ]
  },
  {
   "cell_type": "code",
   "execution_count": 49,
   "metadata": {
    "collapsed": false
   },
   "outputs": [],
   "source": [
    "with open('CS213/dataset04.pic', 'rb') as pickleFile:\n",
    "     data = pickle.load(pickleFile)"
   ]
  },
  {
   "cell_type": "code",
   "execution_count": 50,
   "metadata": {
    "collapsed": true
   },
   "outputs": [],
   "source": [
    "I=data[-2];L=data[-3]"
   ]
  },
  {
   "cell_type": "code",
   "execution_count": 51,
   "metadata": {
    "collapsed": false
   },
   "outputs": [
    {
     "data": {
      "text/plain": [
       "array([[0, 0, 0, ..., 0, 5, 0],\n",
       "       [0, 0, 0, ..., 0, 5, 0],\n",
       "       [0, 0, 0, ..., 0, 5, 0],\n",
       "       ..., \n",
       "       [0, 0, 0, ..., 0, 9, 0],\n",
       "       [0, 0, 0, ..., 0, 9, 0],\n",
       "       [0, 0, 0, ..., 0, 6, 0]], dtype=int64)"
      ]
     },
     "execution_count": 51,
     "metadata": {},
     "output_type": "execute_result"
    }
   ],
   "source": [
    "I"
   ]
  },
  {
   "cell_type": "code",
   "execution_count": 52,
   "metadata": {
    "collapsed": false,
    "scrolled": true
   },
   "outputs": [
    {
     "data": {
      "text/plain": [
       "array([ 9,  7, 10, 13,  7, 10,  9,  6,  9, 10,  8, 10,  7,  8,  7,  8,  9,\n",
       "        9,  7,  9,  9,  8,  9,  8,  8, 10, 10, 11, 10,  7,  5,  6,  5,  9,\n",
       "       10,  8, 11,  7,  8, 10,  7,  8, 10, 11,  9,  6,  8, 11, 11, 10,  7,\n",
       "        9,  6,  9, 13,  9, 11,  9, 10,  9, 10,  9, 11, 12,  9, 10, 13, 12,\n",
       "        9,  9, 12, 11,  9,  9,  8, 10,  9,  9, 13, 10,  9, 13,  9, 13,  9,\n",
       "        8,  8, 11,  8, 10,  8, 10, 12,  9,  8,  9, 10, 12, 10,  9,  9,  9,\n",
       "        7, 10, 11, 10,  8,  9,  8, 11, 11, 10,  8,  9,  8,  9, 10,  9, 10,\n",
       "        9,  9, 11,  8,  9,  9, 10,  9,  9,  6,  7,  9,  8,  7,  7, 10,  8,\n",
       "        7, 10,  9,  8,  9, 10,  9,  6, 11, 12,  6,  7,  7, 10, 10, 10,  6], dtype=int64)"
      ]
     },
     "execution_count": 52,
     "metadata": {},
     "output_type": "execute_result"
    }
   ],
   "source": [
    "L"
   ]
  },
  {
   "cell_type": "code",
   "execution_count": 53,
   "metadata": {
    "collapsed": false,
    "scrolled": true
   },
   "outputs": [
    {
     "name": "stdout",
     "output_type": "stream",
     "text": [
      "actual grade:9 predicted grade:9\n",
      "actual grade:7 predicted grade:9\n",
      "actual grade:10 predicted grade:10\n",
      "actual grade:13 predicted grade:11\n",
      "actual grade:7 predicted grade:9\n",
      "actual grade:10 predicted grade:9\n",
      "actual grade:9 predicted grade:9\n",
      "actual grade:6 predicted grade:7\n",
      "actual grade:9 predicted grade:7\n",
      "actual grade:10 predicted grade:10\n",
      "actual grade:8 predicted grade:10\n",
      "actual grade:10 predicted grade:10\n",
      "actual grade:7 predicted grade:7\n",
      "actual grade:8 predicted grade:7\n",
      "actual grade:7 predicted grade:7\n",
      "actual grade:8 predicted grade:9\n",
      "actual grade:9 predicted grade:9\n",
      "actual grade:9 predicted grade:8\n",
      "actual grade:7 predicted grade:7\n",
      "actual grade:9 predicted grade:9\n",
      "actual grade:9 predicted grade:8\n",
      "actual grade:8 predicted grade:9\n",
      "actual grade:9 predicted grade:9\n",
      "actual grade:8 predicted grade:9\n",
      "actual grade:8 predicted grade:10\n",
      "actual grade:10 predicted grade:10\n",
      "actual grade:10 predicted grade:10\n",
      "actual grade:11 predicted grade:10\n",
      "actual grade:10 predicted grade:10\n",
      "actual grade:7 predicted grade:7\n",
      "actual grade:5 predicted grade:5\n",
      "actual grade:6 predicted grade:5\n",
      "actual grade:5 predicted grade:5\n",
      "actual grade:9 predicted grade:9\n",
      "actual grade:10 predicted grade:10\n",
      "actual grade:8 predicted grade:9\n",
      "actual grade:11 predicted grade:10\n",
      "actual grade:7 predicted grade:9\n",
      "actual grade:8 predicted grade:10\n",
      "actual grade:10 predicted grade:10\n",
      "actual grade:7 predicted grade:7\n",
      "actual grade:8 predicted grade:10\n",
      "actual grade:10 predicted grade:9\n",
      "actual grade:11 predicted grade:9\n",
      "actual grade:9 predicted grade:7\n",
      "actual grade:6 predicted grade:7\n",
      "actual grade:8 predicted grade:9\n",
      "actual grade:11 predicted grade:11\n",
      "actual grade:11 predicted grade:11\n",
      "actual grade:10 predicted grade:9\n",
      "actual grade:7 predicted grade:7\n",
      "actual grade:9 predicted grade:9\n",
      "actual grade:6 predicted grade:7\n",
      "actual grade:9 predicted grade:9\n",
      "actual grade:13 predicted grade:11\n",
      "actual grade:9 predicted grade:9\n",
      "actual grade:11 predicted grade:9\n",
      "actual grade:9 predicted grade:9\n",
      "actual grade:10 predicted grade:9\n",
      "actual grade:9 predicted grade:9\n",
      "actual grade:10 predicted grade:10\n",
      "actual grade:9 predicted grade:9\n",
      "actual grade:11 predicted grade:9\n",
      "actual grade:12 predicted grade:13\n",
      "actual grade:9 predicted grade:9\n",
      "actual grade:10 predicted grade:10\n",
      "actual grade:13 predicted grade:13\n",
      "actual grade:12 predicted grade:9\n",
      "actual grade:9 predicted grade:7\n",
      "actual grade:9 predicted grade:9\n",
      "actual grade:12 predicted grade:10\n",
      "actual grade:11 predicted grade:9\n",
      "actual grade:9 predicted grade:9\n",
      "actual grade:9 predicted grade:7\n",
      "actual grade:8 predicted grade:9\n",
      "actual grade:10 predicted grade:9\n",
      "actual grade:9 predicted grade:9\n",
      "actual grade:9 predicted grade:9\n",
      "actual grade:13 predicted grade:13\n",
      "actual grade:10 predicted grade:9\n",
      "actual grade:9 predicted grade:9\n",
      "actual grade:13 predicted grade:13\n",
      "actual grade:9 predicted grade:9\n",
      "actual grade:13 predicted grade:13\n",
      "actual grade:9 predicted grade:9\n",
      "actual grade:8 predicted grade:9\n",
      "actual grade:8 predicted grade:8\n",
      "actual grade:11 predicted grade:9\n",
      "actual grade:8 predicted grade:10\n",
      "actual grade:10 predicted grade:9\n",
      "actual grade:8 predicted grade:9\n",
      "actual grade:10 predicted grade:10\n",
      "actual grade:12 predicted grade:12\n",
      "actual grade:9 predicted grade:9\n",
      "actual grade:8 predicted grade:8\n",
      "actual grade:9 predicted grade:9\n",
      "actual grade:10 predicted grade:13\n",
      "actual grade:12 predicted grade:13\n",
      "actual grade:10 predicted grade:10\n",
      "actual grade:9 predicted grade:9\n",
      "actual grade:9 predicted grade:11\n",
      "actual grade:9 predicted grade:7\n",
      "actual grade:7 predicted grade:7\n",
      "actual grade:10 predicted grade:10\n",
      "actual grade:11 predicted grade:13\n",
      "actual grade:10 predicted grade:10\n",
      "actual grade:8 predicted grade:9\n",
      "actual grade:9 predicted grade:9\n",
      "actual grade:8 predicted grade:8\n",
      "actual grade:11 predicted grade:11\n",
      "actual grade:11 predicted grade:13\n",
      "actual grade:10 predicted grade:9\n",
      "actual grade:8 predicted grade:7\n",
      "actual grade:9 predicted grade:9\n",
      "actual grade:8 predicted grade:8\n",
      "actual grade:9 predicted grade:9\n",
      "actual grade:10 predicted grade:10\n",
      "actual grade:9 predicted grade:10\n",
      "actual grade:10 predicted grade:10\n",
      "actual grade:9 predicted grade:9\n",
      "actual grade:9 predicted grade:7\n",
      "actual grade:11 predicted grade:10\n",
      "actual grade:8 predicted grade:10\n",
      "actual grade:9 predicted grade:9\n",
      "actual grade:9 predicted grade:9\n",
      "actual grade:10 predicted grade:9\n",
      "actual grade:9 predicted grade:9\n",
      "actual grade:9 predicted grade:8\n",
      "actual grade:6 predicted grade:7\n",
      "actual grade:7 predicted grade:7\n",
      "actual grade:9 predicted grade:9\n",
      "actual grade:8 predicted grade:9\n",
      "actual grade:7 predicted grade:9\n",
      "actual grade:7 predicted grade:9\n",
      "actual grade:10 predicted grade:8\n",
      "actual grade:8 predicted grade:8\n",
      "actual grade:7 predicted grade:9\n",
      "actual grade:10 predicted grade:9\n",
      "actual grade:9 predicted grade:9\n",
      "actual grade:8 predicted grade:7\n",
      "actual grade:9 predicted grade:9\n",
      "actual grade:10 predicted grade:9\n",
      "actual grade:9 predicted grade:9\n",
      "actual grade:6 predicted grade:7\n",
      "actual grade:11 predicted grade:13\n",
      "actual grade:12 predicted grade:13\n",
      "actual grade:6 predicted grade:7\n",
      "actual grade:7 predicted grade:8\n",
      "actual grade:7 predicted grade:9\n",
      "actual grade:10 predicted grade:10\n",
      "actual grade:10 predicted grade:8\n",
      "actual grade:10 predicted grade:9\n",
      "actual grade:6 predicted grade:7\n"
     ]
    }
   ],
   "source": [
    "i=0\n",
    "actual2=np.array(L)\n",
    "predict2=np.zeros(len(L))\n",
    "for i in xrange(len(L)):\n",
    "    Prob=t.classify(I[i])\n",
    "    predict2[i]=np.argmax(Prob)\n",
    "   \n",
    "    print \"actual grade:%d predicted grade:%d\"%(actual2[i],predict2[i])"
   ]
  },
  {
   "cell_type": "code",
   "execution_count": 54,
   "metadata": {
    "collapsed": false
   },
   "outputs": [
    {
     "data": {
      "text/plain": [
       "1.1260434521851945"
      ]
     },
     "execution_count": 54,
     "metadata": {},
     "output_type": "execute_result"
    }
   ],
   "source": [
    "np.sqrt(np.sum((actual2-predict2)**2)/len(L))"
   ]
  },
  {
   "cell_type": "code",
   "execution_count": 55,
   "metadata": {
    "collapsed": false
   },
   "outputs": [
    {
     "name": "stdout",
     "output_type": "stream",
     "text": [
      "Populating the interactive namespace from numpy and matplotlib\n"
     ]
    },
    {
     "name": "stderr",
     "output_type": "stream",
     "text": [
      "WARNING: pylab import has clobbered these variables: ['sum']\n",
      "`%matplotlib` prevents importing * from pylab and numpy\n"
     ]
    },
    {
     "data": {
      "text/plain": [
       "(array([  1.,   0.,   0.,   0.,   0.,  17.,   0.,   0.,   0.,   0.,  22.,\n",
       "          0.,   0.,   0.,   0.,  74.,   0.,   0.,   0.,   0.,  22.,   0.,\n",
       "          0.,   0.,   0.,  16.,   0.,   0.,   0.,   1.]),\n",
       " array([-3. , -2.8, -2.6, -2.4, -2.2, -2. , -1.8, -1.6, -1.4, -1.2, -1. ,\n",
       "        -0.8, -0.6, -0.4, -0.2,  0. ,  0.2,  0.4,  0.6,  0.8,  1. ,  1.2,\n",
       "         1.4,  1.6,  1.8,  2. ,  2.2,  2.4,  2.6,  2.8,  3. ]),\n",
       " <a list of 30 Patch objects>)"
      ]
     },
     "execution_count": 55,
     "metadata": {},
     "output_type": "execute_result"
    },
    {
     "data": {
      "image/png": "[encoded data removed]",
      "text/plain": [
       "<matplotlib.figure.Figure at 0xf9b2a90>"
      ]
     },
     "metadata": {},
     "output_type": "display_data"
    }
   ],
   "source": [
    "from matplotlib import pyplot as plt\n",
    "%pylab inline\n",
    "plt.hist(actual2-predict2,30)"
   ]
  },
  {
   "cell_type": "code",
   "execution_count": 56,
   "metadata": {
    "collapsed": false
   },
   "outputs": [
    {
     "name": "stdout",
     "output_type": "stream",
     "text": [
      "[[  0.   0.   0.   0.   0.   0.   0.   0.   0.   0.   0.   0.   0.   0.]\n",
      " [  0.   0.   0.   0.   0.   0.   0.   0.   0.   0.   0.   0.   0.   0.]\n",
      " [  0.   0.   0.   0.   0.   0.   0.   0.   0.   0.   0.   0.   0.   0.]\n",
      " [  0.   0.   0.   0.   0.   0.   0.   0.   0.   0.   0.   0.   0.   0.]\n",
      " [  0.   0.   0.   0.   0.   0.   0.   0.   0.   0.   0.   0.   0.   0.]\n",
      " [  0.   0.   0.   0.   0.   2.   1.   0.   0.   0.   0.   0.   0.   0.]\n",
      " [  0.   0.   0.   0.   0.   0.   0.   0.   0.   0.   0.   0.   0.   0.]\n",
      " [  0.   0.   0.   0.   0.   0.   7.   8.   3.   6.   0.   0.   0.   0.]\n",
      " [  0.   0.   0.   0.   0.   0.   0.   1.   5.   3.   2.   0.   0.   0.]\n",
      " [  0.   0.   0.   0.   0.   0.   0.   7.  10.  34.  12.   5.   1.   0.]\n",
      " [  0.   0.   0.   0.   0.   0.   0.   0.   6.   1.  17.   3.   1.   0.]\n",
      " [  0.   0.   0.   0.   0.   0.   0.   0.   0.   1.   0.   3.   0.   2.]\n",
      " [  0.   0.   0.   0.   0.   0.   0.   0.   0.   0.   0.   0.   1.   0.]\n",
      " [  0.   0.   0.   0.   0.   0.   0.   0.   0.   0.   1.   3.   3.   4.]]\n"
     ]
    }
   ],
   "source": [
    "n = 14\n",
    "cm2 = np.zeros((n,n))\n",
    "for i in xrange(len(actual2)):\n",
    "    cm2[predict2[i],actual2[i]] +=1\n",
    "print cm2"
   ]
  },
  {
   "cell_type": "code",
   "execution_count": 57,
   "metadata": {
    "collapsed": false,
    "scrolled": true
   },
   "outputs": [
    {
     "name": "stdout",
     "output_type": "stream",
     "text": [
      "TP is 74.000000\n",
      "--------------------------------------------\n",
      "FP is 79.000000\n",
      "precision is 0.483660\n"
     ]
    }
   ],
   "source": [
    "#find TP\n",
    "from collections import defaultdict\n",
    "tp = defaultdict(list)\n",
    "fp = defaultdict(list)\n",
    "for i in range(0,14):\n",
    "    for j in range(0,14):\n",
    "        if i == j: \n",
    "            tp[i] = cm2[i,j]\n",
    "            TP = tp[i]+tp[i-1]+tp[i-2]+tp[i-3]+tp[i-4]+tp[i-5]+tp[i-6]+tp[i-7]+tp[i-8]+tp[i-9]+tp[i-10]+tp[i-11]+tp[i-12]+tp[i-13]\n",
    "        \n",
    "            \n",
    "print \"TP is %f\"%(TP)\n",
    "print \"--------------------------------------------\"\n",
    "sum = cm2.sum()\n",
    "FP = sum-TP\n",
    "print \"FP is %f\"%(FP)\n",
    "\n",
    "precision = TP/(FP+TP)\n",
    "print \"precision is %f\"%(precision)"
   ]
  },
  {
   "cell_type": "markdown",
   "metadata": {},
   "source": [
    "# Training(3)"
   ]
  },
  {
   "cell_type": "code",
   "execution_count": 58,
   "metadata": {
    "collapsed": false,
    "scrolled": false
   },
   "outputs": [
    {
     "name": "stdout",
     "output_type": "stream",
     "text": [
      "master>>init() dsetname: CS213\n",
      "master>> create dview\n",
      "master>> init engine\n",
      "Found pforest\n",
      "debug:master:__init__: ['CS213/dataset00.pic', 'CS213/dataset01.pic']\n",
      "master>> init local variables\n",
      "master>>reset()\n",
      "master>>reset() H: 2.7776\n",
      "master>>reset() Q: 00306\n",
      "master::train() node20*-\n",
      "master::train() node19R-\n",
      "master::train() node18R-\n",
      "master::train() node17R-\n",
      "master::train() node16RG\n",
      "master::train() node16L-\n",
      "master::train() node15R-\n",
      "master::train() node14R-\n",
      "master::train() node13R-\n",
      "master::train() node12R-\n",
      "master::train() node11RG\n",
      "master::train() node11LG\n",
      "master::train() node12LG\n",
      "master::train() node13LG\n",
      "master::train() node14LG\n",
      "master::train() node15LG\n",
      "master::train() node17L-\n",
      "master::train() node16R-\n",
      "master::train() node15R-\n",
      "master::train() node14RG\n",
      "master::train() node14LG\n",
      "master::train() node15L-\n",
      "master::train() node14RQ\n",
      "master::train() node14LG\n",
      "master::train() node16L-\n",
      "master::train() node15R-\n",
      "master::train() node14RG\n",
      "master::train() node14LG\n",
      "master::train() node15LG\n",
      "master::train() node18L-\n",
      "master::train() node17R-\n",
      "master::train() node16R-\n",
      "master::train() node15RG\n",
      "master::train() node15LG\n",
      "master::train() node16L-\n",
      "master::train() node15RQ\n",
      "master::train() node15LQ\n",
      "master::train() node17L-\n",
      "master::train() node16RG\n",
      "master::train() node16L-\n",
      "master::train() node15RG\n",
      "master::train() node15L-\n",
      "master::train() node14R-\n",
      "master::train() node13RG\n",
      "master::train() node13LG\n",
      "master::train() node14LQ\n",
      "master::train() node19L-\n",
      "master::train() node18R-\n",
      "master::train() node17R-\n",
      "master::train() node16R-\n",
      "master::train() node15RG\n",
      "master::train() node15LG\n",
      "master::train() node16L-\n",
      "master::train() node15R-\n",
      "master::train() node14RQ\n",
      "master::train() node14L-\n",
      "master::train() node13RQ\n",
      "master::train() node13LG\n",
      "master::train() node15LG\n",
      "master::train() node17L-\n",
      "master::train() node16RG\n",
      "master::train() node16L-\n",
      "master::train() node15R-\n",
      "master::train() node14RG\n",
      "master::train() node14L-\n",
      "master::train() node13RQ\n",
      "master::train() node13L-\n",
      "master::train() node12RG\n",
      "master::train() node12L-\n",
      "master::train() node11RG\n",
      "master::train() node11LG\n",
      "master::train() node15LG\n",
      "master::train() node18L-\n",
      "master::train() node17RG\n",
      "master::train() node17L-\n",
      "master::train() node16RQ\n",
      "master::train() node16L-\n",
      "master::train() node15RQ\n",
      "master::train() node15LG\n"
     ]
    }
   ],
   "source": [
    "import pickle\n",
    "from pforest.master import master\n",
    "m=master(dsetname='CS213')\n",
    "m.reset()\n",
    "m.train()\n",
    "with open('CS213/out_tree3.pic', 'wb') as pickleFile:\n",
    "    pickle.dump(m.root, pickleFile, pickle.HIGHEST_PROTOCOL)"
   ]
  },
  {
   "cell_type": "code",
   "execution_count": 60,
   "metadata": {
    "collapsed": false
   },
   "outputs": [
    {
     "name": "stdout",
     "output_type": "stream",
     "text": [
      "*- 20 H:2.778e+00,Q:000306 tau:9.0 theta:[ 22.]\n",
      "L- 19 H:2.449e+00,Q:000098 tau:6.0 theta:[ 191.]\n",
      "L- 18 H:1.995e+00,Q:000049 tau:7.0 theta:[ 160.]\n",
      "L- 17 H:2.094e+00,Q:000016 tau:13.0 theta:[ 172.]\n",
      "L- 16 H:2.004e+00,Q:000014 tau:11.0 theta:[ 19.]\n",
      "LG 15 H:1.998e+00,Q:000013 (cl,P):(006,0.38) (010,0.15) (008,0.15)\n",
      "RQ 15 H:1.925e-35,Q:000001 (cl,P):(010,1.00) (013,0.00) (012,0.00)\n",
      "RQ 16 H:1.925e-35,Q:000002 (cl,P):(007,1.00) (013,0.00) (012,0.00)\n",
      "RG 17 H:1.641e+00,Q:000033 (cl,P):(009,0.36) (006,0.27) (007,0.24)\n",
      "R- 18 H:2.393e+00,Q:000049 tau:5.0 theta:[ 130.]\n",
      "L- 17 H:1.841e+00,Q:000023 tau:10.0 theta:[ 102.]\n",
      "L- 16 H:1.835e+00,Q:000020 tau:8.0 theta:[ 22.]\n",
      "LG 15 H:6.667e-01,Q:000003 (cl,P):(007,0.67) (008,0.33) (013,0.00)\n",
      "R- 15 H:1.829e+00,Q:000017 tau:12.0 theta:[ 169.]\n",
      "L- 14 H:1.846e+00,Q:000015 tau:11.0 theta:[ 98.]\n",
      "L- 13 H:1.786e+00,Q:000013 tau:8.0 theta:[ 201.]\n",
      "L- 12 H:1.268e+00,Q:000006 tau:7.0 theta:[ 160.]\n",
      "LG 11 H:6.887e-01,Q:000004 (cl,P):(007,0.75) (006,0.25) (013,0.00)\n",
      "RG 11 H:9.704e-36,Q:000002 (cl,P):(009,1.00) (013,0.00) (012,0.00)\n",
      "RG 12 H:1.373e+00,Q:000007 (cl,P):(009,0.43) (008,0.29) (007,0.14)\n",
      "RQ 13 H:1.925e-35,Q:000002 (cl,P):(009,0.50) (008,0.50) (013,0.00)\n",
      "RG 14 H:1.000e+00,Q:000002 (cl,P):(009,0.50) (008,0.50) (013,0.00)\n",
      "RG 16 H:9.183e-01,Q:000003 (cl,P):(008,0.67) (006,0.33) (013,0.00)\n",
      "R- 17 H:2.294e+00,Q:000026 tau:7.0 theta:[ 64.]\n",
      "L- 16 H:2.410e+00,Q:000019 tau:10.0 theta:[ 183.]\n",
      "LG 15 H:1.925e+00,Q:000010 (cl,P):(010,0.30) (009,0.30) (012,0.10)\n",
      "R- 15 H:1.501e+00,Q:000009 tau:7.0 theta:[ 58.]\n",
      "L- 14 H:1.265e+00,Q:000007 tau:11.0 theta:[ 99.]\n",
      "LG 13 H:1.333e+00,Q:000006 (cl,P):(009,0.33) (008,0.33) (011,0.17)\n",
      "RQ 13 H:1.925e-35,Q:000001 (cl,P):(009,1.00) (013,0.00) (012,0.00)\n",
      "RQ 14 H:1.925e-35,Q:000002 (cl,P):(008,0.50) (007,0.50) (013,0.00)\n",
      "R- 16 H:1.143e+00,Q:000007 tau:11.0 theta:[ 189.]\n",
      "LG 15 H:1.000e+00,Q:000004 (cl,P):(010,0.50) (009,0.25) (008,0.25)\n",
      "RG 15 H:1.289e-35,Q:000003 (cl,P):(009,1.00) (013,0.00) (012,0.00)\n",
      "R- 19 H:2.590e+00,Q:000208 tau:11.0 theta:[ 189.]\n",
      "L- 18 H:2.262e+00,Q:000059 tau:7.0 theta:[ 34.]\n",
      "L- 17 H:2.238e+00,Q:000047 tau:12.0 theta:[ 196.]\n",
      "L- 16 H:1.915e+00,Q:000024 tau:10.0 theta:[ 201.]\n",
      "L- 15 H:1.803e+00,Q:000019 tau:8.0 theta:[ 20.]\n",
      "LQ 14 H:1.925e-35,Q:000001 (cl,P):(008,1.00) (013,0.00) (012,0.00)\n",
      "R- 14 H:1.673e+00,Q:000018 tau:10.0 theta:[ 20.]\n",
      "LG 13 H:1.241e+00,Q:000011 (cl,P):(009,0.55) (007,0.27) (008,0.18)\n",
      "RG 13 H:1.265e+00,Q:000007 (cl,P):(009,0.57) (011,0.29) (010,0.14)\n",
      "RG 15 H:8.000e-01,Q:000005 (cl,P):(010,0.40) (009,0.40) (013,0.20)\n",
      "RG 16 H:2.209e+00,Q:000023 (cl,P):(009,0.30) (008,0.26) (010,0.22)\n",
      "R- 17 H:1.626e+00,Q:000012 tau:5.0 theta:[ 47.]\n",
      "L- 16 H:1.000e+00,Q:000002 tau:12.0 theta:[ 111.]\n",
      "LQ 15 H:1.925e-35,Q:000001 (cl,P):(012,1.00) (013,0.00) (011,0.00)\n",
      "RQ 15 H:1.925e-35,Q:000001 (cl,P):(009,1.00) (013,0.00) (012,0.00)\n",
      "R- 16 H:1.475e+00,Q:000010 tau:12.0 theta:[ 196.]\n",
      "LG 15 H:1.000e+00,Q:000004 (cl,P):(013,0.25) (011,0.25) (010,0.25)\n",
      "RG 15 H:6.667e-01,Q:000006 (cl,P):(009,0.67) (010,0.33) (013,0.00)\n",
      "R- 18 H:2.598e+00,Q:000149 tau:11.0 theta:[ 19.]\n",
      "L- 17 H:2.232e+00,Q:000093 tau:12.0 theta:[ 189.]\n",
      "L- 16 H:2.127e+00,Q:000053 tau:8.0 theta:[ 125.]\n",
      "LG 15 H:1.790e+00,Q:000025 (cl,P):(009,0.40) (008,0.32) (010,0.16)\n",
      "R- 15 H:2.071e+00,Q:000028 tau:10.0 theta:[ 162.]\n",
      "LG 14 H:1.667e+00,Q:000012 (cl,P):(010,0.42) (009,0.25) (008,0.25)\n",
      "RG 14 H:2.070e+00,Q:000016 (cl,P):(010,0.38) (009,0.25) (011,0.12)\n",
      "R- 16 H:1.981e+00,Q:000040 tau:10.0 theta:[ 22.]\n",
      "L- 15 H:1.388e+00,Q:000017 tau:12.0 theta:[ 159.]\n",
      "LG 14 H:1.398e+00,Q:000016 (cl,P):(009,0.56) (005,0.19) (006,0.12)\n",
      "RQ 14 H:1.925e-35,Q:000001 (cl,P):(009,1.00) (013,0.00) (012,0.00)\n",
      "R- 15 H:1.878e+00,Q:000023 tau:8.0 theta:[ 160.]\n",
      "LG 14 H:1.602e+00,Q:000006 (cl,P):(011,0.33) (009,0.33) (010,0.17)\n",
      "RG 14 H:1.559e+00,Q:000017 (cl,P):(009,0.53) (010,0.24) (008,0.12)\n",
      "R- 17 H:2.294e+00,Q:000056 tau:13.0 theta:[ 22.]\n",
      "L- 16 H:2.277e+00,Q:000041 tau:11.0 theta:[ 20.]\n",
      "LG 15 H:8.042e-01,Q:000010 (cl,P):(010,0.80) (011,0.10) (008,0.10)\n",
      "R- 15 H:2.380e+00,Q:000031 tau:10.0 theta:[ 154.]\n",
      "LG 14 H:9.510e-01,Q:000005 (cl,P):(009,0.40) (011,0.20) (010,0.20)\n",
      "R- 14 H:2.290e+00,Q:000026 tau:10.0 theta:[ 201.]\n",
      "LG 13 H:1.951e+00,Q:000010 (cl,P):(013,0.30) (010,0.30) (011,0.20)\n",
      "R- 13 H:1.712e+00,Q:000016 tau:12.0 theta:[ 154.]\n",
      "LG 12 H:1.565e+00,Q:000010 (cl,P):(012,0.40) (010,0.30) (011,0.20)\n",
      "R- 12 H:8.742e-01,Q:000006 tau:11.0 theta:[ 98.]\n",
      "LG 11 H:9.183e-01,Q:000003 (cl,P):(011,0.67) (012,0.33) (013,0.00)\n",
      "RG 11 H:6.667e-01,Q:000003 (cl,P):(013,0.33) (012,0.33) (011,0.33)\n",
      "RG 16 H:9.592e-01,Q:000015 (cl,P):(013,0.73) (012,0.20) (011,0.07)\n",
      "\n"
     ]
    }
   ],
   "source": [
    "from pforest.dataset import dataset\n",
    "from pforest.tree import tree\n",
    "with open('CS213/out_tree3.pic', 'rb') as pickleFile:\n",
    "    root = pickle.load(pickleFile)\n",
    "#init the test tree\n",
    "t=tree()\n",
    "t.settree(root)\n",
    "t.show()"
   ]
  },
  {
   "cell_type": "code",
   "execution_count": 61,
   "metadata": {
    "collapsed": true
   },
   "outputs": [],
   "source": [
    "with open('CS213/dataset04.pic', 'rb') as pickleFile:\n",
    "     data = pickle.load(pickleFile)\n",
    "I=data[-2];L=data[-3]"
   ]
  },
  {
   "cell_type": "code",
   "execution_count": 62,
   "metadata": {
    "collapsed": false
   },
   "outputs": [
    {
     "data": {
      "text/plain": [
       "array([[ 0,  0,  0, ...,  0,  7,  0],\n",
       "       [ 0,  0,  0, ...,  0, 13,  0],\n",
       "       [ 0,  0,  0, ...,  0, 11,  0],\n",
       "       ..., \n",
       "       [ 0,  0,  0, ...,  0,  7,  0],\n",
       "       [ 0,  0,  0, ...,  0,  7,  0],\n",
       "       [ 0,  0,  0, ...,  0,  5,  0]], dtype=int64)"
      ]
     },
     "execution_count": 62,
     "metadata": {},
     "output_type": "execute_result"
    }
   ],
   "source": [
    "I"
   ]
  },
  {
   "cell_type": "code",
   "execution_count": 63,
   "metadata": {
    "collapsed": false
   },
   "outputs": [
    {
     "data": {
      "text/plain": [
       "array([10, 13,  9, 11,  9,  8,  9,  9,  9,  6,  6,  9, 10,  7,  8, 10, 12,\n",
       "       10,  9,  6,  9,  9,  8, 10,  8, 12,  9,  9,  9,  8,  9,  9,  6,  8,\n",
       "        6,  9,  9, 12,  9, 11,  8,  9,  7,  9,  9,  6,  9,  8,  9, 10, 10,\n",
       "        8,  9,  8, 13, 10,  6,  8,  8,  9,  7, 13,  7,  9,  9,  8,  9,  7,\n",
       "       13, 13, 13, 11, 13, 11,  9,  9,  9,  7, 11,  9, 10,  9,  9,  9, 10,\n",
       "       10, 10, 10, 11, 10,  5,  6,  8,  5,  5,  6,  7, 12, 11,  9,  9,  9,\n",
       "        9,  9,  9, 12, 13,  5, 10, 11, 10, 12, 10,  9, 10,  9, 11,  8, 13,\n",
       "       13, 11,  6,  9, 12,  9,  8,  8,  8, 10, 10,  8, 10, 13,  9,  9,  8,\n",
       "       13,  8, 13,  8, 10,  8,  9,  6,  8, 11,  9,  9,  6,  5,  7,  9,  7], dtype=int64)"
      ]
     },
     "execution_count": 63,
     "metadata": {},
     "output_type": "execute_result"
    }
   ],
   "source": [
    "L"
   ]
  },
  {
   "cell_type": "code",
   "execution_count": 64,
   "metadata": {
    "collapsed": false
   },
   "outputs": [
    {
     "name": "stdout",
     "output_type": "stream",
     "text": [
      "actual grade:10 predicted grade:10\n",
      "actual grade:13 predicted grade:11\n",
      "actual grade:9 predicted grade:9\n",
      "actual grade:11 predicted grade:9\n",
      "actual grade:9 predicted grade:9\n",
      "actual grade:8 predicted grade:9\n",
      "actual grade:9 predicted grade:9\n",
      "actual grade:9 predicted grade:9\n",
      "actual grade:9 predicted grade:9\n",
      "actual grade:6 predicted grade:9\n",
      "actual grade:6 predicted grade:9\n",
      "actual grade:9 predicted grade:9\n",
      "actual grade:10 predicted grade:10\n",
      "actual grade:7 predicted grade:9\n",
      "actual grade:8 predicted grade:9\n",
      "actual grade:10 predicted grade:9\n",
      "actual grade:12 predicted grade:12\n",
      "actual grade:10 predicted grade:10\n",
      "actual grade:9 predicted grade:9\n",
      "actual grade:6 predicted grade:8\n",
      "actual grade:9 predicted grade:10\n",
      "actual grade:9 predicted grade:9\n",
      "actual grade:8 predicted grade:9\n",
      "actual grade:10 predicted grade:9\n",
      "actual grade:8 predicted grade:9\n",
      "actual grade:12 predicted grade:9\n",
      "actual grade:9 predicted grade:9\n",
      "actual grade:9 predicted grade:9\n",
      "actual grade:9 predicted grade:9\n",
      "actual grade:8 predicted grade:6\n",
      "actual grade:9 predicted grade:9\n",
      "actual grade:9 predicted grade:9\n",
      "actual grade:6 predicted grade:9\n",
      "actual grade:8 predicted grade:8\n",
      "actual grade:6 predicted grade:9\n",
      "actual grade:9 predicted grade:9\n",
      "actual grade:9 predicted grade:9\n",
      "actual grade:12 predicted grade:13\n",
      "actual grade:9 predicted grade:9\n",
      "actual grade:11 predicted grade:9\n",
      "actual grade:8 predicted grade:9\n",
      "actual grade:9 predicted grade:9\n",
      "actual grade:7 predicted grade:9\n",
      "actual grade:9 predicted grade:9\n",
      "actual grade:9 predicted grade:10\n",
      "actual grade:6 predicted grade:9\n",
      "actual grade:9 predicted grade:9\n",
      "actual grade:8 predicted grade:9\n",
      "actual grade:9 predicted grade:9\n",
      "actual grade:10 predicted grade:10\n",
      "actual grade:10 predicted grade:9\n",
      "actual grade:8 predicted grade:9\n",
      "actual grade:9 predicted grade:9\n",
      "actual grade:8 predicted grade:10\n",
      "actual grade:13 predicted grade:10\n",
      "actual grade:10 predicted grade:9\n",
      "actual grade:6 predicted grade:9\n",
      "actual grade:8 predicted grade:8\n",
      "actual grade:8 predicted grade:7\n",
      "actual grade:9 predicted grade:9\n",
      "actual grade:7 predicted grade:9\n",
      "actual grade:13 predicted grade:13\n",
      "actual grade:7 predicted grade:9\n",
      "actual grade:9 predicted grade:9\n",
      "actual grade:9 predicted grade:9\n",
      "actual grade:8 predicted grade:9\n",
      "actual grade:9 predicted grade:9\n",
      "actual grade:7 predicted grade:7\n",
      "actual grade:13 predicted grade:9\n",
      "actual grade:13 predicted grade:13\n",
      "actual grade:13 predicted grade:13\n",
      "actual grade:11 predicted grade:12\n",
      "actual grade:13 predicted grade:13\n",
      "actual grade:11 predicted grade:10\n",
      "actual grade:9 predicted grade:10\n",
      "actual grade:9 predicted grade:9\n",
      "actual grade:9 predicted grade:9\n",
      "actual grade:7 predicted grade:9\n",
      "actual grade:11 predicted grade:8\n",
      "actual grade:9 predicted grade:9\n",
      "actual grade:10 predicted grade:9\n",
      "actual grade:9 predicted grade:9\n",
      "actual grade:9 predicted grade:9\n",
      "actual grade:9 predicted grade:9\n",
      "actual grade:10 predicted grade:9\n",
      "actual grade:10 predicted grade:10\n",
      "actual grade:10 predicted grade:10\n",
      "actual grade:10 predicted grade:10\n",
      "actual grade:11 predicted grade:9\n",
      "actual grade:10 predicted grade:10\n",
      "actual grade:5 predicted grade:9\n",
      "actual grade:6 predicted grade:9\n",
      "actual grade:8 predicted grade:9\n",
      "actual grade:5 predicted grade:9\n",
      "actual grade:5 predicted grade:9\n",
      "actual grade:6 predicted grade:9\n",
      "actual grade:7 predicted grade:9\n",
      "actual grade:12 predicted grade:12\n",
      "actual grade:11 predicted grade:9\n",
      "actual grade:9 predicted grade:9\n",
      "actual grade:9 predicted grade:9\n",
      "actual grade:9 predicted grade:9\n",
      "actual grade:9 predicted grade:9\n",
      "actual grade:9 predicted grade:9\n",
      "actual grade:9 predicted grade:9\n",
      "actual grade:12 predicted grade:11\n",
      "actual grade:13 predicted grade:13\n",
      "actual grade:5 predicted grade:9\n",
      "actual grade:10 predicted grade:10\n",
      "actual grade:11 predicted grade:6\n",
      "actual grade:10 predicted grade:9\n",
      "actual grade:12 predicted grade:12\n",
      "actual grade:10 predicted grade:10\n",
      "actual grade:9 predicted grade:9\n",
      "actual grade:10 predicted grade:10\n",
      "actual grade:9 predicted grade:10\n",
      "actual grade:11 predicted grade:9\n",
      "actual grade:8 predicted grade:8\n",
      "actual grade:13 predicted grade:10\n",
      "actual grade:13 predicted grade:13\n",
      "actual grade:11 predicted grade:10\n",
      "actual grade:6 predicted grade:9\n",
      "actual grade:9 predicted grade:9\n",
      "actual grade:12 predicted grade:13\n",
      "actual grade:9 predicted grade:9\n",
      "actual grade:8 predicted grade:8\n",
      "actual grade:8 predicted grade:9\n",
      "actual grade:8 predicted grade:9\n",
      "actual grade:10 predicted grade:9\n",
      "actual grade:10 predicted grade:9\n",
      "actual grade:8 predicted grade:9\n",
      "actual grade:10 predicted grade:9\n",
      "actual grade:13 predicted grade:13\n",
      "actual grade:9 predicted grade:10\n",
      "actual grade:9 predicted grade:9\n",
      "actual grade:8 predicted grade:10\n",
      "actual grade:13 predicted grade:10\n",
      "actual grade:8 predicted grade:8\n",
      "actual grade:13 predicted grade:8\n",
      "actual grade:8 predicted grade:10\n",
      "actual grade:10 predicted grade:10\n",
      "actual grade:8 predicted grade:9\n",
      "actual grade:9 predicted grade:9\n",
      "actual grade:6 predicted grade:6\n",
      "actual grade:8 predicted grade:9\n",
      "actual grade:11 predicted grade:9\n",
      "actual grade:9 predicted grade:9\n",
      "actual grade:9 predicted grade:9\n",
      "actual grade:6 predicted grade:9\n",
      "actual grade:5 predicted grade:8\n",
      "actual grade:7 predicted grade:7\n",
      "actual grade:9 predicted grade:9\n",
      "actual grade:7 predicted grade:7\n"
     ]
    }
   ],
   "source": [
    "i=0\n",
    "actual3=np.array(L)\n",
    "predict3=np.zeros(len(L))\n",
    "for i in xrange(len(L)):\n",
    "    Prob=t.classify(I[i])\n",
    "    predict3[i]=np.argmax(Prob)\n",
    "   \n",
    "    print \"actual grade:%d predicted grade:%d\"%(actual3[i],predict3[i])"
   ]
  },
  {
   "cell_type": "code",
   "execution_count": 65,
   "metadata": {
    "collapsed": false
   },
   "outputs": [
    {
     "data": {
      "text/plain": [
       "1.5801050680710416"
      ]
     },
     "execution_count": 65,
     "metadata": {},
     "output_type": "execute_result"
    }
   ],
   "source": [
    "np.sqrt(np.sum((actual3-predict3)**2)/len(L))"
   ]
  },
  {
   "cell_type": "code",
   "execution_count": 66,
   "metadata": {
    "collapsed": false
   },
   "outputs": [
    {
     "name": "stdout",
     "output_type": "stream",
     "text": [
      "Populating the interactive namespace from numpy and matplotlib\n"
     ]
    },
    {
     "name": "stderr",
     "output_type": "stream",
     "text": [
      "WARNING: pylab import has clobbered these variables: ['sum']\n",
      "`%matplotlib` prevents importing * from pylab and numpy\n"
     ]
    },
    {
     "data": {
      "text/plain": [
       "(array([  4.,   0.,   0.,  11.,   0.,   0.,  10.,   0.,   0.,   0.,  22.,\n",
       "          0.,   0.,  76.,   0.,   0.,  14.,   0.,   0.,   0.,   8.,   0.,\n",
       "          0.,   5.,   0.,   0.,   1.,   0.,   0.,   2.]),\n",
       " array([-4. , -3.7, -3.4, -3.1, -2.8, -2.5, -2.2, -1.9, -1.6, -1.3, -1. ,\n",
       "        -0.7, -0.4, -0.1,  0.2,  0.5,  0.8,  1.1,  1.4,  1.7,  2. ,  2.3,\n",
       "         2.6,  2.9,  3.2,  3.5,  3.8,  4.1,  4.4,  4.7,  5. ]),\n",
       " <a list of 30 Patch objects>)"
      ]
     },
     "execution_count": 66,
     "metadata": {},
     "output_type": "execute_result"
    },
    {
     "data": {
      "image/png": "[encoded data removed]",
      "text/plain": [
       "<matplotlib.figure.Figure at 0xd209e48>"
      ]
     },
     "metadata": {},
     "output_type": "display_data"
    }
   ],
   "source": [
    "from matplotlib import pyplot as plt\n",
    "%pylab inline\n",
    "plt.hist(actual3-predict3,30)"
   ]
  },
  {
   "cell_type": "code",
   "execution_count": 67,
   "metadata": {
    "collapsed": false
   },
   "outputs": [
    {
     "name": "stdout",
     "output_type": "stream",
     "text": [
      "[[  0.   0.   0.   0.   0.   0.   0.   0.   0.   0.   0.   0.   0.   0.]\n",
      " [  0.   0.   0.   0.   0.   0.   0.   0.   0.   0.   0.   0.   0.   0.]\n",
      " [  0.   0.   0.   0.   0.   0.   0.   0.   0.   0.   0.   0.   0.   0.]\n",
      " [  0.   0.   0.   0.   0.   0.   0.   0.   0.   0.   0.   0.   0.   0.]\n",
      " [  0.   0.   0.   0.   0.   0.   0.   0.   0.   0.   0.   0.   0.   0.]\n",
      " [  0.   0.   0.   0.   0.   0.   0.   0.   0.   0.   0.   0.   0.   0.]\n",
      " [  0.   0.   0.   0.   0.   0.   1.   0.   1.   0.   0.   1.   0.   0.]\n",
      " [  0.   0.   0.   0.   0.   0.   0.   3.   1.   0.   0.   0.   0.   0.]\n",
      " [  0.   0.   0.   0.   0.   1.   1.   0.   5.   0.   0.   1.   0.   1.]\n",
      " [  0.   0.   0.   0.   0.   4.  10.   6.  14.  45.  10.   6.   1.   1.]\n",
      " [  0.   0.   0.   0.   0.   0.   0.   0.   3.   5.  12.   2.   0.   3.]\n",
      " [  0.   0.   0.   0.   0.   0.   0.   0.   0.   0.   0.   0.   1.   1.]\n",
      " [  0.   0.   0.   0.   0.   0.   0.   0.   0.   0.   0.   1.   3.   0.]\n",
      " [  0.   0.   0.   0.   0.   0.   0.   0.   0.   0.   0.   0.   2.   7.]]\n"
     ]
    }
   ],
   "source": [
    "n = 14\n",
    "cm3 = np.zeros((n,n))\n",
    "for i in xrange(len(actual3)):\n",
    "    cm3[predict3[i],actual3[i]] +=1\n",
    "print cm3"
   ]
  },
  {
   "cell_type": "code",
   "execution_count": 68,
   "metadata": {
    "collapsed": false
   },
   "outputs": [
    {
     "name": "stdout",
     "output_type": "stream",
     "text": [
      "TP is 76.000000\n",
      "--------------------------------------------\n",
      "FP is 77.000000\n",
      "precision is 0.496732\n"
     ]
    }
   ],
   "source": [
    "#find TP\n",
    "from collections import defaultdict\n",
    "tp = defaultdict(list)\n",
    "fp = defaultdict(list)\n",
    "for i in range(0,14):\n",
    "    for j in range(0,14):\n",
    "        if i == j: \n",
    "            tp[i] = cm3[i,j]\n",
    "            TP = tp[i]+tp[i-1]+tp[i-2]+tp[i-3]+tp[i-4]+tp[i-5]+tp[i-6]+tp[i-7]+tp[i-8]+tp[i-9]+tp[i-10]+tp[i-11]+tp[i-12]+tp[i-13]\n",
    "        \n",
    "            \n",
    "print \"TP is %f\"%(TP)\n",
    "print \"--------------------------------------------\"\n",
    "sum = cm3.sum()\n",
    "FP = sum-TP\n",
    "print \"FP is %f\"%(FP)\n",
    "\n",
    "precision = TP/(FP+TP)\n",
    "print \"precision is %f\"%(precision)"
   ]
  },
  {
   "cell_type": "markdown",
   "metadata": {},
   "source": [
    "# Training(4)"
   ]
  },
  {
   "cell_type": "code",
   "execution_count": 69,
   "metadata": {
    "collapsed": false
   },
   "outputs": [
    {
     "name": "stdout",
     "output_type": "stream",
     "text": [
      "master>>init() dsetname: CS213\n",
      "master>> create dview\n",
      "master>> init engine\n",
      "Found pforest\n",
      "debug:master:__init__: ['CS213/dataset00.pic', 'CS213/dataset01.pic']\n",
      "master>> init local variables\n",
      "master>>reset()\n",
      "master>>reset() H: 2.8089\n",
      "master>>reset() Q: 00306\n",
      "master::train() node20*-\n",
      "master::train() node19R-\n",
      "master::train() node18R-\n",
      "master::train() node17R-\n",
      "master::train() node16RG\n",
      "master::train() node16LG\n",
      "master::train() node17LG\n",
      "master::train() node18L-\n",
      "master::train() node17R-\n",
      "master::train() node16RG\n",
      "master::train() node16LQ\n",
      "master::train() node17L-\n",
      "master::train() node16RG\n",
      "master::train() node16L-\n",
      "master::train() node15RG\n",
      "master::train() node15LQ\n",
      "master::train() node19L-\n",
      "master::train() node18R-\n",
      "master::train() node17R-\n",
      "master::train() node16R-\n",
      "master::train() node15R-\n",
      "master::train() node14R-\n",
      "master::train() node13RG\n",
      "master::train() node13LQ\n",
      "master::train() node14L-\n",
      "master::train() node13RG\n",
      "master::train() node13L-\n",
      "master::train() node12RQ\n",
      "master::train() node12L-\n",
      "master::train() node11RG\n",
      "master::train() node11LG\n",
      "master::train() node15L-\n",
      "master::train() node14R-\n",
      "master::train() node13RG\n",
      "master::train() node13LG\n",
      "master::train() node14LG\n",
      "master::train() node16L-\n",
      "master::train() node15RG\n",
      "master::train() node15L-\n",
      "master::train() node14R-\n",
      "master::train() node13RG\n",
      "master::train() node13LQ\n",
      "master::train() node14LG\n",
      "master::train() node17L-\n",
      "master::train() node16RG\n",
      "master::train() node16L-\n",
      "master::train() node15R-\n",
      "master::train() node14RG\n",
      "master::train() node14LQ\n",
      "master::train() node15LG\n",
      "master::train() node18L-\n",
      "master::train() node17R-\n",
      "master::train() node16RG\n",
      "master::train() node16L-\n",
      "master::train() node15RG\n",
      "master::train() node15L-\n",
      "master::train() node14R-\n",
      "master::train() node13RG\n",
      "master::train() node13L-\n",
      "master::train() node12RG\n",
      "master::train() node12LG\n",
      "master::train() node14L-\n",
      "master::train() node13R-\n",
      "master::train() node12RQ\n",
      "master::train() node12LG\n",
      "master::train() node13L-\n",
      "master::train() node12RG\n",
      "master::train() node12L-\n",
      "master::train() node11RG\n",
      "master::train() node11LG\n",
      "master::train() node17L-\n",
      "master::train() node16RG\n",
      "master::train() node16L-\n",
      "master::train() node15R-\n",
      "master::train() node14RG\n",
      "master::train() node14LG\n",
      "master::train() node15LG\n"
     ]
    }
   ],
   "source": [
    "import pickle\n",
    "from pforest.master import master\n",
    "m=master(dsetname='CS213')\n",
    "m.reset()\n",
    "m.train()\n",
    "with open('CS213/out_tree4.pic', 'wb') as pickleFile:\n",
    "    pickle.dump(m.root, pickleFile, pickle.HIGHEST_PROTOCOL)"
   ]
  },
  {
   "cell_type": "code",
   "execution_count": 70,
   "metadata": {
    "collapsed": false
   },
   "outputs": [
    {
     "name": "stdout",
     "output_type": "stream",
     "text": [
      "*- 20 H:2.809e+00,Q:000306 tau:10.0 theta:[ 22.]\n",
      "L- 19 H:2.603e+00,Q:000216 tau:7.0 theta:[ 35.]\n",
      "L- 18 H:2.342e+00,Q:000148 tau:7.0 theta:[ 201.]\n",
      "L- 17 H:2.111e+00,Q:000028 tau:12.0 theta:[ 196.]\n",
      "L- 16 H:1.708e+00,Q:000012 tau:10.0 theta:[ 162.]\n",
      "LG 15 H:9.183e-01,Q:000006 (cl,P):(007,0.33) (005,0.33) (011,0.17)\n",
      "R- 15 H:1.602e+00,Q:000006 tau:8.0 theta:[ 20.]\n",
      "LG 14 H:9.183e-01,Q:000003 (cl,P):(009,0.67) (005,0.33) (013,0.00)\n",
      "RG 14 H:6.667e-01,Q:000003 (cl,P):(010,0.33) (008,0.33) (007,0.33)\n",
      "RG 16 H:1.732e+00,Q:000016 (cl,P):(008,0.38) (007,0.25) (009,0.19)\n",
      "R- 17 H:2.247e+00,Q:000120 tau:11.0 theta:[ 19.]\n",
      "L- 16 H:2.297e+00,Q:000105 tau:10.0 theta:[ 20.]\n",
      "L- 15 H:2.181e+00,Q:000085 tau:9.0 theta:[ 98.]\n",
      "L- 14 H:2.087e+00,Q:000034 tau:10.0 theta:[ 160.]\n",
      "L- 13 H:1.752e+00,Q:000025 tau:12.0 theta:[ 196.]\n",
      "L- 12 H:1.515e+00,Q:000013 tau:11.0 theta:[ 26.]\n",
      "LG 11 H:1.200e+00,Q:000010 (cl,P):(009,0.60) (008,0.20) (005,0.20)\n",
      "RG 11 H:1.585e+00,Q:000003 (cl,P):(009,0.33) (006,0.33) (005,0.33)\n",
      "RG 12 H:1.366e+00,Q:000012 (cl,P):(009,0.42) (006,0.25) (008,0.17)\n",
      "R- 13 H:2.183e+00,Q:000009 tau:9.0 theta:[ 125.]\n",
      "LG 12 H:1.939e+00,Q:000008 (cl,P):(008,0.38) (006,0.25) (010,0.12)\n",
      "RQ 12 H:1.925e-35,Q:000001 (cl,P):(009,1.00) (013,0.00) (012,0.00)\n",
      "R- 14 H:2.011e+00,Q:000051 tau:9.0 theta:[ 124.]\n",
      "L- 13 H:1.946e+00,Q:000044 tau:5.0 theta:[ 35.]\n",
      "LG 12 H:1.867e+00,Q:000042 (cl,P):(009,0.40) (008,0.36) (007,0.10)\n",
      "RG 12 H:1.000e+00,Q:000002 (cl,P):(006,0.50) (005,0.50) (013,0.00)\n",
      "RG 13 H:1.265e+00,Q:000007 (cl,P):(009,0.57) (010,0.14) (008,0.14)\n",
      "RG 15 H:1.970e+00,Q:000020 (cl,P):(009,0.35) (008,0.25) (011,0.10)\n",
      "RG 16 H:1.209e+00,Q:000015 (cl,P):(009,0.67) (008,0.20) (013,0.07)\n",
      "R- 18 H:2.504e+00,Q:000068 tau:9.0 theta:[ 154.]\n",
      "L- 17 H:1.601e+00,Q:000011 tau:12.0 theta:[ 179.]\n",
      "L- 16 H:7.552e-01,Q:000008 tau:11.0 theta:[ 189.]\n",
      "LG 15 H:1.000e+00,Q:000002 (cl,P):(012,0.50) (010,0.50) (013,0.00)\n",
      "R- 15 H:6.016e-01,Q:000006 tau:9.0 theta:[ 39.]\n",
      "LQ 14 H:1.925e-35,Q:000001 (cl,P):(010,1.00) (013,0.00) (012,0.00)\n",
      "RG 14 H:6.490e-01,Q:000005 (cl,P):(010,0.80) (012,0.20) (013,0.00)\n",
      "RG 16 H:9.183e-01,Q:000003 (cl,P):(008,0.67) (005,0.33) (013,0.00)\n",
      "R- 17 H:2.333e+00,Q:000057 tau:9.0 theta:[ 31.]\n",
      "L- 16 H:1.686e+00,Q:000015 tau:11.0 theta:[ 182.]\n",
      "L- 15 H:1.523e+00,Q:000011 tau:7.0 theta:[ 201.]\n",
      "LG 14 H:1.252e+00,Q:000006 (cl,P):(008,0.67) (010,0.17) (006,0.17)\n",
      "R- 14 H:9.510e-01,Q:000005 tau:13.0 theta:[ 26.]\n",
      "LQ 13 H:1.925e-35,Q:000001 (cl,P):(009,1.00) (013,0.00) (012,0.00)\n",
      "RG 13 H:1.000e+00,Q:000004 (cl,P):(009,0.50) (010,0.25) (008,0.25)\n",
      "RG 15 H:6.887e-01,Q:000004 (cl,P):(008,0.50) (009,0.25) (007,0.25)\n",
      "R- 16 H:2.019e+00,Q:000042 tau:9.0 theta:[ 98.]\n",
      "L- 15 H:1.291e+00,Q:000018 tau:8.0 theta:[ 39.]\n",
      "LG 14 H:6.824e-01,Q:000009 (cl,P):(009,0.78) (011,0.11) (010,0.11)\n",
      "R- 14 H:1.428e+00,Q:000009 tau:12.0 theta:[ 7.]\n",
      "LG 13 H:1.000e+00,Q:000004 (cl,P):(011,0.25) (010,0.25) (009,0.25)\n",
      "RG 13 H:4.000e-01,Q:000005 (cl,P):(009,0.80) (011,0.20) (013,0.00)\n",
      "R- 15 H:1.818e+00,Q:000024 tau:12.0 theta:[ 140.]\n",
      "L- 14 H:1.526e+00,Q:000020 tau:10.0 theta:[ 64.]\n",
      "L- 13 H:1.295e+00,Q:000018 tau:11.0 theta:[ 140.]\n",
      "L- 12 H:1.115e+00,Q:000017 tau:9.0 theta:[ 34.]\n",
      "LG 11 H:1.289e-35,Q:000003 (cl,P):(010,1.00) (013,0.00) (012,0.00)\n",
      "RG 11 H:9.360e-01,Q:000014 (cl,P):(011,0.50) (010,0.21) (009,0.21)\n",
      "RQ 12 H:1.925e-35,Q:000001 (cl,P):(012,1.00) (013,0.00) (011,0.00)\n",
      "RG 13 H:9.704e-36,Q:000002 (cl,P):(013,1.00) (012,0.00) (011,0.00)\n",
      "R- 14 H:1.000e+00,Q:000004 tau:7.0 theta:[ 47.]\n",
      "LQ 13 H:1.925e-35,Q:000001 (cl,P):(006,1.00) (013,0.00) (012,0.00)\n",
      "RG 13 H:6.667e-01,Q:000003 (cl,P):(011,0.33) (010,0.33) (009,0.33)\n",
      "R- 19 H:2.485e+00,Q:000090 tau:9.0 theta:[ 201.]\n",
      "L- 18 H:2.120e+00,Q:000029 tau:10.0 theta:[ 102.]\n",
      "L- 17 H:1.826e+00,Q:000023 tau:7.0 theta:[ 125.]\n",
      "L- 16 H:1.438e+00,Q:000012 tau:10.0 theta:[ 189.]\n",
      "LQ 15 H:1.925e-35,Q:000001 (cl,P):(008,1.00) (013,0.00) (012,0.00)\n",
      "RG 15 H:1.241e+00,Q:000011 (cl,P):(010,0.36) (009,0.36) (007,0.18)\n",
      "RG 16 H:1.495e+00,Q:000011 (cl,P):(010,0.45) (009,0.36) (011,0.18)\n",
      "R- 17 H:1.602e+00,Q:000006 tau:7.0 theta:[ 25.]\n",
      "LQ 16 H:1.925e-35,Q:000001 (cl,P):(008,1.00) (013,0.00) (012,0.00)\n",
      "RG 16 H:1.200e+00,Q:000005 (cl,P):(009,0.60) (013,0.20) (012,0.20)\n",
      "R- 18 H:2.286e+00,Q:000061 tau:12.0 theta:[ 189.]\n",
      "LG 17 H:2.138e+00,Q:000028 (cl,P):(013,0.25) (012,0.25) (009,0.25)\n",
      "R- 17 H:2.199e+00,Q:000033 tau:13.0 theta:[ 196.]\n",
      "LG 16 H:2.145e+00,Q:000028 (cl,P):(013,0.29) (011,0.29) (009,0.18)\n",
      "RG 16 H:1.351e+00,Q:000005 (cl,P):(010,0.40) (013,0.20) (012,0.20)\n",
      "\n"
     ]
    }
   ],
   "source": [
    "from pforest.dataset import dataset\n",
    "from pforest.tree import tree\n",
    "with open('CS213/out_tree4.pic', 'rb') as pickleFile:\n",
    "    root = pickle.load(pickleFile)\n",
    "#init the test tree\n",
    "t=tree()\n",
    "t.settree(root)\n",
    "t.show()"
   ]
  },
  {
   "cell_type": "code",
   "execution_count": 71,
   "metadata": {
    "collapsed": true
   },
   "outputs": [],
   "source": [
    "with open('CS213/dataset04.pic', 'rb') as pickleFile:\n",
    "     data = pickle.load(pickleFile)\n",
    "I=data[-2];L=data[-3]"
   ]
  },
  {
   "cell_type": "code",
   "execution_count": 72,
   "metadata": {
    "collapsed": false
   },
   "outputs": [
    {
     "data": {
      "text/plain": [
       "array([[0, 0, 0, ..., 0, 9, 0],\n",
       "       [0, 0, 0, ..., 0, 7, 0],\n",
       "       [0, 0, 0, ..., 0, 7, 0],\n",
       "       ..., \n",
       "       [0, 0, 0, ..., 0, 6, 0],\n",
       "       [0, 0, 0, ..., 0, 6, 0],\n",
       "       [0, 0, 0, ..., 0, 7, 0]], dtype=int64)"
      ]
     },
     "execution_count": 72,
     "metadata": {},
     "output_type": "execute_result"
    }
   ],
   "source": [
    "I"
   ]
  },
  {
   "cell_type": "code",
   "execution_count": 73,
   "metadata": {
    "collapsed": false
   },
   "outputs": [
    {
     "data": {
      "text/plain": [
       "array([ 9,  8,  6, 10,  6,  9,  9,  5,  8,  9,  6, 12,  8, 11,  9,  5,  7,\n",
       "        9,  8,  9, 10,  9,  9,  9,  7, 10, 13,  9, 12,  9, 10, 10, 11,  5,\n",
       "        8, 11,  9, 12, 12,  9, 11, 12,  9,  8, 11,  8,  9,  7, 10, 12, 13,\n",
       "       13, 13,  9,  9,  9,  6,  8,  9,  8, 12,  5,  5,  6,  8, 11,  9, 13,\n",
       "       11,  8, 11, 10, 10,  9, 11, 10, 10,  8,  9,  9, 13,  9,  7, 10, 12,\n",
       "        9,  5,  5,  9, 11,  9,  8, 11,  8, 10,  9,  8,  9,  8,  9,  7, 10,\n",
       "        7, 10, 10, 10,  9,  9,  9,  7, 11,  9,  7,  7, 10, 11, 11,  6,  9,\n",
       "        9,  8,  9,  9,  8, 12,  9,  9,  9,  7,  9,  8,  8,  5,  8, 13,  8,\n",
       "       11,  9,  8, 10,  8, 10,  9,  8, 11, 10,  9,  9,  9,  9,  8,  9,  8], dtype=int64)"
      ]
     },
     "execution_count": 73,
     "metadata": {},
     "output_type": "execute_result"
    }
   ],
   "source": [
    "L"
   ]
  },
  {
   "cell_type": "code",
   "execution_count": 74,
   "metadata": {
    "collapsed": false
   },
   "outputs": [
    {
     "name": "stdout",
     "output_type": "stream",
     "text": [
      "actual grade:9 predicted grade:9\n",
      "actual grade:8 predicted grade:9\n",
      "actual grade:6 predicted grade:6\n",
      "actual grade:10 predicted grade:9\n",
      "actual grade:6 predicted grade:8\n",
      "actual grade:9 predicted grade:9\n",
      "actual grade:9 predicted grade:5\n",
      "actual grade:5 predicted grade:9\n",
      "actual grade:8 predicted grade:8\n",
      "actual grade:9 predicted grade:9\n",
      "actual grade:6 predicted grade:9\n",
      "actual grade:12 predicted grade:9\n",
      "actual grade:8 predicted grade:9\n",
      "actual grade:11 predicted grade:11\n",
      "actual grade:9 predicted grade:9\n",
      "actual grade:5 predicted grade:8\n",
      "actual grade:7 predicted grade:8\n",
      "actual grade:9 predicted grade:9\n",
      "actual grade:8 predicted grade:8\n",
      "actual grade:9 predicted grade:9\n",
      "actual grade:10 predicted grade:9\n",
      "actual grade:9 predicted grade:9\n",
      "actual grade:9 predicted grade:9\n",
      "actual grade:9 predicted grade:9\n",
      "actual grade:7 predicted grade:9\n",
      "actual grade:10 predicted grade:11\n",
      "actual grade:13 predicted grade:9\n",
      "actual grade:9 predicted grade:9\n",
      "actual grade:12 predicted grade:9\n",
      "actual grade:9 predicted grade:9\n",
      "actual grade:10 predicted grade:9\n",
      "actual grade:10 predicted grade:8\n",
      "actual grade:11 predicted grade:11\n",
      "actual grade:5 predicted grade:9\n",
      "actual grade:8 predicted grade:8\n",
      "actual grade:11 predicted grade:5\n",
      "actual grade:9 predicted grade:9\n",
      "actual grade:12 predicted grade:9\n",
      "actual grade:12 predicted grade:11\n",
      "actual grade:9 predicted grade:9\n",
      "actual grade:11 predicted grade:11\n",
      "actual grade:12 predicted grade:9\n",
      "actual grade:9 predicted grade:9\n",
      "actual grade:8 predicted grade:9\n",
      "actual grade:11 predicted grade:9\n",
      "actual grade:8 predicted grade:9\n",
      "actual grade:9 predicted grade:11\n",
      "actual grade:7 predicted grade:9\n",
      "actual grade:10 predicted grade:10\n",
      "actual grade:12 predicted grade:9\n",
      "actual grade:13 predicted grade:10\n",
      "actual grade:13 predicted grade:11\n",
      "actual grade:13 predicted grade:11\n",
      "actual grade:9 predicted grade:9\n",
      "actual grade:9 predicted grade:9\n",
      "actual grade:9 predicted grade:9\n",
      "actual grade:6 predicted grade:9\n",
      "actual grade:8 predicted grade:9\n",
      "actual grade:9 predicted grade:9\n",
      "actual grade:8 predicted grade:8\n",
      "actual grade:12 predicted grade:10\n",
      "actual grade:5 predicted grade:9\n",
      "actual grade:5 predicted grade:5\n",
      "actual grade:6 predicted grade:5\n",
      "actual grade:8 predicted grade:9\n",
      "actual grade:11 predicted grade:11\n",
      "actual grade:9 predicted grade:9\n",
      "actual grade:13 predicted grade:9\n",
      "actual grade:11 predicted grade:11\n",
      "actual grade:8 predicted grade:9\n",
      "actual grade:11 predicted grade:11\n",
      "actual grade:10 predicted grade:9\n",
      "actual grade:10 predicted grade:7\n",
      "actual grade:9 predicted grade:9\n",
      "actual grade:11 predicted grade:11\n",
      "actual grade:10 predicted grade:9\n",
      "actual grade:10 predicted grade:9\n",
      "actual grade:8 predicted grade:8\n",
      "actual grade:9 predicted grade:9\n",
      "actual grade:9 predicted grade:9\n",
      "actual grade:13 predicted grade:11\n",
      "actual grade:9 predicted grade:9\n",
      "actual grade:7 predicted grade:9\n",
      "actual grade:10 predicted grade:10\n",
      "actual grade:12 predicted grade:9\n",
      "actual grade:9 predicted grade:9\n",
      "actual grade:5 predicted grade:5\n",
      "actual grade:5 predicted grade:5\n",
      "actual grade:9 predicted grade:9\n",
      "actual grade:11 predicted grade:9\n",
      "actual grade:9 predicted grade:9\n",
      "actual grade:8 predicted grade:9\n",
      "actual grade:11 predicted grade:11\n",
      "actual grade:8 predicted grade:9\n",
      "actual grade:10 predicted grade:10\n",
      "actual grade:9 predicted grade:9\n",
      "actual grade:8 predicted grade:9\n",
      "actual grade:9 predicted grade:9\n",
      "actual grade:8 predicted grade:9\n",
      "actual grade:9 predicted grade:9\n",
      "actual grade:7 predicted grade:7\n",
      "actual grade:10 predicted grade:10\n",
      "actual grade:7 predicted grade:9\n",
      "actual grade:10 predicted grade:10\n",
      "actual grade:10 predicted grade:9\n",
      "actual grade:10 predicted grade:11\n",
      "actual grade:9 predicted grade:9\n",
      "actual grade:9 predicted grade:5\n",
      "actual grade:9 predicted grade:9\n",
      "actual grade:7 predicted grade:8\n",
      "actual grade:11 predicted grade:11\n",
      "actual grade:9 predicted grade:9\n",
      "actual grade:7 predicted grade:9\n",
      "actual grade:7 predicted grade:9\n",
      "actual grade:10 predicted grade:10\n",
      "actual grade:11 predicted grade:9\n",
      "actual grade:11 predicted grade:11\n",
      "actual grade:6 predicted grade:9\n",
      "actual grade:9 predicted grade:9\n",
      "actual grade:9 predicted grade:9\n",
      "actual grade:8 predicted grade:9\n",
      "actual grade:9 predicted grade:9\n",
      "actual grade:9 predicted grade:9\n",
      "actual grade:8 predicted grade:9\n",
      "actual grade:12 predicted grade:10\n",
      "actual grade:9 predicted grade:9\n",
      "actual grade:9 predicted grade:9\n",
      "actual grade:9 predicted grade:9\n",
      "actual grade:7 predicted grade:8\n",
      "actual grade:9 predicted grade:9\n",
      "actual grade:8 predicted grade:9\n",
      "actual grade:8 predicted grade:8\n",
      "actual grade:5 predicted grade:8\n",
      "actual grade:8 predicted grade:8\n",
      "actual grade:13 predicted grade:9\n",
      "actual grade:8 predicted grade:9\n",
      "actual grade:11 predicted grade:11\n",
      "actual grade:9 predicted grade:9\n",
      "actual grade:8 predicted grade:9\n",
      "actual grade:10 predicted grade:10\n",
      "actual grade:8 predicted grade:8\n",
      "actual grade:10 predicted grade:5\n",
      "actual grade:9 predicted grade:9\n",
      "actual grade:8 predicted grade:9\n",
      "actual grade:11 predicted grade:11\n",
      "actual grade:10 predicted grade:10\n",
      "actual grade:9 predicted grade:8\n",
      "actual grade:9 predicted grade:9\n",
      "actual grade:9 predicted grade:8\n",
      "actual grade:9 predicted grade:9\n",
      "actual grade:8 predicted grade:8\n",
      "actual grade:9 predicted grade:9\n",
      "actual grade:8 predicted grade:9\n"
     ]
    }
   ],
   "source": [
    "i=0\n",
    "actual4=np.array(L)\n",
    "predict4=np.zeros(len(L))\n",
    "for i in xrange(len(L)):\n",
    "    Prob=t.classify(I[i])\n",
    "    predict4[i]=np.argmax(Prob)\n",
    "   \n",
    "    print \"actual grade:%d predicted grade:%d\"%(actual4[i],predict4[i])"
   ]
  },
  {
   "cell_type": "code",
   "execution_count": 75,
   "metadata": {
    "collapsed": false
   },
   "outputs": [
    {
     "data": {
      "text/plain": [
       "1.6329931618554521"
      ]
     },
     "execution_count": 75,
     "metadata": {},
     "output_type": "execute_result"
    }
   ],
   "source": [
    "np.sqrt(np.sum((actual4-predict4)**2)/len(L))"
   ]
  },
  {
   "cell_type": "code",
   "execution_count": 76,
   "metadata": {
    "collapsed": false
   },
   "outputs": [
    {
     "name": "stdout",
     "output_type": "stream",
     "text": [
      "Populating the interactive namespace from numpy and matplotlib\n"
     ]
    },
    {
     "name": "stderr",
     "output_type": "stream",
     "text": [
      "WARNING: pylab import has clobbered these variables: ['sum']\n",
      "`%matplotlib` prevents importing * from pylab and numpy\n"
     ]
    },
    {
     "data": {
      "text/plain": [
       "(array([  3.,   0.,   0.,   0.,   0.,   5.,   0.,   0.,   0.,   0.,   8.,\n",
       "          0.,   0.,   0.,   0.,  23.,   0.,   0.,   0.,   0.,  79.,   0.,\n",
       "          0.,   0.,   0.,  11.,   0.,   0.,   0.,   0.,   9.,   0.,   0.,\n",
       "          0.,   0.,   8.,   0.,   0.,   0.,   0.,   5.,   0.,   0.,   0.,\n",
       "          0.,   1.,   0.,   0.,   0.,   1.]),\n",
       " array([-4. , -3.8, -3.6, -3.4, -3.2, -3. , -2.8, -2.6, -2.4, -2.2, -2. ,\n",
       "        -1.8, -1.6, -1.4, -1.2, -1. , -0.8, -0.6, -0.4, -0.2,  0. ,  0.2,\n",
       "         0.4,  0.6,  0.8,  1. ,  1.2,  1.4,  1.6,  1.8,  2. ,  2.2,  2.4,\n",
       "         2.6,  2.8,  3. ,  3.2,  3.4,  3.6,  3.8,  4. ,  4.2,  4.4,  4.6,\n",
       "         4.8,  5. ,  5.2,  5.4,  5.6,  5.8,  6. ]),\n",
       " <a list of 50 Patch objects>)"
      ]
     },
     "execution_count": 76,
     "metadata": {},
     "output_type": "execute_result"
    },
    {
     "data": {
      "image/png": "[encoded data removed]",
      "text/plain": [
       "<matplotlib.figure.Figure at 0x10aa0208>"
      ]
     },
     "metadata": {},
     "output_type": "display_data"
    }
   ],
   "source": [
    "from matplotlib import pyplot as plt\n",
    "%pylab inline\n",
    "plt.hist(actual4-predict4,50)"
   ]
  },
  {
   "cell_type": "code",
   "execution_count": 77,
   "metadata": {
    "collapsed": false
   },
   "outputs": [
    {
     "name": "stdout",
     "output_type": "stream",
     "text": [
      "[[  0.   0.   0.   0.   0.   0.   0.   0.   0.   0.   0.   0.   0.   0.]\n",
      " [  0.   0.   0.   0.   0.   0.   0.   0.   0.   0.   0.   0.   0.   0.]\n",
      " [  0.   0.   0.   0.   0.   0.   0.   0.   0.   0.   0.   0.   0.   0.]\n",
      " [  0.   0.   0.   0.   0.   0.   0.   0.   0.   0.   0.   0.   0.   0.]\n",
      " [  0.   0.   0.   0.   0.   0.   0.   0.   0.   0.   0.   0.   0.   0.]\n",
      " [  0.   0.   0.   0.   0.   3.   1.   0.   0.   2.   1.   1.   0.   0.]\n",
      " [  0.   0.   0.   0.   0.   0.   1.   0.   0.   0.   0.   0.   0.   0.]\n",
      " [  0.   0.   0.   0.   0.   0.   0.   1.   0.   0.   1.   0.   0.   0.]\n",
      " [  0.   0.   0.   0.   0.   2.   1.   3.   9.   2.   1.   0.   0.   0.]\n",
      " [  0.   0.   0.   0.   0.   3.   3.   6.  18.  45.   7.   3.   6.   3.]\n",
      " [  0.   0.   0.   0.   0.   0.   0.   0.   0.   0.   8.   0.   2.   1.]\n",
      " [  0.   0.   0.   0.   0.   0.   0.   0.   0.   1.   2.  12.   1.   3.]\n",
      " [  0.   0.   0.   0.   0.   0.   0.   0.   0.   0.   0.   0.   0.   0.]\n",
      " [  0.   0.   0.   0.   0.   0.   0.   0.   0.   0.   0.   0.   0.   0.]]\n"
     ]
    }
   ],
   "source": [
    "n = 14\n",
    "cm4 = np.zeros((n,n))\n",
    "for i in xrange(len(actual4)):\n",
    "    cm4[predict4[i],actual4[i]] +=1\n",
    "print cm4"
   ]
  },
  {
   "cell_type": "code",
   "execution_count": 78,
   "metadata": {
    "collapsed": false
   },
   "outputs": [
    {
     "name": "stdout",
     "output_type": "stream",
     "text": [
      "TP is 79.000000\n",
      "--------------------------------------------\n",
      "FP is 74.000000\n",
      "precision is 0.516340\n"
     ]
    }
   ],
   "source": [
    "#find TP\n",
    "from collections import defaultdict\n",
    "tp = defaultdict(list)\n",
    "fp = defaultdict(list)\n",
    "for i in range(0,14):\n",
    "    for j in range(0,14):\n",
    "        if i == j: \n",
    "            tp[i] = cm4[i,j]\n",
    "            TP = tp[i]+tp[i-1]+tp[i-2]+tp[i-3]+tp[i-4]+tp[i-5]+tp[i-6]+tp[i-7]+tp[i-8]+tp[i-9]+tp[i-10]+tp[i-11]+tp[i-12]+tp[i-13]\n",
    "        \n",
    "            \n",
    "print \"TP is %f\"%(TP)\n",
    "print \"--------------------------------------------\"\n",
    "sum = cm4.sum()\n",
    "FP = sum-TP\n",
    "print \"FP is %f\"%(FP)\n",
    "\n",
    "precision = TP/(FP+TP)\n",
    "print \"precision is %f\"%(precision)"
   ]
  },
  {
   "cell_type": "markdown",
   "metadata": {},
   "source": [
    "# Traing(5)"
   ]
  },
  {
   "cell_type": "code",
   "execution_count": 79,
   "metadata": {
    "collapsed": false
   },
   "outputs": [
    {
     "name": "stdout",
     "output_type": "stream",
     "text": [
      "master>>init() dsetname: CS213\n",
      "master>> create dview\n",
      "master>> init engine\n",
      "Found pforest\n",
      "debug:master:__init__: ['CS213/dataset00.pic', 'CS213/dataset01.pic']\n",
      "master>> init local variables\n",
      "master>>reset()\n",
      "master>>reset() H: 2.8737\n",
      "master>>reset() Q: 00306\n",
      "master::train() node20*-\n",
      "master::train() node19R-\n",
      "master::train() node18R-\n",
      "master::train() node17RG\n",
      "master::train() node17L-\n",
      "master::train() node16RG\n",
      "master::train() node16LQ\n",
      "master::train() node18L-\n",
      "master::train() node17RG\n",
      "master::train() node17L-\n",
      "master::train() node16RG\n",
      "master::train() node16LG\n",
      "master::train() node19L-\n",
      "master::train() node18R-\n",
      "master::train() node17R-\n",
      "master::train() node16R-\n",
      "master::train() node15R-\n",
      "master::train() node14R-\n",
      "master::train() node13R-\n",
      "master::train() node12R-\n",
      "master::train() node11RG\n",
      "master::train() node11L-\n",
      "master::train() node10RG\n",
      "master::train() node10LG\n",
      "master::train() node12LQ\n",
      "master::train() node13L-\n",
      "master::train() node12RQ\n",
      "master::train() node12LG\n",
      "master::train() node14LG\n",
      "master::train() node15L-\n",
      "master::train() node14RG\n",
      "master::train() node14LQ\n",
      "master::train() node16LG\n",
      "master::train() node17L-\n",
      "master::train() node16R-\n",
      "master::train() node15R-\n",
      "master::train() node14RG\n",
      "master::train() node14LG\n",
      "master::train() node15L-\n",
      "master::train() node14R-\n",
      "master::train() node13R-\n",
      "master::train() node12RG\n",
      "master::train() node12LG\n",
      "master::train() node13LG\n",
      "master::train() node14L-\n",
      "master::train() node13RG\n",
      "master::train() node13LQ\n",
      "master::train() node16L-\n",
      "master::train() node15R-\n",
      "master::train() node14RQ\n",
      "master::train() node14LG\n",
      "master::train() node15LG\n",
      "master::train() node18L-\n",
      "master::train() node17R-\n",
      "master::train() node16RG\n",
      "master::train() node16L-\n",
      "master::train() node15R-\n",
      "master::train() node14R-\n",
      "master::train() node13R-\n",
      "master::train() node12RG\n",
      "master::train() node12L-\n",
      "master::train() node11R-\n",
      "master::train() node10RG\n",
      "master::train() node10LG\n",
      "master::train() node11LG\n",
      "master::train() node13LG\n",
      "master::train() node14LG\n",
      "master::train() node15L-\n",
      "master::train() node14RG\n",
      "master::train() node14LG\n",
      "master::train() node17L-\n",
      "master::train() node16R-\n",
      "master::train() node15RG\n",
      "master::train() node15LG\n",
      "master::train() node16L-\n",
      "master::train() node15R-\n",
      "master::train() node14R-\n",
      "master::train() node13RG\n",
      "master::train() node13L-\n",
      "master::train() node12RG\n",
      "master::train() node12L-\n",
      "master::train() node11R-\n",
      "master::train() node10R-\n",
      "master::train() node9RG\n",
      "master::train() node9LG\n",
      "master::train() node10LQ\n",
      "master::train() node11LG\n",
      "master::train() node14LG\n",
      "master::train() node15L-\n",
      "master::train() node14R-\n",
      "master::train() node13R-\n",
      "master::train() node12RG\n",
      "master::train() node12LG\n",
      "master::train() node13LG\n",
      "master::train() node14L-\n",
      "master::train() node13RG\n",
      "master::train() node13LG\n"
     ]
    }
   ],
   "source": [
    "import pickle\n",
    "from pforest.master import master\n",
    "m=master(dsetname='CS213')\n",
    "m.reset()\n",
    "m.train()\n",
    "with open('CS213/out_tree5.pic', 'wb') as pickleFile:\n",
    "    pickle.dump(m.root, pickleFile, pickle.HIGHEST_PROTOCOL)"
   ]
  },
  {
   "cell_type": "code",
   "execution_count": 80,
   "metadata": {
    "collapsed": false
   },
   "outputs": [
    {
     "name": "stdout",
     "output_type": "stream",
     "text": [
      "*- 20 H:2.874e+00,Q:000306 tau:11.0 theta:[ 22.]\n",
      "L- 19 H:2.740e+00,Q:000270 tau:9.0 theta:[ 31.]\n",
      "L- 18 H:2.575e+00,Q:000198 tau:9.0 theta:[ 22.]\n",
      "L- 17 H:2.399e+00,Q:000120 tau:13.0 theta:[ 178.]\n",
      "L- 16 H:2.292e+00,Q:000092 tau:10.0 theta:[ 19.]\n",
      "L- 15 H:2.301e+00,Q:000063 tau:9.0 theta:[ 160.]\n",
      "L- 14 H:1.817e+00,Q:000021 tau:8.0 theta:[ 20.]\n",
      "LG 13 H:7.763e-36,Q:000005 (cl,P):(009,0.80) (008,0.20) (013,0.00)\n",
      "RG 13 H:1.601e+00,Q:000016 (cl,P):(008,0.38) (006,0.25) (007,0.19)\n",
      "R- 14 H:2.256e+00,Q:000042 tau:10.0 theta:[ 160.]\n",
      "LG 13 H:2.158e+00,Q:000025 (cl,P):(007,0.28) (008,0.24) (009,0.20)\n",
      "R- 13 H:1.880e+00,Q:000017 tau:9.0 theta:[ 19.]\n",
      "LG 12 H:1.000e+00,Q:000002 (cl,P):(007,0.50) (005,0.50) (013,0.00)\n",
      "RG 12 H:1.763e+00,Q:000015 (cl,P):(008,0.40) (009,0.33) (010,0.13)\n",
      "R- 15 H:1.790e+00,Q:000029 tau:7.0 theta:[ 22.]\n",
      "LG 14 H:6.667e-01,Q:000003 (cl,P):(009,0.33) (007,0.33) (005,0.33)\n",
      "R- 14 H:1.693e+00,Q:000026 tau:9.0 theta:[ 199.]\n",
      "L- 13 H:1.308e+00,Q:000022 tau:7.0 theta:[ 125.]\n",
      "L- 12 H:1.397e+00,Q:000013 tau:9.0 theta:[ 162.]\n",
      "LG 11 H:6.490e-01,Q:000005 (cl,P):(009,0.60) (008,0.40) (013,0.00)\n",
      "R- 11 H:1.201e+00,Q:000008 tau:9.0 theta:[ 160.]\n",
      "LQ 10 H:1.925e-35,Q:000001 (cl,P):(005,1.00) (013,0.00) (012,0.00)\n",
      "R- 10 H:8.571e-01,Q:000007 tau:11.0 theta:[ 196.]\n",
      "LG 09 H:1.585e+00,Q:000003 (cl,P):(009,0.33) (008,0.33) (007,0.33)\n",
      "RG 09 H:9.688e-36,Q:000004 (cl,P):(009,1.00) (013,0.00) (012,0.00)\n",
      "RG 12 H:6.713e-01,Q:000009 (cl,P):(009,0.56) (008,0.44) (013,0.00)\n",
      "RG 13 H:1.189e+00,Q:000004 (cl,P):(011,0.25) (010,0.25) (008,0.25)\n",
      "R- 16 H:2.209e+00,Q:000028 tau:9.0 theta:[ 35.]\n",
      "LG 15 H:2.129e+00,Q:000019 (cl,P):(005,0.37) (008,0.21) (009,0.16)\n",
      "RG 15 H:1.556e+00,Q:000009 (cl,P):(007,0.44) (010,0.22) (008,0.22)\n",
      "R- 17 H:2.375e+00,Q:000078 tau:9.0 theta:[ 199.]\n",
      "L- 16 H:2.310e+00,Q:000065 tau:10.0 theta:[ 196.]\n",
      "L- 15 H:7.616e-01,Q:000009 tau:11.0 theta:[ 160.]\n",
      "LG 14 H:4.591e-01,Q:000006 (cl,P):(009,0.83) (010,0.17) (013,0.00)\n",
      "RG 14 H:6.667e-01,Q:000003 (cl,P):(009,0.67) (012,0.33) (013,0.00)\n",
      "R- 15 H:2.418e+00,Q:000056 tau:9.0 theta:[ 162.]\n",
      "LG 14 H:6.667e-01,Q:000003 (cl,P):(012,0.33) (011,0.33) (008,0.33)\n",
      "R- 14 H:2.290e+00,Q:000053 tau:9.0 theta:[ 160.]\n",
      "LG 13 H:1.961e+00,Q:000009 (cl,P):(009,0.33) (010,0.22) (008,0.22)\n",
      "R- 13 H:2.279e+00,Q:000044 tau:12.0 theta:[ 189.]\n",
      "L- 12 H:2.276e+00,Q:000036 tau:10.0 theta:[ 189.]\n",
      "LG 11 H:5.000e-01,Q:000004 (cl,P):(010,0.75) (009,0.25) (013,0.00)\n",
      "R- 11 H:2.244e+00,Q:000032 tau:7.0 theta:[ 125.]\n",
      "LG 10 H:2.081e+00,Q:000024 (cl,P):(009,0.46) (008,0.21) (011,0.08)\n",
      "RG 10 H:1.201e+00,Q:000008 (cl,P):(010,0.38) (009,0.25) (013,0.12)\n",
      "RG 12 H:1.594e+00,Q:000008 (cl,P):(009,0.50) (013,0.12) (011,0.12)\n",
      "RG 16 H:2.094e+00,Q:000013 (cl,P):(009,0.31) (010,0.23) (008,0.23)\n",
      "R- 18 H:2.435e+00,Q:000072 tau:10.0 theta:[ 35.]\n",
      "L- 17 H:1.893e+00,Q:000030 tau:8.0 theta:[ 201.]\n",
      "L- 16 H:1.251e+00,Q:000007 tau:8.0 theta:[ 35.]\n",
      "LG 15 H:6.499e-36,Q:000003 (cl,P):(009,1.00) (013,0.00) (012,0.00)\n",
      "R- 15 H:6.887e-01,Q:000004 tau:10.0 theta:[ 31.]\n",
      "LG 14 H:6.667e-01,Q:000003 (cl,P):(010,0.67) (006,0.33) (013,0.00)\n",
      "RQ 14 H:1.925e-35,Q:000001 (cl,P):(010,1.00) (013,0.00) (012,0.00)\n",
      "R- 16 H:1.819e+00,Q:000023 tau:10.0 theta:[ 55.]\n",
      "L- 15 H:1.826e+00,Q:000015 tau:9.0 theta:[ 32.]\n",
      "L- 14 H:1.189e+00,Q:000004 tau:9.0 theta:[ 55.]\n",
      "LQ 13 H:1.925e-35,Q:000002 (cl,P):(011,0.50) (009,0.50) (013,0.00)\n",
      "RG 13 H:1.000e+00,Q:000002 (cl,P):(010,0.50) (009,0.50) (013,0.00)\n",
      "R- 14 H:1.670e+00,Q:000011 tau:8.0 theta:[ 196.]\n",
      "LG 13 H:6.667e-01,Q:000003 (cl,P):(013,0.33) (011,0.33) (009,0.33)\n",
      "R- 13 H:1.201e+00,Q:000008 tau:9.0 theta:[ 154.]\n",
      "LG 12 H:1.289e-35,Q:000003 (cl,P):(010,1.00) (013,0.00) (012,0.00)\n",
      "RG 12 H:9.510e-01,Q:000005 (cl,P):(009,0.60) (010,0.20) (007,0.20)\n",
      "R- 15 H:9.387e-01,Q:000008 tau:11.0 theta:[ 6.]\n",
      "LG 14 H:5.000e-01,Q:000004 (cl,P):(009,0.50) (011,0.25) (010,0.25)\n",
      "RG 14 H:4.890e-36,Q:000004 (cl,P):(011,1.00) (013,0.00) (012,0.00)\n",
      "R- 17 H:2.407e+00,Q:000042 tau:9.0 theta:[ 154.]\n",
      "LG 16 H:1.644e+00,Q:000007 (cl,P):(012,0.29) (010,0.29) (008,0.29)\n",
      "R- 16 H:2.163e+00,Q:000035 tau:10.0 theta:[ 102.]\n",
      "L- 15 H:1.333e+00,Q:000006 tau:7.0 theta:[ 47.]\n",
      "LQ 14 H:1.925e-35,Q:000001 (cl,P):(010,1.00) (013,0.00) (012,0.00)\n",
      "RG 14 H:1.200e+00,Q:000005 (cl,P):(011,0.40) (008,0.40) (007,0.20)\n",
      "R- 15 H:2.090e+00,Q:000029 tau:9.0 theta:[ 162.]\n",
      "LG 14 H:1.206e+00,Q:000008 (cl,P):(010,0.62) (008,0.25) (012,0.12)\n",
      "R- 14 H:1.724e+00,Q:000021 tau:9.0 theta:[ 198.]\n",
      "L- 13 H:6.793e-01,Q:000007 tau:11.0 theta:[ 6.]\n",
      "LG 12 H:4.000e-01,Q:000005 (cl,P):(011,0.80) (009,0.20) (013,0.00)\n",
      "RQ 12 H:1.925e-35,Q:000002 (cl,P):(011,0.50) (010,0.50) (013,0.00)\n",
      "R- 13 H:1.753e+00,Q:000014 tau:8.0 theta:[ 196.]\n",
      "LQ 12 H:1.925e-35,Q:000001 (cl,P):(012,1.00) (013,0.00) (011,0.00)\n",
      "R- 12 H:1.728e+00,Q:000013 tau:9.0 theta:[ 51.]\n",
      "L- 11 H:1.636e+00,Q:000011 tau:11.0 theta:[ 189.]\n",
      "LG 10 H:1.200e+00,Q:000005 (cl,P):(011,0.60) (012,0.20) (009,0.20)\n",
      "RG 10 H:1.333e+00,Q:000006 (cl,P):(011,0.33) (008,0.33) (012,0.17)\n",
      "RG 11 H:9.704e-36,Q:000002 (cl,P):(009,1.00) (013,0.00) (012,0.00)\n",
      "R- 19 H:2.095e+00,Q:000036 tau:13.0 theta:[ 20.]\n",
      "L- 18 H:2.061e+00,Q:000021 tau:11.0 theta:[ 191.]\n",
      "L- 17 H:1.828e+00,Q:000016 tau:12.0 theta:[ 196.]\n",
      "LG 16 H:1.758e+00,Q:000013 (cl,P):(011,0.31) (012,0.23) (013,0.15)\n",
      "RG 16 H:9.183e-01,Q:000003 (cl,P):(009,0.67) (010,0.33) (013,0.00)\n",
      "RG 17 H:1.200e+00,Q:000005 (cl,P):(013,0.40) (010,0.40) (011,0.20)\n",
      "R- 18 H:1.260e+00,Q:000015 tau:13.0 theta:[ 22.]\n",
      "L- 17 H:6.490e-01,Q:000005 tau:8.0 theta:[ 125.]\n",
      "LQ 16 H:1.925e-35,Q:000002 (cl,P):(013,0.50) (011,0.50) (012,0.00)\n",
      "RG 16 H:6.499e-36,Q:000003 (cl,P):(012,1.00) (013,0.00) (011,0.00)\n",
      "RG 17 H:1.200e+00,Q:000010 (cl,P):(013,0.60) (012,0.30) (011,0.10)\n",
      "\n"
     ]
    }
   ],
   "source": [
    "from pforest.dataset import dataset\n",
    "from pforest.tree import tree\n",
    "with open('CS213/out_tree5.pic', 'rb') as pickleFile:\n",
    "    root = pickle.load(pickleFile)\n",
    "#init the test tree\n",
    "t=tree()\n",
    "t.settree(root)\n",
    "t.show()"
   ]
  },
  {
   "cell_type": "code",
   "execution_count": 81,
   "metadata": {
    "collapsed": true
   },
   "outputs": [],
   "source": [
    "with open('CS213/dataset04.pic', 'rb') as pickleFile:\n",
    "     data = pickle.load(pickleFile)\n",
    "I=data[-2];L=data[-3]"
   ]
  },
  {
   "cell_type": "code",
   "execution_count": 82,
   "metadata": {
    "collapsed": false
   },
   "outputs": [
    {
     "data": {
      "text/plain": [
       "array([[ 0,  0,  0, ...,  0,  7,  0],\n",
       "       [ 0,  0,  0, ...,  0, 13,  0],\n",
       "       [ 0,  0,  0, ...,  0, 10,  0],\n",
       "       ..., \n",
       "       [ 0,  0,  0, ...,  0,  8,  0],\n",
       "       [ 0,  0,  0, ...,  0,  8,  0],\n",
       "       [ 0,  0,  0, ...,  0,  9,  0]], dtype=int64)"
      ]
     },
     "execution_count": 82,
     "metadata": {},
     "output_type": "execute_result"
    }
   ],
   "source": [
    "I"
   ]
  },
  {
   "cell_type": "code",
   "execution_count": 83,
   "metadata": {
    "collapsed": false
   },
   "outputs": [
    {
     "data": {
      "text/plain": [
       "array([ 9, 10,  8, 10,  9,  5,  7,  9,  6,  6,  8, 11,  7, 11,  9,  8, 12,\n",
       "        9,  6, 11,  9,  5,  8, 11, 13, 11,  7, 12,  7, 12, 12, 12,  8,  9,\n",
       "        7,  7,  9,  9,  7, 11, 13, 13,  9,  9, 13, 10, 10, 10,  8, 11,  8,\n",
       "       13,  9,  9,  9, 13, 11, 13,  8, 10,  7,  8,  9, 12, 12, 13,  9, 10,\n",
       "        8,  9,  8, 12,  5,  9, 10, 12, 11, 10, 11,  9, 10,  7,  8,  9,  9,\n",
       "        6, 10,  7, 10,  9, 11,  5,  7,  8, 10, 10, 11,  5,  7,  9,  8,  6,\n",
       "       10,  8, 10,  8,  9,  8,  6,  9,  8, 11,  5,  7,  7,  8,  8, 11,  9,\n",
       "        9, 11,  9, 10,  8, 10,  7,  5,  9,  9,  9,  5,  7,  8,  8, 10,  8,\n",
       "       10,  8, 11,  5,  9, 10,  8, 10,  9,  9,  7, 10,  9, 10,  7, 11,  9], dtype=int64)"
      ]
     },
     "execution_count": 83,
     "metadata": {},
     "output_type": "execute_result"
    }
   ],
   "source": [
    "L"
   ]
  },
  {
   "cell_type": "code",
   "execution_count": 84,
   "metadata": {
    "collapsed": false
   },
   "outputs": [
    {
     "name": "stdout",
     "output_type": "stream",
     "text": [
      "actual grade:9 predicted grade:8\n",
      "actual grade:10 predicted grade:11\n",
      "actual grade:8 predicted grade:7\n",
      "actual grade:10 predicted grade:10\n",
      "actual grade:9 predicted grade:9\n",
      "actual grade:5 predicted grade:8\n",
      "actual grade:7 predicted grade:8\n",
      "actual grade:9 predicted grade:8\n",
      "actual grade:6 predicted grade:8\n",
      "actual grade:6 predicted grade:8\n",
      "actual grade:8 predicted grade:8\n",
      "actual grade:11 predicted grade:11\n",
      "actual grade:7 predicted grade:7\n",
      "actual grade:11 predicted grade:11\n",
      "actual grade:9 predicted grade:9\n",
      "actual grade:8 predicted grade:9\n",
      "actual grade:12 predicted grade:12\n",
      "actual grade:9 predicted grade:9\n",
      "actual grade:6 predicted grade:9\n",
      "actual grade:11 predicted grade:11\n",
      "actual grade:9 predicted grade:9\n",
      "actual grade:5 predicted grade:5\n",
      "actual grade:8 predicted grade:9\n",
      "actual grade:11 predicted grade:10\n",
      "actual grade:13 predicted grade:13\n",
      "actual grade:11 predicted grade:9\n",
      "actual grade:7 predicted grade:5\n",
      "actual grade:12 predicted grade:8\n",
      "actual grade:7 predicted grade:9\n",
      "actual grade:12 predicted grade:11\n",
      "actual grade:12 predicted grade:12\n",
      "actual grade:12 predicted grade:13\n",
      "actual grade:8 predicted grade:7\n",
      "actual grade:9 predicted grade:11\n",
      "actual grade:7 predicted grade:7\n",
      "actual grade:7 predicted grade:9\n",
      "actual grade:9 predicted grade:9\n",
      "actual grade:9 predicted grade:9\n",
      "actual grade:7 predicted grade:7\n",
      "actual grade:11 predicted grade:11\n",
      "actual grade:13 predicted grade:11\n",
      "actual grade:13 predicted grade:13\n",
      "actual grade:9 predicted grade:9\n",
      "actual grade:9 predicted grade:9\n",
      "actual grade:13 predicted grade:11\n",
      "actual grade:10 predicted grade:11\n",
      "actual grade:10 predicted grade:9\n",
      "actual grade:10 predicted grade:9\n",
      "actual grade:8 predicted grade:9\n",
      "actual grade:11 predicted grade:8\n",
      "actual grade:8 predicted grade:7\n",
      "actual grade:13 predicted grade:9\n",
      "actual grade:9 predicted grade:9\n",
      "actual grade:9 predicted grade:9\n",
      "actual grade:9 predicted grade:9\n",
      "actual grade:13 predicted grade:13\n",
      "actual grade:11 predicted grade:7\n",
      "actual grade:13 predicted grade:10\n",
      "actual grade:8 predicted grade:9\n",
      "actual grade:10 predicted grade:10\n",
      "actual grade:7 predicted grade:8\n",
      "actual grade:8 predicted grade:8\n",
      "actual grade:9 predicted grade:9\n",
      "actual grade:12 predicted grade:12\n",
      "actual grade:12 predicted grade:12\n",
      "actual grade:13 predicted grade:11\n",
      "actual grade:9 predicted grade:9\n",
      "actual grade:10 predicted grade:9\n",
      "actual grade:8 predicted grade:8\n",
      "actual grade:9 predicted grade:9\n",
      "actual grade:8 predicted grade:9\n",
      "actual grade:12 predicted grade:10\n",
      "actual grade:5 predicted grade:5\n",
      "actual grade:9 predicted grade:8\n",
      "actual grade:10 predicted grade:9\n",
      "actual grade:12 predicted grade:11\n",
      "actual grade:11 predicted grade:9\n",
      "actual grade:10 predicted grade:10\n",
      "actual grade:11 predicted grade:11\n",
      "actual grade:9 predicted grade:10\n",
      "actual grade:10 predicted grade:9\n",
      "actual grade:7 predicted grade:8\n",
      "actual grade:8 predicted grade:8\n",
      "actual grade:9 predicted grade:9\n",
      "actual grade:9 predicted grade:7\n",
      "actual grade:6 predicted grade:8\n",
      "actual grade:10 predicted grade:8\n",
      "actual grade:7 predicted grade:7\n",
      "actual grade:10 predicted grade:10\n",
      "actual grade:9 predicted grade:9\n",
      "actual grade:11 predicted grade:11\n",
      "actual grade:5 predicted grade:5\n",
      "actual grade:7 predicted grade:7\n",
      "actual grade:8 predicted grade:7\n",
      "actual grade:10 predicted grade:7\n",
      "actual grade:10 predicted grade:5\n",
      "actual grade:11 predicted grade:11\n",
      "actual grade:5 predicted grade:5\n",
      "actual grade:7 predicted grade:7\n",
      "actual grade:9 predicted grade:9\n",
      "actual grade:8 predicted grade:8\n",
      "actual grade:6 predicted grade:8\n",
      "actual grade:10 predicted grade:8\n",
      "actual grade:8 predicted grade:8\n",
      "actual grade:10 predicted grade:10\n",
      "actual grade:8 predicted grade:5\n",
      "actual grade:9 predicted grade:5\n",
      "actual grade:8 predicted grade:7\n",
      "actual grade:6 predicted grade:7\n",
      "actual grade:9 predicted grade:7\n",
      "actual grade:8 predicted grade:8\n",
      "actual grade:11 predicted grade:9\n",
      "actual grade:5 predicted grade:5\n",
      "actual grade:7 predicted grade:7\n",
      "actual grade:7 predicted grade:8\n",
      "actual grade:8 predicted grade:8\n",
      "actual grade:8 predicted grade:8\n",
      "actual grade:11 predicted grade:8\n",
      "actual grade:9 predicted grade:9\n",
      "actual grade:9 predicted grade:9\n",
      "actual grade:11 predicted grade:9\n",
      "actual grade:9 predicted grade:9\n",
      "actual grade:10 predicted grade:10\n",
      "actual grade:8 predicted grade:8\n",
      "actual grade:10 predicted grade:9\n",
      "actual grade:7 predicted grade:7\n",
      "actual grade:5 predicted grade:9\n",
      "actual grade:9 predicted grade:9\n",
      "actual grade:9 predicted grade:9\n",
      "actual grade:9 predicted grade:8\n",
      "actual grade:5 predicted grade:5\n",
      "actual grade:7 predicted grade:7\n",
      "actual grade:8 predicted grade:10\n",
      "actual grade:8 predicted grade:10\n",
      "actual grade:10 predicted grade:10\n",
      "actual grade:8 predicted grade:5\n",
      "actual grade:10 predicted grade:7\n",
      "actual grade:8 predicted grade:9\n",
      "actual grade:11 predicted grade:9\n",
      "actual grade:5 predicted grade:5\n",
      "actual grade:9 predicted grade:7\n",
      "actual grade:10 predicted grade:10\n",
      "actual grade:8 predicted grade:8\n",
      "actual grade:10 predicted grade:9\n",
      "actual grade:9 predicted grade:9\n",
      "actual grade:9 predicted grade:8\n",
      "actual grade:7 predicted grade:5\n",
      "actual grade:10 predicted grade:10\n",
      "actual grade:9 predicted grade:8\n",
      "actual grade:10 predicted grade:10\n",
      "actual grade:7 predicted grade:5\n",
      "actual grade:11 predicted grade:11\n",
      "actual grade:9 predicted grade:9\n"
     ]
    }
   ],
   "source": [
    "i=0\n",
    "actual5=np.array(L)\n",
    "predict5=np.zeros(len(L))\n",
    "for i in xrange(len(L)):\n",
    "    Prob=t.classify(I[i])\n",
    "    predict5[i]=np.argmax(Prob)\n",
    "   \n",
    "    print \"actual grade:%d predicted grade:%d\"%(actual5[i],predict5[i])"
   ]
  },
  {
   "cell_type": "code",
   "execution_count": 85,
   "metadata": {
    "collapsed": false
   },
   "outputs": [
    {
     "data": {
      "text/plain": [
       "1.4596982408184118"
      ]
     },
     "execution_count": 85,
     "metadata": {},
     "output_type": "execute_result"
    }
   ],
   "source": [
    "np.sqrt(np.sum((actual5-predict5)**2)/len(L))"
   ]
  },
  {
   "cell_type": "code",
   "execution_count": 86,
   "metadata": {
    "collapsed": false
   },
   "outputs": [
    {
     "name": "stdout",
     "output_type": "stream",
     "text": [
      "Populating the interactive namespace from numpy and matplotlib\n"
     ]
    },
    {
     "name": "stderr",
     "output_type": "stream",
     "text": [
      "WARNING: pylab import has clobbered these variables: ['sum']\n",
      "`%matplotlib` prevents importing * from pylab and numpy\n"
     ]
    },
    {
     "data": {
      "text/plain": [
       "(array([  1.,   0.,   0.,   0.,   0.,   2.,   0.,   0.,   0.,   0.,   0.,\n",
       "          9.,   0.,   0.,   0.,   0.,  15.,   0.,   0.,   0.,   0.,   0.,\n",
       "         76.,   0.,   0.,   0.,   0.,  21.,   0.,   0.,   0.,   0.,   0.,\n",
       "         17.,   0.,   0.,   0.,   0.,   7.,   0.,   0.,   0.,   0.,   0.,\n",
       "          4.,   0.,   0.,   0.,   0.,   1.]),\n",
       " array([-4.  , -3.82, -3.64, -3.46, -3.28, -3.1 , -2.92, -2.74, -2.56,\n",
       "        -2.38, -2.2 , -2.02, -1.84, -1.66, -1.48, -1.3 , -1.12, -0.94,\n",
       "        -0.76, -0.58, -0.4 , -0.22, -0.04,  0.14,  0.32,  0.5 ,  0.68,\n",
       "         0.86,  1.04,  1.22,  1.4 ,  1.58,  1.76,  1.94,  2.12,  2.3 ,\n",
       "         2.48,  2.66,  2.84,  3.02,  3.2 ,  3.38,  3.56,  3.74,  3.92,\n",
       "         4.1 ,  4.28,  4.46,  4.64,  4.82,  5.  ]),\n",
       " <a list of 50 Patch objects>)"
      ]
     },
     "execution_count": 86,
     "metadata": {},
     "output_type": "execute_result"
    },
    {
     "data": {
      "image/png": "[encoded data removed]",
      "text/plain": [
       "<matplotlib.figure.Figure at 0xd266390>"
      ]
     },
     "metadata": {},
     "output_type": "display_data"
    }
   ],
   "source": [
    "from matplotlib import pyplot as plt\n",
    "%pylab inline\n",
    "plt.hist(actual5-predict5,50)"
   ]
  },
  {
   "cell_type": "code",
   "execution_count": 87,
   "metadata": {
    "collapsed": false,
    "scrolled": true
   },
   "outputs": [
    {
     "name": "stdout",
     "output_type": "stream",
     "text": [
      "[[  0.   0.   0.   0.   0.   0.   0.   0.   0.   0.   0.   0.   0.   0.]\n",
      " [  0.   0.   0.   0.   0.   0.   0.   0.   0.   0.   0.   0.   0.   0.]\n",
      " [  0.   0.   0.   0.   0.   0.   0.   0.   0.   0.   0.   0.   0.   0.]\n",
      " [  0.   0.   0.   0.   0.   0.   0.   0.   0.   0.   0.   0.   0.   0.]\n",
      " [  0.   0.   0.   0.   0.   0.   0.   0.   0.   0.   0.   0.   0.   0.]\n",
      " [  0.   0.   0.   0.   0.   7.   0.   3.   2.   1.   1.   0.   0.   0.]\n",
      " [  0.   0.   0.   0.   0.   0.   0.   0.   0.   0.   0.   0.   0.   0.]\n",
      " [  0.   0.   0.   0.   0.   0.   1.   9.   5.   3.   2.   1.   0.   0.]\n",
      " [  0.   0.   0.   0.   0.   1.   4.   4.  11.   6.   2.   2.   1.   0.]\n",
      " [  0.   0.   0.   0.   0.   1.   1.   2.   6.  24.   7.   5.   0.   1.]\n",
      " [  0.   0.   0.   0.   0.   0.   0.   0.   2.   1.  10.   1.   1.   1.]\n",
      " [  0.   0.   0.   0.   0.   0.   0.   0.   0.   1.   2.   8.   2.   3.]\n",
      " [  0.   0.   0.   0.   0.   0.   0.   0.   0.   0.   0.   0.   4.   0.]\n",
      " [  0.   0.   0.   0.   0.   0.   0.   0.   0.   0.   0.   0.   1.   3.]]\n"
     ]
    }
   ],
   "source": [
    "n = 14\n",
    "cm5 = np.zeros((n,n))\n",
    "for i in xrange(len(actual5)):\n",
    "    cm5[predict5[i],actual5[i]] +=1\n",
    "print cm5"
   ]
  },
  {
   "cell_type": "code",
   "execution_count": 88,
   "metadata": {
    "collapsed": false
   },
   "outputs": [
    {
     "name": "stdout",
     "output_type": "stream",
     "text": [
      "TP is 76.000000\n",
      "--------------------------------------------\n",
      "FP is 77.000000\n",
      "precision is 0.496732\n"
     ]
    }
   ],
   "source": [
    "#find TP\n",
    "from collections import defaultdict\n",
    "tp = defaultdict(list)\n",
    "fp = defaultdict(list)\n",
    "for i in range(0,14):\n",
    "    for j in range(0,14):\n",
    "        if i == j: \n",
    "            tp[i] = cm5[i,j]\n",
    "            TP = tp[i]+tp[i-1]+tp[i-2]+tp[i-3]+tp[i-4]+tp[i-5]+tp[i-6]+tp[i-7]+tp[i-8]+tp[i-9]+tp[i-10]+tp[i-11]+tp[i-12]+tp[i-13]\n",
    "        \n",
    "            \n",
    "print \"TP is %f\"%(TP)\n",
    "print \"--------------------------------------------\"\n",
    "sum = cm5.sum()\n",
    "FP = sum-TP\n",
    "print \"FP is %f\"%(FP)\n",
    "\n",
    "precision = TP/(FP+TP)\n",
    "print \"precision is %f\"%(precision)"
   ]
  },
  {
   "cell_type": "markdown",
   "metadata": {},
   "source": [
    "# Find Precision"
   ]
  },
  {
   "cell_type": "code",
   "execution_count": 92,
   "metadata": {
    "collapsed": false
   },
   "outputs": [
    {
     "name": "stdout",
     "output_type": "stream",
     "text": [
      "[[  0.   0.   0.   0.   0.   0.   0.   0.   0.   0.   0.   0.   0.   0.]\n",
      " [  0.   0.   0.   0.   0.   0.   0.   0.   0.   0.   0.   0.   0.   0.]\n",
      " [  0.   0.   0.   0.   0.   0.   0.   0.   0.   0.   0.   0.   0.   0.]\n",
      " [  0.   0.   0.   0.   0.   0.   0.   0.   0.   0.   0.   0.   0.   0.]\n",
      " [  0.   0.   0.   0.   0.   0.   0.   0.   0.   0.   0.   0.   0.   0.]\n",
      " [  0.   0.   0.   0.   0.   0.   0.   0.   0.   0.   0.   0.   0.   0.]\n",
      " [  0.   0.   0.   0.   0.   0.   0.   0.   0.   0.   0.   0.   0.   0.]\n",
      " [  0.   0.   0.   0.   0.   1.  10.   1.   0.   1.   0.   0.   0.   0.]\n",
      " [  0.   0.   0.   0.   0.   4.  20.   7.   2.   1.   0.   0.   0.   0.]\n",
      " [  0.   0.   0.   0.   0.   3.  32.  13.  11.   6.   4.   2.   2.   5.]\n",
      " [  0.   0.   0.   0.   0.   0.   1.   0.   1.   0.   2.   0.   0.   0.]\n",
      " [  0.   0.   0.   0.   0.   0.   1.   0.   0.   0.   0.   0.   0.   1.]\n",
      " [  0.   0.   0.   0.   0.   0.   4.   4.   2.   3.   1.   1.   1.   6.]\n",
      " [  0.   0.   0.   0.   0.   0.   0.   0.   0.   0.   0.   0.   0.   0.]]\n"
     ]
    }
   ],
   "source": [
    "print cm1"
   ]
  },
  {
   "cell_type": "code",
   "execution_count": 93,
   "metadata": {
    "collapsed": false
   },
   "outputs": [
    {
     "name": "stdout",
     "output_type": "stream",
     "text": [
      "[[  0.   0.   0.   0.   0.   0.   0.   0.   0.   0.   0.   0.   0.   0.]\n",
      " [  0.   0.   0.   0.   0.   0.   0.   0.   0.   0.   0.   0.   0.   0.]\n",
      " [  0.   0.   0.   0.   0.   0.   0.   0.   0.   0.   0.   0.   0.   0.]\n",
      " [  0.   0.   0.   0.   0.   0.   0.   0.   0.   0.   0.   0.   0.   0.]\n",
      " [  0.   0.   0.   0.   0.   0.   0.   0.   0.   0.   0.   0.   0.   0.]\n",
      " [  0.   0.   0.   0.   0.   2.   1.   0.   0.   0.   0.   0.   0.   0.]\n",
      " [  0.   0.   0.   0.   0.   0.   0.   0.   0.   0.   0.   0.   0.   0.]\n",
      " [  0.   0.   0.   0.   0.   0.   7.   8.   3.   6.   0.   0.   0.   0.]\n",
      " [  0.   0.   0.   0.   0.   0.   0.   1.   5.   3.   2.   0.   0.   0.]\n",
      " [  0.   0.   0.   0.   0.   0.   0.   7.  10.  34.  12.   5.   1.   0.]\n",
      " [  0.   0.   0.   0.   0.   0.   0.   0.   6.   1.  17.   3.   1.   0.]\n",
      " [  0.   0.   0.   0.   0.   0.   0.   0.   0.   1.   0.   3.   0.   2.]\n",
      " [  0.   0.   0.   0.   0.   0.   0.   0.   0.   0.   0.   0.   1.   0.]\n",
      " [  0.   0.   0.   0.   0.   0.   0.   0.   0.   0.   1.   3.   3.   4.]]\n"
     ]
    }
   ],
   "source": [
    "print cm2"
   ]
  },
  {
   "cell_type": "code",
   "execution_count": 94,
   "metadata": {
    "collapsed": false
   },
   "outputs": [
    {
     "name": "stdout",
     "output_type": "stream",
     "text": [
      "[[  0.   0.   0.   0.   0.   0.   0.   0.   0.   0.   0.   0.   0.   0.]\n",
      " [  0.   0.   0.   0.   0.   0.   0.   0.   0.   0.   0.   0.   0.   0.]\n",
      " [  0.   0.   0.   0.   0.   0.   0.   0.   0.   0.   0.   0.   0.   0.]\n",
      " [  0.   0.   0.   0.   0.   0.   0.   0.   0.   0.   0.   0.   0.   0.]\n",
      " [  0.   0.   0.   0.   0.   0.   0.   0.   0.   0.   0.   0.   0.   0.]\n",
      " [  0.   0.   0.   0.   0.   0.   0.   0.   0.   0.   0.   0.   0.   0.]\n",
      " [  0.   0.   0.   0.   0.   0.   1.   0.   1.   0.   0.   1.   0.   0.]\n",
      " [  0.   0.   0.   0.   0.   0.   0.   3.   1.   0.   0.   0.   0.   0.]\n",
      " [  0.   0.   0.   0.   0.   1.   1.   0.   5.   0.   0.   1.   0.   1.]\n",
      " [  0.   0.   0.   0.   0.   4.  10.   6.  14.  45.  10.   6.   1.   1.]\n",
      " [  0.   0.   0.   0.   0.   0.   0.   0.   3.   5.  12.   2.   0.   3.]\n",
      " [  0.   0.   0.   0.   0.   0.   0.   0.   0.   0.   0.   0.   1.   1.]\n",
      " [  0.   0.   0.   0.   0.   0.   0.   0.   0.   0.   0.   1.   3.   0.]\n",
      " [  0.   0.   0.   0.   0.   0.   0.   0.   0.   0.   0.   0.   2.   7.]]\n"
     ]
    }
   ],
   "source": [
    "print cm3"
   ]
  },
  {
   "cell_type": "code",
   "execution_count": 95,
   "metadata": {
    "collapsed": false
   },
   "outputs": [
    {
     "name": "stdout",
     "output_type": "stream",
     "text": [
      "[[  0.   0.   0.   0.   0.   0.   0.   0.   0.   0.   0.   0.   0.   0.]\n",
      " [  0.   0.   0.   0.   0.   0.   0.   0.   0.   0.   0.   0.   0.   0.]\n",
      " [  0.   0.   0.   0.   0.   0.   0.   0.   0.   0.   0.   0.   0.   0.]\n",
      " [  0.   0.   0.   0.   0.   0.   0.   0.   0.   0.   0.   0.   0.   0.]\n",
      " [  0.   0.   0.   0.   0.   0.   0.   0.   0.   0.   0.   0.   0.   0.]\n",
      " [  0.   0.   0.   0.   0.   3.   1.   0.   0.   2.   1.   1.   0.   0.]\n",
      " [  0.   0.   0.   0.   0.   0.   1.   0.   0.   0.   0.   0.   0.   0.]\n",
      " [  0.   0.   0.   0.   0.   0.   0.   1.   0.   0.   1.   0.   0.   0.]\n",
      " [  0.   0.   0.   0.   0.   2.   1.   3.   9.   2.   1.   0.   0.   0.]\n",
      " [  0.   0.   0.   0.   0.   3.   3.   6.  18.  45.   7.   3.   6.   3.]\n",
      " [  0.   0.   0.   0.   0.   0.   0.   0.   0.   0.   8.   0.   2.   1.]\n",
      " [  0.   0.   0.   0.   0.   0.   0.   0.   0.   1.   2.  12.   1.   3.]\n",
      " [  0.   0.   0.   0.   0.   0.   0.   0.   0.   0.   0.   0.   0.   0.]\n",
      " [  0.   0.   0.   0.   0.   0.   0.   0.   0.   0.   0.   0.   0.   0.]]\n"
     ]
    }
   ],
   "source": [
    "print cm4"
   ]
  },
  {
   "cell_type": "code",
   "execution_count": 96,
   "metadata": {
    "collapsed": false
   },
   "outputs": [
    {
     "name": "stdout",
     "output_type": "stream",
     "text": [
      "[[  0.   0.   0.   0.   0.   0.   0.   0.   0.   0.   0.   0.   0.   0.]\n",
      " [  0.   0.   0.   0.   0.   0.   0.   0.   0.   0.   0.   0.   0.   0.]\n",
      " [  0.   0.   0.   0.   0.   0.   0.   0.   0.   0.   0.   0.   0.   0.]\n",
      " [  0.   0.   0.   0.   0.   0.   0.   0.   0.   0.   0.   0.   0.   0.]\n",
      " [  0.   0.   0.   0.   0.   0.   0.   0.   0.   0.   0.   0.   0.   0.]\n",
      " [  0.   0.   0.   0.   0.   7.   0.   3.   2.   1.   1.   0.   0.   0.]\n",
      " [  0.   0.   0.   0.   0.   0.   0.   0.   0.   0.   0.   0.   0.   0.]\n",
      " [  0.   0.   0.   0.   0.   0.   1.   9.   5.   3.   2.   1.   0.   0.]\n",
      " [  0.   0.   0.   0.   0.   1.   4.   4.  11.   6.   2.   2.   1.   0.]\n",
      " [  0.   0.   0.   0.   0.   1.   1.   2.   6.  24.   7.   5.   0.   1.]\n",
      " [  0.   0.   0.   0.   0.   0.   0.   0.   2.   1.  10.   1.   1.   1.]\n",
      " [  0.   0.   0.   0.   0.   0.   0.   0.   0.   1.   2.   8.   2.   3.]\n",
      " [  0.   0.   0.   0.   0.   0.   0.   0.   0.   0.   0.   0.   4.   0.]\n",
      " [  0.   0.   0.   0.   0.   0.   0.   0.   0.   0.   0.   0.   1.   3.]]\n"
     ]
    }
   ],
   "source": [
    "print cm5"
   ]
  },
  {
   "cell_type": "code",
   "execution_count": 97,
   "metadata": {
    "collapsed": false
   },
   "outputs": [],
   "source": [
    "cm = cm1+cm2+cm3+cm4+cm5"
   ]
  },
  {
   "cell_type": "code",
   "execution_count": 98,
   "metadata": {
    "collapsed": false
   },
   "outputs": [
    {
     "name": "stdout",
     "output_type": "stream",
     "text": [
      "[[   0.    0.    0.    0.    0.    0.    0.    0.    0.    0.    0.    0.\n",
      "     0.    0.]\n",
      " [   0.    0.    0.    0.    0.    0.    0.    0.    0.    0.    0.    0.\n",
      "     0.    0.]\n",
      " [   0.    0.    0.    0.    0.    0.    0.    0.    0.    0.    0.    0.\n",
      "     0.    0.]\n",
      " [   0.    0.    0.    0.    0.    0.    0.    0.    0.    0.    0.    0.\n",
      "     0.    0.]\n",
      " [   0.    0.    0.    0.    0.    0.    0.    0.    0.    0.    0.    0.\n",
      "     0.    0.]\n",
      " [   0.    0.    0.    0.    0.   12.    2.    3.    2.    3.    2.    1.\n",
      "     0.    0.]\n",
      " [   0.    0.    0.    0.    0.    0.    2.    0.    1.    0.    0.    1.\n",
      "     0.    0.]\n",
      " [   0.    0.    0.    0.    0.    1.   18.   22.    9.   10.    3.    1.\n",
      "     0.    0.]\n",
      " [   0.    0.    0.    0.    0.    8.   26.   15.   32.   12.    5.    3.\n",
      "     1.    1.]\n",
      " [   0.    0.    0.    0.    0.   11.   46.   34.   59.  154.   40.   21.\n",
      "    10.   10.]\n",
      " [   0.    0.    0.    0.    0.    0.    1.    0.   12.    7.   49.    6.\n",
      "     4.    5.]\n",
      " [   0.    0.    0.    0.    0.    0.    1.    0.    0.    3.    4.   23.\n",
      "     4.   10.]\n",
      " [   0.    0.    0.    0.    0.    0.    4.    4.    2.    3.    1.    2.\n",
      "     9.    6.]\n",
      " [   0.    0.    0.    0.    0.    0.    0.    0.    0.    0.    1.    3.\n",
      "     6.   14.]]\n"
     ]
    }
   ],
   "source": [
    "print cm"
   ]
  },
  {
   "cell_type": "markdown",
   "metadata": {
    "collapsed": true
   },
   "source": [
    "# Find Precision"
   ]
  },
  {
   "cell_type": "code",
   "execution_count": 99,
   "metadata": {
    "collapsed": false,
    "scrolled": true
   },
   "outputs": [
    {
     "name": "stdout",
     "output_type": "stream",
     "text": [
      "TP is 317.000000\n",
      "--------------------------------------------\n",
      "FP is 448.000000\n",
      "precision is 0.414379\n"
     ]
    }
   ],
   "source": [
    "#find TP\n",
    "from collections import defaultdict\n",
    "tp = defaultdict(list)\n",
    "fp = defaultdict(list)\n",
    "for i in range(0,14):\n",
    "    for j in range(0,14):\n",
    "        if i == j: \n",
    "            tp[i] = cm[i,j]\n",
    "            TP = tp[i]+tp[i-1]+tp[i-2]+tp[i-3]+tp[i-4]+tp[i-5]+tp[i-6]+tp[i-7]+tp[i-8]+tp[i-9]+tp[i-10]+tp[i-11]+tp[i-12]+tp[i-13]\n",
    "        \n",
    "            \n",
    "print \"TP is %f\"%(TP)\n",
    "print \"--------------------------------------------\"\n",
    "sum = cm.sum()\n",
    "FP = sum-TP\n",
    "print \"FP is %f\"%(FP)\n",
    "\n",
    "precision = TP/(FP+TP)\n",
    "print \"precision is %f\"%(precision)"
   ]
  },
  {
   "cell_type": "code",
   "execution_count": 100,
   "metadata": {
    "collapsed": false
   },
   "outputs": [
    {
     "data": {
      "text/plain": [
       "765.0"
      ]
     },
     "execution_count": 100,
     "metadata": {},
     "output_type": "execute_result"
    }
   ],
   "source": [
    "cm.sum()"
   ]
  },
  {
   "cell_type": "code",
   "execution_count": null,
   "metadata": {
    "collapsed": true
   },
   "outputs": [],
   "source": []
  },
  {
   "cell_type": "code",
   "execution_count": null,
   "metadata": {
    "collapsed": true
   },
   "outputs": [],
   "source": []
  }
 ],
 "metadata": {
  "kernelspec": {
   "display_name": "Python 2",
   "language": "python",
   "name": "python2"
  },
  "language_info": {
   "codemirror_mode": {
    "name": "ipython",
    "version": 2
   },
   "file_extension": ".py",
   "mimetype": "text/x-python",
   "name": "python",
   "nbconvert_exporter": "python",
   "pygments_lexer": "ipython2",
   "version": "2.7.10"
  }
 },
 "nbformat": 4,
 "nbformat_minor": 0
}
